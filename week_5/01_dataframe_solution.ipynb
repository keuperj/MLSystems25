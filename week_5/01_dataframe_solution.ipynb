{
  "cells": [
    {
      "cell_type": "markdown",
      "metadata": {
        "tags": [],
        "id": "HKoYI0tZb-Sl"
      },
      "source": [
        "<img src=\"http://dask.readthedocs.io/en/latest/_images/dask_horizontal.svg\"\n",
        "     align=\"right\"\n",
        "     width=\"30%\"\n",
        "     alt=\"Dask logo\\\">\n",
        "\n",
        "\n",
        "# Dask DataFrame - parallelized pandas\n",
        "\n",
        "Looks and feels like the pandas API, but for parallel and distributed workflows.\n",
        "\n",
        "At its core, the `dask.dataframe` module implements a \"blocked parallel\" `DataFrame` object that looks and feels like the pandas API, but for parallel and distributed workflows. One Dask `DataFrame` is comprised of many in-memory pandas `DataFrame`s separated along the index. One operation on a Dask `DataFrame` triggers many pandas operations on the constituent pandas `DataFrame`s in a way that is mindful of potential parallelism and memory constraints.\n"
      ]
    },
    {
      "cell_type": "markdown",
      "metadata": {
        "tags": [],
        "id": "4sS1jb2Nb-So"
      },
      "source": [
        "<img src=\"https://docs.dask.org/en/stable/_images/dask-dataframe.svg\"\n",
        "     align=\"right\"\n",
        "     width=\"30%\"\n",
        "     alt=\"Dask DataFrame is composed of pandas DataFrames\"/>\n",
        "\n",
        "**Related Documentation**\n",
        "\n",
        "* [DataFrame documentation](https://docs.dask.org/en/latest/dataframe.html)\n",
        "* [DataFrame screencast](https://youtu.be/AT2XtFehFSQ)\n",
        "* [DataFrame API](https://docs.dask.org/en/latest/dataframe-api.html)\n",
        "* [DataFrame examples](https://examples.dask.org/dataframe.html)\n",
        "* [pandas documentation](https://pandas.pydata.org/pandas-docs/stable/)\n",
        "\n",
        "## When to use `dask.dataframe`\n",
        "\n",
        "pandas is great for tabular datasets that fit in memory. A general rule of thumb for pandas is:\n",
        "\n",
        "> \"Have 5 to 10 times as much RAM as the size of your dataset\"\n",
        ">\n",
        "> ~ Wes McKinney (2017) in [10 things I hate about pandas](https://wesmckinney.com/blog/apache-arrow-pandas-internals/)\n",
        "\n",
        "Here \"size of dataset\" means dataset size on _the disk_.\n",
        "\n",
        "Dask becomes useful when the datasets exceed the above rule.\n",
        "\n",
        "In this notebook, you will be working with the New York City Airline data. This dataset is only ~200MB, so that you can download it in a reasonable time, but `dask.dataframe` will scale to  datasets **much** larger than memory.\n",
        "\n"
      ]
    },
    {
      "cell_type": "code",
      "source": [
        "!git clone https://github.com/dask/dask-tutorial.git\n",
        "%cd dask-tutorial\n"
      ],
      "metadata": {
        "id": "DrqTFEAMcXue",
        "outputId": "f63ef7dc-f12d-42c6-d3ff-920c40597f9b",
        "colab": {
          "base_uri": "https://localhost:8080/"
        }
      },
      "execution_count": 3,
      "outputs": [
        {
          "output_type": "stream",
          "name": "stdout",
          "text": [
            "fatal: destination path 'dask-tutorial' already exists and is not an empty directory.\n",
            "/content/dask-tutorial\n"
          ]
        }
      ]
    },
    {
      "cell_type": "markdown",
      "metadata": {
        "id": "G-pkcserb-Sp"
      },
      "source": [
        "## Create datasets"
      ]
    },
    {
      "cell_type": "markdown",
      "metadata": {
        "id": "lxglfYaNb-Sp"
      },
      "source": [
        "Create the datasets you will be using in this notebook:"
      ]
    },
    {
      "cell_type": "code",
      "execution_count": 4,
      "metadata": {
        "id": "ux1e3DO7b-Sq",
        "outputId": "4d284dd8-8ed8-4fde-f43b-b0c141d148d3",
        "colab": {
          "base_uri": "https://localhost:8080/"
        }
      },
      "outputs": [
        {
          "output_type": "stream",
          "name": "stdout",
          "text": [
            "- Downloading NYC Flights dataset... done\n",
            "- Extracting flight data... done\n",
            "- Creating json data... done\n",
            "** Created flights dataset! in 4.17s**\n"
          ]
        }
      ],
      "source": [
        "%run prep.py -d flights"
      ]
    },
    {
      "cell_type": "markdown",
      "metadata": {
        "id": "X6yKeV4hb-Sr"
      },
      "source": [
        "## Set up your local cluster"
      ]
    },
    {
      "cell_type": "markdown",
      "metadata": {
        "id": "0wSFu5TQb-Sr"
      },
      "source": [
        "Create a local Dask cluster and connect it to the client. Don't worry about this bit of code for now, you will learn more in the Distributed notebook."
      ]
    },
    {
      "cell_type": "code",
      "execution_count": 5,
      "metadata": {
        "id": "QpeCHVryb-Ss",
        "outputId": "7e1afdeb-1af0-4176-e5b9-b57f61d0358c",
        "colab": {
          "base_uri": "https://localhost:8080/",
          "height": 561
        }
      },
      "outputs": [
        {
          "output_type": "stream",
          "name": "stderr",
          "text": [
            "INFO:distributed.http.proxy:To route to workers diagnostics web server please install jupyter-server-proxy: python -m pip install jupyter-server-proxy\n",
            "INFO:distributed.scheduler:State start\n",
            "INFO:distributed.scheduler:  Scheduler at:     tcp://127.0.0.1:33281\n",
            "INFO:distributed.scheduler:  dashboard at:  http://127.0.0.1:8787/status\n",
            "INFO:distributed.scheduler:Registering Worker plugin shuffle\n",
            "INFO:distributed.nanny:        Start Nanny at: 'tcp://127.0.0.1:35641'\n",
            "INFO:distributed.nanny:        Start Nanny at: 'tcp://127.0.0.1:38103'\n",
            "INFO:distributed.nanny:        Start Nanny at: 'tcp://127.0.0.1:40751'\n",
            "INFO:distributed.nanny:        Start Nanny at: 'tcp://127.0.0.1:43785'\n",
            "INFO:distributed.scheduler:Register worker addr: tcp://127.0.0.1:45055 name: 1\n",
            "INFO:distributed.scheduler:Starting worker compute stream, tcp://127.0.0.1:45055\n",
            "INFO:distributed.core:Starting established connection to tcp://127.0.0.1:38552\n",
            "INFO:distributed.scheduler:Register worker addr: tcp://127.0.0.1:38629 name: 0\n",
            "INFO:distributed.scheduler:Starting worker compute stream, tcp://127.0.0.1:38629\n",
            "INFO:distributed.core:Starting established connection to tcp://127.0.0.1:38508\n",
            "INFO:distributed.scheduler:Register worker addr: tcp://127.0.0.1:46619 name: 2\n",
            "INFO:distributed.scheduler:Starting worker compute stream, tcp://127.0.0.1:46619\n",
            "INFO:distributed.core:Starting established connection to tcp://127.0.0.1:38522\n",
            "INFO:distributed.scheduler:Register worker addr: tcp://127.0.0.1:44049 name: 3\n",
            "INFO:distributed.scheduler:Starting worker compute stream, tcp://127.0.0.1:44049\n",
            "INFO:distributed.core:Starting established connection to tcp://127.0.0.1:38536\n",
            "INFO:distributed.scheduler:Receive client connection: Client-d7109aec-2a70-11f0-84de-0242ac1c000c\n",
            "INFO:distributed.core:Starting established connection to tcp://127.0.0.1:38562\n"
          ]
        },
        {
          "output_type": "execute_result",
          "data": {
            "text/plain": [
              "<Client: 'tcp://127.0.0.1:33281' processes=4 threads=4, memory=12.67 GiB>"
            ],
            "text/html": [
              "<div>\n",
              "    <div style=\"width: 24px; height: 24px; background-color: #e1e1e1; border: 3px solid #9D9D9D; border-radius: 5px; position: absolute;\"> </div>\n",
              "    <div style=\"margin-left: 48px;\">\n",
              "        <h3 style=\"margin-bottom: 0px;\">Client</h3>\n",
              "        <p style=\"color: #9D9D9D; margin-bottom: 0px;\">Client-d7109aec-2a70-11f0-84de-0242ac1c000c</p>\n",
              "        <table style=\"width: 100%; text-align: left;\">\n",
              "\n",
              "        <tr>\n",
              "        \n",
              "            <td style=\"text-align: left;\"><strong>Connection method:</strong> Cluster object</td>\n",
              "            <td style=\"text-align: left;\"><strong>Cluster type:</strong> distributed.LocalCluster</td>\n",
              "        \n",
              "        </tr>\n",
              "\n",
              "        \n",
              "            <tr>\n",
              "                <td style=\"text-align: left;\">\n",
              "                    <strong>Dashboard: </strong> <a href=\"http://127.0.0.1:8787/status\" target=\"_blank\">http://127.0.0.1:8787/status</a>\n",
              "                </td>\n",
              "                <td style=\"text-align: left;\"></td>\n",
              "            </tr>\n",
              "        \n",
              "\n",
              "        </table>\n",
              "\n",
              "        \n",
              "\n",
              "        \n",
              "            <details>\n",
              "            <summary style=\"margin-bottom: 20px;\"><h3 style=\"display: inline;\">Cluster Info</h3></summary>\n",
              "            <div class=\"jp-RenderedHTMLCommon jp-RenderedHTML jp-mod-trusted jp-OutputArea-output\">\n",
              "    <div style=\"width: 24px; height: 24px; background-color: #e1e1e1; border: 3px solid #9D9D9D; border-radius: 5px; position: absolute;\">\n",
              "    </div>\n",
              "    <div style=\"margin-left: 48px;\">\n",
              "        <h3 style=\"margin-bottom: 0px; margin-top: 0px;\">LocalCluster</h3>\n",
              "        <p style=\"color: #9D9D9D; margin-bottom: 0px;\">532fd4c9</p>\n",
              "        <table style=\"width: 100%; text-align: left;\">\n",
              "            <tr>\n",
              "                <td style=\"text-align: left;\">\n",
              "                    <strong>Dashboard:</strong> <a href=\"http://127.0.0.1:8787/status\" target=\"_blank\">http://127.0.0.1:8787/status</a>\n",
              "                </td>\n",
              "                <td style=\"text-align: left;\">\n",
              "                    <strong>Workers:</strong> 4\n",
              "                </td>\n",
              "            </tr>\n",
              "            <tr>\n",
              "                <td style=\"text-align: left;\">\n",
              "                    <strong>Total threads:</strong> 4\n",
              "                </td>\n",
              "                <td style=\"text-align: left;\">\n",
              "                    <strong>Total memory:</strong> 12.67 GiB\n",
              "                </td>\n",
              "            </tr>\n",
              "            \n",
              "            <tr>\n",
              "    <td style=\"text-align: left;\"><strong>Status:</strong> running</td>\n",
              "    <td style=\"text-align: left;\"><strong>Using processes:</strong> True</td>\n",
              "</tr>\n",
              "\n",
              "            \n",
              "        </table>\n",
              "\n",
              "        <details>\n",
              "            <summary style=\"margin-bottom: 20px;\">\n",
              "                <h3 style=\"display: inline;\">Scheduler Info</h3>\n",
              "            </summary>\n",
              "\n",
              "            <div style=\"\">\n",
              "    <div>\n",
              "        <div style=\"width: 24px; height: 24px; background-color: #FFF7E5; border: 3px solid #FF6132; border-radius: 5px; position: absolute;\"> </div>\n",
              "        <div style=\"margin-left: 48px;\">\n",
              "            <h3 style=\"margin-bottom: 0px;\">Scheduler</h3>\n",
              "            <p style=\"color: #9D9D9D; margin-bottom: 0px;\">Scheduler-3d9bcdf2-a3c6-44ec-88df-967ef7c6e2c3</p>\n",
              "            <table style=\"width: 100%; text-align: left;\">\n",
              "                <tr>\n",
              "                    <td style=\"text-align: left;\">\n",
              "                        <strong>Comm:</strong> tcp://127.0.0.1:33281\n",
              "                    </td>\n",
              "                    <td style=\"text-align: left;\">\n",
              "                        <strong>Workers:</strong> 4\n",
              "                    </td>\n",
              "                </tr>\n",
              "                <tr>\n",
              "                    <td style=\"text-align: left;\">\n",
              "                        <strong>Dashboard:</strong> <a href=\"http://127.0.0.1:8787/status\" target=\"_blank\">http://127.0.0.1:8787/status</a>\n",
              "                    </td>\n",
              "                    <td style=\"text-align: left;\">\n",
              "                        <strong>Total threads:</strong> 4\n",
              "                    </td>\n",
              "                </tr>\n",
              "                <tr>\n",
              "                    <td style=\"text-align: left;\">\n",
              "                        <strong>Started:</strong> Just now\n",
              "                    </td>\n",
              "                    <td style=\"text-align: left;\">\n",
              "                        <strong>Total memory:</strong> 12.67 GiB\n",
              "                    </td>\n",
              "                </tr>\n",
              "            </table>\n",
              "        </div>\n",
              "    </div>\n",
              "\n",
              "    <details style=\"margin-left: 48px;\">\n",
              "        <summary style=\"margin-bottom: 20px;\">\n",
              "            <h3 style=\"display: inline;\">Workers</h3>\n",
              "        </summary>\n",
              "\n",
              "        \n",
              "        <div style=\"margin-bottom: 20px;\">\n",
              "            <div style=\"width: 24px; height: 24px; background-color: #DBF5FF; border: 3px solid #4CC9FF; border-radius: 5px; position: absolute;\"> </div>\n",
              "            <div style=\"margin-left: 48px;\">\n",
              "            <details>\n",
              "                <summary>\n",
              "                    <h4 style=\"margin-bottom: 0px; display: inline;\">Worker: 0</h4>\n",
              "                </summary>\n",
              "                <table style=\"width: 100%; text-align: left;\">\n",
              "                    <tr>\n",
              "                        <td style=\"text-align: left;\">\n",
              "                            <strong>Comm: </strong> tcp://127.0.0.1:38629\n",
              "                        </td>\n",
              "                        <td style=\"text-align: left;\">\n",
              "                            <strong>Total threads: </strong> 1\n",
              "                        </td>\n",
              "                    </tr>\n",
              "                    <tr>\n",
              "                        <td style=\"text-align: left;\">\n",
              "                            <strong>Dashboard: </strong> <a href=\"http://127.0.0.1:45513/status\" target=\"_blank\">http://127.0.0.1:45513/status</a>\n",
              "                        </td>\n",
              "                        <td style=\"text-align: left;\">\n",
              "                            <strong>Memory: </strong> 3.17 GiB\n",
              "                        </td>\n",
              "                    </tr>\n",
              "                    <tr>\n",
              "                        <td style=\"text-align: left;\">\n",
              "                            <strong>Nanny: </strong> tcp://127.0.0.1:35641\n",
              "                        </td>\n",
              "                        <td style=\"text-align: left;\"></td>\n",
              "                    </tr>\n",
              "                    <tr>\n",
              "                        <td colspan=\"2\" style=\"text-align: left;\">\n",
              "                            <strong>Local directory: </strong> /tmp/dask-scratch-space/worker-_3c7b7sg\n",
              "                        </td>\n",
              "                    </tr>\n",
              "\n",
              "                    \n",
              "\n",
              "                    \n",
              "\n",
              "                </table>\n",
              "            </details>\n",
              "            </div>\n",
              "        </div>\n",
              "        \n",
              "        <div style=\"margin-bottom: 20px;\">\n",
              "            <div style=\"width: 24px; height: 24px; background-color: #DBF5FF; border: 3px solid #4CC9FF; border-radius: 5px; position: absolute;\"> </div>\n",
              "            <div style=\"margin-left: 48px;\">\n",
              "            <details>\n",
              "                <summary>\n",
              "                    <h4 style=\"margin-bottom: 0px; display: inline;\">Worker: 1</h4>\n",
              "                </summary>\n",
              "                <table style=\"width: 100%; text-align: left;\">\n",
              "                    <tr>\n",
              "                        <td style=\"text-align: left;\">\n",
              "                            <strong>Comm: </strong> tcp://127.0.0.1:45055\n",
              "                        </td>\n",
              "                        <td style=\"text-align: left;\">\n",
              "                            <strong>Total threads: </strong> 1\n",
              "                        </td>\n",
              "                    </tr>\n",
              "                    <tr>\n",
              "                        <td style=\"text-align: left;\">\n",
              "                            <strong>Dashboard: </strong> <a href=\"http://127.0.0.1:40703/status\" target=\"_blank\">http://127.0.0.1:40703/status</a>\n",
              "                        </td>\n",
              "                        <td style=\"text-align: left;\">\n",
              "                            <strong>Memory: </strong> 3.17 GiB\n",
              "                        </td>\n",
              "                    </tr>\n",
              "                    <tr>\n",
              "                        <td style=\"text-align: left;\">\n",
              "                            <strong>Nanny: </strong> tcp://127.0.0.1:38103\n",
              "                        </td>\n",
              "                        <td style=\"text-align: left;\"></td>\n",
              "                    </tr>\n",
              "                    <tr>\n",
              "                        <td colspan=\"2\" style=\"text-align: left;\">\n",
              "                            <strong>Local directory: </strong> /tmp/dask-scratch-space/worker-a1th4_m6\n",
              "                        </td>\n",
              "                    </tr>\n",
              "\n",
              "                    \n",
              "\n",
              "                    \n",
              "\n",
              "                </table>\n",
              "            </details>\n",
              "            </div>\n",
              "        </div>\n",
              "        \n",
              "        <div style=\"margin-bottom: 20px;\">\n",
              "            <div style=\"width: 24px; height: 24px; background-color: #DBF5FF; border: 3px solid #4CC9FF; border-radius: 5px; position: absolute;\"> </div>\n",
              "            <div style=\"margin-left: 48px;\">\n",
              "            <details>\n",
              "                <summary>\n",
              "                    <h4 style=\"margin-bottom: 0px; display: inline;\">Worker: 2</h4>\n",
              "                </summary>\n",
              "                <table style=\"width: 100%; text-align: left;\">\n",
              "                    <tr>\n",
              "                        <td style=\"text-align: left;\">\n",
              "                            <strong>Comm: </strong> tcp://127.0.0.1:46619\n",
              "                        </td>\n",
              "                        <td style=\"text-align: left;\">\n",
              "                            <strong>Total threads: </strong> 1\n",
              "                        </td>\n",
              "                    </tr>\n",
              "                    <tr>\n",
              "                        <td style=\"text-align: left;\">\n",
              "                            <strong>Dashboard: </strong> <a href=\"http://127.0.0.1:38595/status\" target=\"_blank\">http://127.0.0.1:38595/status</a>\n",
              "                        </td>\n",
              "                        <td style=\"text-align: left;\">\n",
              "                            <strong>Memory: </strong> 3.17 GiB\n",
              "                        </td>\n",
              "                    </tr>\n",
              "                    <tr>\n",
              "                        <td style=\"text-align: left;\">\n",
              "                            <strong>Nanny: </strong> tcp://127.0.0.1:40751\n",
              "                        </td>\n",
              "                        <td style=\"text-align: left;\"></td>\n",
              "                    </tr>\n",
              "                    <tr>\n",
              "                        <td colspan=\"2\" style=\"text-align: left;\">\n",
              "                            <strong>Local directory: </strong> /tmp/dask-scratch-space/worker-jzuy21wu\n",
              "                        </td>\n",
              "                    </tr>\n",
              "\n",
              "                    \n",
              "\n",
              "                    \n",
              "\n",
              "                </table>\n",
              "            </details>\n",
              "            </div>\n",
              "        </div>\n",
              "        \n",
              "        <div style=\"margin-bottom: 20px;\">\n",
              "            <div style=\"width: 24px; height: 24px; background-color: #DBF5FF; border: 3px solid #4CC9FF; border-radius: 5px; position: absolute;\"> </div>\n",
              "            <div style=\"margin-left: 48px;\">\n",
              "            <details>\n",
              "                <summary>\n",
              "                    <h4 style=\"margin-bottom: 0px; display: inline;\">Worker: 3</h4>\n",
              "                </summary>\n",
              "                <table style=\"width: 100%; text-align: left;\">\n",
              "                    <tr>\n",
              "                        <td style=\"text-align: left;\">\n",
              "                            <strong>Comm: </strong> tcp://127.0.0.1:44049\n",
              "                        </td>\n",
              "                        <td style=\"text-align: left;\">\n",
              "                            <strong>Total threads: </strong> 1\n",
              "                        </td>\n",
              "                    </tr>\n",
              "                    <tr>\n",
              "                        <td style=\"text-align: left;\">\n",
              "                            <strong>Dashboard: </strong> <a href=\"http://127.0.0.1:34395/status\" target=\"_blank\">http://127.0.0.1:34395/status</a>\n",
              "                        </td>\n",
              "                        <td style=\"text-align: left;\">\n",
              "                            <strong>Memory: </strong> 3.17 GiB\n",
              "                        </td>\n",
              "                    </tr>\n",
              "                    <tr>\n",
              "                        <td style=\"text-align: left;\">\n",
              "                            <strong>Nanny: </strong> tcp://127.0.0.1:43785\n",
              "                        </td>\n",
              "                        <td style=\"text-align: left;\"></td>\n",
              "                    </tr>\n",
              "                    <tr>\n",
              "                        <td colspan=\"2\" style=\"text-align: left;\">\n",
              "                            <strong>Local directory: </strong> /tmp/dask-scratch-space/worker-vfgjt29u\n",
              "                        </td>\n",
              "                    </tr>\n",
              "\n",
              "                    \n",
              "\n",
              "                    \n",
              "\n",
              "                </table>\n",
              "            </details>\n",
              "            </div>\n",
              "        </div>\n",
              "        \n",
              "\n",
              "    </details>\n",
              "</div>\n",
              "\n",
              "        </details>\n",
              "    </div>\n",
              "</div>\n",
              "            </details>\n",
              "        \n",
              "\n",
              "    </div>\n",
              "</div>"
            ]
          },
          "metadata": {},
          "execution_count": 5
        }
      ],
      "source": [
        "from dask.distributed import Client\n",
        "\n",
        "client = Client(n_workers=4)\n",
        "client"
      ]
    },
    {
      "cell_type": "markdown",
      "metadata": {
        "id": "AQCh4STkb-Ss"
      },
      "source": [
        "### Dask Diagnostic Dashboard\n",
        "\n",
        "Dask Distributed provides a useful Dashboard to visualize the state of your cluster and computations.\n",
        "\n",
        "If you're on **JupyterLab or Binder**, you can use the [Dask JupyterLab extension](https://github.com/dask/dask-labextension) (which should be already installed in your environment) to open the dashboard plots:\n",
        "* Click on the Dask logo in the left sidebar\n",
        "* Click on the magnifying glass icon, which will automatically connect to the active dashboard (if that doesn't work, you can type/paste the dashboard link http://127.0.0.1:8787 in the field)\n",
        "* Click on **\"Task Stream\"**, **\"Progress Bar\"**, and **\"Worker Memory\"**, which will open these plots in new tabs\n",
        "* Re-organize the tabs to suit your workflow!\n",
        "\n",
        "Alternatively, click on the dashboard link displayed in the Client details above: http://127.0.0.1:8787/status. It will open a new browser tab with the Dashboard."
      ]
    },
    {
      "cell_type": "markdown",
      "metadata": {
        "tags": [],
        "id": "kGZRt7tDb-St"
      },
      "source": [
        "## Reading and working with datasets\n",
        "\n",
        "Let's read an extract of flights in the USA across several years. This data is specific to flights out of the three airports in the New York City area."
      ]
    },
    {
      "cell_type": "code",
      "execution_count": 6,
      "metadata": {
        "id": "k65x8_YUb-St"
      },
      "outputs": [],
      "source": [
        "import os\n",
        "import dask"
      ]
    },
    {
      "cell_type": "markdown",
      "metadata": {
        "id": "ovXM4uVAb-St"
      },
      "source": [
        "By convention, we import the module `dask.dataframe` as `dd`, and call the corresponding `DataFrame` object `ddf`.\n",
        "\n",
        "**Note**: The term \"Dask DataFrame\" is slightly overloaded. Depending on the context, it can refer to the module or the DataFrame object. To avoid confusion, throughout this notebook:\n",
        "- `dask.dataframe` (note the all lowercase) refers to the API, and\n",
        "- `DataFrame` (note the CamelCase) refers to the object.\n",
        "\n",
        "The following filename includes a glob pattern `*`, so all files in the path matching that pattern will be read into the same `DataFrame`."
      ]
    },
    {
      "cell_type": "code",
      "execution_count": 7,
      "metadata": {
        "id": "Ila4hU69b-St",
        "outputId": "893453d1-3535-4e30-e1eb-7052e14a3239",
        "colab": {
          "base_uri": "https://localhost:8080/",
          "height": 327
        }
      },
      "outputs": [
        {
          "output_type": "stream",
          "name": "stderr",
          "text": [
            "/usr/local/lib/python3.11/dist-packages/dask/dataframe/io/csv.py:740: FutureWarning: Support for nested sequences for 'parse_dates' in pd.read_csv is deprecated. Combine the desired columns with pd.to_datetime after parsing instead.\n",
            "  head = reader(BytesIO(b_sample), nrows=sample_rows, **head_kwargs)\n"
          ]
        },
        {
          "output_type": "execute_result",
          "data": {
            "text/plain": [
              "Dask DataFrame Structure:\n",
              "                          Date DayOfWeek  DepTime CRSDepTime  ArrTime CRSArrTime UniqueCarrier FlightNum  TailNum ActualElapsedTime CRSElapsedTime  AirTime ArrDelay DepDelay  Origin    Dest Distance   TaxiIn  TaxiOut Cancelled Diverted\n",
              "npartitions=10                                                                                                                                                                                                                             \n",
              "                datetime64[ns]     int64  float64      int64  float64      int64        string     int64  float64           float64          int64  float64  float64  float64  string  string  float64  float64  float64     int64    int64\n",
              "                           ...       ...      ...        ...      ...        ...           ...       ...      ...               ...            ...      ...      ...      ...     ...     ...      ...      ...      ...       ...      ...\n",
              "...                        ...       ...      ...        ...      ...        ...           ...       ...      ...               ...            ...      ...      ...      ...     ...     ...      ...      ...      ...       ...      ...\n",
              "                           ...       ...      ...        ...      ...        ...           ...       ...      ...               ...            ...      ...      ...      ...     ...     ...      ...      ...      ...       ...      ...\n",
              "                           ...       ...      ...        ...      ...        ...           ...       ...      ...               ...            ...      ...      ...      ...     ...     ...      ...      ...      ...       ...      ...\n",
              "Dask Name: to_string_dtype, 2 expressions\n",
              "Expr=ArrowStringConversion(frame=FromMapProjectable(28d3ba0))"
            ],
            "text/html": [
              "<div><strong>Dask DataFrame Structure:</strong></div>\n",
              "<table border=\"1\" class=\"dataframe\">\n",
              "  <thead>\n",
              "    <tr style=\"text-align: right;\">\n",
              "      <th></th>\n",
              "      <th>Date</th>\n",
              "      <th>DayOfWeek</th>\n",
              "      <th>DepTime</th>\n",
              "      <th>CRSDepTime</th>\n",
              "      <th>ArrTime</th>\n",
              "      <th>CRSArrTime</th>\n",
              "      <th>UniqueCarrier</th>\n",
              "      <th>FlightNum</th>\n",
              "      <th>TailNum</th>\n",
              "      <th>ActualElapsedTime</th>\n",
              "      <th>CRSElapsedTime</th>\n",
              "      <th>AirTime</th>\n",
              "      <th>ArrDelay</th>\n",
              "      <th>DepDelay</th>\n",
              "      <th>Origin</th>\n",
              "      <th>Dest</th>\n",
              "      <th>Distance</th>\n",
              "      <th>TaxiIn</th>\n",
              "      <th>TaxiOut</th>\n",
              "      <th>Cancelled</th>\n",
              "      <th>Diverted</th>\n",
              "    </tr>\n",
              "    <tr>\n",
              "      <th>npartitions=10</th>\n",
              "      <th></th>\n",
              "      <th></th>\n",
              "      <th></th>\n",
              "      <th></th>\n",
              "      <th></th>\n",
              "      <th></th>\n",
              "      <th></th>\n",
              "      <th></th>\n",
              "      <th></th>\n",
              "      <th></th>\n",
              "      <th></th>\n",
              "      <th></th>\n",
              "      <th></th>\n",
              "      <th></th>\n",
              "      <th></th>\n",
              "      <th></th>\n",
              "      <th></th>\n",
              "      <th></th>\n",
              "      <th></th>\n",
              "      <th></th>\n",
              "      <th></th>\n",
              "    </tr>\n",
              "  </thead>\n",
              "  <tbody>\n",
              "    <tr>\n",
              "      <th></th>\n",
              "      <td>datetime64[ns]</td>\n",
              "      <td>int64</td>\n",
              "      <td>float64</td>\n",
              "      <td>int64</td>\n",
              "      <td>float64</td>\n",
              "      <td>int64</td>\n",
              "      <td>string</td>\n",
              "      <td>int64</td>\n",
              "      <td>float64</td>\n",
              "      <td>float64</td>\n",
              "      <td>int64</td>\n",
              "      <td>float64</td>\n",
              "      <td>float64</td>\n",
              "      <td>float64</td>\n",
              "      <td>string</td>\n",
              "      <td>string</td>\n",
              "      <td>float64</td>\n",
              "      <td>float64</td>\n",
              "      <td>float64</td>\n",
              "      <td>int64</td>\n",
              "      <td>int64</td>\n",
              "    </tr>\n",
              "    <tr>\n",
              "      <th></th>\n",
              "      <td>...</td>\n",
              "      <td>...</td>\n",
              "      <td>...</td>\n",
              "      <td>...</td>\n",
              "      <td>...</td>\n",
              "      <td>...</td>\n",
              "      <td>...</td>\n",
              "      <td>...</td>\n",
              "      <td>...</td>\n",
              "      <td>...</td>\n",
              "      <td>...</td>\n",
              "      <td>...</td>\n",
              "      <td>...</td>\n",
              "      <td>...</td>\n",
              "      <td>...</td>\n",
              "      <td>...</td>\n",
              "      <td>...</td>\n",
              "      <td>...</td>\n",
              "      <td>...</td>\n",
              "      <td>...</td>\n",
              "      <td>...</td>\n",
              "    </tr>\n",
              "    <tr>\n",
              "      <th>...</th>\n",
              "      <td>...</td>\n",
              "      <td>...</td>\n",
              "      <td>...</td>\n",
              "      <td>...</td>\n",
              "      <td>...</td>\n",
              "      <td>...</td>\n",
              "      <td>...</td>\n",
              "      <td>...</td>\n",
              "      <td>...</td>\n",
              "      <td>...</td>\n",
              "      <td>...</td>\n",
              "      <td>...</td>\n",
              "      <td>...</td>\n",
              "      <td>...</td>\n",
              "      <td>...</td>\n",
              "      <td>...</td>\n",
              "      <td>...</td>\n",
              "      <td>...</td>\n",
              "      <td>...</td>\n",
              "      <td>...</td>\n",
              "      <td>...</td>\n",
              "    </tr>\n",
              "    <tr>\n",
              "      <th></th>\n",
              "      <td>...</td>\n",
              "      <td>...</td>\n",
              "      <td>...</td>\n",
              "      <td>...</td>\n",
              "      <td>...</td>\n",
              "      <td>...</td>\n",
              "      <td>...</td>\n",
              "      <td>...</td>\n",
              "      <td>...</td>\n",
              "      <td>...</td>\n",
              "      <td>...</td>\n",
              "      <td>...</td>\n",
              "      <td>...</td>\n",
              "      <td>...</td>\n",
              "      <td>...</td>\n",
              "      <td>...</td>\n",
              "      <td>...</td>\n",
              "      <td>...</td>\n",
              "      <td>...</td>\n",
              "      <td>...</td>\n",
              "      <td>...</td>\n",
              "    </tr>\n",
              "    <tr>\n",
              "      <th></th>\n",
              "      <td>...</td>\n",
              "      <td>...</td>\n",
              "      <td>...</td>\n",
              "      <td>...</td>\n",
              "      <td>...</td>\n",
              "      <td>...</td>\n",
              "      <td>...</td>\n",
              "      <td>...</td>\n",
              "      <td>...</td>\n",
              "      <td>...</td>\n",
              "      <td>...</td>\n",
              "      <td>...</td>\n",
              "      <td>...</td>\n",
              "      <td>...</td>\n",
              "      <td>...</td>\n",
              "      <td>...</td>\n",
              "      <td>...</td>\n",
              "      <td>...</td>\n",
              "      <td>...</td>\n",
              "      <td>...</td>\n",
              "      <td>...</td>\n",
              "    </tr>\n",
              "  </tbody>\n",
              "</table>\n",
              "<div>Dask Name: to_string_dtype, 2 expressions</div>"
            ]
          },
          "metadata": {},
          "execution_count": 7
        }
      ],
      "source": [
        "import dask.dataframe as dd\n",
        "\n",
        "ddf = dd.read_csv(\n",
        "    os.path.join(\"data\", \"nycflights\", \"*.csv\"), parse_dates={\"Date\": [0, 1, 2]}\n",
        ")\n",
        "ddf"
      ]
    },
    {
      "cell_type": "markdown",
      "metadata": {
        "id": "C2Pd2Zphb-St"
      },
      "source": [
        "Dask has not loaded the data yet, it has:\n",
        "- investigated the input path and found that there are ten matching files\n",
        "- intelligently created a set of jobs for each chunk -- one per original CSV file in this case"
      ]
    },
    {
      "cell_type": "markdown",
      "metadata": {
        "id": "p0SbPSIrb-Su"
      },
      "source": [
        "Notice that the representation of the `DataFrame` object contains no data - Dask has just done enough to read the start of the first file, and infer the column names and dtypes."
      ]
    },
    {
      "cell_type": "markdown",
      "metadata": {
        "id": "1_Ls9MCEb-Su"
      },
      "source": [
        "### Lazy Evaluation\n",
        "\n",
        "Most Dask Collections, including Dask `DataFrame` are evaluated lazily, which means Dask constructs the logic (called task graph) of your computation immediately but \"evaluates\" them  only when necessary. You can view this task graph using `.visualize()`.\n",
        "\n",
        "You will learn more about this in the Delayed notebook, but for now, note that we need to call `.compute()` to trigger actual computations."
      ]
    },
    {
      "cell_type": "code",
      "execution_count": 8,
      "metadata": {
        "id": "I5oU_Ua7b-Su",
        "outputId": "e67c945f-a59e-4b41-ad70-48c50fcb547d",
        "colab": {
          "base_uri": "https://localhost:8080/",
          "height": 176
        }
      },
      "outputs": [
        {
          "output_type": "execute_result",
          "data": {
            "image/svg+xml": "<?xml version=\"1.0\" encoding=\"UTF-8\" standalone=\"no\"?>\n<!DOCTYPE svg PUBLIC \"-//W3C//DTD SVG 1.1//EN\"\n \"http://www.w3.org/Graphics/SVG/1.1/DTD/svg11.dtd\">\n<!-- Generated by graphviz version 2.43.0 (0)\n -->\n<!-- Title: %3 Pages: 1 -->\n<svg width=\"430pt\" height=\"116pt\"\n viewBox=\"0.00 0.00 430.00 116.00\" xmlns=\"http://www.w3.org/2000/svg\" xmlns:xlink=\"http://www.w3.org/1999/xlink\">\n<g id=\"graph0\" class=\"graph\" transform=\"scale(1 1) rotate(0) translate(4 112)\">\n<title>%3</title>\n<polygon fill=\"white\" stroke=\"transparent\" points=\"-4,4 -4,-112 426,-112 426,4 -4,4\"/>\n<!-- 4885061631981040286 -->\n<g id=\"node1\" class=\"node\">\n<title>4885061631981040286</title>\n<polygon fill=\"none\" stroke=\"black\" points=\"422,-108 0,-108 0,-72 422,-72 422,-108\"/>\n<text text-anchor=\"middle\" x=\"211\" y=\"-85\" font-family=\"Helvetica,sans-Serif\" font-size=\"20.00\">ArrowStringConversion(FromMapProjectable)</text>\n</g>\n<!-- 159919812933827169 -->\n<g id=\"node2\" class=\"node\">\n<title>159919812933827169</title>\n<polygon fill=\"none\" stroke=\"black\" points=\"312.5,-36 109.5,-36 109.5,0 312.5,0 312.5,-36\"/>\n<text text-anchor=\"middle\" x=\"211\" y=\"-13\" font-family=\"Helvetica,sans-Serif\" font-size=\"20.00\">FromMapProjectable</text>\n</g>\n<!-- 159919812933827169&#45;&gt;4885061631981040286 -->\n<g id=\"edge1\" class=\"edge\">\n<title>159919812933827169&#45;&gt;4885061631981040286</title>\n<path fill=\"none\" stroke=\"black\" d=\"M211,-36.3C211,-44.02 211,-53.29 211,-61.89\"/>\n<polygon fill=\"black\" stroke=\"black\" points=\"207.5,-61.9 211,-71.9 214.5,-61.9 207.5,-61.9\"/>\n</g>\n</g>\n</svg>\n",
            "text/plain": [
              "<graphviz.graphs.Digraph at 0x7ef5e4237d90>"
            ]
          },
          "metadata": {},
          "execution_count": 8
        }
      ],
      "source": [
        "ddf.visualize()"
      ]
    },
    {
      "cell_type": "markdown",
      "metadata": {
        "id": "Hj7BLbRpb-Su"
      },
      "source": [
        "Some functions like `len` and `head` also trigger a computation. Specifically, calling `len` will:\n",
        "- load actual data, (that is, load each file into a pandas DataFrame)\n",
        "- then apply the corresponding functions to each pandas DataFrame (also known as a partition)\n",
        "- combine the subtotals to give you the final grand total"
      ]
    },
    {
      "cell_type": "code",
      "execution_count": 9,
      "metadata": {
        "id": "hXrtoPSLb-Su",
        "outputId": "af4913f9-0485-45d4-da5a-aaead99e29cf",
        "colab": {
          "base_uri": "https://localhost:8080/",
          "height": 651
        }
      },
      "outputs": [
        {
          "output_type": "error",
          "ename": "ValueError",
          "evalue": "Mismatched dtypes found in `pd.read_csv`/`pd.read_table`.\n\n+----------------+---------+----------+\n| Column         | Found   | Expected |\n+----------------+---------+----------+\n| CRSElapsedTime | float64 | int64    |\n| TailNum        | object  | float64  |\n+----------------+---------+----------+\n\nThe following columns also raised exceptions on conversion:\n\n- TailNum\n  ValueError(\"could not convert string to float: 'N14342'\")\n\nUsually this is due to dask's dtype inference failing, and\n*may* be fixed by specifying dtypes manually by adding:\n\ndtype={'CRSElapsedTime': 'float64',\n       'TailNum': 'object'}\n\nto the call to `read_csv`/`read_table`.",
          "traceback": [
            "\u001b[0;31m---------------------------------------------------------------------------\u001b[0m",
            "\u001b[0;31mValueError\u001b[0m                                Traceback (most recent call last)",
            "\u001b[0;32m<ipython-input-9-751b5d6c5df3>\u001b[0m in \u001b[0;36m<cell line: 0>\u001b[0;34m()\u001b[0m\n\u001b[1;32m      1\u001b[0m \u001b[0;31m# load and count number of rows\u001b[0m\u001b[0;34m\u001b[0m\u001b[0;34m\u001b[0m\u001b[0m\n\u001b[0;32m----> 2\u001b[0;31m \u001b[0mlen\u001b[0m\u001b[0;34m(\u001b[0m\u001b[0mddf\u001b[0m\u001b[0;34m)\u001b[0m\u001b[0;34m\u001b[0m\u001b[0;34m\u001b[0m\u001b[0m\n\u001b[0m",
            "\u001b[0;32m/usr/local/lib/python3.11/dist-packages/dask_expr/_collection.py\u001b[0m in \u001b[0;36m__len__\u001b[0;34m(self)\u001b[0m\n\u001b[1;32m    380\u001b[0m \u001b[0;34m\u001b[0m\u001b[0m\n\u001b[1;32m    381\u001b[0m     \u001b[0;32mdef\u001b[0m \u001b[0m__len__\u001b[0m\u001b[0;34m(\u001b[0m\u001b[0mself\u001b[0m\u001b[0;34m)\u001b[0m\u001b[0;34m:\u001b[0m\u001b[0;34m\u001b[0m\u001b[0;34m\u001b[0m\u001b[0m\n\u001b[0;32m--> 382\u001b[0;31m         \u001b[0;32mreturn\u001b[0m \u001b[0mnew_collection\u001b[0m\u001b[0;34m(\u001b[0m\u001b[0mLen\u001b[0m\u001b[0;34m(\u001b[0m\u001b[0mself\u001b[0m\u001b[0;34m)\u001b[0m\u001b[0;34m)\u001b[0m\u001b[0;34m.\u001b[0m\u001b[0mcompute\u001b[0m\u001b[0;34m(\u001b[0m\u001b[0;34m)\u001b[0m\u001b[0;34m\u001b[0m\u001b[0;34m\u001b[0m\u001b[0m\n\u001b[0m\u001b[1;32m    383\u001b[0m \u001b[0;34m\u001b[0m\u001b[0m\n\u001b[1;32m    384\u001b[0m     \u001b[0;34m@\u001b[0m\u001b[0mproperty\u001b[0m\u001b[0;34m\u001b[0m\u001b[0;34m\u001b[0m\u001b[0m\n",
            "\u001b[0;32m/usr/local/lib/python3.11/dist-packages/dask_expr/_collection.py\u001b[0m in \u001b[0;36mcompute\u001b[0;34m(self, fuse, concatenate, **kwargs)\u001b[0m\n\u001b[1;32m    478\u001b[0m             \u001b[0mout\u001b[0m \u001b[0;34m=\u001b[0m \u001b[0mout\u001b[0m\u001b[0;34m.\u001b[0m\u001b[0mrepartition\u001b[0m\u001b[0;34m(\u001b[0m\u001b[0mnpartitions\u001b[0m\u001b[0;34m=\u001b[0m\u001b[0;36m1\u001b[0m\u001b[0;34m)\u001b[0m\u001b[0;34m\u001b[0m\u001b[0;34m\u001b[0m\u001b[0m\n\u001b[1;32m    479\u001b[0m         \u001b[0mout\u001b[0m \u001b[0;34m=\u001b[0m \u001b[0mout\u001b[0m\u001b[0;34m.\u001b[0m\u001b[0moptimize\u001b[0m\u001b[0;34m(\u001b[0m\u001b[0mfuse\u001b[0m\u001b[0;34m=\u001b[0m\u001b[0mfuse\u001b[0m\u001b[0;34m)\u001b[0m\u001b[0;34m\u001b[0m\u001b[0;34m\u001b[0m\u001b[0m\n\u001b[0;32m--> 480\u001b[0;31m         \u001b[0;32mreturn\u001b[0m \u001b[0mDaskMethodsMixin\u001b[0m\u001b[0;34m.\u001b[0m\u001b[0mcompute\u001b[0m\u001b[0;34m(\u001b[0m\u001b[0mout\u001b[0m\u001b[0;34m,\u001b[0m \u001b[0;34m**\u001b[0m\u001b[0mkwargs\u001b[0m\u001b[0;34m)\u001b[0m\u001b[0;34m\u001b[0m\u001b[0;34m\u001b[0m\u001b[0m\n\u001b[0m\u001b[1;32m    481\u001b[0m \u001b[0;34m\u001b[0m\u001b[0m\n\u001b[1;32m    482\u001b[0m     \u001b[0;32mdef\u001b[0m \u001b[0manalyze\u001b[0m\u001b[0;34m(\u001b[0m\u001b[0mself\u001b[0m\u001b[0;34m,\u001b[0m \u001b[0mfilename\u001b[0m\u001b[0;34m:\u001b[0m \u001b[0mstr\u001b[0m \u001b[0;34m|\u001b[0m \u001b[0;32mNone\u001b[0m \u001b[0;34m=\u001b[0m \u001b[0;32mNone\u001b[0m\u001b[0;34m,\u001b[0m \u001b[0mformat\u001b[0m\u001b[0;34m:\u001b[0m \u001b[0mstr\u001b[0m \u001b[0;34m|\u001b[0m \u001b[0;32mNone\u001b[0m \u001b[0;34m=\u001b[0m \u001b[0;32mNone\u001b[0m\u001b[0;34m)\u001b[0m \u001b[0;34m->\u001b[0m \u001b[0;32mNone\u001b[0m\u001b[0;34m:\u001b[0m\u001b[0;34m\u001b[0m\u001b[0;34m\u001b[0m\u001b[0m\n",
            "\u001b[0;32m/usr/local/lib/python3.11/dist-packages/dask/base.py\u001b[0m in \u001b[0;36mcompute\u001b[0;34m(self, **kwargs)\u001b[0m\n\u001b[1;32m    370\u001b[0m         \u001b[0mdask\u001b[0m\u001b[0;34m.\u001b[0m\u001b[0mcompute\u001b[0m\u001b[0;34m\u001b[0m\u001b[0;34m\u001b[0m\u001b[0m\n\u001b[1;32m    371\u001b[0m         \"\"\"\n\u001b[0;32m--> 372\u001b[0;31m         \u001b[0;34m(\u001b[0m\u001b[0mresult\u001b[0m\u001b[0;34m,\u001b[0m\u001b[0;34m)\u001b[0m \u001b[0;34m=\u001b[0m \u001b[0mcompute\u001b[0m\u001b[0;34m(\u001b[0m\u001b[0mself\u001b[0m\u001b[0;34m,\u001b[0m \u001b[0mtraverse\u001b[0m\u001b[0;34m=\u001b[0m\u001b[0;32mFalse\u001b[0m\u001b[0;34m,\u001b[0m \u001b[0;34m**\u001b[0m\u001b[0mkwargs\u001b[0m\u001b[0;34m)\u001b[0m\u001b[0;34m\u001b[0m\u001b[0;34m\u001b[0m\u001b[0m\n\u001b[0m\u001b[1;32m    373\u001b[0m         \u001b[0;32mreturn\u001b[0m \u001b[0mresult\u001b[0m\u001b[0;34m\u001b[0m\u001b[0;34m\u001b[0m\u001b[0m\n\u001b[1;32m    374\u001b[0m \u001b[0;34m\u001b[0m\u001b[0m\n",
            "\u001b[0;32m/usr/local/lib/python3.11/dist-packages/dask/base.py\u001b[0m in \u001b[0;36mcompute\u001b[0;34m(traverse, optimize_graph, scheduler, get, *args, **kwargs)\u001b[0m\n\u001b[1;32m    658\u001b[0m \u001b[0;34m\u001b[0m\u001b[0m\n\u001b[1;32m    659\u001b[0m     \u001b[0;32mwith\u001b[0m \u001b[0mshorten_traceback\u001b[0m\u001b[0;34m(\u001b[0m\u001b[0;34m)\u001b[0m\u001b[0;34m:\u001b[0m\u001b[0;34m\u001b[0m\u001b[0;34m\u001b[0m\u001b[0m\n\u001b[0;32m--> 660\u001b[0;31m         \u001b[0mresults\u001b[0m \u001b[0;34m=\u001b[0m \u001b[0mschedule\u001b[0m\u001b[0;34m(\u001b[0m\u001b[0mdsk\u001b[0m\u001b[0;34m,\u001b[0m \u001b[0mkeys\u001b[0m\u001b[0;34m,\u001b[0m \u001b[0;34m**\u001b[0m\u001b[0mkwargs\u001b[0m\u001b[0;34m)\u001b[0m\u001b[0;34m\u001b[0m\u001b[0;34m\u001b[0m\u001b[0m\n\u001b[0m\u001b[1;32m    661\u001b[0m \u001b[0;34m\u001b[0m\u001b[0m\n\u001b[1;32m    662\u001b[0m     \u001b[0;32mreturn\u001b[0m \u001b[0mrepack\u001b[0m\u001b[0;34m(\u001b[0m\u001b[0;34m[\u001b[0m\u001b[0mf\u001b[0m\u001b[0;34m(\u001b[0m\u001b[0mr\u001b[0m\u001b[0;34m,\u001b[0m \u001b[0;34m*\u001b[0m\u001b[0ma\u001b[0m\u001b[0;34m)\u001b[0m \u001b[0;32mfor\u001b[0m \u001b[0mr\u001b[0m\u001b[0;34m,\u001b[0m \u001b[0;34m(\u001b[0m\u001b[0mf\u001b[0m\u001b[0;34m,\u001b[0m \u001b[0ma\u001b[0m\u001b[0;34m)\u001b[0m \u001b[0;32min\u001b[0m \u001b[0mzip\u001b[0m\u001b[0;34m(\u001b[0m\u001b[0mresults\u001b[0m\u001b[0;34m,\u001b[0m \u001b[0mpostcomputes\u001b[0m\u001b[0;34m)\u001b[0m\u001b[0;34m]\u001b[0m\u001b[0;34m)\u001b[0m\u001b[0;34m\u001b[0m\u001b[0;34m\u001b[0m\u001b[0m\n",
            "\u001b[0;32m/usr/local/lib/python3.11/dist-packages/dask/dataframe/io/csv.py\u001b[0m in \u001b[0;36m_read_csv\u001b[0;34m()\u001b[0m\n\u001b[1;32m    496\u001b[0m \u001b[0;34m\u001b[0m\u001b[0m\n\u001b[1;32m    497\u001b[0m     \u001b[0;31m# Call `pandas_read_text`\u001b[0m\u001b[0;34m\u001b[0m\u001b[0;34m\u001b[0m\u001b[0m\n\u001b[0;32m--> 498\u001b[0;31m     df = pandas_read_text(\n\u001b[0m\u001b[1;32m    499\u001b[0m         \u001b[0mreader\u001b[0m\u001b[0;34m,\u001b[0m\u001b[0;34m\u001b[0m\u001b[0;34m\u001b[0m\u001b[0m\n\u001b[1;32m    500\u001b[0m         \u001b[0mblock\u001b[0m\u001b[0;34m,\u001b[0m\u001b[0;34m\u001b[0m\u001b[0;34m\u001b[0m\u001b[0m\n",
            "\u001b[0;32m/usr/local/lib/python3.11/dist-packages/dask/dataframe/io/csv.py\u001b[0m in \u001b[0;36mpandas_read_text\u001b[0;34m()\u001b[0m\n\u001b[1;32m    199\u001b[0m     \u001b[0mdf\u001b[0m \u001b[0;34m=\u001b[0m \u001b[0mreader\u001b[0m\u001b[0;34m(\u001b[0m\u001b[0mbio\u001b[0m\u001b[0;34m,\u001b[0m \u001b[0;34m**\u001b[0m\u001b[0mkwargs\u001b[0m\u001b[0;34m)\u001b[0m\u001b[0;34m\u001b[0m\u001b[0;34m\u001b[0m\u001b[0m\n\u001b[1;32m    200\u001b[0m     \u001b[0;32mif\u001b[0m \u001b[0mdtypes\u001b[0m\u001b[0;34m:\u001b[0m\u001b[0;34m\u001b[0m\u001b[0;34m\u001b[0m\u001b[0m\n\u001b[0;32m--> 201\u001b[0;31m         \u001b[0mcoerce_dtypes\u001b[0m\u001b[0;34m(\u001b[0m\u001b[0mdf\u001b[0m\u001b[0;34m,\u001b[0m \u001b[0mdtypes\u001b[0m\u001b[0;34m)\u001b[0m\u001b[0;34m\u001b[0m\u001b[0;34m\u001b[0m\u001b[0m\n\u001b[0m\u001b[1;32m    202\u001b[0m \u001b[0;34m\u001b[0m\u001b[0m\n\u001b[1;32m    203\u001b[0m     \u001b[0;32mif\u001b[0m \u001b[0menforce\u001b[0m \u001b[0;32mand\u001b[0m \u001b[0mcolumns\u001b[0m \u001b[0;32mand\u001b[0m \u001b[0;34m(\u001b[0m\u001b[0mlist\u001b[0m\u001b[0;34m(\u001b[0m\u001b[0mdf\u001b[0m\u001b[0;34m.\u001b[0m\u001b[0mcolumns\u001b[0m\u001b[0;34m)\u001b[0m \u001b[0;34m!=\u001b[0m \u001b[0mlist\u001b[0m\u001b[0;34m(\u001b[0m\u001b[0mcolumns\u001b[0m\u001b[0;34m)\u001b[0m\u001b[0;34m)\u001b[0m\u001b[0;34m:\u001b[0m\u001b[0;34m\u001b[0m\u001b[0;34m\u001b[0m\u001b[0m\n",
            "\u001b[0;32m/usr/local/lib/python3.11/dist-packages/dask/dataframe/io/csv.py\u001b[0m in \u001b[0;36mcoerce_dtypes\u001b[0;34m()\u001b[0m\n\u001b[1;32m    300\u001b[0m             \u001b[0mrule\u001b[0m\u001b[0;34m.\u001b[0m\u001b[0mjoin\u001b[0m\u001b[0;34m(\u001b[0m\u001b[0mfilter\u001b[0m\u001b[0;34m(\u001b[0m\u001b[0;32mNone\u001b[0m\u001b[0;34m,\u001b[0m \u001b[0;34m[\u001b[0m\u001b[0mdtype_msg\u001b[0m\u001b[0;34m,\u001b[0m \u001b[0mdate_msg\u001b[0m\u001b[0;34m]\u001b[0m\u001b[0;34m)\u001b[0m\u001b[0;34m)\u001b[0m\u001b[0;34m\u001b[0m\u001b[0;34m\u001b[0m\u001b[0m\n\u001b[1;32m    301\u001b[0m         )\n\u001b[0;32m--> 302\u001b[0;31m         \u001b[0;32mraise\u001b[0m \u001b[0mValueError\u001b[0m\u001b[0;34m(\u001b[0m\u001b[0mmsg\u001b[0m\u001b[0;34m)\u001b[0m\u001b[0;34m\u001b[0m\u001b[0;34m\u001b[0m\u001b[0m\n\u001b[0m\u001b[1;32m    303\u001b[0m \u001b[0;34m\u001b[0m\u001b[0m\n\u001b[1;32m    304\u001b[0m \u001b[0;34m\u001b[0m\u001b[0m\n",
            "\u001b[0;31mValueError\u001b[0m: Mismatched dtypes found in `pd.read_csv`/`pd.read_table`.\n\n+----------------+---------+----------+\n| Column         | Found   | Expected |\n+----------------+---------+----------+\n| CRSElapsedTime | float64 | int64    |\n| TailNum        | object  | float64  |\n+----------------+---------+----------+\n\nThe following columns also raised exceptions on conversion:\n\n- TailNum\n  ValueError(\"could not convert string to float: 'N14342'\")\n\nUsually this is due to dask's dtype inference failing, and\n*may* be fixed by specifying dtypes manually by adding:\n\ndtype={'CRSElapsedTime': 'float64',\n       'TailNum': 'object'}\n\nto the call to `read_csv`/`read_table`."
          ]
        }
      ],
      "source": [
        "# load and count number of rows\n",
        "len(ddf)"
      ]
    },
    {
      "cell_type": "markdown",
      "metadata": {
        "id": "B1fPaUbLb-Su"
      },
      "source": [
        "You can view the start and end of the data as you would in pandas:"
      ]
    },
    {
      "cell_type": "code",
      "execution_count": 12,
      "metadata": {
        "id": "_fKFjiGyb-Su",
        "outputId": "de042093-97a0-4c3a-cf86-5d37df9a11de",
        "colab": {
          "base_uri": "https://localhost:8080/",
          "height": 322
        }
      },
      "outputs": [
        {
          "output_type": "execute_result",
          "data": {
            "text/plain": [
              "        Date  DayOfWeek  DepTime  CRSDepTime  ArrTime  CRSArrTime  \\\n",
              "0 1990-01-01          1   1621.0        1540   1747.0        1701   \n",
              "1 1990-01-02          2   1547.0        1540   1700.0        1701   \n",
              "2 1990-01-03          3   1546.0        1540   1710.0        1701   \n",
              "3 1990-01-04          4   1542.0        1540   1710.0        1701   \n",
              "4 1990-01-05          5   1549.0        1540   1706.0        1701   \n",
              "\n",
              "  UniqueCarrier  FlightNum  TailNum  ActualElapsedTime  ...  AirTime  \\\n",
              "0            US         33      NaN               86.0  ...      NaN   \n",
              "1            US         33      NaN               73.0  ...      NaN   \n",
              "2            US         33      NaN               84.0  ...      NaN   \n",
              "3            US         33      NaN               88.0  ...      NaN   \n",
              "4            US         33      NaN               77.0  ...      NaN   \n",
              "\n",
              "   ArrDelay  DepDelay  Origin Dest Distance  TaxiIn  TaxiOut  Cancelled  \\\n",
              "0      46.0      41.0     EWR  PIT    319.0     NaN      NaN          0   \n",
              "1      -1.0       7.0     EWR  PIT    319.0     NaN      NaN          0   \n",
              "2       9.0       6.0     EWR  PIT    319.0     NaN      NaN          0   \n",
              "3       9.0       2.0     EWR  PIT    319.0     NaN      NaN          0   \n",
              "4       5.0       9.0     EWR  PIT    319.0     NaN      NaN          0   \n",
              "\n",
              "   Diverted  \n",
              "0         0  \n",
              "1         0  \n",
              "2         0  \n",
              "3         0  \n",
              "4         0  \n",
              "\n",
              "[5 rows x 21 columns]"
            ],
            "text/html": [
              "\n",
              "  <div id=\"df-f176dc1e-ff03-4995-89d4-cd80859177d6\" class=\"colab-df-container\">\n",
              "    <div>\n",
              "<style scoped>\n",
              "    .dataframe tbody tr th:only-of-type {\n",
              "        vertical-align: middle;\n",
              "    }\n",
              "\n",
              "    .dataframe tbody tr th {\n",
              "        vertical-align: top;\n",
              "    }\n",
              "\n",
              "    .dataframe thead th {\n",
              "        text-align: right;\n",
              "    }\n",
              "</style>\n",
              "<table border=\"1\" class=\"dataframe\">\n",
              "  <thead>\n",
              "    <tr style=\"text-align: right;\">\n",
              "      <th></th>\n",
              "      <th>Date</th>\n",
              "      <th>DayOfWeek</th>\n",
              "      <th>DepTime</th>\n",
              "      <th>CRSDepTime</th>\n",
              "      <th>ArrTime</th>\n",
              "      <th>CRSArrTime</th>\n",
              "      <th>UniqueCarrier</th>\n",
              "      <th>FlightNum</th>\n",
              "      <th>TailNum</th>\n",
              "      <th>ActualElapsedTime</th>\n",
              "      <th>...</th>\n",
              "      <th>AirTime</th>\n",
              "      <th>ArrDelay</th>\n",
              "      <th>DepDelay</th>\n",
              "      <th>Origin</th>\n",
              "      <th>Dest</th>\n",
              "      <th>Distance</th>\n",
              "      <th>TaxiIn</th>\n",
              "      <th>TaxiOut</th>\n",
              "      <th>Cancelled</th>\n",
              "      <th>Diverted</th>\n",
              "    </tr>\n",
              "  </thead>\n",
              "  <tbody>\n",
              "    <tr>\n",
              "      <th>0</th>\n",
              "      <td>1990-01-01</td>\n",
              "      <td>1</td>\n",
              "      <td>1621.0</td>\n",
              "      <td>1540</td>\n",
              "      <td>1747.0</td>\n",
              "      <td>1701</td>\n",
              "      <td>US</td>\n",
              "      <td>33</td>\n",
              "      <td>NaN</td>\n",
              "      <td>86.0</td>\n",
              "      <td>...</td>\n",
              "      <td>NaN</td>\n",
              "      <td>46.0</td>\n",
              "      <td>41.0</td>\n",
              "      <td>EWR</td>\n",
              "      <td>PIT</td>\n",
              "      <td>319.0</td>\n",
              "      <td>NaN</td>\n",
              "      <td>NaN</td>\n",
              "      <td>0</td>\n",
              "      <td>0</td>\n",
              "    </tr>\n",
              "    <tr>\n",
              "      <th>1</th>\n",
              "      <td>1990-01-02</td>\n",
              "      <td>2</td>\n",
              "      <td>1547.0</td>\n",
              "      <td>1540</td>\n",
              "      <td>1700.0</td>\n",
              "      <td>1701</td>\n",
              "      <td>US</td>\n",
              "      <td>33</td>\n",
              "      <td>NaN</td>\n",
              "      <td>73.0</td>\n",
              "      <td>...</td>\n",
              "      <td>NaN</td>\n",
              "      <td>-1.0</td>\n",
              "      <td>7.0</td>\n",
              "      <td>EWR</td>\n",
              "      <td>PIT</td>\n",
              "      <td>319.0</td>\n",
              "      <td>NaN</td>\n",
              "      <td>NaN</td>\n",
              "      <td>0</td>\n",
              "      <td>0</td>\n",
              "    </tr>\n",
              "    <tr>\n",
              "      <th>2</th>\n",
              "      <td>1990-01-03</td>\n",
              "      <td>3</td>\n",
              "      <td>1546.0</td>\n",
              "      <td>1540</td>\n",
              "      <td>1710.0</td>\n",
              "      <td>1701</td>\n",
              "      <td>US</td>\n",
              "      <td>33</td>\n",
              "      <td>NaN</td>\n",
              "      <td>84.0</td>\n",
              "      <td>...</td>\n",
              "      <td>NaN</td>\n",
              "      <td>9.0</td>\n",
              "      <td>6.0</td>\n",
              "      <td>EWR</td>\n",
              "      <td>PIT</td>\n",
              "      <td>319.0</td>\n",
              "      <td>NaN</td>\n",
              "      <td>NaN</td>\n",
              "      <td>0</td>\n",
              "      <td>0</td>\n",
              "    </tr>\n",
              "    <tr>\n",
              "      <th>3</th>\n",
              "      <td>1990-01-04</td>\n",
              "      <td>4</td>\n",
              "      <td>1542.0</td>\n",
              "      <td>1540</td>\n",
              "      <td>1710.0</td>\n",
              "      <td>1701</td>\n",
              "      <td>US</td>\n",
              "      <td>33</td>\n",
              "      <td>NaN</td>\n",
              "      <td>88.0</td>\n",
              "      <td>...</td>\n",
              "      <td>NaN</td>\n",
              "      <td>9.0</td>\n",
              "      <td>2.0</td>\n",
              "      <td>EWR</td>\n",
              "      <td>PIT</td>\n",
              "      <td>319.0</td>\n",
              "      <td>NaN</td>\n",
              "      <td>NaN</td>\n",
              "      <td>0</td>\n",
              "      <td>0</td>\n",
              "    </tr>\n",
              "    <tr>\n",
              "      <th>4</th>\n",
              "      <td>1990-01-05</td>\n",
              "      <td>5</td>\n",
              "      <td>1549.0</td>\n",
              "      <td>1540</td>\n",
              "      <td>1706.0</td>\n",
              "      <td>1701</td>\n",
              "      <td>US</td>\n",
              "      <td>33</td>\n",
              "      <td>NaN</td>\n",
              "      <td>77.0</td>\n",
              "      <td>...</td>\n",
              "      <td>NaN</td>\n",
              "      <td>5.0</td>\n",
              "      <td>9.0</td>\n",
              "      <td>EWR</td>\n",
              "      <td>PIT</td>\n",
              "      <td>319.0</td>\n",
              "      <td>NaN</td>\n",
              "      <td>NaN</td>\n",
              "      <td>0</td>\n",
              "      <td>0</td>\n",
              "    </tr>\n",
              "  </tbody>\n",
              "</table>\n",
              "<p>5 rows × 21 columns</p>\n",
              "</div>\n",
              "    <div class=\"colab-df-buttons\">\n",
              "\n",
              "  <div class=\"colab-df-container\">\n",
              "    <button class=\"colab-df-convert\" onclick=\"convertToInteractive('df-f176dc1e-ff03-4995-89d4-cd80859177d6')\"\n",
              "            title=\"Convert this dataframe to an interactive table.\"\n",
              "            style=\"display:none;\">\n",
              "\n",
              "  <svg xmlns=\"http://www.w3.org/2000/svg\" height=\"24px\" viewBox=\"0 -960 960 960\">\n",
              "    <path d=\"M120-120v-720h720v720H120Zm60-500h600v-160H180v160Zm220 220h160v-160H400v160Zm0 220h160v-160H400v160ZM180-400h160v-160H180v160Zm440 0h160v-160H620v160ZM180-180h160v-160H180v160Zm440 0h160v-160H620v160Z\"/>\n",
              "  </svg>\n",
              "    </button>\n",
              "\n",
              "  <style>\n",
              "    .colab-df-container {\n",
              "      display:flex;\n",
              "      gap: 12px;\n",
              "    }\n",
              "\n",
              "    .colab-df-convert {\n",
              "      background-color: #E8F0FE;\n",
              "      border: none;\n",
              "      border-radius: 50%;\n",
              "      cursor: pointer;\n",
              "      display: none;\n",
              "      fill: #1967D2;\n",
              "      height: 32px;\n",
              "      padding: 0 0 0 0;\n",
              "      width: 32px;\n",
              "    }\n",
              "\n",
              "    .colab-df-convert:hover {\n",
              "      background-color: #E2EBFA;\n",
              "      box-shadow: 0px 1px 2px rgba(60, 64, 67, 0.3), 0px 1px 3px 1px rgba(60, 64, 67, 0.15);\n",
              "      fill: #174EA6;\n",
              "    }\n",
              "\n",
              "    .colab-df-buttons div {\n",
              "      margin-bottom: 4px;\n",
              "    }\n",
              "\n",
              "    [theme=dark] .colab-df-convert {\n",
              "      background-color: #3B4455;\n",
              "      fill: #D2E3FC;\n",
              "    }\n",
              "\n",
              "    [theme=dark] .colab-df-convert:hover {\n",
              "      background-color: #434B5C;\n",
              "      box-shadow: 0px 1px 3px 1px rgba(0, 0, 0, 0.15);\n",
              "      filter: drop-shadow(0px 1px 2px rgba(0, 0, 0, 0.3));\n",
              "      fill: #FFFFFF;\n",
              "    }\n",
              "  </style>\n",
              "\n",
              "    <script>\n",
              "      const buttonEl =\n",
              "        document.querySelector('#df-f176dc1e-ff03-4995-89d4-cd80859177d6 button.colab-df-convert');\n",
              "      buttonEl.style.display =\n",
              "        google.colab.kernel.accessAllowed ? 'block' : 'none';\n",
              "\n",
              "      async function convertToInteractive(key) {\n",
              "        const element = document.querySelector('#df-f176dc1e-ff03-4995-89d4-cd80859177d6');\n",
              "        const dataTable =\n",
              "          await google.colab.kernel.invokeFunction('convertToInteractive',\n",
              "                                                    [key], {});\n",
              "        if (!dataTable) return;\n",
              "\n",
              "        const docLinkHtml = 'Like what you see? Visit the ' +\n",
              "          '<a target=\"_blank\" href=https://colab.research.google.com/notebooks/data_table.ipynb>data table notebook</a>'\n",
              "          + ' to learn more about interactive tables.';\n",
              "        element.innerHTML = '';\n",
              "        dataTable['output_type'] = 'display_data';\n",
              "        await google.colab.output.renderOutput(dataTable, element);\n",
              "        const docLink = document.createElement('div');\n",
              "        docLink.innerHTML = docLinkHtml;\n",
              "        element.appendChild(docLink);\n",
              "      }\n",
              "    </script>\n",
              "  </div>\n",
              "\n",
              "\n",
              "    <div id=\"df-a6f94d06-ab1a-4db0-b9a4-bc9a57c23ca5\">\n",
              "      <button class=\"colab-df-quickchart\" onclick=\"quickchart('df-a6f94d06-ab1a-4db0-b9a4-bc9a57c23ca5')\"\n",
              "                title=\"Suggest charts\"\n",
              "                style=\"display:none;\">\n",
              "\n",
              "<svg xmlns=\"http://www.w3.org/2000/svg\" height=\"24px\"viewBox=\"0 0 24 24\"\n",
              "     width=\"24px\">\n",
              "    <g>\n",
              "        <path d=\"M19 3H5c-1.1 0-2 .9-2 2v14c0 1.1.9 2 2 2h14c1.1 0 2-.9 2-2V5c0-1.1-.9-2-2-2zM9 17H7v-7h2v7zm4 0h-2V7h2v10zm4 0h-2v-4h2v4z\"/>\n",
              "    </g>\n",
              "</svg>\n",
              "      </button>\n",
              "\n",
              "<style>\n",
              "  .colab-df-quickchart {\n",
              "      --bg-color: #E8F0FE;\n",
              "      --fill-color: #1967D2;\n",
              "      --hover-bg-color: #E2EBFA;\n",
              "      --hover-fill-color: #174EA6;\n",
              "      --disabled-fill-color: #AAA;\n",
              "      --disabled-bg-color: #DDD;\n",
              "  }\n",
              "\n",
              "  [theme=dark] .colab-df-quickchart {\n",
              "      --bg-color: #3B4455;\n",
              "      --fill-color: #D2E3FC;\n",
              "      --hover-bg-color: #434B5C;\n",
              "      --hover-fill-color: #FFFFFF;\n",
              "      --disabled-bg-color: #3B4455;\n",
              "      --disabled-fill-color: #666;\n",
              "  }\n",
              "\n",
              "  .colab-df-quickchart {\n",
              "    background-color: var(--bg-color);\n",
              "    border: none;\n",
              "    border-radius: 50%;\n",
              "    cursor: pointer;\n",
              "    display: none;\n",
              "    fill: var(--fill-color);\n",
              "    height: 32px;\n",
              "    padding: 0;\n",
              "    width: 32px;\n",
              "  }\n",
              "\n",
              "  .colab-df-quickchart:hover {\n",
              "    background-color: var(--hover-bg-color);\n",
              "    box-shadow: 0 1px 2px rgba(60, 64, 67, 0.3), 0 1px 3px 1px rgba(60, 64, 67, 0.15);\n",
              "    fill: var(--button-hover-fill-color);\n",
              "  }\n",
              "\n",
              "  .colab-df-quickchart-complete:disabled,\n",
              "  .colab-df-quickchart-complete:disabled:hover {\n",
              "    background-color: var(--disabled-bg-color);\n",
              "    fill: var(--disabled-fill-color);\n",
              "    box-shadow: none;\n",
              "  }\n",
              "\n",
              "  .colab-df-spinner {\n",
              "    border: 2px solid var(--fill-color);\n",
              "    border-color: transparent;\n",
              "    border-bottom-color: var(--fill-color);\n",
              "    animation:\n",
              "      spin 1s steps(1) infinite;\n",
              "  }\n",
              "\n",
              "  @keyframes spin {\n",
              "    0% {\n",
              "      border-color: transparent;\n",
              "      border-bottom-color: var(--fill-color);\n",
              "      border-left-color: var(--fill-color);\n",
              "    }\n",
              "    20% {\n",
              "      border-color: transparent;\n",
              "      border-left-color: var(--fill-color);\n",
              "      border-top-color: var(--fill-color);\n",
              "    }\n",
              "    30% {\n",
              "      border-color: transparent;\n",
              "      border-left-color: var(--fill-color);\n",
              "      border-top-color: var(--fill-color);\n",
              "      border-right-color: var(--fill-color);\n",
              "    }\n",
              "    40% {\n",
              "      border-color: transparent;\n",
              "      border-right-color: var(--fill-color);\n",
              "      border-top-color: var(--fill-color);\n",
              "    }\n",
              "    60% {\n",
              "      border-color: transparent;\n",
              "      border-right-color: var(--fill-color);\n",
              "    }\n",
              "    80% {\n",
              "      border-color: transparent;\n",
              "      border-right-color: var(--fill-color);\n",
              "      border-bottom-color: var(--fill-color);\n",
              "    }\n",
              "    90% {\n",
              "      border-color: transparent;\n",
              "      border-bottom-color: var(--fill-color);\n",
              "    }\n",
              "  }\n",
              "</style>\n",
              "\n",
              "      <script>\n",
              "        async function quickchart(key) {\n",
              "          const quickchartButtonEl =\n",
              "            document.querySelector('#' + key + ' button');\n",
              "          quickchartButtonEl.disabled = true;  // To prevent multiple clicks.\n",
              "          quickchartButtonEl.classList.add('colab-df-spinner');\n",
              "          try {\n",
              "            const charts = await google.colab.kernel.invokeFunction(\n",
              "                'suggestCharts', [key], {});\n",
              "          } catch (error) {\n",
              "            console.error('Error during call to suggestCharts:', error);\n",
              "          }\n",
              "          quickchartButtonEl.classList.remove('colab-df-spinner');\n",
              "          quickchartButtonEl.classList.add('colab-df-quickchart-complete');\n",
              "        }\n",
              "        (() => {\n",
              "          let quickchartButtonEl =\n",
              "            document.querySelector('#df-a6f94d06-ab1a-4db0-b9a4-bc9a57c23ca5 button');\n",
              "          quickchartButtonEl.style.display =\n",
              "            google.colab.kernel.accessAllowed ? 'block' : 'none';\n",
              "        })();\n",
              "      </script>\n",
              "    </div>\n",
              "\n",
              "    </div>\n",
              "  </div>\n"
            ],
            "application/vnd.google.colaboratory.intrinsic+json": {
              "type": "dataframe"
            }
          },
          "metadata": {},
          "execution_count": 12
        }
      ],
      "source": [
        "ddf.head()"
      ]
    },
    {
      "cell_type": "markdown",
      "metadata": {
        "tags": [
          "raises-exception"
        ],
        "id": "IdoYYg4bb-Su"
      },
      "source": [
        "```python\n",
        "ddf.tail()\n",
        "\n",
        "# ValueError: Mismatched dtypes found in `pd.read_csv`/`pd.read_table`.\n",
        "\n",
        "# +----------------+---------+----------+\n",
        "# | Column         | Found   | Expected |\n",
        "# +----------------+---------+----------+\n",
        "# | CRSElapsedTime | float64 | int64    |\n",
        "# | TailNum        | object  | float64  |\n",
        "# +----------------+---------+----------+\n",
        "\n",
        "# The following columns also raised exceptions on conversion:\n",
        "\n",
        "# - TailNum\n",
        "#   ValueError(\"could not convert string to float: 'N54711'\")\n",
        "\n",
        "# Usually this is due to dask's dtype inference failing, and\n",
        "# *may* be fixed by specifying dtypes manually by adding:\n",
        "\n",
        "# dtype={'CRSElapsedTime': 'float64',\n",
        "#        'TailNum': 'object'}\n",
        "\n",
        "# to the call to `read_csv`/`read_table`.\n",
        "\n",
        "```"
      ]
    },
    {
      "cell_type": "markdown",
      "metadata": {
        "id": "vCVL6N1wb-Sv"
      },
      "source": [
        "Unlike `pandas.read_csv` which reads in the entire file before inferring datatypes, `dask.dataframe.read_csv` only reads in a sample from the beginning of the file (or first file if using a glob). These inferred datatypes are then enforced when reading all partitions.\n",
        "\n",
        "In this case, the datatypes inferred in the sample are incorrect. The first `n` rows have no value for `CRSElapsedTime` (which pandas infers as a `float`), and later on turn out to be strings (`object` dtype). Note that Dask gives an informative error message about the mismatch. When this happens you have a few options:\n",
        "\n",
        "- Specify dtypes directly using the `dtype` keyword. This is the recommended solution, as it's the least error prone (better to be explicit than implicit) and also the most performant.\n",
        "- Increase the size of the `sample` keyword (in bytes)\n",
        "- Use `assume_missing` to make `dask` assume that columns inferred to be `int` (which don't allow missing values) are actually `floats` (which do allow missing values). In our particular case this doesn't apply.\n",
        "\n",
        "In our case we'll use the first option and directly specify the `dtypes` of the offending columns."
      ]
    },
    {
      "cell_type": "code",
      "execution_count": 13,
      "metadata": {
        "id": "RdicBTTAb-Sv",
        "outputId": "3f636176-70f3-444d-c3f9-6d22c61e6b6d",
        "colab": {
          "base_uri": "https://localhost:8080/"
        }
      },
      "outputs": [
        {
          "output_type": "stream",
          "name": "stderr",
          "text": [
            "/usr/local/lib/python3.11/dist-packages/dask/dataframe/io/csv.py:740: FutureWarning: Support for nested sequences for 'parse_dates' in pd.read_csv is deprecated. Combine the desired columns with pd.to_datetime after parsing instead.\n",
            "  head = reader(BytesIO(b_sample), nrows=sample_rows, **head_kwargs)\n"
          ]
        }
      ],
      "source": [
        "ddf = dd.read_csv(\n",
        "    os.path.join(\"data\", \"nycflights\", \"*.csv\"),\n",
        "    parse_dates={\"Date\": [0, 1, 2]},\n",
        "    dtype={\"TailNum\": str, \"CRSElapsedTime\": float, \"Cancelled\": bool},\n",
        ")"
      ]
    },
    {
      "cell_type": "code",
      "execution_count": 14,
      "metadata": {
        "id": "iOEuL1DPb-Sv",
        "outputId": "92191634-b53c-4a06-9f04-0258791ae364",
        "colab": {
          "base_uri": "https://localhost:8080/",
          "height": 342
        }
      },
      "outputs": [
        {
          "output_type": "execute_result",
          "data": {
            "text/plain": [
              "             Date  DayOfWeek  DepTime  CRSDepTime  ArrTime  CRSArrTime  \\\n",
              "269176 1999-12-27          1   1645.0        1645   1830.0        1901   \n",
              "269177 1999-12-28          2   1726.0        1645   1928.0        1901   \n",
              "269178 1999-12-29          3   1646.0        1645   1846.0        1901   \n",
              "269179 1999-12-30          4   1651.0        1645   1908.0        1901   \n",
              "269180 1999-12-31          5   1642.0        1645   1851.0        1901   \n",
              "\n",
              "       UniqueCarrier  FlightNum TailNum  ActualElapsedTime  ...  AirTime  \\\n",
              "269176            UA       1753  N516UA              225.0  ...    205.0   \n",
              "269177            UA       1753  N504UA              242.0  ...    214.0   \n",
              "269178            UA       1753  N592UA              240.0  ...    220.0   \n",
              "269179            UA       1753  N575UA              257.0  ...    233.0   \n",
              "269180            UA       1753  N539UA              249.0  ...    232.0   \n",
              "\n",
              "        ArrDelay  DepDelay  Origin Dest Distance  TaxiIn  TaxiOut  Cancelled  \\\n",
              "269176     -31.0       0.0     LGA  DEN   1619.0     7.0     13.0      False   \n",
              "269177      27.0      41.0     LGA  DEN   1619.0     5.0     23.0      False   \n",
              "269178     -15.0       1.0     LGA  DEN   1619.0     5.0     15.0      False   \n",
              "269179       7.0       6.0     LGA  DEN   1619.0     5.0     19.0      False   \n",
              "269180     -10.0      -3.0     LGA  DEN   1619.0     6.0     11.0      False   \n",
              "\n",
              "        Diverted  \n",
              "269176         0  \n",
              "269177         0  \n",
              "269178         0  \n",
              "269179         0  \n",
              "269180         0  \n",
              "\n",
              "[5 rows x 21 columns]"
            ],
            "text/html": [
              "\n",
              "  <div id=\"df-7fc52304-15c5-4a66-a866-9596b4b9a46d\" class=\"colab-df-container\">\n",
              "    <div>\n",
              "<style scoped>\n",
              "    .dataframe tbody tr th:only-of-type {\n",
              "        vertical-align: middle;\n",
              "    }\n",
              "\n",
              "    .dataframe tbody tr th {\n",
              "        vertical-align: top;\n",
              "    }\n",
              "\n",
              "    .dataframe thead th {\n",
              "        text-align: right;\n",
              "    }\n",
              "</style>\n",
              "<table border=\"1\" class=\"dataframe\">\n",
              "  <thead>\n",
              "    <tr style=\"text-align: right;\">\n",
              "      <th></th>\n",
              "      <th>Date</th>\n",
              "      <th>DayOfWeek</th>\n",
              "      <th>DepTime</th>\n",
              "      <th>CRSDepTime</th>\n",
              "      <th>ArrTime</th>\n",
              "      <th>CRSArrTime</th>\n",
              "      <th>UniqueCarrier</th>\n",
              "      <th>FlightNum</th>\n",
              "      <th>TailNum</th>\n",
              "      <th>ActualElapsedTime</th>\n",
              "      <th>...</th>\n",
              "      <th>AirTime</th>\n",
              "      <th>ArrDelay</th>\n",
              "      <th>DepDelay</th>\n",
              "      <th>Origin</th>\n",
              "      <th>Dest</th>\n",
              "      <th>Distance</th>\n",
              "      <th>TaxiIn</th>\n",
              "      <th>TaxiOut</th>\n",
              "      <th>Cancelled</th>\n",
              "      <th>Diverted</th>\n",
              "    </tr>\n",
              "  </thead>\n",
              "  <tbody>\n",
              "    <tr>\n",
              "      <th>269176</th>\n",
              "      <td>1999-12-27</td>\n",
              "      <td>1</td>\n",
              "      <td>1645.0</td>\n",
              "      <td>1645</td>\n",
              "      <td>1830.0</td>\n",
              "      <td>1901</td>\n",
              "      <td>UA</td>\n",
              "      <td>1753</td>\n",
              "      <td>N516UA</td>\n",
              "      <td>225.0</td>\n",
              "      <td>...</td>\n",
              "      <td>205.0</td>\n",
              "      <td>-31.0</td>\n",
              "      <td>0.0</td>\n",
              "      <td>LGA</td>\n",
              "      <td>DEN</td>\n",
              "      <td>1619.0</td>\n",
              "      <td>7.0</td>\n",
              "      <td>13.0</td>\n",
              "      <td>False</td>\n",
              "      <td>0</td>\n",
              "    </tr>\n",
              "    <tr>\n",
              "      <th>269177</th>\n",
              "      <td>1999-12-28</td>\n",
              "      <td>2</td>\n",
              "      <td>1726.0</td>\n",
              "      <td>1645</td>\n",
              "      <td>1928.0</td>\n",
              "      <td>1901</td>\n",
              "      <td>UA</td>\n",
              "      <td>1753</td>\n",
              "      <td>N504UA</td>\n",
              "      <td>242.0</td>\n",
              "      <td>...</td>\n",
              "      <td>214.0</td>\n",
              "      <td>27.0</td>\n",
              "      <td>41.0</td>\n",
              "      <td>LGA</td>\n",
              "      <td>DEN</td>\n",
              "      <td>1619.0</td>\n",
              "      <td>5.0</td>\n",
              "      <td>23.0</td>\n",
              "      <td>False</td>\n",
              "      <td>0</td>\n",
              "    </tr>\n",
              "    <tr>\n",
              "      <th>269178</th>\n",
              "      <td>1999-12-29</td>\n",
              "      <td>3</td>\n",
              "      <td>1646.0</td>\n",
              "      <td>1645</td>\n",
              "      <td>1846.0</td>\n",
              "      <td>1901</td>\n",
              "      <td>UA</td>\n",
              "      <td>1753</td>\n",
              "      <td>N592UA</td>\n",
              "      <td>240.0</td>\n",
              "      <td>...</td>\n",
              "      <td>220.0</td>\n",
              "      <td>-15.0</td>\n",
              "      <td>1.0</td>\n",
              "      <td>LGA</td>\n",
              "      <td>DEN</td>\n",
              "      <td>1619.0</td>\n",
              "      <td>5.0</td>\n",
              "      <td>15.0</td>\n",
              "      <td>False</td>\n",
              "      <td>0</td>\n",
              "    </tr>\n",
              "    <tr>\n",
              "      <th>269179</th>\n",
              "      <td>1999-12-30</td>\n",
              "      <td>4</td>\n",
              "      <td>1651.0</td>\n",
              "      <td>1645</td>\n",
              "      <td>1908.0</td>\n",
              "      <td>1901</td>\n",
              "      <td>UA</td>\n",
              "      <td>1753</td>\n",
              "      <td>N575UA</td>\n",
              "      <td>257.0</td>\n",
              "      <td>...</td>\n",
              "      <td>233.0</td>\n",
              "      <td>7.0</td>\n",
              "      <td>6.0</td>\n",
              "      <td>LGA</td>\n",
              "      <td>DEN</td>\n",
              "      <td>1619.0</td>\n",
              "      <td>5.0</td>\n",
              "      <td>19.0</td>\n",
              "      <td>False</td>\n",
              "      <td>0</td>\n",
              "    </tr>\n",
              "    <tr>\n",
              "      <th>269180</th>\n",
              "      <td>1999-12-31</td>\n",
              "      <td>5</td>\n",
              "      <td>1642.0</td>\n",
              "      <td>1645</td>\n",
              "      <td>1851.0</td>\n",
              "      <td>1901</td>\n",
              "      <td>UA</td>\n",
              "      <td>1753</td>\n",
              "      <td>N539UA</td>\n",
              "      <td>249.0</td>\n",
              "      <td>...</td>\n",
              "      <td>232.0</td>\n",
              "      <td>-10.0</td>\n",
              "      <td>-3.0</td>\n",
              "      <td>LGA</td>\n",
              "      <td>DEN</td>\n",
              "      <td>1619.0</td>\n",
              "      <td>6.0</td>\n",
              "      <td>11.0</td>\n",
              "      <td>False</td>\n",
              "      <td>0</td>\n",
              "    </tr>\n",
              "  </tbody>\n",
              "</table>\n",
              "<p>5 rows × 21 columns</p>\n",
              "</div>\n",
              "    <div class=\"colab-df-buttons\">\n",
              "\n",
              "  <div class=\"colab-df-container\">\n",
              "    <button class=\"colab-df-convert\" onclick=\"convertToInteractive('df-7fc52304-15c5-4a66-a866-9596b4b9a46d')\"\n",
              "            title=\"Convert this dataframe to an interactive table.\"\n",
              "            style=\"display:none;\">\n",
              "\n",
              "  <svg xmlns=\"http://www.w3.org/2000/svg\" height=\"24px\" viewBox=\"0 -960 960 960\">\n",
              "    <path d=\"M120-120v-720h720v720H120Zm60-500h600v-160H180v160Zm220 220h160v-160H400v160Zm0 220h160v-160H400v160ZM180-400h160v-160H180v160Zm440 0h160v-160H620v160ZM180-180h160v-160H180v160Zm440 0h160v-160H620v160Z\"/>\n",
              "  </svg>\n",
              "    </button>\n",
              "\n",
              "  <style>\n",
              "    .colab-df-container {\n",
              "      display:flex;\n",
              "      gap: 12px;\n",
              "    }\n",
              "\n",
              "    .colab-df-convert {\n",
              "      background-color: #E8F0FE;\n",
              "      border: none;\n",
              "      border-radius: 50%;\n",
              "      cursor: pointer;\n",
              "      display: none;\n",
              "      fill: #1967D2;\n",
              "      height: 32px;\n",
              "      padding: 0 0 0 0;\n",
              "      width: 32px;\n",
              "    }\n",
              "\n",
              "    .colab-df-convert:hover {\n",
              "      background-color: #E2EBFA;\n",
              "      box-shadow: 0px 1px 2px rgba(60, 64, 67, 0.3), 0px 1px 3px 1px rgba(60, 64, 67, 0.15);\n",
              "      fill: #174EA6;\n",
              "    }\n",
              "\n",
              "    .colab-df-buttons div {\n",
              "      margin-bottom: 4px;\n",
              "    }\n",
              "\n",
              "    [theme=dark] .colab-df-convert {\n",
              "      background-color: #3B4455;\n",
              "      fill: #D2E3FC;\n",
              "    }\n",
              "\n",
              "    [theme=dark] .colab-df-convert:hover {\n",
              "      background-color: #434B5C;\n",
              "      box-shadow: 0px 1px 3px 1px rgba(0, 0, 0, 0.15);\n",
              "      filter: drop-shadow(0px 1px 2px rgba(0, 0, 0, 0.3));\n",
              "      fill: #FFFFFF;\n",
              "    }\n",
              "  </style>\n",
              "\n",
              "    <script>\n",
              "      const buttonEl =\n",
              "        document.querySelector('#df-7fc52304-15c5-4a66-a866-9596b4b9a46d button.colab-df-convert');\n",
              "      buttonEl.style.display =\n",
              "        google.colab.kernel.accessAllowed ? 'block' : 'none';\n",
              "\n",
              "      async function convertToInteractive(key) {\n",
              "        const element = document.querySelector('#df-7fc52304-15c5-4a66-a866-9596b4b9a46d');\n",
              "        const dataTable =\n",
              "          await google.colab.kernel.invokeFunction('convertToInteractive',\n",
              "                                                    [key], {});\n",
              "        if (!dataTable) return;\n",
              "\n",
              "        const docLinkHtml = 'Like what you see? Visit the ' +\n",
              "          '<a target=\"_blank\" href=https://colab.research.google.com/notebooks/data_table.ipynb>data table notebook</a>'\n",
              "          + ' to learn more about interactive tables.';\n",
              "        element.innerHTML = '';\n",
              "        dataTable['output_type'] = 'display_data';\n",
              "        await google.colab.output.renderOutput(dataTable, element);\n",
              "        const docLink = document.createElement('div');\n",
              "        docLink.innerHTML = docLinkHtml;\n",
              "        element.appendChild(docLink);\n",
              "      }\n",
              "    </script>\n",
              "  </div>\n",
              "\n",
              "\n",
              "    <div id=\"df-7c7fcc60-b15a-4ed8-a36d-d798065b6be3\">\n",
              "      <button class=\"colab-df-quickchart\" onclick=\"quickchart('df-7c7fcc60-b15a-4ed8-a36d-d798065b6be3')\"\n",
              "                title=\"Suggest charts\"\n",
              "                style=\"display:none;\">\n",
              "\n",
              "<svg xmlns=\"http://www.w3.org/2000/svg\" height=\"24px\"viewBox=\"0 0 24 24\"\n",
              "     width=\"24px\">\n",
              "    <g>\n",
              "        <path d=\"M19 3H5c-1.1 0-2 .9-2 2v14c0 1.1.9 2 2 2h14c1.1 0 2-.9 2-2V5c0-1.1-.9-2-2-2zM9 17H7v-7h2v7zm4 0h-2V7h2v10zm4 0h-2v-4h2v4z\"/>\n",
              "    </g>\n",
              "</svg>\n",
              "      </button>\n",
              "\n",
              "<style>\n",
              "  .colab-df-quickchart {\n",
              "      --bg-color: #E8F0FE;\n",
              "      --fill-color: #1967D2;\n",
              "      --hover-bg-color: #E2EBFA;\n",
              "      --hover-fill-color: #174EA6;\n",
              "      --disabled-fill-color: #AAA;\n",
              "      --disabled-bg-color: #DDD;\n",
              "  }\n",
              "\n",
              "  [theme=dark] .colab-df-quickchart {\n",
              "      --bg-color: #3B4455;\n",
              "      --fill-color: #D2E3FC;\n",
              "      --hover-bg-color: #434B5C;\n",
              "      --hover-fill-color: #FFFFFF;\n",
              "      --disabled-bg-color: #3B4455;\n",
              "      --disabled-fill-color: #666;\n",
              "  }\n",
              "\n",
              "  .colab-df-quickchart {\n",
              "    background-color: var(--bg-color);\n",
              "    border: none;\n",
              "    border-radius: 50%;\n",
              "    cursor: pointer;\n",
              "    display: none;\n",
              "    fill: var(--fill-color);\n",
              "    height: 32px;\n",
              "    padding: 0;\n",
              "    width: 32px;\n",
              "  }\n",
              "\n",
              "  .colab-df-quickchart:hover {\n",
              "    background-color: var(--hover-bg-color);\n",
              "    box-shadow: 0 1px 2px rgba(60, 64, 67, 0.3), 0 1px 3px 1px rgba(60, 64, 67, 0.15);\n",
              "    fill: var(--button-hover-fill-color);\n",
              "  }\n",
              "\n",
              "  .colab-df-quickchart-complete:disabled,\n",
              "  .colab-df-quickchart-complete:disabled:hover {\n",
              "    background-color: var(--disabled-bg-color);\n",
              "    fill: var(--disabled-fill-color);\n",
              "    box-shadow: none;\n",
              "  }\n",
              "\n",
              "  .colab-df-spinner {\n",
              "    border: 2px solid var(--fill-color);\n",
              "    border-color: transparent;\n",
              "    border-bottom-color: var(--fill-color);\n",
              "    animation:\n",
              "      spin 1s steps(1) infinite;\n",
              "  }\n",
              "\n",
              "  @keyframes spin {\n",
              "    0% {\n",
              "      border-color: transparent;\n",
              "      border-bottom-color: var(--fill-color);\n",
              "      border-left-color: var(--fill-color);\n",
              "    }\n",
              "    20% {\n",
              "      border-color: transparent;\n",
              "      border-left-color: var(--fill-color);\n",
              "      border-top-color: var(--fill-color);\n",
              "    }\n",
              "    30% {\n",
              "      border-color: transparent;\n",
              "      border-left-color: var(--fill-color);\n",
              "      border-top-color: var(--fill-color);\n",
              "      border-right-color: var(--fill-color);\n",
              "    }\n",
              "    40% {\n",
              "      border-color: transparent;\n",
              "      border-right-color: var(--fill-color);\n",
              "      border-top-color: var(--fill-color);\n",
              "    }\n",
              "    60% {\n",
              "      border-color: transparent;\n",
              "      border-right-color: var(--fill-color);\n",
              "    }\n",
              "    80% {\n",
              "      border-color: transparent;\n",
              "      border-right-color: var(--fill-color);\n",
              "      border-bottom-color: var(--fill-color);\n",
              "    }\n",
              "    90% {\n",
              "      border-color: transparent;\n",
              "      border-bottom-color: var(--fill-color);\n",
              "    }\n",
              "  }\n",
              "</style>\n",
              "\n",
              "      <script>\n",
              "        async function quickchart(key) {\n",
              "          const quickchartButtonEl =\n",
              "            document.querySelector('#' + key + ' button');\n",
              "          quickchartButtonEl.disabled = true;  // To prevent multiple clicks.\n",
              "          quickchartButtonEl.classList.add('colab-df-spinner');\n",
              "          try {\n",
              "            const charts = await google.colab.kernel.invokeFunction(\n",
              "                'suggestCharts', [key], {});\n",
              "          } catch (error) {\n",
              "            console.error('Error during call to suggestCharts:', error);\n",
              "          }\n",
              "          quickchartButtonEl.classList.remove('colab-df-spinner');\n",
              "          quickchartButtonEl.classList.add('colab-df-quickchart-complete');\n",
              "        }\n",
              "        (() => {\n",
              "          let quickchartButtonEl =\n",
              "            document.querySelector('#df-7c7fcc60-b15a-4ed8-a36d-d798065b6be3 button');\n",
              "          quickchartButtonEl.style.display =\n",
              "            google.colab.kernel.accessAllowed ? 'block' : 'none';\n",
              "        })();\n",
              "      </script>\n",
              "    </div>\n",
              "\n",
              "    </div>\n",
              "  </div>\n"
            ],
            "application/vnd.google.colaboratory.intrinsic+json": {
              "type": "dataframe"
            }
          },
          "metadata": {},
          "execution_count": 14
        }
      ],
      "source": [
        "ddf.tail()  # now works"
      ]
    },
    {
      "cell_type": "markdown",
      "metadata": {
        "id": "a80p8YBwb-Sv"
      },
      "source": [
        "### Reading from remote storage\n",
        "\n",
        "If you're thinking about distributed computing, your data is probably stored remotely on services (like Amazon's S3 or Google's cloud storage) and is in a friendlier format (like Parquet). Dask can read data in various formats directly from these remote locations **lazily** and **in parallel**.\n",
        "\n",
        "Here's how you can read the NYC taxi cab data from Amazon S3:\n",
        "\n",
        "```python\n",
        "ddf = dd.read_parquet(\n",
        "    \"s3://nyc-tlc/trip data/yellow_tripdata_2012-*.parquet\",\n",
        ")\n",
        "```\n",
        "\n",
        "You can also leverage Parquet-specific optimizations like column selection and metadata handling, learn more in [the Dask documentation on working with Parquet files](https://docs.dask.org/en/stable/dataframe-parquet.html)."
      ]
    },
    {
      "cell_type": "markdown",
      "metadata": {
        "tags": [],
        "id": "CtP8gHc-b-Sv"
      },
      "source": [
        "## Computations with `dask.dataframe`\n",
        "\n",
        "Let's compute the maximum of the flight delay.\n",
        "\n",
        "With just pandas, we would loop over each file to find the individual maximums, then find the final maximum over all the individual maximums.\n",
        "\n",
        "```python\n",
        "import pandas as pd\n",
        "\n",
        "files = os.listdir(os.path.join('data', 'nycflights'))\n",
        "\n",
        "maxes = []\n",
        "\n",
        "for file in files:\n",
        "    df = pd.read_csv(os.path.join('data', 'nycflights', file))\n",
        "    maxes.append(df.DepDelay.max())\n",
        "    \n",
        "final_max = max(maxes)\n",
        "```\n",
        "\n",
        "`dask.dataframe` lets us write pandas-like code, that operates on larger-than-memory datasets in parallel."
      ]
    },
    {
      "cell_type": "code",
      "execution_count": 15,
      "metadata": {
        "id": "nMR18k93b-Sv",
        "outputId": "373b09c7-f55d-4809-811a-c4c47c8e6723",
        "colab": {
          "base_uri": "https://localhost:8080/"
        }
      },
      "outputs": [
        {
          "output_type": "stream",
          "name": "stdout",
          "text": [
            "CPU times: user 3.11 s, sys: 405 ms, total: 3.52 s\n",
            "Wall time: 27 s\n"
          ]
        },
        {
          "output_type": "execute_result",
          "data": {
            "text/plain": [
              "1435.0"
            ]
          },
          "metadata": {},
          "execution_count": 15
        }
      ],
      "source": [
        "%%time\n",
        "result = ddf.DepDelay.max()\n",
        "result.compute()"
      ]
    },
    {
      "cell_type": "markdown",
      "metadata": {
        "id": "9jjr5El4b-Sw"
      },
      "source": [
        "This creates the lazy computation for us and then runs it.  "
      ]
    },
    {
      "cell_type": "markdown",
      "metadata": {
        "id": "FRSl2_NLb-Sw"
      },
      "source": [
        "**Note:** Dask will delete intermediate results (like the full pandas DataFrame for each file) as soon as possible. This means you can handle datasets that are larger than memory but, repeated computations will have to load all of the data in each time. (Run the code above again, is it faster or slower than you would expect?)"
      ]
    },
    {
      "cell_type": "markdown",
      "metadata": {
        "id": "BZXAJz5Lb-Sw"
      },
      "source": [
        "You can view the underlying task graph using `.visualize()`:"
      ]
    },
    {
      "cell_type": "code",
      "execution_count": 16,
      "metadata": {
        "id": "ClJLx6tbb-Sw",
        "outputId": "62d7c7d9-dcbf-4e5f-8279-50d053dae1eb",
        "colab": {
          "base_uri": "https://localhost:8080/",
          "height": 368
        }
      },
      "outputs": [
        {
          "output_type": "execute_result",
          "data": {
            "image/svg+xml": "<?xml version=\"1.0\" encoding=\"UTF-8\" standalone=\"no\"?>\n<!DOCTYPE svg PUBLIC \"-//W3C//DTD SVG 1.1//EN\"\n \"http://www.w3.org/Graphics/SVG/1.1/DTD/svg11.dtd\">\n<!-- Generated by graphviz version 2.43.0 (0)\n -->\n<!-- Title: %3 Pages: 1 -->\n<svg width=\"432pt\" height=\"260pt\"\n viewBox=\"0.00 0.00 432.00 260.00\" xmlns=\"http://www.w3.org/2000/svg\" xmlns:xlink=\"http://www.w3.org/1999/xlink\">\n<g id=\"graph0\" class=\"graph\" transform=\"scale(1 1) rotate(0) translate(4 256)\">\n<title>%3</title>\n<polygon fill=\"white\" stroke=\"transparent\" points=\"-4,4 -4,-256 428,-256 428,4 -4,4\"/>\n<!-- 7940655490375483141 -->\n<g id=\"node1\" class=\"node\">\n<title>7940655490375483141</title>\n<polygon fill=\"none\" stroke=\"black\" points=\"290.5,-252 133.5,-252 133.5,-216 290.5,-216 290.5,-252\"/>\n<text text-anchor=\"middle\" x=\"212\" y=\"-229\" font-family=\"Helvetica,sans-Serif\" font-size=\"20.00\">Max(Projection)</text>\n</g>\n<!-- 3782590231771755003 -->\n<g id=\"node2\" class=\"node\">\n<title>3782590231771755003</title>\n<polygon fill=\"none\" stroke=\"black\" points=\"424,-180 0,-180 0,-144 424,-144 424,-180\"/>\n<text text-anchor=\"middle\" x=\"212\" y=\"-157\" font-family=\"Helvetica,sans-Serif\" font-size=\"20.00\">Projection(ArrowStringConversion, DepDelay)</text>\n</g>\n<!-- 3782590231771755003&#45;&gt;7940655490375483141 -->\n<g id=\"edge1\" class=\"edge\">\n<title>3782590231771755003&#45;&gt;7940655490375483141</title>\n<path fill=\"none\" stroke=\"black\" d=\"M212,-180.3C212,-188.02 212,-197.29 212,-205.89\"/>\n<polygon fill=\"black\" stroke=\"black\" points=\"208.5,-205.9 212,-215.9 215.5,-205.9 208.5,-205.9\"/>\n</g>\n<!-- &#45;6272464808483375194 -->\n<g id=\"node3\" class=\"node\">\n<title>&#45;6272464808483375194</title>\n<polygon fill=\"none\" stroke=\"black\" points=\"423,-108 1,-108 1,-72 423,-72 423,-108\"/>\n<text text-anchor=\"middle\" x=\"212\" y=\"-85\" font-family=\"Helvetica,sans-Serif\" font-size=\"20.00\">ArrowStringConversion(FromMapProjectable)</text>\n</g>\n<!-- &#45;6272464808483375194&#45;&gt;3782590231771755003 -->\n<g id=\"edge2\" class=\"edge\">\n<title>&#45;6272464808483375194&#45;&gt;3782590231771755003</title>\n<path fill=\"none\" stroke=\"black\" d=\"M212,-108.3C212,-116.02 212,-125.29 212,-133.89\"/>\n<polygon fill=\"black\" stroke=\"black\" points=\"208.5,-133.9 212,-143.9 215.5,-133.9 208.5,-133.9\"/>\n</g>\n<!-- 1906767674903470390 -->\n<g id=\"node4\" class=\"node\">\n<title>1906767674903470390</title>\n<polygon fill=\"none\" stroke=\"black\" points=\"313.5,-36 110.5,-36 110.5,0 313.5,0 313.5,-36\"/>\n<text text-anchor=\"middle\" x=\"212\" y=\"-13\" font-family=\"Helvetica,sans-Serif\" font-size=\"20.00\">FromMapProjectable</text>\n</g>\n<!-- 1906767674903470390&#45;&gt;&#45;6272464808483375194 -->\n<g id=\"edge3\" class=\"edge\">\n<title>1906767674903470390&#45;&gt;&#45;6272464808483375194</title>\n<path fill=\"none\" stroke=\"black\" d=\"M212,-36.3C212,-44.02 212,-53.29 212,-61.89\"/>\n<polygon fill=\"black\" stroke=\"black\" points=\"208.5,-61.9 212,-71.9 215.5,-61.9 208.5,-61.9\"/>\n</g>\n</g>\n</svg>\n",
            "text/plain": [
              "<graphviz.graphs.Digraph at 0x7ef5e4444310>"
            ]
          },
          "metadata": {},
          "execution_count": 16
        }
      ],
      "source": [
        "# notice the parallelism\n",
        "result.visualize()"
      ]
    },
    {
      "cell_type": "markdown",
      "metadata": {
        "id": "2uUMR6nxb-Sw"
      },
      "source": [
        "## Exercises\n",
        "\n",
        "In this section you will do a few `dask.dataframe` computations. If you are comfortable with pandas then these should be familiar. You will have to think about when to call `.compute()`."
      ]
    },
    {
      "cell_type": "markdown",
      "metadata": {
        "id": "B0uuMsMPb-Sw"
      },
      "source": [
        "### 1. How many rows are in our dataset?\n",
        "\n",
        "_Hint_: how would you check how many items are in a list?"
      ]
    },
    {
      "cell_type": "code",
      "execution_count": 17,
      "metadata": {
        "id": "Q2dcpySnb-Sw"
      },
      "outputs": [],
      "source": [
        "# Your code here"
      ]
    },
    {
      "cell_type": "code",
      "execution_count": 18,
      "metadata": {
        "jupyter": {
          "source_hidden": true
        },
        "tags": [],
        "id": "YoXE5wnib-Sw",
        "outputId": "6ada51da-8392-4f8c-a284-c9d919591979",
        "colab": {
          "base_uri": "https://localhost:8080/"
        }
      },
      "outputs": [
        {
          "output_type": "execute_result",
          "data": {
            "text/plain": [
              "2611892"
            ]
          },
          "metadata": {},
          "execution_count": 18
        }
      ],
      "source": [
        "len(ddf)"
      ]
    },
    {
      "cell_type": "markdown",
      "metadata": {
        "id": "NgALrObob-Sx"
      },
      "source": [
        "### 2. In total, how many non-canceled flights were taken?\n",
        "\n",
        "_Hint_: use [boolean indexing](https://pandas.pydata.org/pandas-docs/stable/indexing.html#boolean-indexing)."
      ]
    },
    {
      "cell_type": "code",
      "execution_count": 19,
      "metadata": {
        "id": "stbdl6xWb-Sx"
      },
      "outputs": [],
      "source": [
        "# Your code here"
      ]
    },
    {
      "cell_type": "code",
      "execution_count": 20,
      "metadata": {
        "jupyter": {
          "source_hidden": true
        },
        "tags": [],
        "id": "OJUg53-bb-Sx",
        "outputId": "f49a5454-52de-4dd5-b569-a196c5c10756",
        "colab": {
          "base_uri": "https://localhost:8080/"
        }
      },
      "outputs": [
        {
          "output_type": "execute_result",
          "data": {
            "text/plain": [
              "2540961"
            ]
          },
          "metadata": {},
          "execution_count": 20
        }
      ],
      "source": [
        "len(ddf[~ddf.Cancelled])"
      ]
    },
    {
      "cell_type": "markdown",
      "metadata": {
        "id": "R_98JEFkb-S1"
      },
      "source": [
        "### 3. In total, how many non-canceled flights were taken from each airport?\n",
        "\n",
        "*Hint*: use [groupby](https://pandas.pydata.org/pandas-docs/stable/groupby.html)."
      ]
    },
    {
      "cell_type": "code",
      "execution_count": 21,
      "metadata": {
        "id": "WuEyYecnb-S2"
      },
      "outputs": [],
      "source": [
        "# Your code here"
      ]
    },
    {
      "cell_type": "code",
      "execution_count": 22,
      "metadata": {
        "jupyter": {
          "source_hidden": true
        },
        "tags": [],
        "id": "b-301tLfb-S2",
        "outputId": "b4d5ba18-cb17-4463-fab9-e1fdd383770c",
        "colab": {
          "base_uri": "https://localhost:8080/",
          "height": 210
        }
      },
      "outputs": [
        {
          "output_type": "execute_result",
          "data": {
            "text/plain": [
              "Origin\n",
              "EWR    1139451\n",
              "JFK     427243\n",
              "LGA     974267\n",
              "Name: Origin, dtype: int64"
            ],
            "text/html": [
              "<div>\n",
              "<style scoped>\n",
              "    .dataframe tbody tr th:only-of-type {\n",
              "        vertical-align: middle;\n",
              "    }\n",
              "\n",
              "    .dataframe tbody tr th {\n",
              "        vertical-align: top;\n",
              "    }\n",
              "\n",
              "    .dataframe thead th {\n",
              "        text-align: right;\n",
              "    }\n",
              "</style>\n",
              "<table border=\"1\" class=\"dataframe\">\n",
              "  <thead>\n",
              "    <tr style=\"text-align: right;\">\n",
              "      <th></th>\n",
              "      <th>Origin</th>\n",
              "    </tr>\n",
              "    <tr>\n",
              "      <th>Origin</th>\n",
              "      <th></th>\n",
              "    </tr>\n",
              "  </thead>\n",
              "  <tbody>\n",
              "    <tr>\n",
              "      <th>EWR</th>\n",
              "      <td>1139451</td>\n",
              "    </tr>\n",
              "    <tr>\n",
              "      <th>JFK</th>\n",
              "      <td>427243</td>\n",
              "    </tr>\n",
              "    <tr>\n",
              "      <th>LGA</th>\n",
              "      <td>974267</td>\n",
              "    </tr>\n",
              "  </tbody>\n",
              "</table>\n",
              "</div><br><label><b>dtype:</b> int64</label>"
            ]
          },
          "metadata": {},
          "execution_count": 22
        }
      ],
      "source": [
        "ddf[~ddf.Cancelled].groupby(\"Origin\").Origin.count().compute()"
      ]
    },
    {
      "cell_type": "markdown",
      "metadata": {
        "id": "DG-FmNr5b-S2"
      },
      "source": [
        "### 4. What was the average departure delay from each airport?"
      ]
    },
    {
      "cell_type": "code",
      "execution_count": 23,
      "metadata": {
        "id": "hW0fUB3kb-S2"
      },
      "outputs": [],
      "source": [
        "# Your code here"
      ]
    },
    {
      "cell_type": "code",
      "execution_count": 24,
      "metadata": {
        "jupyter": {
          "source_hidden": true
        },
        "tags": [],
        "id": "BZwqYkNlb-S2",
        "outputId": "a901c52c-792a-492a-f539-d13cb9fcc6ea",
        "colab": {
          "base_uri": "https://localhost:8080/",
          "height": 210
        }
      },
      "outputs": [
        {
          "output_type": "execute_result",
          "data": {
            "text/plain": [
              "Origin\n",
              "EWR    10.295469\n",
              "JFK    10.351299\n",
              "LGA     7.431142\n",
              "Name: DepDelay, dtype: float64"
            ],
            "text/html": [
              "<div>\n",
              "<style scoped>\n",
              "    .dataframe tbody tr th:only-of-type {\n",
              "        vertical-align: middle;\n",
              "    }\n",
              "\n",
              "    .dataframe tbody tr th {\n",
              "        vertical-align: top;\n",
              "    }\n",
              "\n",
              "    .dataframe thead th {\n",
              "        text-align: right;\n",
              "    }\n",
              "</style>\n",
              "<table border=\"1\" class=\"dataframe\">\n",
              "  <thead>\n",
              "    <tr style=\"text-align: right;\">\n",
              "      <th></th>\n",
              "      <th>DepDelay</th>\n",
              "    </tr>\n",
              "    <tr>\n",
              "      <th>Origin</th>\n",
              "      <th></th>\n",
              "    </tr>\n",
              "  </thead>\n",
              "  <tbody>\n",
              "    <tr>\n",
              "      <th>EWR</th>\n",
              "      <td>10.295469</td>\n",
              "    </tr>\n",
              "    <tr>\n",
              "      <th>JFK</th>\n",
              "      <td>10.351299</td>\n",
              "    </tr>\n",
              "    <tr>\n",
              "      <th>LGA</th>\n",
              "      <td>7.431142</td>\n",
              "    </tr>\n",
              "  </tbody>\n",
              "</table>\n",
              "</div><br><label><b>dtype:</b> float64</label>"
            ]
          },
          "metadata": {},
          "execution_count": 24
        }
      ],
      "source": [
        "ddf.groupby(\"Origin\").DepDelay.mean().compute()"
      ]
    },
    {
      "cell_type": "markdown",
      "metadata": {
        "id": "2Ho3jlmyb-S2"
      },
      "source": [
        "### 5. What day of the week has the worst average departure delay?"
      ]
    },
    {
      "cell_type": "code",
      "execution_count": 25,
      "metadata": {
        "id": "-3PDgyh3b-S2"
      },
      "outputs": [],
      "source": [
        "# Your code here"
      ]
    },
    {
      "cell_type": "code",
      "execution_count": 26,
      "metadata": {
        "jupyter": {
          "source_hidden": true
        },
        "tags": [],
        "id": "vCMg10xUb-S2",
        "outputId": "f353bad3-2890-4664-ee1b-78ff1df7aecb",
        "colab": {
          "base_uri": "https://localhost:8080/"
        }
      },
      "outputs": [
        {
          "output_type": "execute_result",
          "data": {
            "text/plain": [
              "np.int64(5)"
            ]
          },
          "metadata": {},
          "execution_count": 26
        }
      ],
      "source": [
        "ddf.groupby(\"DayOfWeek\").DepDelay.mean().idxmax().compute()"
      ]
    },
    {
      "cell_type": "markdown",
      "metadata": {
        "id": "_KQ4x_q_b-S3"
      },
      "source": [
        "### 6. Let's say the distance column is erroneous and you need to add 1 to all values, how would you do this?"
      ]
    },
    {
      "cell_type": "code",
      "execution_count": 27,
      "metadata": {
        "id": "2qGDNc4Wb-S3"
      },
      "outputs": [],
      "source": [
        "# Your code here"
      ]
    },
    {
      "cell_type": "code",
      "execution_count": 28,
      "metadata": {
        "jupyter": {
          "source_hidden": true
        },
        "tags": [],
        "id": "9mPNw-uMb-S3",
        "outputId": "7581e05e-faf5-4164-e578-f180071a5bb8",
        "colab": {
          "base_uri": "https://localhost:8080/",
          "height": 580
        }
      },
      "outputs": [
        {
          "output_type": "stream",
          "name": "stderr",
          "text": [
            "/usr/local/lib/python3.11/dist-packages/dask_expr/_collection.py:4409: UserWarning: \n",
            "You did not provide metadata, so Dask is running your function on a small dataset to guess output types. It is possible that Dask will guess incorrectly.\n",
            "To provide an explicit output types or to silence this message, please provide the `meta=` keyword, as described in the map or apply function that you are using.\n",
            "  Before: .apply(func)\n",
            "  After:  .apply(func, meta=('Distance', 'float64'))\n",
            "\n",
            "  warnings.warn(meta_warning(meta))\n"
          ]
        },
        {
          "output_type": "execute_result",
          "data": {
            "text/plain": [
              "0          320.0\n",
              "1          320.0\n",
              "2          320.0\n",
              "3          320.0\n",
              "4          320.0\n",
              "           ...  \n",
              "269176    1620.0\n",
              "269177    1620.0\n",
              "269178    1620.0\n",
              "269179    1620.0\n",
              "269180    1620.0\n",
              "Name: Distance, Length: 2611892, dtype: float64"
            ],
            "text/html": [
              "<div>\n",
              "<style scoped>\n",
              "    .dataframe tbody tr th:only-of-type {\n",
              "        vertical-align: middle;\n",
              "    }\n",
              "\n",
              "    .dataframe tbody tr th {\n",
              "        vertical-align: top;\n",
              "    }\n",
              "\n",
              "    .dataframe thead th {\n",
              "        text-align: right;\n",
              "    }\n",
              "</style>\n",
              "<table border=\"1\" class=\"dataframe\">\n",
              "  <thead>\n",
              "    <tr style=\"text-align: right;\">\n",
              "      <th></th>\n",
              "      <th>Distance</th>\n",
              "    </tr>\n",
              "  </thead>\n",
              "  <tbody>\n",
              "    <tr>\n",
              "      <th>0</th>\n",
              "      <td>320.0</td>\n",
              "    </tr>\n",
              "    <tr>\n",
              "      <th>1</th>\n",
              "      <td>320.0</td>\n",
              "    </tr>\n",
              "    <tr>\n",
              "      <th>2</th>\n",
              "      <td>320.0</td>\n",
              "    </tr>\n",
              "    <tr>\n",
              "      <th>3</th>\n",
              "      <td>320.0</td>\n",
              "    </tr>\n",
              "    <tr>\n",
              "      <th>4</th>\n",
              "      <td>320.0</td>\n",
              "    </tr>\n",
              "    <tr>\n",
              "      <th>...</th>\n",
              "      <td>...</td>\n",
              "    </tr>\n",
              "    <tr>\n",
              "      <th>269176</th>\n",
              "      <td>1620.0</td>\n",
              "    </tr>\n",
              "    <tr>\n",
              "      <th>269177</th>\n",
              "      <td>1620.0</td>\n",
              "    </tr>\n",
              "    <tr>\n",
              "      <th>269178</th>\n",
              "      <td>1620.0</td>\n",
              "    </tr>\n",
              "    <tr>\n",
              "      <th>269179</th>\n",
              "      <td>1620.0</td>\n",
              "    </tr>\n",
              "    <tr>\n",
              "      <th>269180</th>\n",
              "      <td>1620.0</td>\n",
              "    </tr>\n",
              "  </tbody>\n",
              "</table>\n",
              "<p>2611892 rows × 1 columns</p>\n",
              "</div><br><label><b>dtype:</b> float64</label>"
            ]
          },
          "metadata": {},
          "execution_count": 28
        }
      ],
      "source": [
        "ddf[\"Distance\"].apply(\n",
        "    lambda x: x + 1\n",
        ").compute()  # don't worry about the warning, we'll discuss in the next sections\n",
        "\n",
        "# OR\n",
        "\n",
        "(ddf[\"Distance\"] + 1).compute()"
      ]
    },
    {
      "cell_type": "markdown",
      "metadata": {
        "id": "OZvaleu3b-S3"
      },
      "source": [
        "## Sharing Intermediate Results\n",
        "\n",
        "When computing all of the above, we sometimes did the same operation more than once. For most operations, `dask.dataframe` stores the arguments, allowing duplicate computations to be shared and only computed once.\n",
        "\n",
        "For example, let's compute the mean and standard deviation for departure delay of all non-canceled flights. Since Dask operations are lazy, those values aren't the final results yet. They're just the steps required to get the result.\n",
        "\n",
        "If you compute them with two calls to compute, there is no sharing of intermediate computations."
      ]
    },
    {
      "cell_type": "code",
      "execution_count": 29,
      "metadata": {
        "id": "2o3aG9D7b-S3"
      },
      "outputs": [],
      "source": [
        "non_canceled = ddf[~ddf.Cancelled]\n",
        "mean_delay = non_canceled.DepDelay.mean()\n",
        "std_delay = non_canceled.DepDelay.std()"
      ]
    },
    {
      "cell_type": "code",
      "execution_count": 30,
      "metadata": {
        "tags": [],
        "id": "vy6K_-Ucb-S3",
        "outputId": "4fa4b559-7c64-457a-de79-e8a9d7bf857c",
        "colab": {
          "base_uri": "https://localhost:8080/"
        }
      },
      "outputs": [
        {
          "output_type": "stream",
          "name": "stdout",
          "text": [
            "CPU times: user 3.72 s, sys: 502 ms, total: 4.22 s\n",
            "Wall time: 42.3 s\n"
          ]
        }
      ],
      "source": [
        "%%time\n",
        "\n",
        "mean_delay_res = mean_delay.compute()\n",
        "std_delay_res = std_delay.compute()"
      ]
    },
    {
      "cell_type": "markdown",
      "metadata": {
        "id": "f_El5c4jb-S3"
      },
      "source": [
        "### `dask.compute`"
      ]
    },
    {
      "cell_type": "markdown",
      "metadata": {
        "id": "KHag9LxEb-S4"
      },
      "source": [
        "But let's try by passing both to a single `compute` call."
      ]
    },
    {
      "cell_type": "code",
      "execution_count": 31,
      "metadata": {
        "tags": [],
        "id": "iiuJr58Db-S4",
        "outputId": "cf0643b1-4bbd-457c-fad3-2dd6ac61165a",
        "colab": {
          "base_uri": "https://localhost:8080/"
        }
      },
      "outputs": [
        {
          "output_type": "stream",
          "name": "stdout",
          "text": [
            "CPU times: user 2.34 s, sys: 293 ms, total: 2.63 s\n",
            "Wall time: 24.7 s\n"
          ]
        }
      ],
      "source": [
        "%%time\n",
        "\n",
        "mean_delay_res, std_delay_res = dask.compute(mean_delay, std_delay)"
      ]
    },
    {
      "cell_type": "markdown",
      "metadata": {
        "id": "LqfP4aMrb-S4"
      },
      "source": [
        "Using `dask.compute` takes roughly 1/2 the time. This is because the task graphs for both results are merged when calling `dask.compute`, allowing shared operations to only be done once instead of twice. In particular, using `dask.compute` only does the following once:\n",
        "\n",
        "- the calls to `read_csv`\n",
        "- the filter (`df[~df.Cancelled]`)\n",
        "- some of the necessary reductions (`sum`, `count`)"
      ]
    },
    {
      "cell_type": "markdown",
      "metadata": {
        "id": "1saiH66sb-S4"
      },
      "source": [
        "To see what the merged task graphs between multiple results look like (and what's shared), you can use the `dask.visualize` function (you might want to use `filename='graph.pdf'` to save the graph to disk so that you can zoom in more easily):"
      ]
    },
    {
      "cell_type": "code",
      "source": [
        "!python -m pip install -q ipycytoscape"
      ],
      "metadata": {
        "id": "tP3iRe-wgtXP"
      },
      "execution_count": 34,
      "outputs": []
    },
    {
      "cell_type": "code",
      "execution_count": 35,
      "metadata": {
        "id": "Ui_P3ylrb-S5",
        "outputId": "ba7114df-575d-4706-aa07-b83e0d2d06d4",
        "colab": {
          "base_uri": "https://localhost:8080/",
          "height": 17,
          "referenced_widgets": [
            "c33ee975d91b4380b53503960b3d45eb"
          ]
        }
      },
      "outputs": [
        {
          "output_type": "display_data",
          "data": {
            "text/plain": [
              "CytoscapeWidget(cytoscape_layout={'name': 'dagre', 'rankDir': 'BT', 'nodeSep': 10, 'edgeSep': 10, 'spacingFact…"
            ],
            "application/vnd.jupyter.widget-view+json": {
              "version_major": 2,
              "version_minor": 0,
              "model_id": "c33ee975d91b4380b53503960b3d45eb"
            }
          },
          "metadata": {}
        }
      ],
      "source": [
        "dask.visualize(mean_delay, std_delay, engine=\"cytoscape\")"
      ]
    },
    {
      "cell_type": "markdown",
      "metadata": {
        "tags": [],
        "id": "fu9eHEwPb-S5"
      },
      "source": [
        "### `.persist()`\n",
        "\n",
        "While using a distributed scheduler (you will learn more about schedulers in the upcoming notebooks), you can keep some _data that you want to use often_ in the _distributed memory_.\n",
        "\n",
        "`persist` generates \"Futures\" (more on this later as well) and stores them in the same structure as your output. You can use `persist` with any data or computation that fits in memory."
      ]
    },
    {
      "cell_type": "markdown",
      "metadata": {
        "id": "BJsI5Ao4b-S5"
      },
      "source": [
        "If you want to analyze data only for non-canceled flights departing from JFK airport, you can either have two compute calls like in the previous section:"
      ]
    },
    {
      "cell_type": "code",
      "execution_count": 36,
      "metadata": {
        "id": "VVPnZKj3b-S5"
      },
      "outputs": [],
      "source": [
        "non_cancelled = ddf[~ddf.Cancelled]\n",
        "ddf_jfk = non_cancelled[non_cancelled.Origin == \"JFK\"]"
      ]
    },
    {
      "cell_type": "code",
      "execution_count": 37,
      "metadata": {
        "id": "F6EvERAUb-S5",
        "outputId": "de5d6f1f-0a90-46eb-d4a8-a884cd9b3772",
        "colab": {
          "base_uri": "https://localhost:8080/"
        }
      },
      "outputs": [
        {
          "output_type": "stream",
          "name": "stdout",
          "text": [
            "CPU times: user 3.78 s, sys: 481 ms, total: 4.26 s\n",
            "Wall time: 42.9 s\n"
          ]
        },
        {
          "output_type": "execute_result",
          "data": {
            "text/plain": [
              "np.float64(4422520.0)"
            ]
          },
          "metadata": {},
          "execution_count": 37
        }
      ],
      "source": [
        "%%time\n",
        "ddf_jfk.DepDelay.mean().compute()\n",
        "ddf_jfk.DepDelay.sum().compute()"
      ]
    },
    {
      "cell_type": "markdown",
      "metadata": {
        "id": "GKqq_g1kb-S5"
      },
      "source": [
        "Or, consider persisting that subset of data in memory.\n",
        "\n",
        "See the \"Graph\" dashboard plot, the red squares indicate persisted data stored as Futures in memory. You will also notice an increase in Worker Memory (another dashboard plot) consumption."
      ]
    },
    {
      "cell_type": "code",
      "execution_count": 38,
      "metadata": {
        "id": "yOphTBSKb-S5"
      },
      "outputs": [],
      "source": [
        "ddf_jfk = ddf_jfk.persist()  # returns back control immediately"
      ]
    },
    {
      "cell_type": "code",
      "execution_count": 39,
      "metadata": {
        "id": "WGWTvFTlb-S5",
        "outputId": "f32e1755-2b3c-4291-a2aa-c3d89675e988",
        "colab": {
          "base_uri": "https://localhost:8080/"
        }
      },
      "outputs": [
        {
          "output_type": "stream",
          "name": "stdout",
          "text": [
            "CPU times: user 2.12 s, sys: 264 ms, total: 2.38 s\n",
            "Wall time: 22.9 s\n"
          ]
        },
        {
          "output_type": "execute_result",
          "data": {
            "text/plain": [
              "np.float64(31.242509798271147)"
            ]
          },
          "metadata": {},
          "execution_count": 39
        }
      ],
      "source": [
        "%%time\n",
        "ddf_jfk.DepDelay.mean().compute()\n",
        "ddf_jfk.DepDelay.std().compute()"
      ]
    },
    {
      "cell_type": "markdown",
      "metadata": {
        "id": "sZFUPx0xb-S6"
      },
      "source": [
        "Analyses on this persisted data is faster because we are not repeating the loading and selecting (non-canceled, JFK departure) operations."
      ]
    },
    {
      "cell_type": "markdown",
      "metadata": {
        "id": "YFm6FfIrb-S6"
      },
      "source": [
        "## Custom code with Dask DataFrame\n",
        "\n",
        "`dask.dataframe` only covers a small but well-used portion of the pandas API.\n",
        "\n",
        "This limitation is for two reasons:\n",
        "\n",
        "1.  The Pandas API is *huge*\n",
        "2.  Some operations are genuinely hard to do in parallel, e.g, sorting.\n",
        "\n",
        "Additionally, some important operations like `set_index` work, but are slower than in pandas because they include substantial shuffling of data, and may write out to disk.\n",
        "\n",
        "**What if you want to use some custom functions that aren't (or can't be) implemented for Dask DataFrame yet?**\n",
        "\n",
        "You can open an issue on the [Dask issue tracker](https://github.com/dask/dask/issues) to check how feasible the function could be to implement, and you can consider contributing this function to Dask.\n",
        "\n",
        "In case it's a custom function or tricky to implement, `dask.dataframe` provides a few methods to make applying custom functions to Dask DataFrames easier:\n",
        "\n",
        "- [`map_partitions`](https://docs.dask.org/en/latest/generated/dask.dataframe.DataFrame.map_partitions.html): to run a function on each partition (each pandas DataFrame) of the Dask DataFrame\n",
        "- [`map_overlap`](https://docs.dask.org/en/latest/generated/dask.dataframe.rolling.map_overlap.html): to run a function on each partition (each pandas DataFrame) of the Dask DataFrame, with some rows shared between neighboring partitions\n",
        "- [`reduction`](https://docs.dask.org/en/latest/generated/dask.dataframe.Series.reduction.html): for custom row-wise reduction operations."
      ]
    },
    {
      "cell_type": "markdown",
      "metadata": {
        "id": "ena93VKmb-S6"
      },
      "source": [
        "Let's take a quick look at the `map_partitions()` function:"
      ]
    },
    {
      "cell_type": "code",
      "execution_count": 40,
      "metadata": {
        "tags": [],
        "id": "VpK0R9d5b-S6",
        "outputId": "6850b493-6966-48f5-d78d-1a0e1bd45e68",
        "colab": {
          "base_uri": "https://localhost:8080/"
        }
      },
      "outputs": [
        {
          "output_type": "stream",
          "name": "stdout",
          "text": [
            "Help on method map_partitions in module dask_expr._collection:\n",
            "\n",
            "map_partitions(func, *args, meta=<no_default>, enforce_metadata=True, transform_divisions=True, clear_divisions=False, align_dataframes=False, parent_meta=None, **kwargs) method of dask_expr._collection.DataFrame instance\n",
            "    Apply a Python function to each partition\n",
            "    \n",
            "    Parameters\n",
            "    ----------\n",
            "    func : function\n",
            "        Function applied to each partition.\n",
            "    args, kwargs :\n",
            "        Arguments and keywords to pass to the function. Arguments and\n",
            "        keywords may contain ``FrameBase`` or regular python objects.\n",
            "        DataFrame-like args (both dask and pandas) must have the same\n",
            "        number of partitions as ``self`` or comprise a single partition.\n",
            "        Key-word arguments, Single-partition arguments, and general\n",
            "        python-object arguments will be broadcasted to all partitions.\n",
            "    enforce_metadata : bool, default True\n",
            "        Whether to enforce at runtime that the structure of the DataFrame\n",
            "        produced by ``func`` actually matches the structure of ``meta``.\n",
            "        This will rename and reorder columns for each partition, and will\n",
            "        raise an error if this doesn't work, but it won't raise if dtypes\n",
            "        don't match.\n",
            "    transform_divisions : bool, default True\n",
            "        Whether to apply the function onto the divisions and apply those\n",
            "        transformed divisions to the output.\n",
            "    clear_divisions : bool, default False\n",
            "        Whether divisions should be cleared. If True, `transform_divisions`\n",
            "        will be ignored.\n",
            "    meta : pd.DataFrame, pd.Series, dict, iterable, tuple, optional\n",
            "        An empty ``pd.DataFrame`` or ``pd.Series`` that matches the dtypes\n",
            "        and column names of the output. This metadata is necessary for\n",
            "        many algorithms in dask dataframe to work.  For ease of use, some\n",
            "        alternative inputs are also available. Instead of a ``DataFrame``,\n",
            "        a ``dict`` of ``{name: dtype}`` or iterable of ``(name, dtype)``\n",
            "        can be provided (note that the order of the names should match the\n",
            "        order of the columns). Instead of a series, a tuple of ``(name,\n",
            "        dtype)`` can be used. If not provided, dask will try to infer the\n",
            "        metadata. This may lead to unexpected results, so providing\n",
            "        ``meta`` is recommended. For more information, see\n",
            "        ``dask.dataframe.utils.make_meta``.\n",
            "    \n",
            "    Examples\n",
            "    --------\n",
            "    Given a DataFrame, Series, or Index, such as:\n",
            "    \n",
            "    >>> import pandas as pd\n",
            "    >>> import dask_expr as dd\n",
            "    >>> df = pd.DataFrame({'x': [1, 2, 3, 4, 5],\n",
            "    ...                    'y': [1., 2., 3., 4., 5.]})\n",
            "    >>> ddf = dd.from_pandas(df, npartitions=2)\n",
            "    \n",
            "    One can use ``map_partitions`` to apply a function on each partition.\n",
            "    Extra arguments and keywords can optionally be provided, and will be\n",
            "    passed to the function after the partition.\n",
            "    \n",
            "    Here we apply a function with arguments and keywords to a DataFrame,\n",
            "    resulting in a Series:\n",
            "    \n",
            "    >>> def myadd(df, a, b=1):\n",
            "    ...     return df.x + df.y + a + b\n",
            "    >>> res = ddf.map_partitions(myadd, 1, b=2)\n",
            "    >>> res.dtype\n",
            "    dtype('float64')\n",
            "    \n",
            "    Here we apply a function to a Series resulting in a Series:\n",
            "    \n",
            "    >>> res = ddf.x.map_partitions(lambda x: len(x)) # ddf.x is a Dask Series Structure\n",
            "    >>> res.dtype\n",
            "    dtype('int64')\n",
            "    \n",
            "    By default, dask tries to infer the output metadata by running your\n",
            "    provided function on some fake data. This works well in many cases, but\n",
            "    can sometimes be expensive, or even fail. To avoid this, you can\n",
            "    manually specify the output metadata with the ``meta`` keyword. This\n",
            "    can be specified in many forms, for more information see\n",
            "    ``dask.dataframe.utils.make_meta``.\n",
            "    \n",
            "    Here we specify the output is a Series with no name, and dtype\n",
            "    ``float64``:\n",
            "    \n",
            "    >>> res = ddf.map_partitions(myadd, 1, b=2, meta=(None, 'f8'))\n",
            "    \n",
            "    Here we map a function that takes in a DataFrame, and returns a\n",
            "    DataFrame with a new column:\n",
            "    \n",
            "    >>> res = ddf.map_partitions(lambda df: df.assign(z=df.x * df.y))\n",
            "    >>> res.dtypes\n",
            "    x      int64\n",
            "    y    float64\n",
            "    z    float64\n",
            "    dtype: object\n",
            "    \n",
            "    As before, the output metadata can also be specified manually. This\n",
            "    time we pass in a ``dict``, as the output is a DataFrame:\n",
            "    \n",
            "    >>> res = ddf.map_partitions(lambda df: df.assign(z=df.x * df.y),\n",
            "    ...                          meta={'x': 'i8', 'y': 'f8', 'z': 'f8'})\n",
            "    \n",
            "    In the case where the metadata doesn't change, you can also pass in\n",
            "    the object itself directly:\n",
            "    \n",
            "    >>> res = ddf.map_partitions(lambda df: df.head(), meta=ddf)\n",
            "    \n",
            "    Also note that the index and divisions are assumed to remain unchanged.\n",
            "    If the function you're mapping changes the index/divisions, you'll need\n",
            "    to pass ``clear_divisions=True``.\n",
            "    \n",
            "    >>> ddf.map_partitions(func, clear_divisions=True)  # doctest: +SKIP\n",
            "    \n",
            "    Your map function gets information about where it is in the dataframe by\n",
            "    accepting a special ``partition_info`` keyword argument.\n",
            "    \n",
            "    >>> def func(partition, partition_info=None):\n",
            "    ...     pass\n",
            "    \n",
            "    This will receive the following information:\n",
            "    \n",
            "    >>> partition_info  # doctest: +SKIP\n",
            "    {'number': 1, 'division': 3}\n",
            "    \n",
            "    For each argument and keyword arguments that are dask dataframes you will\n",
            "    receive the number (n) which represents the nth partition of the dataframe\n",
            "    and the division (the first index value in the partition). If divisions\n",
            "    are not known (for instance if the index is not sorted) then you will get\n",
            "    None as the division.\n",
            "\n"
          ]
        }
      ],
      "source": [
        "help(ddf.map_partitions)"
      ]
    },
    {
      "cell_type": "markdown",
      "metadata": {
        "id": "-l8kLUugb-S6"
      },
      "source": [
        "The \"Distance\" column in `ddf` is currently in miles. Let's say we want to convert the units to kilometers and we have a general helper function as shown below. In this case, we can use `map_partitions` to apply this function across each of the internal pandas `DataFrame`s in parallel."
      ]
    },
    {
      "cell_type": "code",
      "execution_count": 41,
      "metadata": {
        "id": "Cb0T2xrub-S6"
      },
      "outputs": [],
      "source": [
        "def my_custom_converter(df, multiplier=1):\n",
        "    return df * multiplier\n",
        "\n",
        "\n",
        "meta = pd.Series(name=\"Distance\", dtype=\"float64\")\n",
        "\n",
        "distance_km = ddf.Distance.map_partitions(\n",
        "    my_custom_converter, multiplier=0.6, meta=meta\n",
        ")"
      ]
    },
    {
      "cell_type": "code",
      "execution_count": 42,
      "metadata": {
        "id": "nqPV-UH4b-S6",
        "outputId": "2e56c991-600d-4b6d-cd6a-e7f3a1ebfae9",
        "colab": {
          "base_uri": "https://localhost:8080/",
          "height": 368
        }
      },
      "outputs": [
        {
          "output_type": "execute_result",
          "data": {
            "image/svg+xml": "<?xml version=\"1.0\" encoding=\"UTF-8\" standalone=\"no\"?>\n<!DOCTYPE svg PUBLIC \"-//W3C//DTD SVG 1.1//EN\"\n \"http://www.w3.org/Graphics/SVG/1.1/DTD/svg11.dtd\">\n<!-- Generated by graphviz version 2.43.0 (0)\n -->\n<!-- Title: %3 Pages: 1 -->\n<svg width=\"430pt\" height=\"260pt\"\n viewBox=\"0.00 0.00 430.00 260.00\" xmlns=\"http://www.w3.org/2000/svg\" xmlns:xlink=\"http://www.w3.org/1999/xlink\">\n<g id=\"graph0\" class=\"graph\" transform=\"scale(1 1) rotate(0) translate(4 256)\">\n<title>%3</title>\n<polygon fill=\"white\" stroke=\"transparent\" points=\"-4,4 -4,-256 426,-256 426,4 -4,4\"/>\n<!-- &#45;8513551948445179004 -->\n<g id=\"node1\" class=\"node\">\n<title>&#45;8513551948445179004</title>\n<polygon fill=\"none\" stroke=\"black\" points=\"332,-252 90,-252 90,-216 332,-216 332,-252\"/>\n<text text-anchor=\"middle\" x=\"211\" y=\"-229\" font-family=\"Helvetica,sans-Serif\" font-size=\"20.00\">MapPartitions(Projection)</text>\n</g>\n<!-- &#45;7847241265565528625 -->\n<g id=\"node2\" class=\"node\">\n<title>&#45;7847241265565528625</title>\n<polygon fill=\"none\" stroke=\"black\" points=\"417.5,-180 4.5,-180 4.5,-144 417.5,-144 417.5,-180\"/>\n<text text-anchor=\"middle\" x=\"211\" y=\"-157\" font-family=\"Helvetica,sans-Serif\" font-size=\"20.00\">Projection(ArrowStringConversion, Distance)</text>\n</g>\n<!-- &#45;7847241265565528625&#45;&gt;&#45;8513551948445179004 -->\n<g id=\"edge1\" class=\"edge\">\n<title>&#45;7847241265565528625&#45;&gt;&#45;8513551948445179004</title>\n<path fill=\"none\" stroke=\"black\" d=\"M211,-180.3C211,-188.02 211,-197.29 211,-205.89\"/>\n<polygon fill=\"black\" stroke=\"black\" points=\"207.5,-205.9 211,-215.9 214.5,-205.9 207.5,-205.9\"/>\n</g>\n<!-- &#45;6272464808483375194 -->\n<g id=\"node3\" class=\"node\">\n<title>&#45;6272464808483375194</title>\n<polygon fill=\"none\" stroke=\"black\" points=\"422,-108 0,-108 0,-72 422,-72 422,-108\"/>\n<text text-anchor=\"middle\" x=\"211\" y=\"-85\" font-family=\"Helvetica,sans-Serif\" font-size=\"20.00\">ArrowStringConversion(FromMapProjectable)</text>\n</g>\n<!-- &#45;6272464808483375194&#45;&gt;&#45;7847241265565528625 -->\n<g id=\"edge2\" class=\"edge\">\n<title>&#45;6272464808483375194&#45;&gt;&#45;7847241265565528625</title>\n<path fill=\"none\" stroke=\"black\" d=\"M211,-108.3C211,-116.02 211,-125.29 211,-133.89\"/>\n<polygon fill=\"black\" stroke=\"black\" points=\"207.5,-133.9 211,-143.9 214.5,-133.9 207.5,-133.9\"/>\n</g>\n<!-- 1906767674903470390 -->\n<g id=\"node4\" class=\"node\">\n<title>1906767674903470390</title>\n<polygon fill=\"none\" stroke=\"black\" points=\"312.5,-36 109.5,-36 109.5,0 312.5,0 312.5,-36\"/>\n<text text-anchor=\"middle\" x=\"211\" y=\"-13\" font-family=\"Helvetica,sans-Serif\" font-size=\"20.00\">FromMapProjectable</text>\n</g>\n<!-- 1906767674903470390&#45;&gt;&#45;6272464808483375194 -->\n<g id=\"edge3\" class=\"edge\">\n<title>1906767674903470390&#45;&gt;&#45;6272464808483375194</title>\n<path fill=\"none\" stroke=\"black\" d=\"M211,-36.3C211,-44.02 211,-53.29 211,-61.89\"/>\n<polygon fill=\"black\" stroke=\"black\" points=\"207.5,-61.9 211,-71.9 214.5,-61.9 207.5,-61.9\"/>\n</g>\n</g>\n</svg>\n",
            "text/plain": [
              "<graphviz.graphs.Digraph at 0x7ef5d7e8a290>"
            ]
          },
          "metadata": {},
          "execution_count": 42
        }
      ],
      "source": [
        "distance_km.visualize()"
      ]
    },
    {
      "cell_type": "code",
      "execution_count": 43,
      "metadata": {
        "id": "SpfucnKpb-S6",
        "outputId": "fca7a7b7-6dbe-4475-eda1-87da9dc307d4",
        "colab": {
          "base_uri": "https://localhost:8080/",
          "height": 241
        }
      },
      "outputs": [
        {
          "output_type": "execute_result",
          "data": {
            "text/plain": [
              "0    191.4\n",
              "1    191.4\n",
              "2    191.4\n",
              "3    191.4\n",
              "4    191.4\n",
              "Name: Distance, dtype: float64"
            ],
            "text/html": [
              "<div>\n",
              "<style scoped>\n",
              "    .dataframe tbody tr th:only-of-type {\n",
              "        vertical-align: middle;\n",
              "    }\n",
              "\n",
              "    .dataframe tbody tr th {\n",
              "        vertical-align: top;\n",
              "    }\n",
              "\n",
              "    .dataframe thead th {\n",
              "        text-align: right;\n",
              "    }\n",
              "</style>\n",
              "<table border=\"1\" class=\"dataframe\">\n",
              "  <thead>\n",
              "    <tr style=\"text-align: right;\">\n",
              "      <th></th>\n",
              "      <th>Distance</th>\n",
              "    </tr>\n",
              "  </thead>\n",
              "  <tbody>\n",
              "    <tr>\n",
              "      <th>0</th>\n",
              "      <td>191.4</td>\n",
              "    </tr>\n",
              "    <tr>\n",
              "      <th>1</th>\n",
              "      <td>191.4</td>\n",
              "    </tr>\n",
              "    <tr>\n",
              "      <th>2</th>\n",
              "      <td>191.4</td>\n",
              "    </tr>\n",
              "    <tr>\n",
              "      <th>3</th>\n",
              "      <td>191.4</td>\n",
              "    </tr>\n",
              "    <tr>\n",
              "      <th>4</th>\n",
              "      <td>191.4</td>\n",
              "    </tr>\n",
              "  </tbody>\n",
              "</table>\n",
              "</div><br><label><b>dtype:</b> float64</label>"
            ]
          },
          "metadata": {},
          "execution_count": 43
        }
      ],
      "source": [
        "distance_km.head()"
      ]
    },
    {
      "cell_type": "markdown",
      "metadata": {
        "id": "7l8hvPFrb-S7"
      },
      "source": [
        "### What is `meta`?\n",
        "\n",
        "Since Dask operates lazily, it doesn't always have enough information to infer the output structure (which includes datatypes) of certain operations.\n",
        "\n",
        "`meta` is a _suggestion_ to Dask about the output of your computation. Importantly, `meta` _never infers with the output structure_. Dask uses this `meta` until it can determine the actual output structure.\n",
        "\n",
        "Even though there are many ways to define `meta`, we suggest using a small pandas Series or DataFrame that matches the structure of your final output."
      ]
    },
    {
      "cell_type": "markdown",
      "metadata": {
        "tags": [],
        "id": "uULnEpd3b-S7"
      },
      "source": [
        "## Close you local Dask Cluster"
      ]
    },
    {
      "cell_type": "markdown",
      "metadata": {
        "id": "0pUtIH8ub-S7"
      },
      "source": [
        "It's good practice to always close any Dask cluster you create:"
      ]
    },
    {
      "cell_type": "code",
      "execution_count": 44,
      "metadata": {
        "id": "bQLwiTNKb-S8",
        "outputId": "c8e3e0e0-4854-4589-8591-e9f447f6bb69",
        "colab": {
          "base_uri": "https://localhost:8080/"
        }
      },
      "outputs": [
        {
          "output_type": "stream",
          "name": "stderr",
          "text": [
            "INFO:distributed.scheduler:Retire worker addresses (stimulus_id='retire-workers-1746533648.8998618') (0, 1, 2, 3)\n",
            "INFO:distributed.nanny:Closing Nanny at 'tcp://127.0.0.1:35641'. Reason: nanny-close\n",
            "INFO:distributed.nanny:Nanny asking worker to close. Reason: nanny-close\n",
            "INFO:distributed.nanny:Closing Nanny at 'tcp://127.0.0.1:38103'. Reason: nanny-close\n",
            "INFO:distributed.nanny:Nanny asking worker to close. Reason: nanny-close\n",
            "INFO:distributed.nanny:Closing Nanny at 'tcp://127.0.0.1:40751'. Reason: nanny-close\n",
            "INFO:distributed.nanny:Nanny asking worker to close. Reason: nanny-close\n",
            "INFO:distributed.nanny:Closing Nanny at 'tcp://127.0.0.1:43785'. Reason: nanny-close\n",
            "INFO:distributed.nanny:Nanny asking worker to close. Reason: nanny-close\n",
            "INFO:distributed.core:Received 'close-stream' from tcp://127.0.0.1:38508; closing.\n",
            "INFO:distributed.core:Received 'close-stream' from tcp://127.0.0.1:38552; closing.\n",
            "INFO:distributed.core:Received 'close-stream' from tcp://127.0.0.1:38522; closing.\n",
            "INFO:distributed.scheduler:Remove worker addr: tcp://127.0.0.1:38629 name: 0 (stimulus_id='handle-worker-cleanup-1746533648.9741237')\n",
            "WARNING:distributed.scheduler:Removing worker 'tcp://127.0.0.1:38629' caused the cluster to lose already computed task(s), which will be recomputed elsewhere: {('read-fused-_to_string_dtype-61d8cda0ed7f7230c71cab0e644e2557', 5), ('read-fused-_to_string_dtype-61d8cda0ed7f7230c71cab0e644e2557', 9)} (stimulus_id='handle-worker-cleanup-1746533648.9741237')\n",
            "INFO:distributed.scheduler:Remove worker addr: tcp://127.0.0.1:45055 name: 1 (stimulus_id='handle-worker-cleanup-1746533648.9827323')\n",
            "WARNING:distributed.scheduler:Removing worker 'tcp://127.0.0.1:45055' caused the cluster to lose already computed task(s), which will be recomputed elsewhere: {('read-fused-_to_string_dtype-61d8cda0ed7f7230c71cab0e644e2557', 4), ('read-fused-_to_string_dtype-61d8cda0ed7f7230c71cab0e644e2557', 1), ('read-fused-_to_string_dtype-61d8cda0ed7f7230c71cab0e644e2557', 8)} (stimulus_id='handle-worker-cleanup-1746533648.9827323')\n",
            "INFO:distributed.scheduler:Remove worker addr: tcp://127.0.0.1:46619 name: 2 (stimulus_id='handle-worker-cleanup-1746533648.986986')\n",
            "WARNING:distributed.scheduler:Removing worker 'tcp://127.0.0.1:46619' caused the cluster to lose already computed task(s), which will be recomputed elsewhere: {('read-fused-_to_string_dtype-61d8cda0ed7f7230c71cab0e644e2557', 6), ('read-fused-_to_string_dtype-61d8cda0ed7f7230c71cab0e644e2557', 2)} (stimulus_id='handle-worker-cleanup-1746533648.986986')\n",
            "INFO:distributed.core:Received 'close-stream' from tcp://127.0.0.1:38536; closing.\n",
            "INFO:distributed.scheduler:Remove worker addr: tcp://127.0.0.1:44049 name: 3 (stimulus_id='handle-worker-cleanup-1746533648.9999518')\n",
            "WARNING:distributed.scheduler:Removing worker 'tcp://127.0.0.1:44049' caused the cluster to lose already computed task(s), which will be recomputed elsewhere: {('read-fused-_to_string_dtype-61d8cda0ed7f7230c71cab0e644e2557', 0), ('read-fused-_to_string_dtype-61d8cda0ed7f7230c71cab0e644e2557', 7), ('read-fused-_to_string_dtype-61d8cda0ed7f7230c71cab0e644e2557', 3)} (stimulus_id='handle-worker-cleanup-1746533648.9999518')\n",
            "INFO:distributed.scheduler:Lost all workers\n",
            "INFO:distributed.batched:Batched Comm Closed <TCP (closed) Scheduler connection to worker local=tcp://127.0.0.1:33281 remote=tcp://127.0.0.1:38536>\n",
            "Traceback (most recent call last):\n",
            "  File \"/usr/local/lib/python3.11/dist-packages/distributed/batched.py\", line 115, in _background_send\n",
            "    nbytes = yield coro\n",
            "             ^^^^^^^^^^\n",
            "  File \"/usr/local/lib/python3.11/dist-packages/tornado/gen.py\", line 766, in run\n",
            "    value = future.result()\n",
            "            ^^^^^^^^^^^^^^^\n",
            "  File \"/usr/local/lib/python3.11/dist-packages/distributed/comm/tcp.py\", line 262, in write\n",
            "    raise CommClosedError()\n",
            "distributed.comm.core.CommClosedError\n",
            "INFO:distributed.nanny:Nanny at 'tcp://127.0.0.1:43785' closed.\n",
            "INFO:distributed.nanny:Nanny at 'tcp://127.0.0.1:40751' closed.\n",
            "INFO:distributed.nanny:Nanny at 'tcp://127.0.0.1:35641' closed.\n",
            "INFO:distributed.nanny:Nanny at 'tcp://127.0.0.1:38103' closed.\n",
            "INFO:distributed.scheduler:Closing scheduler. Reason: unknown\n",
            "INFO:distributed.scheduler:Scheduler closing all comms\n"
          ]
        }
      ],
      "source": [
        "client.shutdown()"
      ]
    },
    {
      "cell_type": "code",
      "source": [],
      "metadata": {
        "id": "Y_ikJNLSeGlQ"
      },
      "execution_count": 44,
      "outputs": []
    }
  ],
  "metadata": {
    "anaconda-cloud": {},
    "kernelspec": {
      "display_name": "Python 3 (ipykernel)",
      "language": "python",
      "name": "python3"
    },
    "language_info": {
      "codemirror_mode": {
        "name": "ipython",
        "version": 3
      },
      "file_extension": ".py",
      "mimetype": "text/x-python",
      "name": "python",
      "nbconvert_exporter": "python",
      "pygments_lexer": "ipython3",
      "version": "3.10.5"
    },
    "colab": {
      "provenance": []
    },
    "widgets": {
      "application/vnd.jupyter.widget-state+json": {
        "c33ee975d91b4380b53503960b3d45eb": {
          "model_module": "jupyter-cytoscape",
          "model_name": "CytoscapeModel",
          "model_module_version": "^1.3.3",
          "state": {
            "_dom_classes": [],
            "_interaction_handlers": {},
            "_model_module": "jupyter-cytoscape",
            "_model_module_version": "^1.3.3",
            "_model_name": "CytoscapeModel",
            "_view_count": null,
            "_view_module": "jupyter-cytoscape",
            "_view_module_version": "^1.3.3",
            "_view_name": "CytoscapeView",
            "auto_ungrabify": false,
            "auto_unselectify": true,
            "autolock": false,
            "box_selection_enabled": false,
            "cytoscape_layout": {
              "name": "dagre",
              "rankDir": "BT",
              "nodeSep": 10,
              "edgeSep": 10,
              "spacingFactor": 1,
              "nodeDimensionsIncludeLabels": true
            },
            "cytoscape_style": [
              {
                "selector": "node",
                "style": {
                  "font-family": "helvetica",
                  "font-size": "24px",
                  "font-weight": "bold",
                  "color": "black",
                  "background-color": "#eee",
                  "border-color": "data(color)",
                  "border-width": 4,
                  "opacity": "1.0",
                  "text-valign": "center",
                  "text-halign": "center",
                  "label": "data(label)",
                  "shape": "data(shape)",
                  "width": 64,
                  "height": 64
                }
              },
              {
                "selector": "edge",
                "style": {
                  "width": 8,
                  "line-color": "gray",
                  "target-arrow-shape": "triangle",
                  "target-arrow-color": "gray",
                  "curve-style": "bezier"
                }
              }
            ],
            "desktop_tap_threshold": 4,
            "graph": "IPY_MODEL_6c3b96e758c14e56b6a2f0c0d2bdfbb7",
            "headless": false,
            "hide_edges_on_viewport": false,
            "layout": "IPY_MODEL_602bfd2507854ca8bb1e8441fd8c75bc",
            "max_zoom": 4,
            "min_zoom": 0.2,
            "motion_blur": false,
            "motion_blur_opacity": 0.2,
            "panning_enabled": true,
            "pixel_ratio": "auto",
            "rendered_position": {
              "renderedPosition": {
                "x": 100,
                "y": 100
              }
            },
            "selection_type": "single",
            "style_enabled": true,
            "texture_on_viewport": false,
            "tooltip_source": "tooltip",
            "touch_tap_threshold": 8,
            "user_panning_enabled": true,
            "user_zooming_enabled": true,
            "wheel_sensitivity": 0.1,
            "zoom": 2,
            "zooming_enabled": true
          }
        }
      }
    }
  },
  "nbformat": 4,
  "nbformat_minor": 0
}