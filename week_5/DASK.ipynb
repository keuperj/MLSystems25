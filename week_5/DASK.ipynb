{
 "cells": [
  {
   "cell_type": "markdown",
   "metadata": {
    "slideshow": {
     "slide_type": "slide"
    }
   },
   "source": [
    "<img src=\"IMG/dask_horizontal.svg\"  width=\"30%\">\n",
    "\n",
    "## AI Systems SS25\n",
    "#### Janis Keuper\n"
   ]
  },
  {
   "cell_type": "markdown",
   "metadata": {
    "slideshow": {
     "slide_type": "subslide"
    }
   },
   "source": [
    "<img src=\"IMG/dask_horizontal.svg\"  width=\"10%\">\n",
    "\n",
    "\n",
    "# Introduction to DASK\n",
    "* Dask is a parallel computing library that scales the existing Python ecosystem. \n",
    "* Dask can scale down to your laptop laptop and up to a cluster.\n",
    "\n",
    "   \n",
    "## DASK Ressources \n",
    "*  [DASK Website](http://dask.org)\n",
    "*  [Documentation](https://dask.pydata.org/en/latest/)\n"
   ]
  },
  {
   "cell_type": "markdown",
   "metadata": {
    "slideshow": {
     "slide_type": "slide"
    }
   },
   "source": [
    "## DASK in the Python Eco System\n",
    "\n",
    "<img src=\"IMG/python-stack.png\" width=80%>\n",
    "\n",
    "https://jupytearth.org/jupyter-resources/introduction/ecosystem.html"
   ]
  },
  {
   "cell_type": "markdown",
   "metadata": {
    "slideshow": {
     "slide_type": "subslide"
    }
   },
   "source": [
    "<img src=\"IMG/dask_horizontal.svg\"  width=\"10%\">\n",
    "\n",
    "## Key Features of DASK\n",
    "\n",
    "*  **High level Interface:**  Dask provides high-level Array, Bag, and DataFrame\n",
    "   collections that mimic NumPy, lists, and Pandas but can operate in parallel on\n",
    "   datasets that don't fit into memory.  Dask's high-level collections are\n",
    "   alternatives to NumPy and Pandas for large datasets.\n",
    "\n",
    "*  **Low Level Interface:** Dask provides dynamic task schedulers that\n",
    "   execute task graphs in parallel.  These execution engines power the\n",
    "   high-level collections mentioned above but can also power custom,\n",
    "   user-defined workloads.  These schedulers are low-latency (around 1ms) and\n",
    "   work hard to run computations in a small memory footprint.  Dask's\n",
    "   schedulers are an alternative to direct use of `threading` or\n",
    "   `multiprocessing` libraries in complex cases or other task scheduling\n",
    "   systems like `Luigi` or `IPython parallel`."
   ]
  },
  {
   "cell_type": "markdown",
   "metadata": {
    "slideshow": {
     "slide_type": "subslide"
    }
   },
   "source": [
    "<img src=\"IMG/dask_horizontal.svg\"  width=\"10%\">\n",
    "\n",
    "## DASK Scalability \n",
    "\n",
    "### runs on single node (your laptop!)\n",
    "* multi-core parallelization \n",
    "* hardly any overhead\n",
    "\n",
    "### scales to large clusters with thausands of nodes\n",
    "* with the ***SAME*** code as on the laptop\n",
    "\n",
    "\n"
   ]
  },
  {
   "cell_type": "markdown",
   "metadata": {
    "slideshow": {
     "slide_type": "subslide"
    }
   },
   "source": [
    "<img src=\"IMG/dask_horizontal.svg\"  width=\"10%\">\n",
    "\n",
    "### Worker ressource management \n",
    "* max memory, CPU cores\n",
    "* GPU assignment \n",
    "\n",
    "### Large Memory support\n",
    "* allows out of Memory processing of large data even on single node"
   ]
  },
  {
   "cell_type": "markdown",
   "metadata": {
    "slideshow": {
     "slide_type": "subslide"
    }
   },
   "source": [
    "<img src=\"IMG/dask_horizontal.svg\"  width=\"10%\">\n",
    "\n",
    "## DASK-ML\n",
    "* Scikit-Learn like API for Machine Learning\n",
    "\n",
    "## Large Scale Data Visualization\n",
    "* With DataShader"
   ]
  },
  {
   "cell_type": "markdown",
   "metadata": {
    "slideshow": {
     "slide_type": "slide"
    }
   },
   "source": [
    "# High Level Interfaces: Parallelizing NumPy and Pandas"
   ]
  },
  {
   "cell_type": "markdown",
   "metadata": {
    "slideshow": {
     "slide_type": "subslide"
    }
   },
   "source": [
    "<img src=\"IMG/numpy.png\"  width=\"10%\">\n",
    "\n",
    "## Dask Arrays: Distributed NumPy\n",
    "\n",
    "* Arithmetic and scalar mathematics: +, *, exp, log, ...\n",
    "* Reductions along axes: sum(), mean(), std(), sum(axis=0), ...\n",
    "* Tensor contractions / dot products / matrix multiply: tensordot\n",
    "* Axis reordering / transpose: transpose\n",
    "* Slicing: x[:100, 500:100:-2]\n",
    "* Fancy indexing along single axes with lists or NumPy arrays: x[:, [10, 1, 5]]\n",
    "* Array protocols like __array__ and __array_ufunc__\n",
    "* Some linear algebra: svd, qr, solve, solve_triangular, lstsq\n",
    "\n",
    "**Full Array API: https://docs.dask.org/en/latest/array-api.html**"
   ]
  },
  {
   "cell_type": "markdown",
   "metadata": {
    "slideshow": {
     "slide_type": "subslide"
    }
   },
   "source": [
    "<img src=\"IMG/numpy.png\"  width=\"10%\">\n",
    "\n",
    "### Limitations\n",
    "\n",
    "* Much of np.linalg has not been implemented. This has been done by a number of excellent BLAS/LAPACK implementations, and is the focus of numerous ongoing academic research projects\n",
    "* Arrays with unknown shapes do not support all operations\n",
    "* Operations like sort which are notoriously difficult to do in parallel, and are of somewhat diminished value on very large data (you rarely actually need a full sort). Often we include parallel-friendly alternatives like topk\n",
    "* Dask Array doesn’t implement operations like tolist that would be very inefficient for larger datasets. Likewise, it is very inefficient to iterate over a Dask array with for loops\n",
    "  \n",
    "**DASK is still evolving ...**"
   ]
  },
  {
   "cell_type": "markdown",
   "metadata": {
    "slideshow": {
     "slide_type": "subslide"
    }
   },
   "source": [
    "## Just get started!"
   ]
  },
  {
   "cell_type": "code",
   "execution_count": 1,
   "metadata": {
    "slideshow": {
     "slide_type": "fragment"
    },
    "tags": []
   },
   "outputs": [],
   "source": [
    "#uncomment on first run\n",
    "#!pip install distributed \"dask[complete]\" dask-ml graphviz numpy==1.24.3 -q --ignore-installed"
   ]
  },
  {
   "cell_type": "code",
   "execution_count": 2,
   "metadata": {
    "slideshow": {
     "slide_type": "subslide"
    },
    "tags": []
   },
   "outputs": [
    {
     "name": "stdout",
     "output_type": "stream",
     "text": [
      "CPU times: user 41.6 ms, sys: 42 μs, total: 41.7 ms\n",
      "Wall time: 41.7 ms\n"
     ]
    },
    {
     "data": {
      "text/plain": [
       "np.float64(50003881.036777504)"
      ]
     },
     "execution_count": 2,
     "metadata": {},
     "output_type": "execute_result"
    }
   ],
   "source": [
    "#let's parallelize a simple array opperations\n",
    "import numpy as np\n",
    "np_A = np.random.rand(10000,10000) #create random NumPy array\n",
    "%time np_A.sum()"
   ]
  },
  {
   "cell_type": "code",
   "execution_count": 3,
   "metadata": {
    "slideshow": {
     "slide_type": "fragment"
    },
    "tags": []
   },
   "outputs": [],
   "source": [
    "#now in parallel \n",
    "import dask.array as da\n",
    "da_A = da.from_array(np_A, chunks=(5000)) #create DASk array from existing NumPy array\n",
    "res = da_A.sum() #tell dask to compute the sum of A"
   ]
  },
  {
   "cell_type": "code",
   "execution_count": 4,
   "metadata": {
    "slideshow": {
     "slide_type": "subslide"
    },
    "tags": []
   },
   "outputs": [
    {
     "data": {
      "text/html": [
       "<table>\n",
       "    <tr>\n",
       "        <td>\n",
       "            <table style=\"border-collapse: collapse;\">\n",
       "                <thead>\n",
       "                    <tr>\n",
       "                        <td> </td>\n",
       "                        <th> Array </th>\n",
       "                        <th> Chunk </th>\n",
       "                    </tr>\n",
       "                </thead>\n",
       "                <tbody>\n",
       "                    \n",
       "                    <tr>\n",
       "                        <th> Bytes </th>\n",
       "                        <td> 8 B </td>\n",
       "                        <td> 8 B </td>\n",
       "                    </tr>\n",
       "                    \n",
       "                    <tr>\n",
       "                        <th> Shape </th>\n",
       "                        <td> () </td>\n",
       "                        <td> () </td>\n",
       "                    </tr>\n",
       "                    <tr>\n",
       "                        <th> Dask graph </th>\n",
       "                        <td colspan=\"2\"> 1 chunks in 3 graph layers </td>\n",
       "                    </tr>\n",
       "                    <tr>\n",
       "                        <th> Data type </th>\n",
       "                        <td colspan=\"2\"> float64 numpy.ndarray </td>\n",
       "                    </tr>\n",
       "                </tbody>\n",
       "            </table>\n",
       "        </td>\n",
       "        <td>\n",
       "        \n",
       "        </td>\n",
       "    </tr>\n",
       "</table>"
      ],
      "text/plain": [
       "dask.array<sum-aggregate, shape=(), dtype=float64, chunksize=(), chunktype=numpy.ndarray>"
      ]
     },
     "execution_count": 4,
     "metadata": {},
     "output_type": "execute_result"
    }
   ],
   "source": [
    "res"
   ]
  },
  {
   "cell_type": "markdown",
   "metadata": {
    "slideshow": {
     "slide_type": "fragment"
    }
   },
   "source": [
    "### Where is my result?\n",
    "In a nutshell: ***DASK*** basically works like ***TensorFlow***:\n",
    "* First, it builds an execution graph\n",
    "* Then, we need to execute it by calling ``compute()``"
   ]
  },
  {
   "cell_type": "code",
   "execution_count": 5,
   "metadata": {
    "slideshow": {
     "slide_type": "subslide"
    },
    "tags": []
   },
   "outputs": [
    {
     "name": "stdout",
     "output_type": "stream",
     "text": [
      "CPU times: user 271 ms, sys: 13.8 ms, total: 285 ms\n",
      "Wall time: 236 ms\n"
     ]
    },
    {
     "data": {
      "text/plain": [
       "np.float64(50003881.03677731)"
      ]
     },
     "execution_count": 5,
     "metadata": {},
     "output_type": "execute_result"
    }
   ],
   "source": [
    "#call compute\n",
    "%time res.compute()"
   ]
  },
  {
   "cell_type": "markdown",
   "metadata": {
    "slideshow": {
     "slide_type": "fragment"
    }
   },
   "source": [
    "### Why is this not faster?\n",
    "Well, building the graph, parallelizing it and scheduling it's execution causes some overhead...\n",
    "* probably, our problem was to small :-)\n"
   ]
  },
  {
   "cell_type": "markdown",
   "metadata": {
    "slideshow": {
     "slide_type": "subslide"
    }
   },
   "source": [
    "### What is happening at ``compute()`` ?\n"
   ]
  },
  {
   "cell_type": "code",
   "execution_count": 6,
   "metadata": {
    "tags": []
   },
   "outputs": [],
   "source": [
    "!pip install -q graphviz"
   ]
  },
  {
   "cell_type": "code",
   "execution_count": 7,
   "metadata": {
    "slideshow": {
     "slide_type": "fragment"
    },
    "tags": []
   },
   "outputs": [],
   "source": [
    "#have look at the actual compute graph build by DASK\n",
    "_=res.visualize(filename='IMG/graph.svg')"
   ]
  },
  {
   "cell_type": "markdown",
   "metadata": {
    "slideshow": {
     "slide_type": "fragment"
    }
   },
   "source": [
    "<img src=\"IMG/graph.svg\" width=200>"
   ]
  },
  {
   "cell_type": "markdown",
   "metadata": {
    "slideshow": {
     "slide_type": "subslide"
    }
   },
   "source": [
    "### Ahh - MapReduce!\n",
    "* looks like ***DASK*** automatically implemented MapReduce\n",
    "* but, why did it use 4 parallel paths?\n",
    "\n",
    "<img src=\"IMG/graph.svg\" width=150>"
   ]
  },
  {
   "cell_type": "markdown",
   "metadata": {
    "slideshow": {
     "slide_type": "slide"
    }
   },
   "source": [
    "### Block concept of DASK arrays\n",
    "* ***DASK*** splitts arrays into blocks \n",
    "* parallelization (here MapReduce) runs over Blocks\n",
    "* Blocks sizes are definde by the ``chunks`` \n",
    "\n",
    "```\n",
    "#recall array creation\n",
    "da_A = da.from_array(np_A, chunks=(5000))\n",
    "```\n",
    "\n",
    "<img SRC=\"IMG/array.png\">"
   ]
  },
  {
   "cell_type": "code",
   "execution_count": 8,
   "metadata": {
    "slideshow": {
     "slide_type": "subslide"
    },
    "tags": []
   },
   "outputs": [
    {
     "data": {
      "text/plain": [
       "((5000, 5000), (5000, 5000))"
      ]
     },
     "execution_count": 8,
     "metadata": {},
     "output_type": "execute_result"
    }
   ],
   "source": [
    "#get size of chucks\n",
    "da_A.chunks"
   ]
  },
  {
   "cell_type": "code",
   "execution_count": 9,
   "metadata": {
    "slideshow": {
     "slide_type": "fragment"
    },
    "tags": []
   },
   "outputs": [
    {
     "data": {
      "text/plain": [
       "(5000, 5000)"
      ]
     },
     "execution_count": 9,
     "metadata": {},
     "output_type": "execute_result"
    }
   ],
   "source": [
    "da_A.chunksize"
   ]
  },
  {
   "cell_type": "code",
   "execution_count": 10,
   "metadata": {
    "slideshow": {
     "slide_type": "fragment"
    },
    "tags": []
   },
   "outputs": [],
   "source": [
    "#change chunk size\n",
    "#WARNING: can be very expensive - better think about the chunk size before ...\n",
    "B=da_A.rechunk(1000)"
   ]
  },
  {
   "cell_type": "code",
   "execution_count": 11,
   "metadata": {
    "slideshow": {
     "slide_type": "fragment"
    },
    "tags": []
   },
   "outputs": [
    {
     "data": {
      "text/plain": [
       "((1000, 1000, 1000, 1000, 1000, 1000, 1000, 1000, 1000, 1000),\n",
       " (1000, 1000, 1000, 1000, 1000, 1000, 1000, 1000, 1000, 1000))"
      ]
     },
     "execution_count": 11,
     "metadata": {},
     "output_type": "execute_result"
    }
   ],
   "source": [
    "B.chunks"
   ]
  },
  {
   "cell_type": "code",
   "execution_count": 12,
   "metadata": {
    "slideshow": {
     "slide_type": "subslide"
    },
    "tags": []
   },
   "outputs": [],
   "source": [
    "res=B.sum()\n",
    "graph=res.visualize(filename='IMG/graph2.svg')#saving graph to file"
   ]
  },
  {
   "cell_type": "markdown",
   "metadata": {},
   "source": [
    "<img src=\"IMG/graph2.svg\" >"
   ]
  },
  {
   "cell_type": "markdown",
   "metadata": {
    "slideshow": {
     "slide_type": "slide"
    }
   },
   "source": [
    "### Is this running in Parallel ?\n",
    "* open ternminal\n",
    "* start ``top``\n",
    "* execute ``compute()``"
   ]
  },
  {
   "cell_type": "code",
   "execution_count": 13,
   "metadata": {
    "slideshow": {
     "slide_type": "fragment"
    },
    "tags": []
   },
   "outputs": [
    {
     "name": "stdout",
     "output_type": "stream",
     "text": [
      "202 ms ± 3.88 ms per loop (mean ± std. dev. of 7 runs, 10 loops each)\n"
     ]
    }
   ],
   "source": [
    "%%timeit #measure mean of 10 runs\n",
    "res.compute()"
   ]
  },
  {
   "cell_type": "markdown",
   "metadata": {
    "slideshow": {
     "slide_type": "slide"
    }
   },
   "source": [
    "### Memory Usage\n",
    "By processing each block at a time, ***DASK*** is not only able tu run in parallel, but also needs only tthe memory for the bock size...\n",
    "* allows easy processing of **larger than memory** data sets"
   ]
  },
  {
   "cell_type": "code",
   "execution_count": 14,
   "metadata": {
    "slideshow": {
     "slide_type": "subslide"
    },
    "tags": []
   },
   "outputs": [
    {
     "name": "stdout",
     "output_type": "stream",
     "text": [
      "CPU times: user 5.5 s, sys: 1.02 s, total: 6.52 s\n",
      "Wall time: 6.52 s\n",
      "CPU times: user 205 ms, sys: 0 ns, total: 205 ms\n",
      "Wall time: 204 ms\n"
     ]
    }
   ],
   "source": [
    "#a larger example in NumPy\n",
    "%time x = np.random.normal(10, 0.1, size=(20000, 20000)) \n",
    "%time y = x.mean(axis=0) #compute mean along first axis\n"
   ]
  },
  {
   "cell_type": "code",
   "execution_count": 15,
   "metadata": {
    "slideshow": {
     "slide_type": "subslide"
    },
    "tags": []
   },
   "outputs": [
    {
     "name": "stdout",
     "output_type": "stream",
     "text": [
      "CPU times: user 10.5 s, sys: 24.1 ms, total: 10.6 s\n",
      "Wall time: 988 ms\n"
     ]
    }
   ],
   "source": [
    "#same in DASK\n",
    "x = da.random.normal(10, 0.1, size=(20000, 20000), chunks=(1000, 1000))\n",
    "y = x.mean(axis=0) \n",
    "%time res=y.compute() "
   ]
  },
  {
   "cell_type": "markdown",
   "metadata": {
    "slideshow": {
     "slide_type": "slide"
    }
   },
   "source": [
    "<img src=\"IMG/pandas_logo.png\"  width=\"20%\">\n",
    "\n",
    "## DASK DataFrames: Dirstributed Pandas\n",
    "Pandas Dataframes are a very popular tool that provide full speadsheet and in-memory database functionality for the ***Python*** ecco system. It has become one of tstandard tools in Data Science and is also widely used for pre-processing / data wrangling tasks in machine learning\n",
    "\n",
    "* the ***DASK*** API for ***Pandas*** is analog to the one for ***NumPy*** and will not be discussed here, see https://docs.dask.org/en/latest/dataframe.html for details."
   ]
  },
  {
   "cell_type": "code",
   "execution_count": 16,
   "metadata": {
    "slideshow": {
     "slide_type": "subslide"
    },
    "tags": []
   },
   "outputs": [],
   "source": [
    "# first example\n",
    "import dask.dataframe as dd\n",
    "import dask\n",
    "df = dask.datasets.timeseries()\n"
   ]
  },
  {
   "cell_type": "code",
   "execution_count": 17,
   "metadata": {
    "scrolled": true,
    "slideshow": {
     "slide_type": "fragment"
    },
    "tags": []
   },
   "outputs": [
    {
     "data": {
      "text/html": [
       "<div><strong>Dask DataFrame Structure:</strong></div>\n",
       "<table border=\"1\" class=\"dataframe\">\n",
       "  <thead>\n",
       "    <tr style=\"text-align: right;\">\n",
       "      <th></th>\n",
       "      <th>name</th>\n",
       "      <th>id</th>\n",
       "      <th>x</th>\n",
       "      <th>y</th>\n",
       "    </tr>\n",
       "    <tr>\n",
       "      <th>npartitions=30</th>\n",
       "      <th></th>\n",
       "      <th></th>\n",
       "      <th></th>\n",
       "      <th></th>\n",
       "    </tr>\n",
       "  </thead>\n",
       "  <tbody>\n",
       "    <tr>\n",
       "      <th>2000-01-01</th>\n",
       "      <td>string</td>\n",
       "      <td>int64</td>\n",
       "      <td>float64</td>\n",
       "      <td>float64</td>\n",
       "    </tr>\n",
       "    <tr>\n",
       "      <th>2000-01-02</th>\n",
       "      <td>...</td>\n",
       "      <td>...</td>\n",
       "      <td>...</td>\n",
       "      <td>...</td>\n",
       "    </tr>\n",
       "    <tr>\n",
       "      <th>...</th>\n",
       "      <td>...</td>\n",
       "      <td>...</td>\n",
       "      <td>...</td>\n",
       "      <td>...</td>\n",
       "    </tr>\n",
       "    <tr>\n",
       "      <th>2000-01-30</th>\n",
       "      <td>...</td>\n",
       "      <td>...</td>\n",
       "      <td>...</td>\n",
       "      <td>...</td>\n",
       "    </tr>\n",
       "    <tr>\n",
       "      <th>2000-01-31</th>\n",
       "      <td>...</td>\n",
       "      <td>...</td>\n",
       "      <td>...</td>\n",
       "      <td>...</td>\n",
       "    </tr>\n",
       "  </tbody>\n",
       "</table>\n",
       "<div>Dask Name: to_string_dtype, 2 expressions</div>"
      ],
      "text/plain": [
       "Dask DataFrame Structure:\n",
       "                  name     id        x        y\n",
       "npartitions=30                                 \n",
       "2000-01-01      string  int64  float64  float64\n",
       "2000-01-02         ...    ...      ...      ...\n",
       "...                ...    ...      ...      ...\n",
       "2000-01-30         ...    ...      ...      ...\n",
       "2000-01-31         ...    ...      ...      ...\n",
       "Dask Name: to_string_dtype, 2 expressions\n",
       "Expr=ArrowStringConversion(frame=Timeseries(237d26c))"
      ]
     },
     "execution_count": 17,
     "metadata": {},
     "output_type": "execute_result"
    }
   ],
   "source": [
    "df"
   ]
  },
  {
   "cell_type": "markdown",
   "metadata": {
    "slideshow": {
     "slide_type": "fragment"
    }
   },
   "source": [
    "Recall: ***lazy*** execution! No data in dataframe at this time..."
   ]
  },
  {
   "cell_type": "code",
   "execution_count": 18,
   "metadata": {
    "slideshow": {
     "slide_type": "subslide"
    },
    "tags": []
   },
   "outputs": [
    {
     "data": {
      "text/html": [
       "<div>\n",
       "<style scoped>\n",
       "    .dataframe tbody tr th:only-of-type {\n",
       "        vertical-align: middle;\n",
       "    }\n",
       "\n",
       "    .dataframe tbody tr th {\n",
       "        vertical-align: top;\n",
       "    }\n",
       "\n",
       "    .dataframe thead th {\n",
       "        text-align: right;\n",
       "    }\n",
       "</style>\n",
       "<table border=\"1\" class=\"dataframe\">\n",
       "  <thead>\n",
       "    <tr style=\"text-align: right;\">\n",
       "      <th></th>\n",
       "      <th>name</th>\n",
       "      <th>id</th>\n",
       "      <th>x</th>\n",
       "      <th>y</th>\n",
       "    </tr>\n",
       "    <tr>\n",
       "      <th>timestamp</th>\n",
       "      <th></th>\n",
       "      <th></th>\n",
       "      <th></th>\n",
       "      <th></th>\n",
       "    </tr>\n",
       "  </thead>\n",
       "  <tbody>\n",
       "    <tr>\n",
       "      <th>2000-01-01 00:00:00</th>\n",
       "      <td>Sarah</td>\n",
       "      <td>982</td>\n",
       "      <td>-0.724104</td>\n",
       "      <td>-0.379251</td>\n",
       "    </tr>\n",
       "    <tr>\n",
       "      <th>2000-01-01 00:00:01</th>\n",
       "      <td>Wendy</td>\n",
       "      <td>1049</td>\n",
       "      <td>0.560341</td>\n",
       "      <td>0.458483</td>\n",
       "    </tr>\n",
       "    <tr>\n",
       "      <th>2000-01-01 00:00:02</th>\n",
       "      <td>Tim</td>\n",
       "      <td>1005</td>\n",
       "      <td>0.527510</td>\n",
       "      <td>0.206053</td>\n",
       "    </tr>\n",
       "    <tr>\n",
       "      <th>2000-01-01 00:00:03</th>\n",
       "      <td>Patricia</td>\n",
       "      <td>998</td>\n",
       "      <td>-0.747706</td>\n",
       "      <td>0.018709</td>\n",
       "    </tr>\n",
       "    <tr>\n",
       "      <th>2000-01-01 00:00:04</th>\n",
       "      <td>Ingrid</td>\n",
       "      <td>1027</td>\n",
       "      <td>0.216105</td>\n",
       "      <td>0.992261</td>\n",
       "    </tr>\n",
       "  </tbody>\n",
       "</table>\n",
       "</div>"
      ],
      "text/plain": [
       "                         name    id         x         y\n",
       "timestamp                                              \n",
       "2000-01-01 00:00:00     Sarah   982 -0.724104 -0.379251\n",
       "2000-01-01 00:00:01     Wendy  1049  0.560341  0.458483\n",
       "2000-01-01 00:00:02       Tim  1005  0.527510  0.206053\n",
       "2000-01-01 00:00:03  Patricia   998 -0.747706  0.018709\n",
       "2000-01-01 00:00:04    Ingrid  1027  0.216105  0.992261"
      ]
     },
     "execution_count": 18,
     "metadata": {},
     "output_type": "execute_result"
    }
   ],
   "source": [
    "#this is a call\n",
    "df.head()"
   ]
  },
  {
   "cell_type": "code",
   "execution_count": 19,
   "metadata": {
    "scrolled": true,
    "slideshow": {
     "slide_type": "subslide"
    },
    "tags": []
   },
   "outputs": [
    {
     "data": {
      "text/plain": [
       "Dask Series Structure:\n",
       "npartitions=1\n",
       "    float64\n",
       "        ...\n",
       "Dask Name: getitem, 8 expressions\n",
       "Expr=(((Filter(frame=ArrowStringConversion(frame=Timeseries(237d26c)), predicate=ArrowStringConversion(frame=Timeseries(237d26c))['y'] > 0))[['name', 'x']]).std(ddof=1, numeric_only=False, split_out=None, observed=False))['x']"
      ]
     },
     "execution_count": 19,
     "metadata": {},
     "output_type": "execute_result"
    }
   ],
   "source": [
    "#let's groupBy ...\n",
    "df2 = df[df.y > 0]\n",
    "df3 = df2.groupby('name').x.std()\n",
    "df3"
   ]
  },
  {
   "cell_type": "code",
   "execution_count": 20,
   "metadata": {
    "scrolled": true,
    "slideshow": {
     "slide_type": "subslide"
    },
    "tags": []
   },
   "outputs": [
    {
     "data": {
      "text/plain": [
       "name\n",
       "Bob         0.577790\n",
       "Dan         0.577095\n",
       "Edith       0.576823\n",
       "George      0.576427\n",
       "Hannah      0.578984\n",
       "Ingrid      0.578480\n",
       "Laura       0.578101\n",
       "Michael     0.575928\n",
       "Quinn       0.578986\n",
       "Ray         0.577553\n",
       "Sarah       0.578545\n",
       "Wendy       0.577211\n",
       "Yvonne      0.577393\n",
       "Zelda       0.578452\n",
       "Alice       0.577562\n",
       "Charlie     0.577180\n",
       "Frank       0.577095\n",
       "Jerry       0.576082\n",
       "Kevin       0.580681\n",
       "Norbert     0.577490\n",
       "Oliver      0.578097\n",
       "Patricia    0.575259\n",
       "Tim         0.577527\n",
       "Ursula      0.576644\n",
       "Victor      0.577710\n",
       "Xavier      0.576871\n",
       "Name: x, dtype: float64"
      ]
     },
     "execution_count": 20,
     "metadata": {},
     "output_type": "execute_result"
    }
   ],
   "source": [
    "df3.compute()\n"
   ]
  },
  {
   "cell_type": "code",
   "execution_count": 21,
   "metadata": {
    "scrolled": true,
    "slideshow": {
     "slide_type": "subslide"
    },
    "tags": []
   },
   "outputs": [
    {
     "data": {
      "text/html": [
       "<div>\n",
       "<style scoped>\n",
       "    .dataframe tbody tr th:only-of-type {\n",
       "        vertical-align: middle;\n",
       "    }\n",
       "\n",
       "    .dataframe tbody tr th {\n",
       "        vertical-align: top;\n",
       "    }\n",
       "\n",
       "    .dataframe thead th {\n",
       "        text-align: right;\n",
       "    }\n",
       "</style>\n",
       "<table border=\"1\" class=\"dataframe\">\n",
       "  <thead>\n",
       "    <tr style=\"text-align: right;\">\n",
       "      <th></th>\n",
       "      <th>x</th>\n",
       "      <th>y</th>\n",
       "    </tr>\n",
       "    <tr>\n",
       "      <th>timestamp</th>\n",
       "      <th></th>\n",
       "      <th></th>\n",
       "    </tr>\n",
       "  </thead>\n",
       "  <tbody>\n",
       "    <tr>\n",
       "      <th>2000-01-01 00:00:00</th>\n",
       "      <td>-0.012378</td>\n",
       "      <td>0.029680</td>\n",
       "    </tr>\n",
       "    <tr>\n",
       "      <th>2000-01-01 01:00:00</th>\n",
       "      <td>0.005484</td>\n",
       "      <td>0.006413</td>\n",
       "    </tr>\n",
       "    <tr>\n",
       "      <th>2000-01-01 02:00:00</th>\n",
       "      <td>-0.013050</td>\n",
       "      <td>-0.014023</td>\n",
       "    </tr>\n",
       "    <tr>\n",
       "      <th>2000-01-01 03:00:00</th>\n",
       "      <td>-0.014303</td>\n",
       "      <td>0.010828</td>\n",
       "    </tr>\n",
       "    <tr>\n",
       "      <th>2000-01-01 04:00:00</th>\n",
       "      <td>0.013485</td>\n",
       "      <td>-0.001830</td>\n",
       "    </tr>\n",
       "  </tbody>\n",
       "</table>\n",
       "</div>"
      ],
      "text/plain": [
       "                            x         y\n",
       "timestamp                              \n",
       "2000-01-01 00:00:00 -0.012378  0.029680\n",
       "2000-01-01 01:00:00  0.005484  0.006413\n",
       "2000-01-01 02:00:00 -0.013050 -0.014023\n",
       "2000-01-01 03:00:00 -0.014303  0.010828\n",
       "2000-01-01 04:00:00  0.013485 -0.001830"
      ]
     },
     "execution_count": 21,
     "metadata": {},
     "output_type": "execute_result"
    }
   ],
   "source": [
    "#more complex opperation -> need trigger to start computation!\n",
    "df[['x', 'y']].resample('1h').mean().head()"
   ]
  },
  {
   "cell_type": "code",
   "execution_count": 22,
   "metadata": {
    "scrolled": true,
    "slideshow": {
     "slide_type": "subslide"
    },
    "tags": []
   },
   "outputs": [
    {
     "data": {
      "text/plain": [
       "<Axes: xlabel='timestamp'>"
      ]
     },
     "execution_count": 22,
     "metadata": {},
     "output_type": "execute_result"
    },
    {
     "data": {
      "image/png": "[encoded data removed]",
      "text/plain": [
       "<Figure size 640x480 with 1 Axes>"
      ]
     },
     "metadata": {},
     "output_type": "display_data"
    }
   ],
   "source": [
    "df[['x', 'y']].resample('24h').mean().compute().plot()"
   ]
  },
  {
   "cell_type": "markdown",
   "metadata": {
    "slideshow": {
     "slide_type": "subslide"
    }
   },
   "source": [
    "### DASK DataFrame summary\n",
    "* almost identical API as Pandas -> some thigs are still missing!\n",
    "* out of memory opperations\n",
    "* lazy execution -> need to trigger results via *atomic* opperations (just like in Spark)\n"
   ]
  },
  {
   "cell_type": "markdown",
   "metadata": {
    "slideshow": {
     "slide_type": "slide"
    }
   },
   "source": [
    "# Distributed Execution"
   ]
  },
  {
   "cell_type": "code",
   "execution_count": 23,
   "metadata": {
    "slideshow": {
     "slide_type": "fragment"
    },
    "tags": []
   },
   "outputs": [],
   "source": [
    "#create local cluster with CPU Cores\n",
    "from dask.distributed import Client, LocalCluster\n",
    "cluster = LocalCluster()\n",
    "client = Client(cluster)"
   ]
  },
  {
   "cell_type": "markdown",
   "metadata": {
    "slideshow": {
     "slide_type": "fragment"
    }
   },
   "source": [
    "In our cluster enviroment, the ***DASK*** Cluster is automatically started for multi node jobs. See DASK documentation on how to setup a ***DASK*** cluster: http://distributed.dask.org/en/latest/setup.html"
   ]
  },
  {
   "cell_type": "code",
   "execution_count": 24,
   "metadata": {
    "slideshow": {
     "slide_type": "-"
    },
    "tags": []
   },
   "outputs": [],
   "source": [
    "#client = Client(MASTER-IP) #get new DASK cluster client"
   ]
  },
  {
   "cell_type": "code",
   "execution_count": 25,
   "metadata": {
    "slideshow": {
     "slide_type": "subslide"
    },
    "tags": []
   },
   "outputs": [
    {
     "data": {
      "text/html": [
       "<div>\n",
       "    <div style=\"width: 24px; height: 24px; background-color: #e1e1e1; border: 3px solid #9D9D9D; border-radius: 5px; position: absolute;\"> </div>\n",
       "    <div style=\"margin-left: 48px;\">\n",
       "        <h3 style=\"margin-bottom: 0px;\">Client</h3>\n",
       "        <p style=\"color: #9D9D9D; margin-bottom: 0px;\">Client-40039733-2010-11f0-af5f-7413eaa24284</p>\n",
       "        <table style=\"width: 100%; text-align: left;\">\n",
       "\n",
       "        <tr>\n",
       "        \n",
       "            <td style=\"text-align: left;\"><strong>Connection method:</strong> Cluster object</td>\n",
       "            <td style=\"text-align: left;\"><strong>Cluster type:</strong> distributed.LocalCluster</td>\n",
       "        \n",
       "        </tr>\n",
       "\n",
       "        \n",
       "            <tr>\n",
       "                <td style=\"text-align: left;\">\n",
       "                    <strong>Dashboard: </strong> <a href=\"http://127.0.0.1:8787/status\" target=\"_blank\">http://127.0.0.1:8787/status</a>\n",
       "                </td>\n",
       "                <td style=\"text-align: left;\"></td>\n",
       "            </tr>\n",
       "        \n",
       "\n",
       "        </table>\n",
       "\n",
       "        \n",
       "\n",
       "        \n",
       "            <details>\n",
       "            <summary style=\"margin-bottom: 20px;\"><h3 style=\"display: inline;\">Cluster Info</h3></summary>\n",
       "            <div class=\"jp-RenderedHTMLCommon jp-RenderedHTML jp-mod-trusted jp-OutputArea-output\">\n",
       "    <div style=\"width: 24px; height: 24px; background-color: #e1e1e1; border: 3px solid #9D9D9D; border-radius: 5px; position: absolute;\">\n",
       "    </div>\n",
       "    <div style=\"margin-left: 48px;\">\n",
       "        <h3 style=\"margin-bottom: 0px; margin-top: 0px;\">LocalCluster</h3>\n",
       "        <p style=\"color: #9D9D9D; margin-bottom: 0px;\">79d79377</p>\n",
       "        <table style=\"width: 100%; text-align: left;\">\n",
       "            <tr>\n",
       "                <td style=\"text-align: left;\">\n",
       "                    <strong>Dashboard:</strong> <a href=\"http://127.0.0.1:8787/status\" target=\"_blank\">http://127.0.0.1:8787/status</a>\n",
       "                </td>\n",
       "                <td style=\"text-align: left;\">\n",
       "                    <strong>Workers:</strong> 4\n",
       "                </td>\n",
       "            </tr>\n",
       "            <tr>\n",
       "                <td style=\"text-align: left;\">\n",
       "                    <strong>Total threads:</strong> 12\n",
       "                </td>\n",
       "                <td style=\"text-align: left;\">\n",
       "                    <strong>Total memory:</strong> 15.29 GiB\n",
       "                </td>\n",
       "            </tr>\n",
       "            \n",
       "            <tr>\n",
       "    <td style=\"text-align: left;\"><strong>Status:</strong> running</td>\n",
       "    <td style=\"text-align: left;\"><strong>Using processes:</strong> True</td>\n",
       "</tr>\n",
       "\n",
       "            \n",
       "        </table>\n",
       "\n",
       "        <details>\n",
       "            <summary style=\"margin-bottom: 20px;\">\n",
       "                <h3 style=\"display: inline;\">Scheduler Info</h3>\n",
       "            </summary>\n",
       "\n",
       "            <div style=\"\">\n",
       "    <div>\n",
       "        <div style=\"width: 24px; height: 24px; background-color: #FFF7E5; border: 3px solid #FF6132; border-radius: 5px; position: absolute;\"> </div>\n",
       "        <div style=\"margin-left: 48px;\">\n",
       "            <h3 style=\"margin-bottom: 0px;\">Scheduler</h3>\n",
       "            <p style=\"color: #9D9D9D; margin-bottom: 0px;\">Scheduler-98aca620-70e7-4fa8-be24-9cd3bb4dac7c</p>\n",
       "            <table style=\"width: 100%; text-align: left;\">\n",
       "                <tr>\n",
       "                    <td style=\"text-align: left;\">\n",
       "                        <strong>Comm:</strong> tcp://127.0.0.1:41319\n",
       "                    </td>\n",
       "                    <td style=\"text-align: left;\">\n",
       "                        <strong>Workers:</strong> 0 \n",
       "                    </td>\n",
       "                </tr>\n",
       "                <tr>\n",
       "                    <td style=\"text-align: left;\">\n",
       "                        <strong>Dashboard:</strong> <a href=\"http://127.0.0.1:8787/status\" target=\"_blank\">http://127.0.0.1:8787/status</a>\n",
       "                    </td>\n",
       "                    <td style=\"text-align: left;\">\n",
       "                        <strong>Total threads:</strong> 0\n",
       "                    </td>\n",
       "                </tr>\n",
       "                <tr>\n",
       "                    <td style=\"text-align: left;\">\n",
       "                        <strong>Started:</strong> Just now\n",
       "                    </td>\n",
       "                    <td style=\"text-align: left;\">\n",
       "                        <strong>Total memory:</strong> 0 B\n",
       "                    </td>\n",
       "                </tr>\n",
       "            </table>\n",
       "        </div>\n",
       "    </div>\n",
       "\n",
       "    <details style=\"margin-left: 48px;\">\n",
       "        <summary style=\"margin-bottom: 20px;\">\n",
       "            <h3 style=\"display: inline;\">Workers</h3>\n",
       "        </summary>\n",
       "\n",
       "        \n",
       "        <div style=\"margin-bottom: 20px;\">\n",
       "            <div style=\"width: 24px; height: 24px; background-color: #DBF5FF; border: 3px solid #4CC9FF; border-radius: 5px; position: absolute;\"> </div>\n",
       "            <div style=\"margin-left: 48px;\">\n",
       "            <details>\n",
       "                <summary>\n",
       "                    <h4 style=\"margin-bottom: 0px; display: inline;\">Worker: 0</h4>\n",
       "                </summary>\n",
       "                <table style=\"width: 100%; text-align: left;\">\n",
       "                    <tr>\n",
       "                        <td style=\"text-align: left;\">\n",
       "                            <strong>Comm: </strong> tcp://127.0.0.1:43331\n",
       "                        </td>\n",
       "                        <td style=\"text-align: left;\">\n",
       "                            <strong>Total threads: </strong> 3\n",
       "                        </td>\n",
       "                    </tr>\n",
       "                    <tr>\n",
       "                        <td style=\"text-align: left;\">\n",
       "                            <strong>Dashboard: </strong> <a href=\"http://127.0.0.1:38923/status\" target=\"_blank\">http://127.0.0.1:38923/status</a>\n",
       "                        </td>\n",
       "                        <td style=\"text-align: left;\">\n",
       "                            <strong>Memory: </strong> 3.82 GiB\n",
       "                        </td>\n",
       "                    </tr>\n",
       "                    <tr>\n",
       "                        <td style=\"text-align: left;\">\n",
       "                            <strong>Nanny: </strong> tcp://127.0.0.1:41193\n",
       "                        </td>\n",
       "                        <td style=\"text-align: left;\"></td>\n",
       "                    </tr>\n",
       "                    <tr>\n",
       "                        <td colspan=\"2\" style=\"text-align: left;\">\n",
       "                            <strong>Local directory: </strong> /tmp/dask-scratch-space/worker-nroe81ub\n",
       "                        </td>\n",
       "                    </tr>\n",
       "\n",
       "                    \n",
       "\n",
       "                    \n",
       "\n",
       "                </table>\n",
       "            </details>\n",
       "            </div>\n",
       "        </div>\n",
       "        \n",
       "        <div style=\"margin-bottom: 20px;\">\n",
       "            <div style=\"width: 24px; height: 24px; background-color: #DBF5FF; border: 3px solid #4CC9FF; border-radius: 5px; position: absolute;\"> </div>\n",
       "            <div style=\"margin-left: 48px;\">\n",
       "            <details>\n",
       "                <summary>\n",
       "                    <h4 style=\"margin-bottom: 0px; display: inline;\">Worker: 1</h4>\n",
       "                </summary>\n",
       "                <table style=\"width: 100%; text-align: left;\">\n",
       "                    <tr>\n",
       "                        <td style=\"text-align: left;\">\n",
       "                            <strong>Comm: </strong> tcp://127.0.0.1:37869\n",
       "                        </td>\n",
       "                        <td style=\"text-align: left;\">\n",
       "                            <strong>Total threads: </strong> 3\n",
       "                        </td>\n",
       "                    </tr>\n",
       "                    <tr>\n",
       "                        <td style=\"text-align: left;\">\n",
       "                            <strong>Dashboard: </strong> <a href=\"http://127.0.0.1:45031/status\" target=\"_blank\">http://127.0.0.1:45031/status</a>\n",
       "                        </td>\n",
       "                        <td style=\"text-align: left;\">\n",
       "                            <strong>Memory: </strong> 3.82 GiB\n",
       "                        </td>\n",
       "                    </tr>\n",
       "                    <tr>\n",
       "                        <td style=\"text-align: left;\">\n",
       "                            <strong>Nanny: </strong> tcp://127.0.0.1:38909\n",
       "                        </td>\n",
       "                        <td style=\"text-align: left;\"></td>\n",
       "                    </tr>\n",
       "                    <tr>\n",
       "                        <td colspan=\"2\" style=\"text-align: left;\">\n",
       "                            <strong>Local directory: </strong> /tmp/dask-scratch-space/worker-x6ed85cp\n",
       "                        </td>\n",
       "                    </tr>\n",
       "\n",
       "                    \n",
       "\n",
       "                    \n",
       "\n",
       "                </table>\n",
       "            </details>\n",
       "            </div>\n",
       "        </div>\n",
       "        \n",
       "        <div style=\"margin-bottom: 20px;\">\n",
       "            <div style=\"width: 24px; height: 24px; background-color: #DBF5FF; border: 3px solid #4CC9FF; border-radius: 5px; position: absolute;\"> </div>\n",
       "            <div style=\"margin-left: 48px;\">\n",
       "            <details>\n",
       "                <summary>\n",
       "                    <h4 style=\"margin-bottom: 0px; display: inline;\">Worker: 2</h4>\n",
       "                </summary>\n",
       "                <table style=\"width: 100%; text-align: left;\">\n",
       "                    <tr>\n",
       "                        <td style=\"text-align: left;\">\n",
       "                            <strong>Comm: </strong> tcp://127.0.0.1:40977\n",
       "                        </td>\n",
       "                        <td style=\"text-align: left;\">\n",
       "                            <strong>Total threads: </strong> 3\n",
       "                        </td>\n",
       "                    </tr>\n",
       "                    <tr>\n",
       "                        <td style=\"text-align: left;\">\n",
       "                            <strong>Dashboard: </strong> <a href=\"http://127.0.0.1:34017/status\" target=\"_blank\">http://127.0.0.1:34017/status</a>\n",
       "                        </td>\n",
       "                        <td style=\"text-align: left;\">\n",
       "                            <strong>Memory: </strong> 3.82 GiB\n",
       "                        </td>\n",
       "                    </tr>\n",
       "                    <tr>\n",
       "                        <td style=\"text-align: left;\">\n",
       "                            <strong>Nanny: </strong> tcp://127.0.0.1:42853\n",
       "                        </td>\n",
       "                        <td style=\"text-align: left;\"></td>\n",
       "                    </tr>\n",
       "                    <tr>\n",
       "                        <td colspan=\"2\" style=\"text-align: left;\">\n",
       "                            <strong>Local directory: </strong> /tmp/dask-scratch-space/worker-c2kfn7b1\n",
       "                        </td>\n",
       "                    </tr>\n",
       "\n",
       "                    \n",
       "\n",
       "                    \n",
       "\n",
       "                </table>\n",
       "            </details>\n",
       "            </div>\n",
       "        </div>\n",
       "        \n",
       "        <div style=\"margin-bottom: 20px;\">\n",
       "            <div style=\"width: 24px; height: 24px; background-color: #DBF5FF; border: 3px solid #4CC9FF; border-radius: 5px; position: absolute;\"> </div>\n",
       "            <div style=\"margin-left: 48px;\">\n",
       "            <details>\n",
       "                <summary>\n",
       "                    <h4 style=\"margin-bottom: 0px; display: inline;\">Worker: 3</h4>\n",
       "                </summary>\n",
       "                <table style=\"width: 100%; text-align: left;\">\n",
       "                    <tr>\n",
       "                        <td style=\"text-align: left;\">\n",
       "                            <strong>Comm: </strong> tcp://127.0.0.1:42025\n",
       "                        </td>\n",
       "                        <td style=\"text-align: left;\">\n",
       "                            <strong>Total threads: </strong> 3\n",
       "                        </td>\n",
       "                    </tr>\n",
       "                    <tr>\n",
       "                        <td style=\"text-align: left;\">\n",
       "                            <strong>Dashboard: </strong> <a href=\"http://127.0.0.1:33875/status\" target=\"_blank\">http://127.0.0.1:33875/status</a>\n",
       "                        </td>\n",
       "                        <td style=\"text-align: left;\">\n",
       "                            <strong>Memory: </strong> 3.82 GiB\n",
       "                        </td>\n",
       "                    </tr>\n",
       "                    <tr>\n",
       "                        <td style=\"text-align: left;\">\n",
       "                            <strong>Nanny: </strong> tcp://127.0.0.1:45911\n",
       "                        </td>\n",
       "                        <td style=\"text-align: left;\"></td>\n",
       "                    </tr>\n",
       "                    <tr>\n",
       "                        <td colspan=\"2\" style=\"text-align: left;\">\n",
       "                            <strong>Local directory: </strong> /tmp/dask-scratch-space/worker-0ofvgrw7\n",
       "                        </td>\n",
       "                    </tr>\n",
       "\n",
       "                    \n",
       "\n",
       "                    \n",
       "\n",
       "                </table>\n",
       "            </details>\n",
       "            </div>\n",
       "        </div>\n",
       "        \n",
       "\n",
       "    </details>\n",
       "</div>\n",
       "\n",
       "        </details>\n",
       "    </div>\n",
       "</div>\n",
       "            </details>\n",
       "        \n",
       "\n",
       "    </div>\n",
       "</div>"
      ],
      "text/plain": [
       "<Client: 'tcp://127.0.0.1:41319' processes=4 threads=12, memory=15.29 GiB>"
      ]
     },
     "execution_count": 25,
     "metadata": {},
     "output_type": "execute_result"
    }
   ],
   "source": [
    "client"
   ]
  },
  {
   "cell_type": "code",
   "execution_count": 26,
   "metadata": {
    "slideshow": {
     "slide_type": "subslide"
    },
    "tags": []
   },
   "outputs": [
    {
     "name": "stdout",
     "output_type": "stream",
     "text": [
      "tcp://127.0.0.1:37869\n",
      "tcp://127.0.0.1:40977\n",
      "tcp://127.0.0.1:42025\n",
      "tcp://127.0.0.1:43331\n"
     ]
    }
   ],
   "source": [
    "#see how many workers we have\n",
    "workers=client.scheduler_info()['workers']\n",
    "for w in workers:\n",
    "    print(w)"
   ]
  },
  {
   "cell_type": "markdown",
   "metadata": {
    "slideshow": {
     "slide_type": "subslide"
    }
   },
   "source": [
    "## Submit work to the Cluster"
   ]
  },
  {
   "cell_type": "code",
   "execution_count": 27,
   "metadata": {
    "slideshow": {
     "slide_type": "-"
    },
    "tags": []
   },
   "outputs": [],
   "source": [
    "#simple remote functions\n",
    "def square(x):\n",
    "    return x ** 2\n",
    "\n",
    "def neg(x):\n",
    "    return -x\n",
    "\n",
    "#using the map future, functions will be scheduled for execution - NO graph building and compute()\n",
    "A = client.map(square, range(1000))\n",
    "B = client.map(neg, A)"
   ]
  },
  {
   "cell_type": "code",
   "execution_count": 28,
   "metadata": {
    "slideshow": {
     "slide_type": "subslide"
    },
    "tags": []
   },
   "outputs": [],
   "source": [
    "total = client.submit(sum, B)"
   ]
  },
  {
   "cell_type": "code",
   "execution_count": 29,
   "metadata": {
    "slideshow": {
     "slide_type": "fragment"
    },
    "tags": []
   },
   "outputs": [
    {
     "name": "stdout",
     "output_type": "stream",
     "text": [
      "done:  -332833500\n"
     ]
    }
   ],
   "source": [
    "\n",
    "res = total.result()\n",
    "print (\"done: \",res)"
   ]
  },
  {
   "cell_type": "markdown",
   "metadata": {
    "slideshow": {
     "slide_type": "slide"
    }
   },
   "source": [
    "### Arrays on the Cluster\n",
    "Starting a cluster client automatically cause the high level interfaces to use the cluster"
   ]
  },
  {
   "cell_type": "code",
   "execution_count": 30,
   "metadata": {
    "slideshow": {
     "slide_type": "fragment"
    },
    "tags": []
   },
   "outputs": [],
   "source": [
    "import numpy as np\n",
    "np_A = np.random.rand(10000,10000) #create random NumPy array\n",
    "import dask.array as da\n",
    "cluster_A = da.from_array(np_A, chunks=(5000)) #create DASk array from existing NumPy array\n",
    "res = cluster_A.sum() #tell dask to compute the sum of A"
   ]
  },
  {
   "cell_type": "code",
   "execution_count": 31,
   "metadata": {
    "slideshow": {
     "slide_type": "fragment"
    },
    "tags": []
   },
   "outputs": [
    {
     "name": "stderr",
     "output_type": "stream",
     "text": [
      "/home/keuper/anaconda3/envs/dask/lib/python3.13/site-packages/distributed/client.py:3357: UserWarning: Sending large graph of size 762.94 MiB.\n",
      "This may cause some slowdown.\n",
      "Consider loading the data with Dask directly\n",
      " or using futures or delayed objects to embed the data into the graph without repetition.\n",
      "See also https://docs.dask.org/en/stable/best-practices.html#load-data-with-dask for more information.\n",
      "  warnings.warn(\n"
     ]
    },
    {
     "name": "stdout",
     "output_type": "stream",
     "text": [
      "CPU times: user 720 ms, sys: 1.15 s, total: 1.87 s\n",
      "Wall time: 2.24 s\n"
     ]
    },
    {
     "data": {
      "text/plain": [
       "np.float64(50003321.054577164)"
      ]
     },
     "execution_count": 31,
     "metadata": {},
     "output_type": "execute_result"
    }
   ],
   "source": [
    "\n",
    "%time res.compute()"
   ]
  },
  {
   "cell_type": "markdown",
   "metadata": {
    "slideshow": {
     "slide_type": "slide"
    }
   },
   "source": [
    "## Dask Dashboard\n",
    "\n",
    "* Open http://localhost:8787/status to get the Dask dashboard \n",
    "* (replace with master node IP for remote clusters)"
   ]
  },
  {
   "cell_type": "markdown",
   "metadata": {
    "slideshow": {
     "slide_type": "slide"
    }
   },
   "source": [
    "## ***DASK-ML*** Project\n",
    "Approach to make ***DASK*** a full distributed ML framework\n",
    "* https://ml.dask.org/\n",
    "* Scikit-Learn like API: https://ml.dask.org/modules/api.html"
   ]
  },
  {
   "cell_type": "code",
   "execution_count": 32,
   "metadata": {
    "tags": []
   },
   "outputs": [],
   "source": [
    "#!pip install -q dask-ml "
   ]
  },
  {
   "cell_type": "markdown",
   "metadata": {
    "slideshow": {
     "slide_type": "subslide"
    }
   },
   "source": [
    "### Example: K-MEANS"
   ]
  },
  {
   "cell_type": "code",
   "execution_count": 33,
   "metadata": {
    "slideshow": {
     "slide_type": "-"
    },
    "tags": []
   },
   "outputs": [],
   "source": [
    "%matplotlib inline\n",
    "\n",
    "import dask_ml.datasets\n",
    "import dask_ml.cluster\n",
    "import matplotlib.pyplot as plt\n",
    "\n"
   ]
  },
  {
   "cell_type": "code",
   "execution_count": 36,
   "metadata": {
    "slideshow": {
     "slide_type": "subslide"
    },
    "tags": []
   },
   "outputs": [
    {
     "data": {
      "text/html": [
       "<table>\n",
       "    <tr>\n",
       "        <td>\n",
       "            <table style=\"border-collapse: collapse;\">\n",
       "                <thead>\n",
       "                    <tr>\n",
       "                        <td> </td>\n",
       "                        <th> Array </th>\n",
       "                        <th> Chunk </th>\n",
       "                    </tr>\n",
       "                </thead>\n",
       "                <tbody>\n",
       "                    \n",
       "                    <tr>\n",
       "                        <th> Bytes </th>\n",
       "                        <td> 15.26 MiB </td>\n",
       "                        <td> 1.53 MiB </td>\n",
       "                    </tr>\n",
       "                    \n",
       "                    <tr>\n",
       "                        <th> Shape </th>\n",
       "                        <td> (1000000, 2) </td>\n",
       "                        <td> (100000, 2) </td>\n",
       "                    </tr>\n",
       "                    <tr>\n",
       "                        <th> Dask graph </th>\n",
       "                        <td colspan=\"2\"> 10 chunks in 1 graph layer </td>\n",
       "                    </tr>\n",
       "                    <tr>\n",
       "                        <th> Data type </th>\n",
       "                        <td colspan=\"2\"> float64 numpy.ndarray </td>\n",
       "                    </tr>\n",
       "                </tbody>\n",
       "            </table>\n",
       "        </td>\n",
       "        <td>\n",
       "        <svg width=\"75\" height=\"170\" style=\"stroke:rgb(0,0,0);stroke-width:1\" >\n",
       "\n",
       "  <!-- Horizontal lines -->\n",
       "  <line x1=\"0\" y1=\"0\" x2=\"25\" y2=\"0\" style=\"stroke-width:2\" />\n",
       "  <line x1=\"0\" y1=\"12\" x2=\"25\" y2=\"12\" />\n",
       "  <line x1=\"0\" y1=\"24\" x2=\"25\" y2=\"24\" />\n",
       "  <line x1=\"0\" y1=\"36\" x2=\"25\" y2=\"36\" />\n",
       "  <line x1=\"0\" y1=\"48\" x2=\"25\" y2=\"48\" />\n",
       "  <line x1=\"0\" y1=\"60\" x2=\"25\" y2=\"60\" />\n",
       "  <line x1=\"0\" y1=\"72\" x2=\"25\" y2=\"72\" />\n",
       "  <line x1=\"0\" y1=\"84\" x2=\"25\" y2=\"84\" />\n",
       "  <line x1=\"0\" y1=\"96\" x2=\"25\" y2=\"96\" />\n",
       "  <line x1=\"0\" y1=\"108\" x2=\"25\" y2=\"108\" />\n",
       "  <line x1=\"0\" y1=\"120\" x2=\"25\" y2=\"120\" style=\"stroke-width:2\" />\n",
       "\n",
       "  <!-- Vertical lines -->\n",
       "  <line x1=\"0\" y1=\"0\" x2=\"0\" y2=\"120\" style=\"stroke-width:2\" />\n",
       "  <line x1=\"25\" y1=\"0\" x2=\"25\" y2=\"120\" style=\"stroke-width:2\" />\n",
       "\n",
       "  <!-- Colored Rectangle -->\n",
       "  <polygon points=\"0.0,0.0 25.412616514582485,0.0 25.412616514582485,120.0 0.0,120.0\" style=\"fill:#ECB172A0;stroke-width:0\"/>\n",
       "\n",
       "  <!-- Text -->\n",
       "  <text x=\"12.706308\" y=\"140.000000\" font-size=\"1.0rem\" font-weight=\"100\" text-anchor=\"middle\" >2</text>\n",
       "  <text x=\"45.412617\" y=\"60.000000\" font-size=\"1.0rem\" font-weight=\"100\" text-anchor=\"middle\" transform=\"rotate(-90,45.412617,60.000000)\">1000000</text>\n",
       "</svg>\n",
       "        </td>\n",
       "    </tr>\n",
       "</table>"
      ],
      "text/plain": [
       "dask.array<concatenate, shape=(1000000, 2), dtype=float64, chunksize=(100000, 2), chunktype=numpy.ndarray>"
      ]
     },
     "execution_count": 36,
     "metadata": {},
     "output_type": "execute_result"
    }
   ],
   "source": [
    "#generate like in execise 2, but now with dask_mL\n",
    "X, y = dask_ml.datasets.make_blobs(n_samples=1000000,\n",
    "                                   chunks=100000,\n",
    "                                   random_state=0,\n",
    "                                   centers=3)\n",
    "X = X.persist() #manual executions on X\n",
    "X"
   ]
  },
  {
   "cell_type": "code",
   "execution_count": 37,
   "metadata": {
    "slideshow": {
     "slide_type": "subslide"
    },
    "tags": []
   },
   "outputs": [
    {
     "data": {
      "text/html": [
       "<style>#sk-container-id-1 {\n",
       "  /* Definition of color scheme common for light and dark mode */\n",
       "  --sklearn-color-text: #000;\n",
       "  --sklearn-color-text-muted: #666;\n",
       "  --sklearn-color-line: gray;\n",
       "  /* Definition of color scheme for unfitted estimators */\n",
       "  --sklearn-color-unfitted-level-0: #fff5e6;\n",
       "  --sklearn-color-unfitted-level-1: #f6e4d2;\n",
       "  --sklearn-color-unfitted-level-2: #ffe0b3;\n",
       "  --sklearn-color-unfitted-level-3: chocolate;\n",
       "  /* Definition of color scheme for fitted estimators */\n",
       "  --sklearn-color-fitted-level-0: #f0f8ff;\n",
       "  --sklearn-color-fitted-level-1: #d4ebff;\n",
       "  --sklearn-color-fitted-level-2: #b3dbfd;\n",
       "  --sklearn-color-fitted-level-3: cornflowerblue;\n",
       "\n",
       "  /* Specific color for light theme */\n",
       "  --sklearn-color-text-on-default-background: var(--sg-text-color, var(--theme-code-foreground, var(--jp-content-font-color1, black)));\n",
       "  --sklearn-color-background: var(--sg-background-color, var(--theme-background, var(--jp-layout-color0, white)));\n",
       "  --sklearn-color-border-box: var(--sg-text-color, var(--theme-code-foreground, var(--jp-content-font-color1, black)));\n",
       "  --sklearn-color-icon: #696969;\n",
       "\n",
       "  @media (prefers-color-scheme: dark) {\n",
       "    /* Redefinition of color scheme for dark theme */\n",
       "    --sklearn-color-text-on-default-background: var(--sg-text-color, var(--theme-code-foreground, var(--jp-content-font-color1, white)));\n",
       "    --sklearn-color-background: var(--sg-background-color, var(--theme-background, var(--jp-layout-color0, #111)));\n",
       "    --sklearn-color-border-box: var(--sg-text-color, var(--theme-code-foreground, var(--jp-content-font-color1, white)));\n",
       "    --sklearn-color-icon: #878787;\n",
       "  }\n",
       "}\n",
       "\n",
       "#sk-container-id-1 {\n",
       "  color: var(--sklearn-color-text);\n",
       "}\n",
       "\n",
       "#sk-container-id-1 pre {\n",
       "  padding: 0;\n",
       "}\n",
       "\n",
       "#sk-container-id-1 input.sk-hidden--visually {\n",
       "  border: 0;\n",
       "  clip: rect(1px 1px 1px 1px);\n",
       "  clip: rect(1px, 1px, 1px, 1px);\n",
       "  height: 1px;\n",
       "  margin: -1px;\n",
       "  overflow: hidden;\n",
       "  padding: 0;\n",
       "  position: absolute;\n",
       "  width: 1px;\n",
       "}\n",
       "\n",
       "#sk-container-id-1 div.sk-dashed-wrapped {\n",
       "  border: 1px dashed var(--sklearn-color-line);\n",
       "  margin: 0 0.4em 0.5em 0.4em;\n",
       "  box-sizing: border-box;\n",
       "  padding-bottom: 0.4em;\n",
       "  background-color: var(--sklearn-color-background);\n",
       "}\n",
       "\n",
       "#sk-container-id-1 div.sk-container {\n",
       "  /* jupyter's `normalize.less` sets `[hidden] { display: none; }`\n",
       "     but bootstrap.min.css set `[hidden] { display: none !important; }`\n",
       "     so we also need the `!important` here to be able to override the\n",
       "     default hidden behavior on the sphinx rendered scikit-learn.org.\n",
       "     See: https://github.com/scikit-learn/scikit-learn/issues/21755 */\n",
       "  display: inline-block !important;\n",
       "  position: relative;\n",
       "}\n",
       "\n",
       "#sk-container-id-1 div.sk-text-repr-fallback {\n",
       "  display: none;\n",
       "}\n",
       "\n",
       "div.sk-parallel-item,\n",
       "div.sk-serial,\n",
       "div.sk-item {\n",
       "  /* draw centered vertical line to link estimators */\n",
       "  background-image: linear-gradient(var(--sklearn-color-text-on-default-background), var(--sklearn-color-text-on-default-background));\n",
       "  background-size: 2px 100%;\n",
       "  background-repeat: no-repeat;\n",
       "  background-position: center center;\n",
       "}\n",
       "\n",
       "/* Parallel-specific style estimator block */\n",
       "\n",
       "#sk-container-id-1 div.sk-parallel-item::after {\n",
       "  content: \"\";\n",
       "  width: 100%;\n",
       "  border-bottom: 2px solid var(--sklearn-color-text-on-default-background);\n",
       "  flex-grow: 1;\n",
       "}\n",
       "\n",
       "#sk-container-id-1 div.sk-parallel {\n",
       "  display: flex;\n",
       "  align-items: stretch;\n",
       "  justify-content: center;\n",
       "  background-color: var(--sklearn-color-background);\n",
       "  position: relative;\n",
       "}\n",
       "\n",
       "#sk-container-id-1 div.sk-parallel-item {\n",
       "  display: flex;\n",
       "  flex-direction: column;\n",
       "}\n",
       "\n",
       "#sk-container-id-1 div.sk-parallel-item:first-child::after {\n",
       "  align-self: flex-end;\n",
       "  width: 50%;\n",
       "}\n",
       "\n",
       "#sk-container-id-1 div.sk-parallel-item:last-child::after {\n",
       "  align-self: flex-start;\n",
       "  width: 50%;\n",
       "}\n",
       "\n",
       "#sk-container-id-1 div.sk-parallel-item:only-child::after {\n",
       "  width: 0;\n",
       "}\n",
       "\n",
       "/* Serial-specific style estimator block */\n",
       "\n",
       "#sk-container-id-1 div.sk-serial {\n",
       "  display: flex;\n",
       "  flex-direction: column;\n",
       "  align-items: center;\n",
       "  background-color: var(--sklearn-color-background);\n",
       "  padding-right: 1em;\n",
       "  padding-left: 1em;\n",
       "}\n",
       "\n",
       "\n",
       "/* Toggleable style: style used for estimator/Pipeline/ColumnTransformer box that is\n",
       "clickable and can be expanded/collapsed.\n",
       "- Pipeline and ColumnTransformer use this feature and define the default style\n",
       "- Estimators will overwrite some part of the style using the `sk-estimator` class\n",
       "*/\n",
       "\n",
       "/* Pipeline and ColumnTransformer style (default) */\n",
       "\n",
       "#sk-container-id-1 div.sk-toggleable {\n",
       "  /* Default theme specific background. It is overwritten whether we have a\n",
       "  specific estimator or a Pipeline/ColumnTransformer */\n",
       "  background-color: var(--sklearn-color-background);\n",
       "}\n",
       "\n",
       "/* Toggleable label */\n",
       "#sk-container-id-1 label.sk-toggleable__label {\n",
       "  cursor: pointer;\n",
       "  display: flex;\n",
       "  width: 100%;\n",
       "  margin-bottom: 0;\n",
       "  padding: 0.5em;\n",
       "  box-sizing: border-box;\n",
       "  text-align: center;\n",
       "  align-items: start;\n",
       "  justify-content: space-between;\n",
       "  gap: 0.5em;\n",
       "}\n",
       "\n",
       "#sk-container-id-1 label.sk-toggleable__label .caption {\n",
       "  font-size: 0.6rem;\n",
       "  font-weight: lighter;\n",
       "  color: var(--sklearn-color-text-muted);\n",
       "}\n",
       "\n",
       "#sk-container-id-1 label.sk-toggleable__label-arrow:before {\n",
       "  /* Arrow on the left of the label */\n",
       "  content: \"▸\";\n",
       "  float: left;\n",
       "  margin-right: 0.25em;\n",
       "  color: var(--sklearn-color-icon);\n",
       "}\n",
       "\n",
       "#sk-container-id-1 label.sk-toggleable__label-arrow:hover:before {\n",
       "  color: var(--sklearn-color-text);\n",
       "}\n",
       "\n",
       "/* Toggleable content - dropdown */\n",
       "\n",
       "#sk-container-id-1 div.sk-toggleable__content {\n",
       "  max-height: 0;\n",
       "  max-width: 0;\n",
       "  overflow: hidden;\n",
       "  text-align: left;\n",
       "  /* unfitted */\n",
       "  background-color: var(--sklearn-color-unfitted-level-0);\n",
       "}\n",
       "\n",
       "#sk-container-id-1 div.sk-toggleable__content.fitted {\n",
       "  /* fitted */\n",
       "  background-color: var(--sklearn-color-fitted-level-0);\n",
       "}\n",
       "\n",
       "#sk-container-id-1 div.sk-toggleable__content pre {\n",
       "  margin: 0.2em;\n",
       "  border-radius: 0.25em;\n",
       "  color: var(--sklearn-color-text);\n",
       "  /* unfitted */\n",
       "  background-color: var(--sklearn-color-unfitted-level-0);\n",
       "}\n",
       "\n",
       "#sk-container-id-1 div.sk-toggleable__content.fitted pre {\n",
       "  /* unfitted */\n",
       "  background-color: var(--sklearn-color-fitted-level-0);\n",
       "}\n",
       "\n",
       "#sk-container-id-1 input.sk-toggleable__control:checked~div.sk-toggleable__content {\n",
       "  /* Expand drop-down */\n",
       "  max-height: 200px;\n",
       "  max-width: 100%;\n",
       "  overflow: auto;\n",
       "}\n",
       "\n",
       "#sk-container-id-1 input.sk-toggleable__control:checked~label.sk-toggleable__label-arrow:before {\n",
       "  content: \"▾\";\n",
       "}\n",
       "\n",
       "/* Pipeline/ColumnTransformer-specific style */\n",
       "\n",
       "#sk-container-id-1 div.sk-label input.sk-toggleable__control:checked~label.sk-toggleable__label {\n",
       "  color: var(--sklearn-color-text);\n",
       "  background-color: var(--sklearn-color-unfitted-level-2);\n",
       "}\n",
       "\n",
       "#sk-container-id-1 div.sk-label.fitted input.sk-toggleable__control:checked~label.sk-toggleable__label {\n",
       "  background-color: var(--sklearn-color-fitted-level-2);\n",
       "}\n",
       "\n",
       "/* Estimator-specific style */\n",
       "\n",
       "/* Colorize estimator box */\n",
       "#sk-container-id-1 div.sk-estimator input.sk-toggleable__control:checked~label.sk-toggleable__label {\n",
       "  /* unfitted */\n",
       "  background-color: var(--sklearn-color-unfitted-level-2);\n",
       "}\n",
       "\n",
       "#sk-container-id-1 div.sk-estimator.fitted input.sk-toggleable__control:checked~label.sk-toggleable__label {\n",
       "  /* fitted */\n",
       "  background-color: var(--sklearn-color-fitted-level-2);\n",
       "}\n",
       "\n",
       "#sk-container-id-1 div.sk-label label.sk-toggleable__label,\n",
       "#sk-container-id-1 div.sk-label label {\n",
       "  /* The background is the default theme color */\n",
       "  color: var(--sklearn-color-text-on-default-background);\n",
       "}\n",
       "\n",
       "/* On hover, darken the color of the background */\n",
       "#sk-container-id-1 div.sk-label:hover label.sk-toggleable__label {\n",
       "  color: var(--sklearn-color-text);\n",
       "  background-color: var(--sklearn-color-unfitted-level-2);\n",
       "}\n",
       "\n",
       "/* Label box, darken color on hover, fitted */\n",
       "#sk-container-id-1 div.sk-label.fitted:hover label.sk-toggleable__label.fitted {\n",
       "  color: var(--sklearn-color-text);\n",
       "  background-color: var(--sklearn-color-fitted-level-2);\n",
       "}\n",
       "\n",
       "/* Estimator label */\n",
       "\n",
       "#sk-container-id-1 div.sk-label label {\n",
       "  font-family: monospace;\n",
       "  font-weight: bold;\n",
       "  display: inline-block;\n",
       "  line-height: 1.2em;\n",
       "}\n",
       "\n",
       "#sk-container-id-1 div.sk-label-container {\n",
       "  text-align: center;\n",
       "}\n",
       "\n",
       "/* Estimator-specific */\n",
       "#sk-container-id-1 div.sk-estimator {\n",
       "  font-family: monospace;\n",
       "  border: 1px dotted var(--sklearn-color-border-box);\n",
       "  border-radius: 0.25em;\n",
       "  box-sizing: border-box;\n",
       "  margin-bottom: 0.5em;\n",
       "  /* unfitted */\n",
       "  background-color: var(--sklearn-color-unfitted-level-0);\n",
       "}\n",
       "\n",
       "#sk-container-id-1 div.sk-estimator.fitted {\n",
       "  /* fitted */\n",
       "  background-color: var(--sklearn-color-fitted-level-0);\n",
       "}\n",
       "\n",
       "/* on hover */\n",
       "#sk-container-id-1 div.sk-estimator:hover {\n",
       "  /* unfitted */\n",
       "  background-color: var(--sklearn-color-unfitted-level-2);\n",
       "}\n",
       "\n",
       "#sk-container-id-1 div.sk-estimator.fitted:hover {\n",
       "  /* fitted */\n",
       "  background-color: var(--sklearn-color-fitted-level-2);\n",
       "}\n",
       "\n",
       "/* Specification for estimator info (e.g. \"i\" and \"?\") */\n",
       "\n",
       "/* Common style for \"i\" and \"?\" */\n",
       "\n",
       ".sk-estimator-doc-link,\n",
       "a:link.sk-estimator-doc-link,\n",
       "a:visited.sk-estimator-doc-link {\n",
       "  float: right;\n",
       "  font-size: smaller;\n",
       "  line-height: 1em;\n",
       "  font-family: monospace;\n",
       "  background-color: var(--sklearn-color-background);\n",
       "  border-radius: 1em;\n",
       "  height: 1em;\n",
       "  width: 1em;\n",
       "  text-decoration: none !important;\n",
       "  margin-left: 0.5em;\n",
       "  text-align: center;\n",
       "  /* unfitted */\n",
       "  border: var(--sklearn-color-unfitted-level-1) 1pt solid;\n",
       "  color: var(--sklearn-color-unfitted-level-1);\n",
       "}\n",
       "\n",
       ".sk-estimator-doc-link.fitted,\n",
       "a:link.sk-estimator-doc-link.fitted,\n",
       "a:visited.sk-estimator-doc-link.fitted {\n",
       "  /* fitted */\n",
       "  border: var(--sklearn-color-fitted-level-1) 1pt solid;\n",
       "  color: var(--sklearn-color-fitted-level-1);\n",
       "}\n",
       "\n",
       "/* On hover */\n",
       "div.sk-estimator:hover .sk-estimator-doc-link:hover,\n",
       ".sk-estimator-doc-link:hover,\n",
       "div.sk-label-container:hover .sk-estimator-doc-link:hover,\n",
       ".sk-estimator-doc-link:hover {\n",
       "  /* unfitted */\n",
       "  background-color: var(--sklearn-color-unfitted-level-3);\n",
       "  color: var(--sklearn-color-background);\n",
       "  text-decoration: none;\n",
       "}\n",
       "\n",
       "div.sk-estimator.fitted:hover .sk-estimator-doc-link.fitted:hover,\n",
       ".sk-estimator-doc-link.fitted:hover,\n",
       "div.sk-label-container:hover .sk-estimator-doc-link.fitted:hover,\n",
       ".sk-estimator-doc-link.fitted:hover {\n",
       "  /* fitted */\n",
       "  background-color: var(--sklearn-color-fitted-level-3);\n",
       "  color: var(--sklearn-color-background);\n",
       "  text-decoration: none;\n",
       "}\n",
       "\n",
       "/* Span, style for the box shown on hovering the info icon */\n",
       ".sk-estimator-doc-link span {\n",
       "  display: none;\n",
       "  z-index: 9999;\n",
       "  position: relative;\n",
       "  font-weight: normal;\n",
       "  right: .2ex;\n",
       "  padding: .5ex;\n",
       "  margin: .5ex;\n",
       "  width: min-content;\n",
       "  min-width: 20ex;\n",
       "  max-width: 50ex;\n",
       "  color: var(--sklearn-color-text);\n",
       "  box-shadow: 2pt 2pt 4pt #999;\n",
       "  /* unfitted */\n",
       "  background: var(--sklearn-color-unfitted-level-0);\n",
       "  border: .5pt solid var(--sklearn-color-unfitted-level-3);\n",
       "}\n",
       "\n",
       ".sk-estimator-doc-link.fitted span {\n",
       "  /* fitted */\n",
       "  background: var(--sklearn-color-fitted-level-0);\n",
       "  border: var(--sklearn-color-fitted-level-3);\n",
       "}\n",
       "\n",
       ".sk-estimator-doc-link:hover span {\n",
       "  display: block;\n",
       "}\n",
       "\n",
       "/* \"?\"-specific style due to the `<a>` HTML tag */\n",
       "\n",
       "#sk-container-id-1 a.estimator_doc_link {\n",
       "  float: right;\n",
       "  font-size: 1rem;\n",
       "  line-height: 1em;\n",
       "  font-family: monospace;\n",
       "  background-color: var(--sklearn-color-background);\n",
       "  border-radius: 1rem;\n",
       "  height: 1rem;\n",
       "  width: 1rem;\n",
       "  text-decoration: none;\n",
       "  /* unfitted */\n",
       "  color: var(--sklearn-color-unfitted-level-1);\n",
       "  border: var(--sklearn-color-unfitted-level-1) 1pt solid;\n",
       "}\n",
       "\n",
       "#sk-container-id-1 a.estimator_doc_link.fitted {\n",
       "  /* fitted */\n",
       "  border: var(--sklearn-color-fitted-level-1) 1pt solid;\n",
       "  color: var(--sklearn-color-fitted-level-1);\n",
       "}\n",
       "\n",
       "/* On hover */\n",
       "#sk-container-id-1 a.estimator_doc_link:hover {\n",
       "  /* unfitted */\n",
       "  background-color: var(--sklearn-color-unfitted-level-3);\n",
       "  color: var(--sklearn-color-background);\n",
       "  text-decoration: none;\n",
       "}\n",
       "\n",
       "#sk-container-id-1 a.estimator_doc_link.fitted:hover {\n",
       "  /* fitted */\n",
       "  background-color: var(--sklearn-color-fitted-level-3);\n",
       "}\n",
       "</style><div id=\"sk-container-id-1\" class=\"sk-top-container\"><div class=\"sk-text-repr-fallback\"><pre>KMeans(init_max_iter=2000, n_clusters=3, oversampling_factor=10)</pre><b>In a Jupyter environment, please rerun this cell to show the HTML representation or trust the notebook. <br />On GitHub, the HTML representation is unable to render, please try loading this page with nbviewer.org.</b></div><div class=\"sk-container\" hidden><div class=\"sk-item\"><div class=\"sk-estimator fitted sk-toggleable\"><input class=\"sk-toggleable__control sk-hidden--visually\" id=\"sk-estimator-id-1\" type=\"checkbox\" checked><label for=\"sk-estimator-id-1\" class=\"sk-toggleable__label fitted sk-toggleable__label-arrow\"><div><div>KMeans</div></div><div><span class=\"sk-estimator-doc-link fitted\">i<span>Fitted</span></span></div></label><div class=\"sk-toggleable__content fitted\"><pre>KMeans(init_max_iter=2000, n_clusters=3, oversampling_factor=10)</pre></div> </div></div></div></div>"
      ],
      "text/plain": [
       "KMeans(init_max_iter=2000, n_clusters=3, oversampling_factor=10)"
      ]
     },
     "execution_count": 37,
     "metadata": {},
     "output_type": "execute_result"
    }
   ],
   "source": [
    "#call skleran k-means\n",
    "km = dask_ml.cluster.KMeans(n_clusters=3, init_max_iter=2000, oversampling_factor=10)\n",
    "km.fit(X)"
   ]
  },
  {
   "cell_type": "code",
   "execution_count": 38,
   "metadata": {
    "scrolled": true,
    "slideshow": {
     "slide_type": "subslide"
    },
    "tags": []
   },
   "outputs": [
    {
     "data": {
      "image/png": "[encoded data removed]",
      "text/plain": [
       "<Figure size 640x480 with 1 Axes>"
      ]
     },
     "metadata": {},
     "output_type": "display_data"
    }
   ],
   "source": [
    "plt.scatter(X[::1000, 0], X[::1000, 1], marker='.', c=km.labels_[::1000],  cmap='viridis', alpha=0.25);\n",
    "\n"
   ]
  },
  {
   "cell_type": "markdown",
   "metadata": {
    "slideshow": {
     "slide_type": "subslide"
    }
   },
   "source": [
    "### Example: Hyper-parameter optimization"
   ]
  },
  {
   "cell_type": "code",
   "execution_count": 39,
   "metadata": {
    "scrolled": true,
    "slideshow": {
     "slide_type": "-"
    },
    "tags": []
   },
   "outputs": [
    {
     "data": {
      "image/png": "[encoded data removed]",
      "text/plain": [
       "<Figure size 640x480 with 2 Axes>"
      ]
     },
     "metadata": {},
     "output_type": "display_data"
    }
   ],
   "source": [
    "from sklearn.datasets import make_circles\n",
    "import numpy as np\n",
    "import pandas as pd\n",
    "\n",
    "X, y = make_circles(n_samples=30_000, random_state=0, noise=0.09)\n",
    "\n",
    "pd.DataFrame({0: X[:, 0], 1: X[:, 1], \"class\": y}).sample(4_000).plot.scatter(\n",
    "    x=0, y=1, alpha=0.2, c=\"class\", cmap=\"bwr\"\n",
    ");"
   ]
  },
  {
   "cell_type": "code",
   "execution_count": 40,
   "metadata": {
    "slideshow": {
     "slide_type": "subslide"
    },
    "tags": []
   },
   "outputs": [
    {
     "data": {
      "text/plain": [
       "(30000, 6)"
      ]
     },
     "execution_count": 40,
     "metadata": {},
     "output_type": "execute_result"
    }
   ],
   "source": [
    "# make date 6D to get larger problem\n",
    "from sklearn.utils import check_random_state\n",
    "\n",
    "rng = check_random_state(42)\n",
    "random_feats = rng.uniform(-1, 1, size=(X.shape[0], 4))\n",
    "X = np.hstack((X, random_feats))\n",
    "X.shape"
   ]
  },
  {
   "cell_type": "code",
   "execution_count": 41,
   "metadata": {
    "slideshow": {
     "slide_type": "subslide"
    },
    "tags": []
   },
   "outputs": [],
   "source": [
    "#gen train and test set\n",
    "from sklearn.model_selection import train_test_split\n",
    "X_train, X_test, y_train, y_test = train_test_split(X, y, test_size=5_000, random_state=42)\n",
    "\n",
    "from sklearn.preprocessing import StandardScaler\n",
    "from sklearn.model_selection import train_test_split\n",
    "scaler = StandardScaler().fit(X_train)\n",
    "\n",
    "X_train = scaler.transform(X_train)\n",
    "X_test = scaler.transform(X_test)\n",
    "\n"
   ]
  },
  {
   "cell_type": "code",
   "execution_count": 42,
   "metadata": {
    "slideshow": {
     "slide_type": "subslide"
    },
    "tags": []
   },
   "outputs": [],
   "source": [
    "#create small NN\n",
    "import numpy as np\n",
    "from sklearn.neural_network import MLPClassifier\n",
    "\n",
    "model = MLPClassifier()\n",
    "\n",
    "params = {\n",
    "    \"hidden_layer_sizes\": [\n",
    "        (24, ),\n",
    "        (12, 12),\n",
    "        (6, 6, 6, 6),\n",
    "        (4, 4, 4, 4, 4, 4),\n",
    "        (12, 6, 3, 3),\n",
    "    ],\n",
    "    \"activation\": [\"relu\", \"logistic\", \"tanh\"],\n",
    "    \"alpha\": np.logspace(-6, -3, num=1000),  # cnts\n",
    "    \"batch_size\": [16, 32, 64, 128, 256, 512],\n",
    "}\n",
    "\n"
   ]
  },
  {
   "cell_type": "code",
   "execution_count": 43,
   "metadata": {
    "slideshow": {
     "slide_type": "subslide"
    },
    "tags": []
   },
   "outputs": [],
   "source": [
    "from dask_ml.model_selection import HyperbandSearchCV\n",
    "\n",
    "n_examples = 4 * len(X_train)\n",
    "n_params = 8\n",
    "\n",
    "# In practice, HyperbandSearchCV is most useful for longer searches\n",
    "# n_examples = 15 * len(X_train)\n",
    "# n_params = 15"
   ]
  },
  {
   "cell_type": "code",
   "execution_count": 44,
   "metadata": {
    "scrolled": true,
    "slideshow": {
     "slide_type": "subslide"
    },
    "tags": []
   },
   "outputs": [
    {
     "data": {
      "text/html": [
       "<table>\n",
       "    <tr>\n",
       "        <td>\n",
       "            <table style=\"border-collapse: collapse;\">\n",
       "                <thead>\n",
       "                    <tr>\n",
       "                        <td> </td>\n",
       "                        <th> Array </th>\n",
       "                        <th> Chunk </th>\n",
       "                    </tr>\n",
       "                </thead>\n",
       "                <tbody>\n",
       "                    \n",
       "                    <tr>\n",
       "                        <th> Bytes </th>\n",
       "                        <td> 1.14 MiB </td>\n",
       "                        <td> 585.94 kiB </td>\n",
       "                    </tr>\n",
       "                    \n",
       "                    <tr>\n",
       "                        <th> Shape </th>\n",
       "                        <td> (25000, 6) </td>\n",
       "                        <td> (12500, 6) </td>\n",
       "                    </tr>\n",
       "                    <tr>\n",
       "                        <th> Dask graph </th>\n",
       "                        <td colspan=\"2\"> 2 chunks in 1 graph layer </td>\n",
       "                    </tr>\n",
       "                    <tr>\n",
       "                        <th> Data type </th>\n",
       "                        <td colspan=\"2\"> float64 numpy.ndarray </td>\n",
       "                    </tr>\n",
       "                </tbody>\n",
       "            </table>\n",
       "        </td>\n",
       "        <td>\n",
       "        <svg width=\"75\" height=\"170\" style=\"stroke:rgb(0,0,0);stroke-width:1\" >\n",
       "\n",
       "  <!-- Horizontal lines -->\n",
       "  <line x1=\"0\" y1=\"0\" x2=\"25\" y2=\"0\" style=\"stroke-width:2\" />\n",
       "  <line x1=\"0\" y1=\"60\" x2=\"25\" y2=\"60\" />\n",
       "  <line x1=\"0\" y1=\"120\" x2=\"25\" y2=\"120\" style=\"stroke-width:2\" />\n",
       "\n",
       "  <!-- Vertical lines -->\n",
       "  <line x1=\"0\" y1=\"0\" x2=\"0\" y2=\"120\" style=\"stroke-width:2\" />\n",
       "  <line x1=\"25\" y1=\"0\" x2=\"25\" y2=\"120\" style=\"stroke-width:2\" />\n",
       "\n",
       "  <!-- Colored Rectangle -->\n",
       "  <polygon points=\"0.0,0.0 25.412616514582485,0.0 25.412616514582485,120.0 0.0,120.0\" style=\"fill:#ECB172A0;stroke-width:0\"/>\n",
       "\n",
       "  <!-- Text -->\n",
       "  <text x=\"12.706308\" y=\"140.000000\" font-size=\"1.0rem\" font-weight=\"100\" text-anchor=\"middle\" >6</text>\n",
       "  <text x=\"45.412617\" y=\"60.000000\" font-size=\"1.0rem\" font-weight=\"100\" text-anchor=\"middle\" transform=\"rotate(-90,45.412617,60.000000)\">25000</text>\n",
       "</svg>\n",
       "        </td>\n",
       "    </tr>\n",
       "</table>"
      ],
      "text/plain": [
       "dask.array<array, shape=(25000, 6), dtype=float64, chunksize=(12500, 6), chunktype=numpy.ndarray>"
      ]
     },
     "execution_count": 44,
     "metadata": {},
     "output_type": "execute_result"
    }
   ],
   "source": [
    "#prepare date in chunks\n",
    "max_iter = n_params  # number of times partial_fit will be called\n",
    "chunks = n_examples // n_params  # number of examples each call sees\n",
    "\n",
    "\n",
    "X_train2 = da.from_array(X_train, chunks=chunks)\n",
    "y_train2 = da.from_array(y_train, chunks=chunks)\n",
    "X_train2"
   ]
  },
  {
   "cell_type": "code",
   "execution_count": 45,
   "metadata": {
    "slideshow": {
     "slide_type": "subslide"
    },
    "tags": []
   },
   "outputs": [
    {
     "data": {
      "text/plain": [
       "np.int64(26)"
      ]
     },
     "execution_count": 45,
     "metadata": {},
     "output_type": "execute_result"
    }
   ],
   "source": [
    "#setup search model\n",
    "search = HyperbandSearchCV(\n",
    "    model,\n",
    "    params,\n",
    "    max_iter=max_iter,\n",
    "    patience=True,\n",
    ")\n",
    "search.metadata[\"partial_fit_calls\"] #get number of evaluations"
   ]
  },
  {
   "cell_type": "code",
   "execution_count": 47,
   "metadata": {
    "scrolled": true,
    "slideshow": {
     "slide_type": "subslide"
    },
    "tags": []
   },
   "outputs": [
    {
     "ename": "RuntimeError",
     "evalue": "Attempting to use an asynchronous Client in a synchronous context of `dask.compute`",
     "output_type": "error",
     "traceback": [
      "\u001b[31m---------------------------------------------------------------------------\u001b[39m",
      "\u001b[31mRuntimeError\u001b[39m                              Traceback (most recent call last)",
      "\u001b[36mCell\u001b[39m\u001b[36m \u001b[39m\u001b[32mIn[47]\u001b[39m\u001b[32m, line 2\u001b[39m\n\u001b[32m      1\u001b[39m \u001b[38;5;66;03m#start!\u001b[39;00m\n\u001b[32m----> \u001b[39m\u001b[32m2\u001b[39m \u001b[38;5;28;01mawait\u001b[39;00m \u001b[43msearch\u001b[49m\u001b[43m.\u001b[49m\u001b[43mfit\u001b[49m\u001b[43m(\u001b[49m\u001b[43mX_train2\u001b[49m\u001b[43m,\u001b[49m\u001b[43m \u001b[49m\u001b[43my_train2\u001b[49m\u001b[43m,\u001b[49m\u001b[43m \u001b[49m\u001b[43mclasses\u001b[49m\u001b[43m=\u001b[49m\u001b[43m[\u001b[49m\u001b[32;43m0\u001b[39;49m\u001b[43m,\u001b[49m\u001b[43m \u001b[49m\u001b[32;43m1\u001b[39;49m\u001b[43m,\u001b[49m\u001b[43m \u001b[49m\u001b[32;43m2\u001b[39;49m\u001b[43m,\u001b[49m\u001b[43m \u001b[49m\u001b[32;43m3\u001b[39;49m\u001b[43m]\u001b[49m\u001b[43m)\u001b[49m\n",
      "\u001b[36mFile \u001b[39m\u001b[32m~/anaconda3/envs/dask/lib/python3.13/site-packages/dask_ml/model_selection/_incremental.py:756\u001b[39m, in \u001b[36mBaseIncrementalSearchCV.fit\u001b[39m\u001b[34m(self, X, y, **fit_params)\u001b[39m\n\u001b[32m    754\u001b[39m client = default_client()\n\u001b[32m    755\u001b[39m \u001b[38;5;28;01mif\u001b[39;00m \u001b[38;5;129;01mnot\u001b[39;00m client.asynchronous:\n\u001b[32m--> \u001b[39m\u001b[32m756\u001b[39m     \u001b[38;5;28;01mreturn\u001b[39;00m \u001b[43mclient\u001b[49m\u001b[43m.\u001b[49m\u001b[43msync\u001b[49m\u001b[43m(\u001b[49m\u001b[38;5;28;43mself\u001b[39;49m\u001b[43m.\u001b[49m\u001b[43m_fit\u001b[49m\u001b[43m,\u001b[49m\u001b[43m \u001b[49m\u001b[43mX\u001b[49m\u001b[43m,\u001b[49m\u001b[43m \u001b[49m\u001b[43my\u001b[49m\u001b[43m,\u001b[49m\u001b[43m \u001b[49m\u001b[43m*\u001b[49m\u001b[43m*\u001b[49m\u001b[43mfit_params\u001b[49m\u001b[43m)\u001b[49m\n\u001b[32m    757\u001b[39m \u001b[38;5;28;01mreturn\u001b[39;00m \u001b[38;5;28mself\u001b[39m._fit(X, y, **fit_params)\n",
      "\u001b[36mFile \u001b[39m\u001b[32m~/anaconda3/envs/dask/lib/python3.13/site-packages/distributed/utils.py:376\u001b[39m, in \u001b[36mSyncMethodMixin.sync\u001b[39m\u001b[34m(self, func, asynchronous, callback_timeout, *args, **kwargs)\u001b[39m\n\u001b[32m    374\u001b[39m     \u001b[38;5;28;01mreturn\u001b[39;00m future\n\u001b[32m    375\u001b[39m \u001b[38;5;28;01melse\u001b[39;00m:\n\u001b[32m--> \u001b[39m\u001b[32m376\u001b[39m     \u001b[38;5;28;01mreturn\u001b[39;00m \u001b[43msync\u001b[49m\u001b[43m(\u001b[49m\n\u001b[32m    377\u001b[39m \u001b[43m        \u001b[49m\u001b[38;5;28;43mself\u001b[39;49m\u001b[43m.\u001b[49m\u001b[43mloop\u001b[49m\u001b[43m,\u001b[49m\u001b[43m \u001b[49m\u001b[43mfunc\u001b[49m\u001b[43m,\u001b[49m\u001b[43m \u001b[49m\u001b[43m*\u001b[49m\u001b[43margs\u001b[49m\u001b[43m,\u001b[49m\u001b[43m \u001b[49m\u001b[43mcallback_timeout\u001b[49m\u001b[43m=\u001b[49m\u001b[43mcallback_timeout\u001b[49m\u001b[43m,\u001b[49m\u001b[43m \u001b[49m\u001b[43m*\u001b[49m\u001b[43m*\u001b[49m\u001b[43mkwargs\u001b[49m\n\u001b[32m    378\u001b[39m \u001b[43m    \u001b[49m\u001b[43m)\u001b[49m\n",
      "\u001b[36mFile \u001b[39m\u001b[32m~/anaconda3/envs/dask/lib/python3.13/site-packages/distributed/utils.py:452\u001b[39m, in \u001b[36msync\u001b[39m\u001b[34m(loop, func, callback_timeout, *args, **kwargs)\u001b[39m\n\u001b[32m    449\u001b[39m         wait(\u001b[32m10\u001b[39m)\n\u001b[32m    451\u001b[39m \u001b[38;5;28;01mif\u001b[39;00m error \u001b[38;5;129;01mis\u001b[39;00m \u001b[38;5;129;01mnot\u001b[39;00m \u001b[38;5;28;01mNone\u001b[39;00m:\n\u001b[32m--> \u001b[39m\u001b[32m452\u001b[39m     \u001b[38;5;28;01mraise\u001b[39;00m error\n\u001b[32m    453\u001b[39m \u001b[38;5;28;01melse\u001b[39;00m:\n\u001b[32m    454\u001b[39m     \u001b[38;5;28;01mreturn\u001b[39;00m result\n",
      "\u001b[36mFile \u001b[39m\u001b[32m~/anaconda3/envs/dask/lib/python3.13/site-packages/distributed/utils.py:426\u001b[39m, in \u001b[36msync.<locals>.f\u001b[39m\u001b[34m()\u001b[39m\n\u001b[32m    424\u001b[39m         awaitable = wait_for(awaitable, timeout)\n\u001b[32m    425\u001b[39m     future = asyncio.ensure_future(awaitable)\n\u001b[32m--> \u001b[39m\u001b[32m426\u001b[39m     result = \u001b[38;5;28;01myield\u001b[39;00m future\n\u001b[32m    427\u001b[39m \u001b[38;5;28;01mexcept\u001b[39;00m \u001b[38;5;167;01mException\u001b[39;00m \u001b[38;5;28;01mas\u001b[39;00m exception:\n\u001b[32m    428\u001b[39m     error = exception\n",
      "\u001b[36mFile \u001b[39m\u001b[32m~/anaconda3/envs/dask/lib/python3.13/site-packages/tornado/gen.py:766\u001b[39m, in \u001b[36mRunner.run\u001b[39m\u001b[34m(self)\u001b[39m\n\u001b[32m    764\u001b[39m \u001b[38;5;28;01mtry\u001b[39;00m:\n\u001b[32m    765\u001b[39m     \u001b[38;5;28;01mtry\u001b[39;00m:\n\u001b[32m--> \u001b[39m\u001b[32m766\u001b[39m         value = \u001b[43mfuture\u001b[49m\u001b[43m.\u001b[49m\u001b[43mresult\u001b[49m\u001b[43m(\u001b[49m\u001b[43m)\u001b[49m\n\u001b[32m    767\u001b[39m     \u001b[38;5;28;01mexcept\u001b[39;00m \u001b[38;5;167;01mException\u001b[39;00m \u001b[38;5;28;01mas\u001b[39;00m e:\n\u001b[32m    768\u001b[39m         \u001b[38;5;66;03m# Save the exception for later. It's important that\u001b[39;00m\n\u001b[32m    769\u001b[39m         \u001b[38;5;66;03m# gen.throw() not be called inside this try/except block\u001b[39;00m\n\u001b[32m    770\u001b[39m         \u001b[38;5;66;03m# because that makes sys.exc_info behave unexpectedly.\u001b[39;00m\n\u001b[32m    771\u001b[39m         exc: Optional[\u001b[38;5;167;01mException\u001b[39;00m] = e\n",
      "\u001b[36mFile \u001b[39m\u001b[32m~/anaconda3/envs/dask/lib/python3.13/site-packages/dask_ml/model_selection/_hyperband.py:425\u001b[39m, in \u001b[36mHyperbandSearchCV._fit\u001b[39m\u001b[34m(self, X, y, **fit_params)\u001b[39m\n\u001b[32m    420\u001b[39m \u001b[38;5;66;03m# Which bracket to run first? Going to go with most adaptive;\u001b[39;00m\n\u001b[32m    421\u001b[39m \u001b[38;5;66;03m# that works best on one machine.\u001b[39;00m\n\u001b[32m    422\u001b[39m \u001b[38;5;66;03m# (though it doesn't matter a ton; _fit prioritizes high scores\u001b[39;00m\n\u001b[32m    423\u001b[39m _brackets_ids = \u001b[38;5;28mlist\u001b[39m(\u001b[38;5;28mreversed\u001b[39m(\u001b[38;5;28msorted\u001b[39m(SHAs)))\n\u001b[32m--> \u001b[39m\u001b[32m425\u001b[39m _SHAs = \u001b[38;5;28;01mawait\u001b[39;00m asyncio.gather(\n\u001b[32m    426\u001b[39m     *[SHAs[b]._fit(X, y, **fit_params) \u001b[38;5;28;01mfor\u001b[39;00m b \u001b[38;5;129;01min\u001b[39;00m _brackets_ids]\n\u001b[32m    427\u001b[39m )\n\u001b[32m    428\u001b[39m SHAs = {b: SHA \u001b[38;5;28;01mfor\u001b[39;00m b, SHA \u001b[38;5;129;01min\u001b[39;00m \u001b[38;5;28mzip\u001b[39m(_brackets_ids, _SHAs)}\n\u001b[32m    430\u001b[39m \u001b[38;5;66;03m# This for-loop rename estimator IDs and pulls out wall times\u001b[39;00m\n",
      "\u001b[36mFile \u001b[39m\u001b[32m~/anaconda3/envs/dask/lib/python3.13/site-packages/dask_ml/model_selection/_incremental.py:702\u001b[39m, in \u001b[36mBaseIncrementalSearchCV._fit\u001b[39m\u001b[34m(self, X, y, **fit_params)\u001b[39m\n\u001b[32m    699\u001b[39m X_train, X_test, y_train, y_test = \u001b[38;5;28mself\u001b[39m._get_train_test_split(X, y)\n\u001b[32m    701\u001b[39m \u001b[38;5;28;01mwith\u001b[39;00m context:\n\u001b[32m--> \u001b[39m\u001b[32m702\u001b[39m     results = \u001b[38;5;28;01mawait\u001b[39;00m fit(\n\u001b[32m    703\u001b[39m         \u001b[38;5;28mself\u001b[39m.estimator,\n\u001b[32m    704\u001b[39m         \u001b[38;5;28mself\u001b[39m._get_params(),\n\u001b[32m    705\u001b[39m         X_train,\n\u001b[32m    706\u001b[39m         y_train,\n\u001b[32m    707\u001b[39m         X_test,\n\u001b[32m    708\u001b[39m         y_test,\n\u001b[32m    709\u001b[39m         additional_calls=\u001b[38;5;28mself\u001b[39m._additional_calls,\n\u001b[32m    710\u001b[39m         fit_params=fit_params,\n\u001b[32m    711\u001b[39m         scorer=scorer,\n\u001b[32m    712\u001b[39m         random_state=\u001b[38;5;28mself\u001b[39m.random_state,\n\u001b[32m    713\u001b[39m         verbose=\u001b[38;5;28mself\u001b[39m.verbose,\n\u001b[32m    714\u001b[39m         prefix=\u001b[38;5;28mself\u001b[39m.prefix,\n\u001b[32m    715\u001b[39m     )\n\u001b[32m    716\u001b[39m results = \u001b[38;5;28mself\u001b[39m._process_results(results)\n\u001b[32m    717\u001b[39m model_history, models, history, bst = results\n",
      "\u001b[36mFile \u001b[39m\u001b[32m~/anaconda3/envs/dask/lib/python3.13/site-packages/dask_ml/model_selection/_incremental.py:507\u001b[39m, in \u001b[36mfit\u001b[39m\u001b[34m(model, params, X_train, y_train, X_test, y_test, additional_calls, fit_params, scorer, random_state, verbose, prefix)\u001b[39m\n\u001b[32m    380\u001b[39m \u001b[38;5;28;01masync\u001b[39;00m \u001b[38;5;28;01mdef\u001b[39;00m\u001b[38;5;250m \u001b[39m\u001b[34mfit\u001b[39m(\n\u001b[32m    381\u001b[39m     model,\n\u001b[32m    382\u001b[39m     params,\n\u001b[32m   (...)\u001b[39m\u001b[32m    392\u001b[39m     prefix=\u001b[33m\"\u001b[39m\u001b[33m\"\u001b[39m,\n\u001b[32m    393\u001b[39m ):\n\u001b[32m    394\u001b[39m \u001b[38;5;250m    \u001b[39m\u001b[33;03m\"\"\"Find a good model and search among a space of hyper-parameters\u001b[39;00m\n\u001b[32m    395\u001b[39m \n\u001b[32m    396\u001b[39m \u001b[33;03m    This does a hyper-parameter search by creating many models and then fitting\u001b[39;00m\n\u001b[32m   (...)\u001b[39m\u001b[32m    505\u001b[39m \u001b[33;03m        A history of all models scores over time\u001b[39;00m\n\u001b[32m    506\u001b[39m \u001b[33;03m    \"\"\"\u001b[39;00m\n\u001b[32m--> \u001b[39m\u001b[32m507\u001b[39m     \u001b[38;5;28;01mreturn\u001b[39;00m \u001b[38;5;28;01mawait\u001b[39;00m _fit(\n\u001b[32m    508\u001b[39m         model,\n\u001b[32m    509\u001b[39m         params,\n\u001b[32m    510\u001b[39m         X_train,\n\u001b[32m    511\u001b[39m         y_train,\n\u001b[32m    512\u001b[39m         X_test,\n\u001b[32m    513\u001b[39m         y_test,\n\u001b[32m    514\u001b[39m         additional_calls,\n\u001b[32m    515\u001b[39m         fit_params=fit_params,\n\u001b[32m    516\u001b[39m         scorer=scorer,\n\u001b[32m    517\u001b[39m         random_state=random_state,\n\u001b[32m    518\u001b[39m         verbose=verbose,\n\u001b[32m    519\u001b[39m         prefix=prefix,\n\u001b[32m    520\u001b[39m     )\n",
      "\u001b[36mFile \u001b[39m\u001b[32m~/anaconda3/envs/dask/lib/python3.13/site-packages/dask_ml/model_selection/_incremental.py:192\u001b[39m, in \u001b[36m_fit\u001b[39m\u001b[34m(model, params, X_train, y_train, X_test, y_test, additional_calls, fit_params, scorer, random_state, verbose, prefix)\u001b[39m\n\u001b[32m    189\u001b[39m \u001b[38;5;28;01mif\u001b[39;00m \u001b[38;5;28misinstance\u001b[39m(y_test, dd.Series):\n\u001b[32m    190\u001b[39m     y_test = y_test.to_dask_array()\n\u001b[32m--> \u001b[39m\u001b[32m192\u001b[39m X_train, y_train, X_test, y_test = \u001b[43mdask\u001b[49m\u001b[43m.\u001b[49m\u001b[43mpersist\u001b[49m\u001b[43m(\u001b[49m\u001b[43mX_train\u001b[49m\u001b[43m,\u001b[49m\u001b[43m \u001b[49m\u001b[43my_train\u001b[49m\u001b[43m,\u001b[49m\u001b[43m \u001b[49m\u001b[43mX_test\u001b[49m\u001b[43m,\u001b[49m\u001b[43m \u001b[49m\u001b[43my_test\u001b[49m\u001b[43m)\u001b[49m\n\u001b[32m    194\u001b[39m \u001b[38;5;28;01mif\u001b[39;00m \u001b[38;5;28misinstance\u001b[39m(X_test, da.Array):\n\u001b[32m    195\u001b[39m     X_test = client.compute(X_test)\n",
      "\u001b[36mFile \u001b[39m\u001b[32m~/anaconda3/envs/dask/lib/python3.13/site-packages/dask/base.py:992\u001b[39m, in \u001b[36mpersist\u001b[39m\u001b[34m(traverse, optimize_graph, scheduler, *args, **kwargs)\u001b[39m\n\u001b[32m    989\u001b[39m \u001b[38;5;28;01mif\u001b[39;00m \u001b[38;5;129;01mnot\u001b[39;00m collections:\n\u001b[32m    990\u001b[39m     \u001b[38;5;28;01mreturn\u001b[39;00m args\n\u001b[32m--> \u001b[39m\u001b[32m992\u001b[39m schedule = \u001b[43mget_scheduler\u001b[49m\u001b[43m(\u001b[49m\u001b[43mscheduler\u001b[49m\u001b[43m=\u001b[49m\u001b[43mscheduler\u001b[49m\u001b[43m,\u001b[49m\u001b[43m \u001b[49m\u001b[43mcollections\u001b[49m\u001b[43m=\u001b[49m\u001b[43mcollections\u001b[49m\u001b[43m)\u001b[49m\n\u001b[32m    994\u001b[39m \u001b[38;5;28;01mif\u001b[39;00m inspect.ismethod(schedule):\n\u001b[32m    995\u001b[39m     \u001b[38;5;28;01mtry\u001b[39;00m:\n",
      "\u001b[36mFile \u001b[39m\u001b[32m~/anaconda3/envs/dask/lib/python3.13/site-packages/dask/base.py:1172\u001b[39m, in \u001b[36mget_scheduler\u001b[39m\u001b[34m(get, scheduler, collections, cls)\u001b[39m\n\u001b[32m   1168\u001b[39m     \u001b[38;5;66;03m# else:  # try to connect to remote scheduler with this name\u001b[39;00m\n\u001b[32m   1169\u001b[39m     \u001b[38;5;66;03m#     return get_client(scheduler).get\u001b[39;00m\n\u001b[32m   1171\u001b[39m \u001b[38;5;28;01mif\u001b[39;00m config.get(\u001b[33m\"\u001b[39m\u001b[33mscheduler\u001b[39m\u001b[33m\"\u001b[39m, \u001b[38;5;28;01mNone\u001b[39;00m):\n\u001b[32m-> \u001b[39m\u001b[32m1172\u001b[39m     \u001b[38;5;28;01mreturn\u001b[39;00m \u001b[43mget_scheduler\u001b[49m\u001b[43m(\u001b[49m\u001b[43mscheduler\u001b[49m\u001b[43m=\u001b[49m\u001b[43mconfig\u001b[49m\u001b[43m.\u001b[49m\u001b[43mget\u001b[49m\u001b[43m(\u001b[49m\u001b[33;43m\"\u001b[39;49m\u001b[33;43mscheduler\u001b[39;49m\u001b[33;43m\"\u001b[39;49m\u001b[43m,\u001b[49m\u001b[43m \u001b[49m\u001b[38;5;28;43;01mNone\u001b[39;49;00m\u001b[43m)\u001b[49m\u001b[43m)\u001b[49m\n\u001b[32m   1174\u001b[39m \u001b[38;5;28;01mif\u001b[39;00m config.get(\u001b[33m\"\u001b[39m\u001b[33mget\u001b[39m\u001b[33m\"\u001b[39m, \u001b[38;5;28;01mNone\u001b[39;00m):\n\u001b[32m   1175\u001b[39m     \u001b[38;5;28;01mraise\u001b[39;00m \u001b[38;5;167;01mValueError\u001b[39;00m(get_err_msg)\n",
      "\u001b[36mFile \u001b[39m\u001b[32m~/anaconda3/envs/dask/lib/python3.13/site-packages/dask/base.py:1152\u001b[39m, in \u001b[36mget_scheduler\u001b[39m\u001b[34m(get, scheduler, collections, cls)\u001b[39m\n\u001b[32m   1150\u001b[39m     \u001b[38;5;28;01massert\u001b[39;00m _get_distributed_client \u001b[38;5;129;01mis\u001b[39;00m \u001b[38;5;129;01mnot\u001b[39;00m \u001b[38;5;28;01mNone\u001b[39;00m\n\u001b[32m   1151\u001b[39m     client = _get_distributed_client()\n\u001b[32m-> \u001b[39m\u001b[32m1152\u001b[39m     \u001b[38;5;28;01mreturn\u001b[39;00m \u001b[43m_ensure_not_async\u001b[49m\u001b[43m(\u001b[49m\u001b[43mclient\u001b[49m\u001b[43m)\u001b[49m\n\u001b[32m   1153\u001b[39m \u001b[38;5;28;01melse\u001b[39;00m:\n\u001b[32m   1154\u001b[39m     \u001b[38;5;28;01mraise\u001b[39;00m \u001b[38;5;167;01mValueError\u001b[39;00m(\n\u001b[32m   1155\u001b[39m         \u001b[33m\"\u001b[39m\u001b[33mExpected one of [distributed, \u001b[39m\u001b[38;5;132;01m%s\u001b[39;00m\u001b[33m]\u001b[39m\u001b[33m\"\u001b[39m\n\u001b[32m   1156\u001b[39m         % \u001b[33m\"\u001b[39m\u001b[33m, \u001b[39m\u001b[33m\"\u001b[39m.join(\u001b[38;5;28msorted\u001b[39m(named_schedulers))\n\u001b[32m   1157\u001b[39m     )\n",
      "\u001b[36mFile \u001b[39m\u001b[32m~/anaconda3/envs/dask/lib/python3.13/site-packages/dask/base.py:1106\u001b[39m, in \u001b[36m_ensure_not_async\u001b[39m\u001b[34m(client)\u001b[39m\n\u001b[32m   1104\u001b[39m         \u001b[38;5;28;01mreturn\u001b[39;00m get_scheduler(scheduler=fallback)\n\u001b[32m   1105\u001b[39m     \u001b[38;5;28;01melse\u001b[39;00m:\n\u001b[32m-> \u001b[39m\u001b[32m1106\u001b[39m         \u001b[38;5;28;01mraise\u001b[39;00m \u001b[38;5;167;01mRuntimeError\u001b[39;00m(\n\u001b[32m   1107\u001b[39m             \u001b[33m\"\u001b[39m\u001b[33mAttempting to use an asynchronous \u001b[39m\u001b[33m\"\u001b[39m\n\u001b[32m   1108\u001b[39m             \u001b[33m\"\u001b[39m\u001b[33mClient in a synchronous context of `dask.compute`\u001b[39m\u001b[33m\"\u001b[39m\n\u001b[32m   1109\u001b[39m         )\n\u001b[32m   1110\u001b[39m \u001b[38;5;28;01mreturn\u001b[39;00m client.get\n",
      "\u001b[31mRuntimeError\u001b[39m: Attempting to use an asynchronous Client in a synchronous context of `dask.compute`"
     ]
    }
   ],
   "source": [
    "#start!\n",
    "search.fit(X_train2, y_train2, classes=[0, 1, 2, 3])"
   ]
  },
  {
   "cell_type": "code",
   "execution_count": 48,
   "metadata": {
    "slideshow": {
     "slide_type": "subslide"
    },
    "tags": []
   },
   "outputs": [
    {
     "ename": "AttributeError",
     "evalue": "'HyperbandSearchCV' object has no attribute 'best_score_'",
     "output_type": "error",
     "traceback": [
      "\u001b[31m---------------------------------------------------------------------------\u001b[39m",
      "\u001b[31mAttributeError\u001b[39m                            Traceback (most recent call last)",
      "\u001b[36mCell\u001b[39m\u001b[36m \u001b[39m\u001b[32mIn[48]\u001b[39m\u001b[32m, line 2\u001b[39m\n\u001b[32m      1\u001b[39m \u001b[38;5;66;03m#get results\u001b[39;00m\n\u001b[32m----> \u001b[39m\u001b[32m2\u001b[39m \u001b[38;5;28mprint\u001b[39m(\u001b[43msearch\u001b[49m\u001b[43m.\u001b[49m\u001b[43mbest_score_\u001b[49m)\n\u001b[32m      3\u001b[39m \u001b[38;5;28mprint\u001b[39m(search.best_estimator_)\n",
      "\u001b[31mAttributeError\u001b[39m: 'HyperbandSearchCV' object has no attribute 'best_score_'"
     ]
    }
   ],
   "source": [
    "#get results\n",
    "print(search.best_score_)\n",
    "print(search.best_estimator_)\n",
    "\n"
   ]
  },
  {
   "cell_type": "markdown",
   "metadata": {
    "slideshow": {
     "slide_type": "slide"
    }
   },
   "source": [
    "# Low Level Interfaces: Parallelizing Compute Graphs\n",
    "Building the Compute-Graph manually"
   ]
  },
  {
   "cell_type": "code",
   "execution_count": 49,
   "metadata": {
    "slideshow": {
     "slide_type": "subslide"
    },
    "tags": []
   },
   "outputs": [],
   "source": [
    "# simple example\n",
    "def inc(x):\n",
    "    return x + 1\n",
    "\n",
    "def double(x):\n",
    "    return x + 2\n",
    "\n",
    "def add(x, y):\n",
    "    return x + y\n",
    "\n",
    "data = [1, 2, 3, 4, 5]\n",
    "\n",
    "output = []\n",
    "for x in data:\n",
    "    a = inc(x)\n",
    "    b = double(x)\n",
    "    c = add(a, b)\n",
    "    output.append(c)\n",
    "\n",
    "total = sum(output)\n"
   ]
  },
  {
   "cell_type": "code",
   "execution_count": 50,
   "metadata": {
    "slideshow": {
     "slide_type": "fragment"
    },
    "tags": []
   },
   "outputs": [
    {
     "data": {
      "text/plain": [
       "45"
      ]
     },
     "execution_count": 50,
     "metadata": {},
     "output_type": "execute_result"
    }
   ],
   "source": [
    "total"
   ]
  },
  {
   "cell_type": "markdown",
   "metadata": {
    "slideshow": {
     "slide_type": "subslide"
    }
   },
   "source": [
    "### **Now, build a graph:**\n",
    "```dask.delayed()``` add functions and arguments to graph:"
   ]
  },
  {
   "cell_type": "code",
   "execution_count": 51,
   "metadata": {
    "slideshow": {
     "slide_type": "fragment"
    },
    "tags": []
   },
   "outputs": [],
   "source": [
    "import dask\n",
    "\n",
    "output = []\n",
    "for x in data:\n",
    "    a = dask.delayed(inc)(x)\n",
    "    b = dask.delayed(double)(x)\n",
    "    c = dask.delayed(add)(a, b)\n",
    "    output.append(c)\n",
    "\n",
    "total = dask.delayed(sum)(output)\n"
   ]
  },
  {
   "cell_type": "code",
   "execution_count": 52,
   "metadata": {
    "slideshow": {
     "slide_type": "subslide"
    },
    "tags": []
   },
   "outputs": [
    {
     "data": {
      "image/svg+xml": [
       "<svg xmlns=\"http://www.w3.org/2000/svg\" xmlns:xlink=\"http://www.w3.org/1999/xlink\" width=\"828pt\" height=\"496pt\" viewBox=\"0.00 0.00 828.19 496.18\">\n",
       "<g id=\"graph0\" class=\"graph\" transform=\"scale(1 1) rotate(0) translate(4 492.18)\">\n",
       "<title>%3</title>\n",
       "<polygon fill=\"white\" stroke=\"transparent\" points=\"-4,4 -4,-492.18 824.19,-492.18 824.19,4 -4,4\"/>\n",
       "<!-- 6526748267644155767 -->\n",
       "<g id=\"node1\" class=\"node\">\n",
       "<title>6526748267644155767</title>\n",
       "<ellipse fill=\"none\" stroke=\"black\" cx=\"390.6\" cy=\"-385.63\" rx=\"30.59\" ry=\"30.59\"/>\n",
       "<text text-anchor=\"middle\" x=\"390.6\" y=\"-381.93\" font-family=\"Helvetica,sans-Serif\" font-size=\"14.00\">sum</text>\n",
       "</g>\n",
       "<!-- &#45;8600526369801701043 -->\n",
       "<g id=\"node2\" class=\"node\">\n",
       "<title>-8600526369801701043</title>\n",
       "<polygon fill=\"none\" stroke=\"black\" points=\"417.6,-488.18 363.6,-488.18 363.6,-452.18 417.6,-452.18 417.6,-488.18\"/>\n",
       "</g>\n",
       "<!-- 6526748267644155767&#45;&gt;&#45;8600526369801701043 -->\n",
       "<g id=\"edge1\" class=\"edge\">\n",
       "<title>6526748267644155767-&gt;-8600526369801701043</title>\n",
       "<path fill=\"none\" stroke=\"black\" d=\"M390.6,-416.44C390.6,-424.79 390.6,-433.81 390.6,-442\"/>\n",
       "<polygon fill=\"black\" stroke=\"black\" points=\"387.1,-442.15 390.6,-452.15 394.1,-442.15 387.1,-442.15\"/>\n",
       "</g>\n",
       "<!-- 7518817019987629025 -->\n",
       "<g id=\"node3\" class=\"node\">\n",
       "<title>7518817019987629025</title>\n",
       "<polygon fill=\"none\" stroke=\"black\" points=\"197.6,-319.09 143.6,-319.09 143.6,-283.09 197.6,-283.09 197.6,-319.09\"/>\n",
       "</g>\n",
       "<!-- 7518817019987629025&#45;&gt;6526748267644155767 -->\n",
       "<g id=\"edge2\" class=\"edge\">\n",
       "<title>7518817019987629025-&gt;6526748267644155767</title>\n",
       "<path fill=\"none\" stroke=\"black\" d=\"M198.01,-312.38C236.99,-327 308.58,-353.86 352.64,-370.39\"/>\n",
       "<polygon fill=\"black\" stroke=\"black\" points=\"351.54,-373.72 362.13,-373.96 354,-367.17 351.54,-373.72\"/>\n",
       "</g>\n",
       "<!-- &#45;7417028627861955671 -->\n",
       "<g id=\"node4\" class=\"node\">\n",
       "<title>-7417028627861955671</title>\n",
       "<polygon fill=\"none\" stroke=\"black\" points=\"308.6,-319.09 254.6,-319.09 254.6,-283.09 308.6,-283.09 308.6,-319.09\"/>\n",
       "</g>\n",
       "<!-- &#45;7417028627861955671&#45;&gt;6526748267644155767 -->\n",
       "<g id=\"edge3\" class=\"edge\">\n",
       "<title>-7417028627861955671-&gt;6526748267644155767</title>\n",
       "<path fill=\"none\" stroke=\"black\" d=\"M304.18,-319.19C319.83,-331.04 340.9,-347 358.31,-360.19\"/>\n",
       "<polygon fill=\"black\" stroke=\"black\" points=\"356.44,-363.16 366.53,-366.41 360.67,-357.58 356.44,-363.16\"/>\n",
       "</g>\n",
       "<!-- &#45;2312582595374497265 -->\n",
       "<g id=\"node5\" class=\"node\">\n",
       "<title>-2312582595374497265</title>\n",
       "<polygon fill=\"none\" stroke=\"black\" points=\"417.6,-319.09 363.6,-319.09 363.6,-283.09 417.6,-283.09 417.6,-319.09\"/>\n",
       "</g>\n",
       "<!-- &#45;2312582595374497265&#45;&gt;6526748267644155767 -->\n",
       "<g id=\"edge4\" class=\"edge\">\n",
       "<title>-2312582595374497265-&gt;6526748267644155767</title>\n",
       "<path fill=\"none\" stroke=\"black\" d=\"M390.6,-319.19C390.6,-326.67 390.6,-335.79 390.6,-344.81\"/>\n",
       "<polygon fill=\"black\" stroke=\"black\" points=\"387.1,-344.86 390.6,-354.86 394.1,-344.86 387.1,-344.86\"/>\n",
       "</g>\n",
       "<!-- 7061215224957626927 -->\n",
       "<g id=\"node6\" class=\"node\">\n",
       "<title>7061215224957626927</title>\n",
       "<polygon fill=\"none\" stroke=\"black\" points=\"545.6,-319.09 491.6,-319.09 491.6,-283.09 545.6,-283.09 545.6,-319.09\"/>\n",
       "</g>\n",
       "<!-- 7061215224957626927&#45;&gt;6526748267644155767 -->\n",
       "<g id=\"edge5\" class=\"edge\">\n",
       "<title>7061215224957626927-&gt;6526748267644155767</title>\n",
       "<path fill=\"none\" stroke=\"black\" d=\"M492.07,-319.19C472.6,-331.75 445.97,-348.93 424.87,-362.53\"/>\n",
       "<polygon fill=\"black\" stroke=\"black\" points=\"422.72,-359.76 416.21,-368.12 426.51,-365.64 422.72,-359.76\"/>\n",
       "</g>\n",
       "<!-- 189691293153650839 -->\n",
       "<g id=\"node7\" class=\"node\">\n",
       "<title>189691293153650839</title>\n",
       "<polygon fill=\"none\" stroke=\"black\" points=\"684.6,-319.09 630.6,-319.09 630.6,-283.09 684.6,-283.09 684.6,-319.09\"/>\n",
       "</g>\n",
       "<!-- 189691293153650839&#45;&gt;6526748267644155767 -->\n",
       "<g id=\"edge6\" class=\"edge\">\n",
       "<title>189691293153650839-&gt;6526748267644155767</title>\n",
       "<path fill=\"none\" stroke=\"black\" d=\"M630.53,-310.46C582.97,-325.16 484.3,-355.67 429.47,-372.62\"/>\n",
       "<polygon fill=\"black\" stroke=\"black\" points=\"428.28,-369.32 419.76,-375.62 430.35,-376.01 428.28,-369.32\"/>\n",
       "</g>\n",
       "<!-- 7739301698301875280 -->\n",
       "<g id=\"node8\" class=\"node\">\n",
       "<title>7739301698301875280</title>\n",
       "<ellipse fill=\"none\" stroke=\"black\" cx=\"694.6\" cy=\"-219.14\" rx=\"27.9\" ry=\"27.9\"/>\n",
       "<text text-anchor=\"middle\" x=\"694.6\" y=\"-215.44\" font-family=\"Helvetica,sans-Serif\" font-size=\"14.00\">add</text>\n",
       "</g>\n",
       "<!-- 7739301698301875280&#45;&gt;189691293153650839 -->\n",
       "<g id=\"edge7\" class=\"edge\">\n",
       "<title>7739301698301875280-&gt;189691293153650839</title>\n",
       "<path fill=\"none\" stroke=\"black\" d=\"M683.09,-245C678.87,-254.12 674.08,-264.46 669.8,-273.71\"/>\n",
       "<polygon fill=\"black\" stroke=\"black\" points=\"666.6,-272.3 665.57,-282.85 672.95,-275.24 666.6,-272.3\"/>\n",
       "</g>\n",
       "<!-- 2214504381903850059 -->\n",
       "<g id=\"node9\" class=\"node\">\n",
       "<title>2214504381903850059</title>\n",
       "<polygon fill=\"none\" stroke=\"black\" points=\"721.6,-155.19 667.6,-155.19 667.6,-119.19 721.6,-119.19 721.6,-155.19\"/>\n",
       "</g>\n",
       "<!-- 2214504381903850059&#45;&gt;7739301698301875280 -->\n",
       "<g id=\"edge8\" class=\"edge\">\n",
       "<title>2214504381903850059-&gt;7739301698301875280</title>\n",
       "<path fill=\"none\" stroke=\"black\" d=\"M694.6,-155.54C694.6,-163 694.6,-172.03 694.6,-180.88\"/>\n",
       "<polygon fill=\"black\" stroke=\"black\" points=\"691.1,-181.08 694.6,-191.08 698.1,-181.08 691.1,-181.08\"/>\n",
       "</g>\n",
       "<!-- &#45;3915150420443210385 -->\n",
       "<g id=\"node10\" class=\"node\">\n",
       "<title>-3915150420443210385</title>\n",
       "<polygon fill=\"none\" stroke=\"black\" points=\"799.6,-155.19 745.6,-155.19 745.6,-119.19 799.6,-119.19 799.6,-155.19\"/>\n",
       "</g>\n",
       "<!-- &#45;3915150420443210385&#45;&gt;7739301698301875280 -->\n",
       "<g id=\"edge9\" class=\"edge\">\n",
       "<title>-3915150420443210385-&gt;7739301698301875280</title>\n",
       "<path fill=\"none\" stroke=\"black\" d=\"M755.67,-155.54C745.53,-165.94 732.41,-179.38 720.94,-191.14\"/>\n",
       "<polygon fill=\"black\" stroke=\"black\" points=\"718.16,-188.98 713.68,-198.58 723.17,-193.87 718.16,-188.98\"/>\n",
       "</g>\n",
       "<!-- 2932389837303578914 -->\n",
       "<g id=\"node11\" class=\"node\">\n",
       "<title>2932389837303578914</title>\n",
       "<ellipse fill=\"none\" stroke=\"black\" cx=\"694.6\" cy=\"-41.6\" rx=\"24.1\" ry=\"24.1\"/>\n",
       "<text text-anchor=\"middle\" x=\"694.6\" y=\"-37.9\" font-family=\"Helvetica,sans-Serif\" font-size=\"14.00\">inc</text>\n",
       "</g>\n",
       "<!-- 2932389837303578914&#45;&gt;2214504381903850059 -->\n",
       "<g id=\"edge10\" class=\"edge\">\n",
       "<title>2932389837303578914-&gt;2214504381903850059</title>\n",
       "<path fill=\"none\" stroke=\"black\" d=\"M694.6,-65.73C694.6,-78.72 694.6,-95 694.6,-108.64\"/>\n",
       "<polygon fill=\"black\" stroke=\"black\" points=\"691.1,-108.9 694.6,-118.9 698.1,-108.9 691.1,-108.9\"/>\n",
       "</g>\n",
       "<!-- 1060299709000779669 -->\n",
       "<g id=\"node12\" class=\"node\">\n",
       "<title>1060299709000779669</title>\n",
       "<ellipse fill=\"none\" stroke=\"black\" cx=\"778.6\" cy=\"-41.6\" rx=\"41.69\" ry=\"41.69\"/>\n",
       "<text text-anchor=\"middle\" x=\"778.6\" y=\"-37.9\" font-family=\"Helvetica,sans-Serif\" font-size=\"14.00\">double</text>\n",
       "</g>\n",
       "<!-- 1060299709000779669&#45;&gt;&#45;3915150420443210385 -->\n",
       "<g id=\"edge11\" class=\"edge\">\n",
       "<title>1060299709000779669-&gt;-3915150420443210385</title>\n",
       "<path fill=\"none\" stroke=\"black\" d=\"M775.98,-83.38C775.43,-91.91 774.87,-100.72 774.36,-108.63\"/>\n",
       "<polygon fill=\"black\" stroke=\"black\" points=\"770.86,-108.57 773.71,-118.77 777.85,-109.01 770.86,-108.57\"/>\n",
       "</g>\n",
       "<!-- &#45;8206700425167635519 -->\n",
       "<g id=\"node13\" class=\"node\">\n",
       "<title>-8206700425167635519</title>\n",
       "<ellipse fill=\"none\" stroke=\"black\" cx=\"275.6\" cy=\"-219.14\" rx=\"27.9\" ry=\"27.9\"/>\n",
       "<text text-anchor=\"middle\" x=\"275.6\" y=\"-215.44\" font-family=\"Helvetica,sans-Serif\" font-size=\"14.00\">add</text>\n",
       "</g>\n",
       "<!-- &#45;8206700425167635519&#45;&gt;&#45;7417028627861955671 -->\n",
       "<g id=\"edge12\" class=\"edge\">\n",
       "<title>-8206700425167635519-&gt;-7417028627861955671</title>\n",
       "<path fill=\"none\" stroke=\"black\" d=\"M277.63,-247.21C278.24,-255.4 278.92,-264.39 279.53,-272.61\"/>\n",
       "<polygon fill=\"black\" stroke=\"black\" points=\"276.06,-273.12 280.3,-282.83 283.04,-272.59 276.06,-273.12\"/>\n",
       "</g>\n",
       "<!-- &#45;5023792451912454681 -->\n",
       "<g id=\"node14\" class=\"node\">\n",
       "<title>-5023792451912454681</title>\n",
       "<polygon fill=\"none\" stroke=\"black\" points=\"227.6,-155.19 173.6,-155.19 173.6,-119.19 227.6,-119.19 227.6,-155.19\"/>\n",
       "</g>\n",
       "<!-- &#45;5023792451912454681&#45;&gt;&#45;8206700425167635519 -->\n",
       "<g id=\"edge13\" class=\"edge\">\n",
       "<title>-5023792451912454681-&gt;-8206700425167635519</title>\n",
       "<path fill=\"none\" stroke=\"black\" d=\"M216.87,-155.54C226.55,-165.86 239.05,-179.19 250.03,-190.89\"/>\n",
       "<polygon fill=\"black\" stroke=\"black\" points=\"247.58,-193.39 256.98,-198.29 252.69,-188.6 247.58,-193.39\"/>\n",
       "</g>\n",
       "<!-- 1760660962940379927 -->\n",
       "<g id=\"node15\" class=\"node\">\n",
       "<title>1760660962940379927</title>\n",
       "<polygon fill=\"none\" stroke=\"black\" points=\"302.6,-155.19 248.6,-155.19 248.6,-119.19 302.6,-119.19 302.6,-155.19\"/>\n",
       "</g>\n",
       "<!-- 1760660962940379927&#45;&gt;&#45;8206700425167635519 -->\n",
       "<g id=\"edge14\" class=\"edge\">\n",
       "<title>1760660962940379927-&gt;-8206700425167635519</title>\n",
       "<path fill=\"none\" stroke=\"black\" d=\"M275.6,-155.54C275.6,-163 275.6,-172.03 275.6,-180.88\"/>\n",
       "<polygon fill=\"black\" stroke=\"black\" points=\"272.1,-181.08 275.6,-191.08 279.1,-181.08 272.1,-181.08\"/>\n",
       "</g>\n",
       "<!-- 6760085860174716615 -->\n",
       "<g id=\"node16\" class=\"node\">\n",
       "<title>6760085860174716615</title>\n",
       "<ellipse fill=\"none\" stroke=\"black\" cx=\"191.6\" cy=\"-41.6\" rx=\"24.1\" ry=\"24.1\"/>\n",
       "<text text-anchor=\"middle\" x=\"191.6\" y=\"-37.9\" font-family=\"Helvetica,sans-Serif\" font-size=\"14.00\">inc</text>\n",
       "</g>\n",
       "<!-- 6760085860174716615&#45;&gt;&#45;5023792451912454681 -->\n",
       "<g id=\"edge15\" class=\"edge\">\n",
       "<title>6760085860174716615-&gt;-5023792451912454681</title>\n",
       "<path fill=\"none\" stroke=\"black\" d=\"M193.82,-65.73C195.07,-78.72 196.64,-95 197.95,-108.64\"/>\n",
       "<polygon fill=\"black\" stroke=\"black\" points=\"194.49,-109.28 198.93,-118.9 201.46,-108.61 194.49,-109.28\"/>\n",
       "</g>\n",
       "<!-- &#45;2203318347046397492 -->\n",
       "<g id=\"node17\" class=\"node\">\n",
       "<title>-2203318347046397492</title>\n",
       "<ellipse fill=\"none\" stroke=\"black\" cx=\"275.6\" cy=\"-41.6\" rx=\"41.69\" ry=\"41.69\"/>\n",
       "<text text-anchor=\"middle\" x=\"275.6\" y=\"-37.9\" font-family=\"Helvetica,sans-Serif\" font-size=\"14.00\">double</text>\n",
       "</g>\n",
       "<!-- &#45;2203318347046397492&#45;&gt;1760660962940379927 -->\n",
       "<g id=\"edge16\" class=\"edge\">\n",
       "<title>-2203318347046397492-&gt;1760660962940379927</title>\n",
       "<path fill=\"none\" stroke=\"black\" d=\"M275.6,-83.38C275.6,-91.91 275.6,-100.72 275.6,-108.63\"/>\n",
       "<polygon fill=\"black\" stroke=\"black\" points=\"272.1,-108.77 275.6,-118.77 279.1,-108.77 272.1,-108.77\"/>\n",
       "</g>\n",
       "<!-- 6410775283452159840 -->\n",
       "<g id=\"node18\" class=\"node\">\n",
       "<title>6410775283452159840</title>\n",
       "<ellipse fill=\"none\" stroke=\"black\" cx=\"390.6\" cy=\"-219.14\" rx=\"27.9\" ry=\"27.9\"/>\n",
       "<text text-anchor=\"middle\" x=\"390.6\" y=\"-215.44\" font-family=\"Helvetica,sans-Serif\" font-size=\"14.00\">add</text>\n",
       "</g>\n",
       "<!-- 6410775283452159840&#45;&gt;&#45;2312582595374497265 -->\n",
       "<g id=\"edge17\" class=\"edge\">\n",
       "<title>6410775283452159840-&gt;-2312582595374497265</title>\n",
       "<path fill=\"none\" stroke=\"black\" d=\"M390.6,-247.21C390.6,-255.4 390.6,-264.39 390.6,-272.61\"/>\n",
       "<polygon fill=\"black\" stroke=\"black\" points=\"387.1,-272.83 390.6,-282.83 394.1,-272.83 387.1,-272.83\"/>\n",
       "</g>\n",
       "<!-- &#45;3699052862032513183 -->\n",
       "<g id=\"node19\" class=\"node\">\n",
       "<title>-3699052862032513183</title>\n",
       "<polygon fill=\"none\" stroke=\"black\" points=\"389.6,-155.19 335.6,-155.19 335.6,-119.19 389.6,-119.19 389.6,-155.19\"/>\n",
       "</g>\n",
       "<!-- &#45;3699052862032513183&#45;&gt;6410775283452159840 -->\n",
       "<g id=\"edge18\" class=\"edge\">\n",
       "<title>-3699052862032513183-&gt;6410775283452159840</title>\n",
       "<path fill=\"none\" stroke=\"black\" d=\"M368.67,-155.54C371.49,-163.58 374.94,-173.45 378.27,-182.95\"/>\n",
       "<polygon fill=\"black\" stroke=\"black\" points=\"375.05,-184.35 381.66,-192.63 381.66,-182.03 375.05,-184.35\"/>\n",
       "</g>\n",
       "<!-- 7486272835610014593 -->\n",
       "<g id=\"node20\" class=\"node\">\n",
       "<title>7486272835610014593</title>\n",
       "<polygon fill=\"none\" stroke=\"black\" points=\"464.6,-155.19 410.6,-155.19 410.6,-119.19 464.6,-119.19 464.6,-155.19\"/>\n",
       "</g>\n",
       "<!-- 7486272835610014593&#45;&gt;6410775283452159840 -->\n",
       "<g id=\"edge19\" class=\"edge\">\n",
       "<title>7486272835610014593-&gt;6410775283452159840</title>\n",
       "<path fill=\"none\" stroke=\"black\" d=\"M427.4,-155.54C422.18,-164.42 415.65,-175.52 409.55,-185.9\"/>\n",
       "<polygon fill=\"black\" stroke=\"black\" points=\"406.39,-184.36 404.34,-194.76 412.43,-187.91 406.39,-184.36\"/>\n",
       "</g>\n",
       "<!-- 7575646714043904497 -->\n",
       "<g id=\"node21\" class=\"node\">\n",
       "<title>7575646714043904497</title>\n",
       "<ellipse fill=\"none\" stroke=\"black\" cx=\"359.6\" cy=\"-41.6\" rx=\"24.1\" ry=\"24.1\"/>\n",
       "<text text-anchor=\"middle\" x=\"359.6\" y=\"-37.9\" font-family=\"Helvetica,sans-Serif\" font-size=\"14.00\">inc</text>\n",
       "</g>\n",
       "<!-- 7575646714043904497&#45;&gt;&#45;3699052862032513183 -->\n",
       "<g id=\"edge20\" class=\"edge\">\n",
       "<title>7575646714043904497-&gt;-3699052862032513183</title>\n",
       "<path fill=\"none\" stroke=\"black\" d=\"M360.34,-65.73C360.75,-78.72 361.28,-95 361.71,-108.64\"/>\n",
       "<polygon fill=\"black\" stroke=\"black\" points=\"358.22,-109.02 362.04,-118.9 365.22,-108.8 358.22,-109.02\"/>\n",
       "</g>\n",
       "<!-- &#45;2649235561851894830 -->\n",
       "<g id=\"node22\" class=\"node\">\n",
       "<title>-2649235561851894830</title>\n",
       "<ellipse fill=\"none\" stroke=\"black\" cx=\"443.6\" cy=\"-41.6\" rx=\"41.69\" ry=\"41.69\"/>\n",
       "<text text-anchor=\"middle\" x=\"443.6\" y=\"-37.9\" font-family=\"Helvetica,sans-Serif\" font-size=\"14.00\">double</text>\n",
       "</g>\n",
       "<!-- &#45;2649235561851894830&#45;&gt;7486272835610014593 -->\n",
       "<g id=\"edge21\" class=\"edge\">\n",
       "<title>-2649235561851894830-&gt;7486272835610014593</title>\n",
       "<path fill=\"none\" stroke=\"black\" d=\"M440.98,-83.38C440.43,-91.91 439.87,-100.72 439.36,-108.63\"/>\n",
       "<polygon fill=\"black\" stroke=\"black\" points=\"435.86,-108.57 438.71,-118.77 442.85,-109.01 435.86,-108.57\"/>\n",
       "</g>\n",
       "<!-- &#45;4930273499072245579 -->\n",
       "<g id=\"node23\" class=\"node\">\n",
       "<title>-4930273499072245579</title>\n",
       "<ellipse fill=\"none\" stroke=\"black\" cx=\"125.6\" cy=\"-219.14\" rx=\"27.9\" ry=\"27.9\"/>\n",
       "<text text-anchor=\"middle\" x=\"125.6\" y=\"-215.44\" font-family=\"Helvetica,sans-Serif\" font-size=\"14.00\">add</text>\n",
       "</g>\n",
       "<!-- &#45;4930273499072245579&#45;&gt;7518817019987629025 -->\n",
       "<g id=\"edge22\" class=\"edge\">\n",
       "<title>-4930273499072245579-&gt;7518817019987629025</title>\n",
       "<path fill=\"none\" stroke=\"black\" d=\"M139.1,-244.13C144.43,-253.61 150.58,-264.52 156.02,-274.18\"/>\n",
       "<polygon fill=\"black\" stroke=\"black\" points=\"153.01,-275.98 160.96,-282.97 159.11,-272.54 153.01,-275.98\"/>\n",
       "</g>\n",
       "<!-- &#45;4916958108706024263 -->\n",
       "<g id=\"node24\" class=\"node\">\n",
       "<title>-4916958108706024263</title>\n",
       "<polygon fill=\"none\" stroke=\"black\" points=\"74.6,-155.19 20.6,-155.19 20.6,-119.19 74.6,-119.19 74.6,-155.19\"/>\n",
       "</g>\n",
       "<!-- &#45;4916958108706024263&#45;&gt;&#45;4930273499072245579 -->\n",
       "<g id=\"edge23\" class=\"edge\">\n",
       "<title>-4916958108706024263-&gt;-4930273499072245579</title>\n",
       "<path fill=\"none\" stroke=\"black\" d=\"M64.52,-155.54C74.67,-165.94 87.78,-179.38 99.26,-191.14\"/>\n",
       "<polygon fill=\"black\" stroke=\"black\" points=\"97.02,-193.87 106.51,-198.58 102.03,-188.98 97.02,-193.87\"/>\n",
       "</g>\n",
       "<!-- &#45;7410737951241993729 -->\n",
       "<g id=\"node25\" class=\"node\">\n",
       "<title>-7410737951241993729</title>\n",
       "<polygon fill=\"none\" stroke=\"black\" points=\"152.6,-155.19 98.6,-155.19 98.6,-119.19 152.6,-119.19 152.6,-155.19\"/>\n",
       "</g>\n",
       "<!-- &#45;7410737951241993729&#45;&gt;&#45;4930273499072245579 -->\n",
       "<g id=\"edge24\" class=\"edge\">\n",
       "<title>-7410737951241993729-&gt;-4930273499072245579</title>\n",
       "<path fill=\"none\" stroke=\"black\" d=\"M125.6,-155.54C125.6,-163 125.6,-172.03 125.6,-180.88\"/>\n",
       "<polygon fill=\"black\" stroke=\"black\" points=\"122.1,-181.08 125.6,-191.08 129.1,-181.08 122.1,-181.08\"/>\n",
       "</g>\n",
       "<!-- &#45;6766647398654522154 -->\n",
       "<g id=\"node26\" class=\"node\">\n",
       "<title>-6766647398654522154</title>\n",
       "<ellipse fill=\"none\" stroke=\"black\" cx=\"125.6\" cy=\"-41.6\" rx=\"24.1\" ry=\"24.1\"/>\n",
       "<text text-anchor=\"middle\" x=\"125.6\" y=\"-37.9\" font-family=\"Helvetica,sans-Serif\" font-size=\"14.00\">inc</text>\n",
       "</g>\n",
       "<!-- &#45;6766647398654522154&#45;&gt;&#45;7410737951241993729 -->\n",
       "<g id=\"edge25\" class=\"edge\">\n",
       "<title>-6766647398654522154-&gt;-7410737951241993729</title>\n",
       "<path fill=\"none\" stroke=\"black\" d=\"M125.6,-65.73C125.6,-78.72 125.6,-95 125.6,-108.64\"/>\n",
       "<polygon fill=\"black\" stroke=\"black\" points=\"122.1,-108.9 125.6,-118.9 129.1,-108.9 122.1,-108.9\"/>\n",
       "</g>\n",
       "<!-- &#45;5358668264112610833 -->\n",
       "<g id=\"node27\" class=\"node\">\n",
       "<title>-5358668264112610833</title>\n",
       "<ellipse fill=\"none\" stroke=\"black\" cx=\"41.6\" cy=\"-41.6\" rx=\"41.69\" ry=\"41.69\"/>\n",
       "<text text-anchor=\"middle\" x=\"41.6\" y=\"-37.9\" font-family=\"Helvetica,sans-Serif\" font-size=\"14.00\">double</text>\n",
       "</g>\n",
       "<!-- &#45;5358668264112610833&#45;&gt;&#45;4916958108706024263 -->\n",
       "<g id=\"edge26\" class=\"edge\">\n",
       "<title>-5358668264112610833-&gt;-4916958108706024263</title>\n",
       "<path fill=\"none\" stroke=\"black\" d=\"M44.21,-83.38C44.76,-91.91 45.32,-100.72 45.83,-108.63\"/>\n",
       "<polygon fill=\"black\" stroke=\"black\" points=\"42.35,-109.01 46.48,-118.77 49.33,-108.57 42.35,-109.01\"/>\n",
       "</g>\n",
       "<!-- 4671310625181611182 -->\n",
       "<g id=\"node28\" class=\"node\">\n",
       "<title>4671310625181611182</title>\n",
       "<ellipse fill=\"none\" stroke=\"black\" cx=\"544.6\" cy=\"-219.14\" rx=\"27.9\" ry=\"27.9\"/>\n",
       "<text text-anchor=\"middle\" x=\"544.6\" y=\"-215.44\" font-family=\"Helvetica,sans-Serif\" font-size=\"14.00\">add</text>\n",
       "</g>\n",
       "<!-- 4671310625181611182&#45;&gt;7061215224957626927 -->\n",
       "<g id=\"edge27\" class=\"edge\">\n",
       "<title>4671310625181611182-&gt;7061215224957626927</title>\n",
       "<path fill=\"none\" stroke=\"black\" d=\"M536.23,-245.88C533.41,-254.54 530.26,-264.22 527.41,-272.99\"/>\n",
       "<polygon fill=\"black\" stroke=\"black\" points=\"524,-272.14 524.24,-282.73 530.66,-274.31 524,-272.14\"/>\n",
       "</g>\n",
       "<!-- &#45;3544423581519178916 -->\n",
       "<g id=\"node29\" class=\"node\">\n",
       "<title>-3544423581519178916</title>\n",
       "<polygon fill=\"none\" stroke=\"black\" points=\"571.6,-155.19 517.6,-155.19 517.6,-119.19 571.6,-119.19 571.6,-155.19\"/>\n",
       "</g>\n",
       "<!-- &#45;3544423581519178916&#45;&gt;4671310625181611182 -->\n",
       "<g id=\"edge28\" class=\"edge\">\n",
       "<title>-3544423581519178916-&gt;4671310625181611182</title>\n",
       "<path fill=\"none\" stroke=\"black\" d=\"M544.6,-155.54C544.6,-163 544.6,-172.03 544.6,-180.88\"/>\n",
       "<polygon fill=\"black\" stroke=\"black\" points=\"541.1,-181.08 544.6,-191.08 548.1,-181.08 541.1,-181.08\"/>\n",
       "</g>\n",
       "<!-- &#45;3116921681752561650 -->\n",
       "<g id=\"node30\" class=\"node\">\n",
       "<title>-3116921681752561650</title>\n",
       "<polygon fill=\"none\" stroke=\"black\" points=\"646.6,-155.19 592.6,-155.19 592.6,-119.19 646.6,-119.19 646.6,-155.19\"/>\n",
       "</g>\n",
       "<!-- &#45;3116921681752561650&#45;&gt;4671310625181611182 -->\n",
       "<g id=\"edge29\" class=\"edge\">\n",
       "<title>-3116921681752561650-&gt;4671310625181611182</title>\n",
       "<path fill=\"none\" stroke=\"black\" d=\"M603.32,-155.54C593.64,-165.86 581.14,-179.19 570.16,-190.89\"/>\n",
       "<polygon fill=\"black\" stroke=\"black\" points=\"567.5,-188.6 563.22,-198.29 572.61,-193.39 567.5,-188.6\"/>\n",
       "</g>\n",
       "<!-- &#45;1998397479516041089 -->\n",
       "<g id=\"node31\" class=\"node\">\n",
       "<title>-1998397479516041089</title>\n",
       "<ellipse fill=\"none\" stroke=\"black\" cx=\"544.6\" cy=\"-41.6\" rx=\"41.69\" ry=\"41.69\"/>\n",
       "<text text-anchor=\"middle\" x=\"544.6\" y=\"-37.9\" font-family=\"Helvetica,sans-Serif\" font-size=\"14.00\">double</text>\n",
       "</g>\n",
       "<!-- &#45;1998397479516041089&#45;&gt;&#45;3544423581519178916 -->\n",
       "<g id=\"edge30\" class=\"edge\">\n",
       "<title>-1998397479516041089-&gt;-3544423581519178916</title>\n",
       "<path fill=\"none\" stroke=\"black\" d=\"M544.6,-83.38C544.6,-91.91 544.6,-100.72 544.6,-108.63\"/>\n",
       "<polygon fill=\"black\" stroke=\"black\" points=\"541.1,-108.77 544.6,-118.77 548.1,-108.77 541.1,-108.77\"/>\n",
       "</g>\n",
       "<!-- 8709117166992840377 -->\n",
       "<g id=\"node32\" class=\"node\">\n",
       "<title>8709117166992840377</title>\n",
       "<ellipse fill=\"none\" stroke=\"black\" cx=\"628.6\" cy=\"-41.6\" rx=\"24.1\" ry=\"24.1\"/>\n",
       "<text text-anchor=\"middle\" x=\"628.6\" y=\"-37.9\" font-family=\"Helvetica,sans-Serif\" font-size=\"14.00\">inc</text>\n",
       "</g>\n",
       "<!-- 8709117166992840377&#45;&gt;&#45;3116921681752561650 -->\n",
       "<g id=\"edge31\" class=\"edge\">\n",
       "<title>8709117166992840377-&gt;-3116921681752561650</title>\n",
       "<path fill=\"none\" stroke=\"black\" d=\"M626.37,-65.73C625.12,-78.72 623.56,-95 622.25,-108.64\"/>\n",
       "<polygon fill=\"black\" stroke=\"black\" points=\"618.73,-108.61 621.26,-118.9 625.7,-109.28 618.73,-108.61\"/>\n",
       "</g>\n",
       "</g>\n",
       "</svg>"
      ],
      "text/plain": [
       "<IPython.core.display.SVG object>"
      ]
     },
     "execution_count": 52,
     "metadata": {},
     "output_type": "execute_result"
    }
   ],
   "source": [
    "total.visualize(filename=\"graph2.svg\")"
   ]
  },
  {
   "cell_type": "code",
   "execution_count": 53,
   "metadata": {
    "slideshow": {
     "slide_type": "subslide"
    },
    "tags": []
   },
   "outputs": [
    {
     "data": {
      "text/plain": [
       "45"
      ]
     },
     "execution_count": 53,
     "metadata": {},
     "output_type": "execute_result"
    }
   ],
   "source": [
    "#call copute to execute\n",
    "total.compute()"
   ]
  },
  {
   "cell_type": "markdown",
   "metadata": {
    "slideshow": {
     "slide_type": "slide"
    }
   },
   "source": [
    "## More in the Lab !\n",
    "* and here https://github.com/dask/dask-tutorial\n",
    "* and here https://livebook.manning.com/book/data-science-at-scale-with-python-and-dask/about-this-book/"
   ]
  }
 ],
 "metadata": {
  "celltoolbar": "Slideshow",
  "kernelspec": {
   "display_name": "dask-25",
   "language": "python",
   "name": "dask-25"
  },
  "language_info": {
   "codemirror_mode": {
    "name": "ipython",
    "version": 3
   },
   "file_extension": ".py",
   "mimetype": "text/x-python",
   "name": "python",
   "nbconvert_exporter": "python",
   "pygments_lexer": "ipython3",
   "version": "3.13.2"
  },
  "livereveal": {
   "enable_chalkboard": true,
   "footer": "Janis Keuper - SS22",
   "header": "Data Engineering: Week 8"
  }
 },
 "nbformat": 4,
 "nbformat_minor": 4
}
