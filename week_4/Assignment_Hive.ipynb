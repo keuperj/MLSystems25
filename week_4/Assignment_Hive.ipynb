{
  "cells": [
    {
      "cell_type": "markdown",
      "metadata": {
        "id": "MgHClVPfH01I"
      },
      "source": [
        "# Hive\n",
        "We use the *pyHive* lib: https://github.com/dropbox/PyHive\n",
        "\n",
        "## Resources\n",
        "* [HQL cheat sheet](http://hortonworks.com/wp-content/uploads/2016/05/Hortonworks.CheatSheet.SQLtoHive.pdf)\n",
        "* [Hive reference](https://cwiki.apache.org/confluence/display/Hive/LanguageManual)\n",
        "\n",
        "## Install\n",
        "Install *pyHive* via *anaconda*"
      ]
    },
    {
      "cell_type": "code",
      "execution_count": 1,
      "metadata": {
        "id": "HCaNBc_pH01S"
      },
      "outputs": [],
      "source": [
        "!pip install -q condacolab\n",
        "\n"
      ]
    },
    {
      "cell_type": "code",
      "execution_count": 2,
      "metadata": {
        "colab": {
          "base_uri": "https://localhost:8080/"
        },
        "id": "hbf_ESW7rYxU",
        "outputId": "78e2c3b0-6f03-4f0a-bf76-9793ae122bb8"
      },
      "outputs": [
        {
          "output_type": "stream",
          "name": "stdout",
          "text": [
            "⏬ Downloading https://github.com/conda-forge/miniforge/releases/download/23.1.0-1/Mambaforge-23.1.0-1-Linux-x86_64.sh...\n",
            "📦 Installing...\n",
            "📌 Adjusting configuration...\n",
            "🩹 Patching environment...\n",
            "⏲ Done in 0:00:13\n",
            "🔁 Restarting kernel...\n"
          ]
        }
      ],
      "source": [
        "import condacolab\n",
        "condacolab.install()\n",
        "\n"
      ]
    },
    {
      "cell_type": "code",
      "execution_count": 1,
      "metadata": {
        "colab": {
          "base_uri": "https://localhost:8080/"
        },
        "id": "yZtda4Pardbi",
        "outputId": "0fc2fbb1-482b-4e95-a22e-e5cbe8ebc7b0"
      },
      "outputs": [
        {
          "output_type": "stream",
          "name": "stdout",
          "text": [
            "Collecting package metadata (current_repodata.json): - \b\b\\ \b\b| \b\b/ \b\b- \b\b\\ \b\b| \b\b/ \b\b- \b\b\\ \b\b| \b\b/ \b\b- \b\b\\ \b\b| \b\b/ \b\b- \b\b\\ \b\b| \b\b/ \b\b- \b\bdone\n",
            "Solving environment: | \b\b/ \b\b- \b\b\\ \b\b| \b\b/ \b\b- \b\b\\ \b\b| \b\b/ \b\b- \b\b\\ \b\b| \b\b/ \b\b- \b\b\\ \b\b| \b\b/ \b\bdone\n",
            "\n",
            "\n",
            "==> WARNING: A newer version of conda exists. <==\n",
            "  current version: 23.1.0\n",
            "  latest version: 23.10.0\n",
            "\n",
            "Please update conda by running\n",
            "\n",
            "    $ conda update -n base -c conda-forge conda\n",
            "\n",
            "Or to minimize the number of packages updated during conda update use\n",
            "\n",
            "     conda install conda=23.10.0\n",
            "\n",
            "\n",
            "\n",
            "# All requested packages already installed.\n",
            "\n"
          ]
        }
      ],
      "source": [
        "!conda install -y pyhive sasl"
      ]
    },
    {
      "cell_type": "code",
      "execution_count": 2,
      "metadata": {
        "id": "AoBWUZAVH01U"
      },
      "outputs": [],
      "source": [
        "#import libs\n",
        "from pyhive import hive\n",
        "from TCLIService.ttypes import TOperationState"
      ]
    },
    {
      "cell_type": "code",
      "execution_count": 4,
      "metadata": {
        "id": "Xei9sSNAH01V"
      },
      "outputs": [],
      "source": [
        "# try to connect\n",
        "server=\"ec2-54-74-226-178.eu-west-1.compute.amazonaws.com\"\n",
        "cursor = hive.connect(server).cursor()"
      ]
    },
    {
      "cell_type": "code",
      "execution_count": 5,
      "metadata": {
        "id": "PBzVSTQEH01V"
      },
      "outputs": [],
      "source": [
        "#show our databases\n",
        "cursor.execute('show databases')"
      ]
    },
    {
      "cell_type": "code",
      "execution_count": 10,
      "metadata": {
        "colab": {
          "base_uri": "https://localhost:8080/"
        },
        "id": "oblfzvS6H01W",
        "outputId": "626e3ffa-5c2c-4381-da0b-1709d84f11a9"
      },
      "outputs": [
        {
          "output_type": "execute_result",
          "data": {
            "text/plain": [
              "[]"
            ]
          },
          "metadata": {},
          "execution_count": 10
        }
      ],
      "source": [
        "#get data from execution\n",
        "cursor.fetchall()"
      ]
    },
    {
      "cell_type": "code",
      "execution_count": 11,
      "metadata": {
        "id": "3HOpreHyH01Y"
      },
      "outputs": [],
      "source": [
        "#use default db\n",
        "cursor.execute('use default')"
      ]
    },
    {
      "cell_type": "code",
      "execution_count": 12,
      "metadata": {
        "id": "sfP3VHwyH01a"
      },
      "outputs": [],
      "source": [
        "#show tables in db\n",
        "cursor.execute('show tables')"
      ]
    },
    {
      "cell_type": "code",
      "execution_count": 13,
      "metadata": {
        "colab": {
          "base_uri": "https://localhost:8080/"
        },
        "id": "Q93V1EWLH01b",
        "outputId": "30bf047f-bea4-41ed-d20b-0fd0a9212ade"
      },
      "outputs": [
        {
          "output_type": "execute_result",
          "data": {
            "text/plain": [
              "[('employees',), ('salaries',)]"
            ]
          },
          "metadata": {},
          "execution_count": 13
        }
      ],
      "source": [
        "cursor.fetchall()"
      ]
    },
    {
      "cell_type": "code",
      "execution_count": 15,
      "metadata": {
        "colab": {
          "base_uri": "https://localhost:8080/"
        },
        "id": "AGw0RCptH01c",
        "outputId": "0b3afb06-9218-4458-ab6d-615cea11ac50"
      },
      "outputs": [
        {
          "output_type": "execute_result",
          "data": {
            "text/plain": [
              "[('field_1', 'bigint', ''),\n",
              " ('field_2', 'string', ''),\n",
              " ('field_3', 'string', ''),\n",
              " ('field_4', 'string', ''),\n",
              " ('field_5', 'string', ''),\n",
              " ('field_6', 'string', '')]"
            ]
          },
          "metadata": {},
          "execution_count": 15
        }
      ],
      "source": [
        "# get table layout\n",
        "cursor.execute('describe employees')\n",
        "cursor.fetchall()"
      ]
    },
    {
      "cell_type": "code",
      "execution_count": 16,
      "metadata": {
        "id": "lVrk3FeAH01d"
      },
      "outputs": [],
      "source": [
        "#select data\n",
        "cursor.execute('select * from employees')"
      ]
    },
    {
      "cell_type": "code",
      "execution_count": 17,
      "metadata": {
        "id": "FfrzcTSoH01e"
      },
      "outputs": [],
      "source": [
        "#get daata from selction\n",
        "employee = cursor.fetchall()"
      ]
    },
    {
      "cell_type": "code",
      "execution_count": 18,
      "metadata": {
        "colab": {
          "base_uri": "https://localhost:8080/"
        },
        "id": "9jmXC22-H01f",
        "outputId": "97ac6a51-890a-4c94-87f3-c0d7e975cd9f"
      },
      "outputs": [
        {
          "output_type": "execute_result",
          "data": {
            "text/plain": [
              "[(10001, \"'1953-09-02'\", \"'Georgi'\", \"'Facello'\", \"'M'\", \"'1986-06-26'\"),\n",
              " (10002, \"'1964-06-02'\", \"'Bezalel'\", \"'Simmel'\", \"'F'\", \"'1985-11-21'\"),\n",
              " (10003, \"'1959-12-03'\", \"'Parto'\", \"'Bamford'\", \"'M'\", \"'1986-08-28'\"),\n",
              " (10004, \"'1954-05-01'\", \"'Chirstian'\", \"'Koblick'\", \"'M'\", \"'1986-12-01'\"),\n",
              " (10005, \"'1955-01-21'\", \"'Kyoichi'\", \"'Maliniak'\", \"'M'\", \"'1989-09-12'\"),\n",
              " (10006, \"'1953-04-20'\", \"'Anneke'\", \"'Preusig'\", \"'F'\", \"'1989-06-02'\"),\n",
              " (10007, \"'1957-05-23'\", \"'Tzvetan'\", \"'Zielinski'\", \"'F'\", \"'1989-02-10'\"),\n",
              " (10008, \"'1958-02-19'\", \"'Saniya'\", \"'Kalloufi'\", \"'M'\", \"'1994-09-15'\"),\n",
              " (10009, \"'1952-04-19'\", \"'Sumant'\", \"'Peac'\", \"'F'\", \"'1985-02-18'\"),\n",
              " (10010, \"'1963-06-01'\", \"'Duangkaew'\", \"'Piveteau'\", \"'F'\", \"'1989-08-24'\")]"
            ]
          },
          "metadata": {},
          "execution_count": 18
        }
      ],
      "source": [
        "#have a look\n",
        "employee[:10]"
      ]
    },
    {
      "cell_type": "code",
      "execution_count": 20,
      "metadata": {
        "colab": {
          "base_uri": "https://localhost:8080/"
        },
        "id": "EDcDMjh3H01f",
        "outputId": "d9b93f50-2ed8-42a4-f088-e0a3df9d6014"
      },
      "outputs": [
        {
          "output_type": "execute_result",
          "data": {
            "text/plain": [
              "[('field_1', 'bigint', ''),\n",
              " ('field_2', 'bigint', ''),\n",
              " ('field_3', 'string', ''),\n",
              " ('field_4', 'string', '')]"
            ]
          },
          "metadata": {},
          "execution_count": 20
        }
      ],
      "source": [
        "# get salary table layout\n",
        "cursor.execute('describe salaries')\n",
        "cursor.fetchall()"
      ]
    },
    {
      "cell_type": "code",
      "execution_count": 21,
      "metadata": {
        "id": "N3R5nE9ZH01g"
      },
      "outputs": [],
      "source": [
        "#select data\n",
        "cursor.execute('select * from salaries')"
      ]
    },
    {
      "cell_type": "code",
      "execution_count": 22,
      "metadata": {
        "id": "OX9pna1WH01h"
      },
      "outputs": [],
      "source": [
        "#get daata from selction\n",
        "salary = cursor.fetchall()"
      ]
    },
    {
      "cell_type": "code",
      "execution_count": 23,
      "metadata": {
        "colab": {
          "base_uri": "https://localhost:8080/"
        },
        "id": "sPyV2OsSH01h",
        "outputId": "4b28fa3e-1f95-4225-9f24-ab68a6243a82"
      },
      "outputs": [
        {
          "output_type": "execute_result",
          "data": {
            "text/plain": [
              "[(10001, 60117, \"'1986-06-26'\", \"'1987-06-26'\"),\n",
              " (10001, 62102, \"'1987-06-26'\", \"'1988-06-25'\"),\n",
              " (10001, 66074, \"'1988-06-25'\", \"'1989-06-25'\"),\n",
              " (10001, 66596, \"'1989-06-25'\", \"'1990-06-25'\"),\n",
              " (10001, 66961, \"'1990-06-25'\", \"'1991-06-25'\"),\n",
              " (10001, 71046, \"'1991-06-25'\", \"'1992-06-24'\"),\n",
              " (10001, 74333, \"'1992-06-24'\", \"'1993-06-24'\"),\n",
              " (10001, 75286, \"'1993-06-24'\", \"'1994-06-24'\"),\n",
              " (10001, 75994, \"'1994-06-24'\", \"'1995-06-24'\"),\n",
              " (10001, 76884, \"'1995-06-24'\", \"'1996-06-23'\")]"
            ]
          },
          "metadata": {},
          "execution_count": 23
        }
      ],
      "source": [
        "salary[:10]"
      ]
    },
    {
      "cell_type": "markdown",
      "metadata": {
        "id": "Cr0ty4gsH01i"
      },
      "source": [
        "## Ex 1\n",
        "Get employees sorted by ``family_name``. Return first 10 entries."
      ]
    },
    {
      "cell_type": "code",
      "execution_count": null,
      "metadata": {
        "id": "5plL57fKH01i"
      },
      "outputs": [],
      "source": [
        "cursor.execute(\" \")"
      ]
    },
    {
      "cell_type": "code",
      "execution_count": null,
      "metadata": {
        "id": "f5AbUIxfH01j"
      },
      "outputs": [],
      "source": [
        "cursor.fetchall()"
      ]
    },
    {
      "cell_type": "markdown",
      "metadata": {
        "id": "A5YKLzYnH01j"
      },
      "source": [
        "## Ex 2\n",
        "Get ``family_name`` and ``salary`` of employees sorted by salary. Return first 100 entries. Hint: you need to join both tables..."
      ]
    },
    {
      "cell_type": "code",
      "execution_count": null,
      "metadata": {
        "id": "sqGnrDiHH01k"
      },
      "outputs": [],
      "source": [
        "cursor.execute(\" \")\n",
        "data=cursor.fetchall()"
      ]
    },
    {
      "cell_type": "markdown",
      "metadata": {
        "id": "d67mWDujH01k"
      },
      "source": [
        "## Ex 3\n",
        "Get the average salary by gender. Hint: use Group by"
      ]
    },
    {
      "cell_type": "code",
      "execution_count": null,
      "metadata": {
        "id": "aYZjnau0H01l"
      },
      "outputs": [],
      "source": [
        "cursor.execute(\" \")\n",
        "cursor.fetchall()"
      ]
    },
    {
      "cell_type": "code",
      "execution_count": null,
      "metadata": {
        "id": "OYp78F7AH01l"
      },
      "outputs": [],
      "source": []
    }
  ],
  "metadata": {
    "accelerator": "GPU",
    "colab": {
      "name": "Assignment_Hive.ipynb",
      "provenance": []
    },
    "kernelspec": {
      "display_name": "Python 3 (ipykernel)",
      "language": "python",
      "name": "python3"
    },
    "language_info": {
      "codemirror_mode": {
        "name": "ipython",
        "version": 3
      },
      "file_extension": ".py",
      "mimetype": "text/x-python",
      "name": "python",
      "nbconvert_exporter": "python",
      "pygments_lexer": "ipython3",
      "version": "3.9.12"
    }
  },
  "nbformat": 4,
  "nbformat_minor": 0
}