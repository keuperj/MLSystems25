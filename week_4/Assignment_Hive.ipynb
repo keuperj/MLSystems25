{
  "cells": [
    {
      "cell_type": "markdown",
      "metadata": {
        "id": "MgHClVPfH01I"
      },
      "source": [
        "# Hive\n",
        "We use the *pyHive* lib: https://github.com/dropbox/PyHive\n",
        "\n",
        "## Resources\n",
        "* [HQL cheat sheet](http://hortonworks.com/wp-content/uploads/2016/05/Hortonworks.CheatSheet.SQLtoHive.pdf)\n",
        "* [Hive reference](https://cwiki.apache.org/confluence/display/Hive/LanguageManual)\n",
        "\n",
        "## Install\n",
        "Install *pyHive* via *anaconda*"
      ]
    },
    {
      "cell_type": "code",
      "execution_count": 1,
      "metadata": {
        "id": "HCaNBc_pH01S"
      },
      "outputs": [],
      "source": [
        "!pip install -q condacolab\n",
        "\n"
      ]
    },
    {
      "cell_type": "code",
      "execution_count": 2,
      "metadata": {
        "colab": {
          "base_uri": "https://localhost:8080/"
        },
        "id": "hbf_ESW7rYxU",
        "outputId": "387173a0-7f56-4f74-88c7-e6459db46124"
      },
      "outputs": [
        {
          "output_type": "stream",
          "name": "stdout",
          "text": [
            "⏬ Downloading https://github.com/jaimergp/miniforge/releases/download/24.11.2-1_colab/Miniforge3-colab-24.11.2-1_colab-Linux-x86_64.sh...\n",
            "📦 Installing...\n",
            "📌 Adjusting configuration...\n",
            "🩹 Patching environment...\n",
            "⏲ Done in 0:00:13\n",
            "🔁 Restarting kernel...\n"
          ]
        }
      ],
      "source": [
        "import condacolab\n",
        "condacolab.install()\n",
        "\n"
      ]
    },
    {
      "cell_type": "code",
      "execution_count": 5,
      "metadata": {
        "colab": {
          "base_uri": "https://localhost:8080/"
        },
        "id": "yZtda4Pardbi",
        "outputId": "91b2ce2b-2e33-4a68-f113-604a28d4cdc0"
      },
      "outputs": [
        {
          "output_type": "stream",
          "name": "stdout",
          "text": [
            "Requirement already satisfied: pyhive in /usr/local/lib/python3.11/site-packages (0.7.0)\n",
            "Requirement already satisfied: thrift in /usr/local/lib/python3.11/site-packages (0.21.0)\n",
            "Collecting thrift_sasl\n",
            "  Downloading thrift_sasl-0.4.3-py2.py3-none-any.whl.metadata (1.2 kB)\n",
            "Requirement already satisfied: future in /usr/local/lib/python3.11/site-packages (from pyhive) (1.0.0)\n",
            "Requirement already satisfied: python-dateutil in /usr/local/lib/python3.11/site-packages (from pyhive) (2.9.0.post0)\n",
            "Requirement already satisfied: six>=1.7.2 in /usr/local/lib/python3.11/site-packages (from thrift) (1.17.0)\n",
            "Collecting pure-sasl>=0.6.2 (from thrift_sasl)\n",
            "  Downloading pure-sasl-0.6.2.tar.gz (11 kB)\n",
            "  Preparing metadata (setup.py) ... \u001b[?25l\u001b[?25hdone\n",
            "Downloading thrift_sasl-0.4.3-py2.py3-none-any.whl (8.3 kB)\n",
            "Building wheels for collected packages: pure-sasl\n",
            "  Building wheel for pure-sasl (setup.py) ... \u001b[?25l\u001b[?25hdone\n",
            "  Created wheel for pure-sasl: filename=pure_sasl-0.6.2-py3-none-any.whl size=11422 sha256=59a55f60f1e4e61fddd109f21535543de3c0bf7e51116151ea43c836651a703a\n",
            "  Stored in directory: /root/.cache/pip/wheels/be/bd/15/23761a50b737a712aacac51c718906ce3563705a336d2c4ffc\n",
            "Successfully built pure-sasl\n",
            "Installing collected packages: pure-sasl, thrift_sasl\n",
            "Successfully installed pure-sasl-0.6.2 thrift_sasl-0.4.3\n"
          ]
        }
      ],
      "source": [
        "!pip install pyhive thrift thrift_sasl"
      ]
    },
    {
      "cell_type": "code",
      "execution_count": 6,
      "metadata": {
        "id": "AoBWUZAVH01U"
      },
      "outputs": [],
      "source": [
        "#import libs\n",
        "from pyhive import hive\n",
        "from TCLIService.ttypes import TOperationState"
      ]
    },
    {
      "cell_type": "code",
      "execution_count": 7,
      "metadata": {
        "id": "Xei9sSNAH01V"
      },
      "outputs": [],
      "source": [
        "# try to connect\n",
        "server=\"ec2-34-242-59-145.eu-west-1.compute.amazonaws.com\"\n",
        "cursor = hive.connect(server).cursor()"
      ]
    },
    {
      "cell_type": "code",
      "execution_count": 8,
      "metadata": {
        "id": "PBzVSTQEH01V"
      },
      "outputs": [],
      "source": [
        "#show our databases\n",
        "cursor.execute('show databases')"
      ]
    },
    {
      "cell_type": "code",
      "execution_count": 9,
      "metadata": {
        "colab": {
          "base_uri": "https://localhost:8080/"
        },
        "id": "oblfzvS6H01W",
        "outputId": "deec3f4d-4355-42fd-ffd6-679f4855bb85"
      },
      "outputs": [
        {
          "output_type": "execute_result",
          "data": {
            "text/plain": [
              "[('default',)]"
            ]
          },
          "metadata": {},
          "execution_count": 9
        }
      ],
      "source": [
        "#get data from execution\n",
        "cursor.fetchall()"
      ]
    },
    {
      "cell_type": "code",
      "execution_count": 10,
      "metadata": {
        "id": "3HOpreHyH01Y"
      },
      "outputs": [],
      "source": [
        "#use default db\n",
        "cursor.execute('use default')"
      ]
    },
    {
      "cell_type": "code",
      "execution_count": 13,
      "metadata": {
        "id": "sfP3VHwyH01a"
      },
      "outputs": [],
      "source": [
        "#show tables in db\n",
        "cursor.execute('show tables')"
      ]
    },
    {
      "cell_type": "code",
      "execution_count": 14,
      "metadata": {
        "colab": {
          "base_uri": "https://localhost:8080/"
        },
        "id": "Q93V1EWLH01b",
        "outputId": "95be15c1-056d-4605-89f2-7d6b993bd135"
      },
      "outputs": [
        {
          "output_type": "execute_result",
          "data": {
            "text/plain": [
              "[('hue__tmp_employees',), ('hue__tmp_salaries',)]"
            ]
          },
          "metadata": {},
          "execution_count": 14
        }
      ],
      "source": [
        "cursor.fetchall()"
      ]
    },
    {
      "cell_type": "code",
      "execution_count": 15,
      "metadata": {
        "colab": {
          "base_uri": "https://localhost:8080/"
        },
        "id": "AGw0RCptH01c",
        "outputId": "ca6203a3-0c65-4f21-dcce-a36d0aff9719"
      },
      "outputs": [
        {
          "output_type": "execute_result",
          "data": {
            "text/plain": [
              "[('field_1', 'bigint', ''),\n",
              " ('field_2', 'string', ''),\n",
              " ('field_3', 'string', ''),\n",
              " ('field_4', 'string', ''),\n",
              " ('field_5', 'string', ''),\n",
              " ('field_6', 'string', '')]"
            ]
          },
          "metadata": {},
          "execution_count": 15
        }
      ],
      "source": [
        "# get table layout\n",
        "cursor.execute('describe hue__tmp_employees')\n",
        "cursor.fetchall()"
      ]
    },
    {
      "cell_type": "code",
      "execution_count": 17,
      "metadata": {
        "id": "lVrk3FeAH01d"
      },
      "outputs": [],
      "source": [
        "#select data\n",
        "cursor.execute('select * from hue__tmp_employees')"
      ]
    },
    {
      "cell_type": "code",
      "execution_count": 18,
      "metadata": {
        "id": "FfrzcTSoH01e"
      },
      "outputs": [],
      "source": [
        "#get daata from selction\n",
        "employee = cursor.fetchall()"
      ]
    },
    {
      "cell_type": "code",
      "execution_count": null,
      "metadata": {
        "colab": {
          "base_uri": "https://localhost:8080/"
        },
        "id": "9jmXC22-H01f",
        "outputId": "97ac6a51-890a-4c94-87f3-c0d7e975cd9f"
      },
      "outputs": [
        {
          "output_type": "execute_result",
          "data": {
            "text/plain": [
              "[(10001, \"'1953-09-02'\", \"'Georgi'\", \"'Facello'\", \"'M'\", \"'1986-06-26'\"),\n",
              " (10002, \"'1964-06-02'\", \"'Bezalel'\", \"'Simmel'\", \"'F'\", \"'1985-11-21'\"),\n",
              " (10003, \"'1959-12-03'\", \"'Parto'\", \"'Bamford'\", \"'M'\", \"'1986-08-28'\"),\n",
              " (10004, \"'1954-05-01'\", \"'Chirstian'\", \"'Koblick'\", \"'M'\", \"'1986-12-01'\"),\n",
              " (10005, \"'1955-01-21'\", \"'Kyoichi'\", \"'Maliniak'\", \"'M'\", \"'1989-09-12'\"),\n",
              " (10006, \"'1953-04-20'\", \"'Anneke'\", \"'Preusig'\", \"'F'\", \"'1989-06-02'\"),\n",
              " (10007, \"'1957-05-23'\", \"'Tzvetan'\", \"'Zielinski'\", \"'F'\", \"'1989-02-10'\"),\n",
              " (10008, \"'1958-02-19'\", \"'Saniya'\", \"'Kalloufi'\", \"'M'\", \"'1994-09-15'\"),\n",
              " (10009, \"'1952-04-19'\", \"'Sumant'\", \"'Peac'\", \"'F'\", \"'1985-02-18'\"),\n",
              " (10010, \"'1963-06-01'\", \"'Duangkaew'\", \"'Piveteau'\", \"'F'\", \"'1989-08-24'\")]"
            ]
          },
          "metadata": {},
          "execution_count": 18
        }
      ],
      "source": [
        "#have a look\n",
        "employee[:10]"
      ]
    },
    {
      "cell_type": "code",
      "execution_count": 19,
      "metadata": {
        "colab": {
          "base_uri": "https://localhost:8080/"
        },
        "id": "EDcDMjh3H01f",
        "outputId": "5b66d7be-370b-4f38-962e-1f56d095d68b"
      },
      "outputs": [
        {
          "output_type": "execute_result",
          "data": {
            "text/plain": [
              "[('field_1', 'bigint', ''),\n",
              " ('field_2', 'bigint', ''),\n",
              " ('field_3', 'string', ''),\n",
              " ('field_4', 'string', '')]"
            ]
          },
          "metadata": {},
          "execution_count": 19
        }
      ],
      "source": [
        "# get salary table layout\n",
        "cursor.execute('describe hue__tmp_salaries')\n",
        "cursor.fetchall()"
      ]
    },
    {
      "cell_type": "code",
      "execution_count": 20,
      "metadata": {
        "id": "N3R5nE9ZH01g"
      },
      "outputs": [],
      "source": [
        "#select data\n",
        "cursor.execute('select * from hue__tmp_salaries')"
      ]
    },
    {
      "cell_type": "code",
      "execution_count": 21,
      "metadata": {
        "id": "OX9pna1WH01h"
      },
      "outputs": [],
      "source": [
        "#get daata from selction\n",
        "salary = cursor.fetchall()"
      ]
    },
    {
      "cell_type": "code",
      "execution_count": 22,
      "metadata": {
        "colab": {
          "base_uri": "https://localhost:8080/"
        },
        "id": "sPyV2OsSH01h",
        "outputId": "c4a1adc3-e7ab-4619-f79d-702c3435ad99"
      },
      "outputs": [
        {
          "output_type": "execute_result",
          "data": {
            "text/plain": [
              "[(10001, 60117, \"'1986-06-26'\", \"'1987-06-26'\"),\n",
              " (10001, 62102, \"'1987-06-26'\", \"'1988-06-25'\"),\n",
              " (10001, 66074, \"'1988-06-25'\", \"'1989-06-25'\"),\n",
              " (10001, 66596, \"'1989-06-25'\", \"'1990-06-25'\"),\n",
              " (10001, 66961, \"'1990-06-25'\", \"'1991-06-25'\"),\n",
              " (10001, 71046, \"'1991-06-25'\", \"'1992-06-24'\"),\n",
              " (10001, 74333, \"'1992-06-24'\", \"'1993-06-24'\"),\n",
              " (10001, 75286, \"'1993-06-24'\", \"'1994-06-24'\"),\n",
              " (10001, 75994, \"'1994-06-24'\", \"'1995-06-24'\"),\n",
              " (10001, 76884, \"'1995-06-24'\", \"'1996-06-23'\")]"
            ]
          },
          "metadata": {},
          "execution_count": 22
        }
      ],
      "source": [
        "salary[:10]"
      ]
    },
    {
      "cell_type": "markdown",
      "metadata": {
        "id": "Cr0ty4gsH01i"
      },
      "source": [
        "## Ex 1\n",
        "Get employees sorted by ``family_name``. Return first 10 entries."
      ]
    },
    {
      "cell_type": "code",
      "execution_count": null,
      "metadata": {
        "id": "5plL57fKH01i"
      },
      "outputs": [],
      "source": [
        "cursor.execute(\" \")"
      ]
    },
    {
      "cell_type": "code",
      "execution_count": null,
      "metadata": {
        "id": "f5AbUIxfH01j"
      },
      "outputs": [],
      "source": [
        "cursor.fetchall()"
      ]
    },
    {
      "cell_type": "markdown",
      "metadata": {
        "id": "A5YKLzYnH01j"
      },
      "source": [
        "## Ex 2\n",
        "Get ``family_name`` and ``salary`` of employees sorted by salary. Return first 100 entries. Hint: you need to join both tables..."
      ]
    },
    {
      "cell_type": "code",
      "execution_count": null,
      "metadata": {
        "id": "sqGnrDiHH01k"
      },
      "outputs": [],
      "source": [
        "cursor.execute(\" \")\n",
        "data=cursor.fetchall()"
      ]
    },
    {
      "cell_type": "markdown",
      "metadata": {
        "id": "d67mWDujH01k"
      },
      "source": [
        "## Ex 3\n",
        "Get the average salary by gender. Hint: use Group by"
      ]
    },
    {
      "cell_type": "code",
      "execution_count": null,
      "metadata": {
        "id": "aYZjnau0H01l"
      },
      "outputs": [],
      "source": [
        "cursor.execute(\" \")\n",
        "cursor.fetchall()"
      ]
    },
    {
      "cell_type": "code",
      "execution_count": null,
      "metadata": {
        "id": "OYp78F7AH01l"
      },
      "outputs": [],
      "source": []
    }
  ],
  "metadata": {
    "accelerator": "GPU",
    "colab": {
      "name": "Assignment_Hive.ipynb",
      "provenance": []
    },
    "kernelspec": {
      "display_name": "Python 3 (ipykernel)",
      "language": "python",
      "name": "python3"
    },
    "language_info": {
      "codemirror_mode": {
        "name": "ipython",
        "version": 3
      },
      "file_extension": ".py",
      "mimetype": "text/x-python",
      "name": "python",
      "nbconvert_exporter": "python",
      "pygments_lexer": "ipython3",
      "version": "3.9.12"
    }
  },
  "nbformat": 4,
  "nbformat_minor": 0
}