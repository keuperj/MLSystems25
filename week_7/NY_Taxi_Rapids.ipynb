{
  "nbformat": 4,
  "nbformat_minor": 0,
  "metadata": {
    "colab": {
      "provenance": []
    },
    "kernelspec": {
      "name": "python3",
      "display_name": "Python 3"
    },
    "language_info": {
      "name": "python"
    }
  },
  "cells": [
    {
      "cell_type": "markdown",
      "source": [
        "# Assignment: NY Taxi Fare Prediction with RAPIDS\n",
        "\n",
        "* Note: see [NY Taxi Usecase Notebook](https://colab.research.google.com/github/keuperj/BigData_WS23/blob/main/Block_5/UseCase_NY_Taxi.ipynb) for an discription of a non-parallel solution\n",
        "\n",
        "* NY Taxi Fare Prediction Task + Data: https://www.kaggle.com/c/new-york-city-taxi-fare-prediction/overview\n",
        "\n",
        "## Setup:\n",
        "* activate GPU runtime and check for T4 GPU (Rapids needs CUDA capability >=7!)"
      ],
      "metadata": {
        "id": "jsUQO6HSMRFu"
      }
    },
    {
      "cell_type": "code",
      "source": [
        "!nvidia-smi"
      ],
      "metadata": {
        "id": "fM1BdFQzMDSP"
      },
      "execution_count": null,
      "outputs": []
    },
    {
      "cell_type": "code",
      "source": [
        "# Rapids install must fit current CUDA version - use https://docs.rapids.ai/install to generate suitable install promt\n",
        "!pip install \\\n",
        "    --extra-index-url=https://pypi.nvidia.com \\\n",
        "    cudf-cu12==23.12.* dask-cudf-cu12==23.12.* cuml-cu12==23.12.* \\\n",
        "    cugraph-cu12==23.12.* cuspatial-cu12==23.12.* cuproj-cu12==23.12.* \\\n",
        "    cuxfilter-cu12==23.12.* cucim-cu12==23.12.* pylibraft-cu12==23.12.* \\\n",
        "    raft-dask-cu12==23.12.*"
      ],
      "metadata": {
        "id": "97JmJP2yMdiI"
      },
      "execution_count": null,
      "outputs": []
    },
    {
      "cell_type": "code",
      "source": [
        "import cuDF cuML"
      ],
      "metadata": {
        "id": "scPZLIIIMgXp"
      },
      "execution_count": null,
      "outputs": []
    },
    {
      "cell_type": "code",
      "source": [
        "#in colab, we need to clone the data from the repo\n",
        "!git clone https://github.com/keuperj/DATA.git\n"
      ],
      "metadata": {
        "id": "SdkUw3YmMmFo"
      },
      "execution_count": null,
      "outputs": []
    },
    {
      "cell_type": "code",
      "source": [
        "#read data and lables to cuDF\n",
        "data=cudf.read_csv(\"DATA/NY_taxi_train_small.csv\")\n",
        "y=data['fare_amount']\n",
        "X=data.drop(['fare_amount'],axis=1)"
      ],
      "metadata": {
        "id": "TrgLCxdJMsgG"
      },
      "execution_count": null,
      "outputs": []
    }
  ]
}