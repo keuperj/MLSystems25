{
  "nbformat": 4,
  "nbformat_minor": 0,
  "metadata": {
    "colab": {
      "provenance": [],
      "gpuType": "T4"
    },
    "kernelspec": {
      "name": "python3",
      "display_name": "Python 3"
    },
    "language_info": {
      "name": "python"
    },
    "accelerator": "GPU"
  },
  "cells": [
    {
      "cell_type": "markdown",
      "source": [
        "# Assignment: NY Taxi Fare Prediction with RAPIDS\n",
        "\n",
        "* Note: see [NY Taxi Usecase Notebook](https://colab.research.google.com/github/keuperj/BigData_WS23/blob/main/Block_5/UseCase_NY_Taxi.ipynb) for an discription of a non-parallel solution\n",
        "\n",
        "* NY Taxi Fare Prediction Task + Data: https://www.kaggle.com/c/new-york-city-taxi-fare-prediction/overview\n",
        "\n",
        "## Setup:\n",
        "* activate GPU runtime and check for T4 GPU (Rapids needs CUDA capability >=7!)"
      ],
      "metadata": {
        "id": "jsUQO6HSMRFu"
      }
    },
    {
      "cell_type": "code",
      "source": [
        "!nvidia-smi"
      ],
      "metadata": {
        "id": "fM1BdFQzMDSP",
        "outputId": "de5ff7df-ffd7-4d1b-d7eb-02ab8f150abf",
        "colab": {
          "base_uri": "https://localhost:8080/"
        }
      },
      "execution_count": null,
      "outputs": [
        {
          "output_type": "stream",
          "name": "stdout",
          "text": [
            "Mon May 26 09:47:38 2025       \n",
            "+-----------------------------------------------------------------------------------------+\n",
            "| NVIDIA-SMI 550.54.15              Driver Version: 550.54.15      CUDA Version: 12.4     |\n",
            "|-----------------------------------------+------------------------+----------------------+\n",
            "| GPU  Name                 Persistence-M | Bus-Id          Disp.A | Volatile Uncorr. ECC |\n",
            "| Fan  Temp   Perf          Pwr:Usage/Cap |           Memory-Usage | GPU-Util  Compute M. |\n",
            "|                                         |                        |               MIG M. |\n",
            "|=========================================+========================+======================|\n",
            "|   0  Tesla T4                       Off |   00000000:00:04.0 Off |                    0 |\n",
            "| N/A   46C    P8             10W /   70W |       0MiB /  15360MiB |      0%      Default |\n",
            "|                                         |                        |                  N/A |\n",
            "+-----------------------------------------+------------------------+----------------------+\n",
            "                                                                                         \n",
            "+-----------------------------------------------------------------------------------------+\n",
            "| Processes:                                                                              |\n",
            "|  GPU   GI   CI        PID   Type   Process name                              GPU Memory |\n",
            "|        ID   ID                                                               Usage      |\n",
            "|=========================================================================================|\n",
            "|  No running processes found                                                             |\n",
            "+-----------------------------------------------------------------------------------------+\n"
          ]
        }
      ]
    },
    {
      "cell_type": "code",
      "source": [
        "import cudf\n",
        "import cuml"
      ],
      "metadata": {
        "id": "scPZLIIIMgXp"
      },
      "execution_count": null,
      "outputs": []
    },
    {
      "cell_type": "code",
      "source": [
        "#in colab, we need to clone the data from the repo\n",
        "!git clone https://github.com/keuperj/DATA.git\n"
      ],
      "metadata": {
        "id": "SdkUw3YmMmFo",
        "outputId": "b7386e52-4d14-42c6-9025-82d9292e551f",
        "colab": {
          "base_uri": "https://localhost:8080/"
        }
      },
      "execution_count": null,
      "outputs": [
        {
          "output_type": "stream",
          "name": "stdout",
          "text": [
            "Cloning into 'DATA'...\n",
            "remote: Enumerating objects: 126, done.\u001b[K\n",
            "remote: Counting objects: 100% (39/39), done.\u001b[K\n",
            "remote: Compressing objects: 100% (28/28), done.\u001b[K\n",
            "remote: Total 126 (delta 11), reused 39 (delta 11), pack-reused 87 (from 1)\u001b[K\n",
            "Receiving objects: 100% (126/126), 185.56 MiB | 24.11 MiB/s, done.\n",
            "Resolving deltas: 100% (32/32), done.\n",
            "Updating files: 100% (86/86), done.\n"
          ]
        }
      ]
    },
    {
      "cell_type": "code",
      "source": [
        "#read train data and lables to cuDF\n",
        "data=cudf.read_csv(\"DATA/NY_taxi_train_small.csv\")\n",
        "y_train=data['fare_amount']\n",
        "X_train=data.drop(['fare_amount'],axis=1)"
      ],
      "metadata": {
        "id": "TrgLCxdJMsgG"
      },
      "execution_count": null,
      "outputs": []
    },
    {
      "cell_type": "code",
      "source": [
        "#read test data and lables to cuDF\n",
        "data=cudf.read_csv(\"DATA/NY_taxi_test_small.csv\")\n",
        "y_train=data['fare_amount']\n",
        "X_train=data.drop(['fare_amount'],axis=1)"
      ],
      "metadata": {
        "id": "g1kNARDS_T-w"
      },
      "execution_count": null,
      "outputs": []
    }
  ]
}