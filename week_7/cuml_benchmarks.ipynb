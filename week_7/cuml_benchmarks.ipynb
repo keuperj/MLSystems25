{
  "cells": [
    {
      "cell_type": "markdown",
      "metadata": {
        "id": "m7hUYKEB09b3"
      },
      "source": [
        "# RAPIDS cuML\n",
        "## Performance, Boundaries, and Correctness Benchmarks\n",
        "\n",
        "**Description:** This notebook provides a simple and unified means of benchmarking single GPU cuML algorithms against their skLearn counterparts with the `cuml.benchmark` package in RAPIDS cuML. This enables quick and simple measurements of performance, validation of correctness, and investigation of upper bounds.\n",
        "\n",
        "Each benchmark returns a Pandas `DataFrame` with the results. At the end of the notebook, these results are used to draw charts and output to a CSV file.\n",
        "\n",
        "Please refer to the [table of contents](#table_of_contents) for algorithms available to be benchmarked with this notebook."
      ]
    },
    {
      "cell_type": "code",
      "source": [
        "#check GPU\n",
        "!nvidia-smi"
      ],
      "metadata": {
        "id": "t2dOFq471Jc2",
        "outputId": "c52f3863-a7f1-4c84-84dc-ebbe0e308c40",
        "colab": {
          "base_uri": "https://localhost:8080/"
        }
      },
      "execution_count": 39,
      "outputs": [
        {
          "output_type": "stream",
          "name": "stdout",
          "text": [
            "Tue May 13 09:30:21 2025       \n",
            "+-----------------------------------------------------------------------------------------+\n",
            "| NVIDIA-SMI 550.54.15              Driver Version: 550.54.15      CUDA Version: 12.4     |\n",
            "|-----------------------------------------+------------------------+----------------------+\n",
            "| GPU  Name                 Persistence-M | Bus-Id          Disp.A | Volatile Uncorr. ECC |\n",
            "| Fan  Temp   Perf          Pwr:Usage/Cap |           Memory-Usage | GPU-Util  Compute M. |\n",
            "|                                         |                        |               MIG M. |\n",
            "|=========================================+========================+======================|\n",
            "|   0  NVIDIA L4                      Off |   00000000:00:03.0 Off |                    0 |\n",
            "| N/A   76C    P0             34W /   72W |     343MiB /  23034MiB |      0%      Default |\n",
            "|                                         |                        |                  N/A |\n",
            "+-----------------------------------------+------------------------+----------------------+\n",
            "                                                                                         \n",
            "+-----------------------------------------------------------------------------------------+\n",
            "| Processes:                                                                              |\n",
            "|  GPU   GI   CI        PID   Type   Process name                              GPU Memory |\n",
            "|        ID   ID                                                               Usage      |\n",
            "|=========================================================================================|\n",
            "+-----------------------------------------------------------------------------------------+\n"
          ]
        }
      ]
    },
    {
      "cell_type": "code",
      "execution_count": 2,
      "metadata": {
        "id": "C0CaCCq109b7",
        "outputId": "35a00bad-8e50-4083-c340-0b30ff3d04a1",
        "colab": {
          "base_uri": "https://localhost:8080/"
        }
      },
      "outputs": [
        {
          "output_type": "stream",
          "name": "stdout",
          "text": [
            "25.02.01\n"
          ]
        }
      ],
      "source": [
        "import cuml\n",
        "import pandas as pd\n",
        "\n",
        "from cuml.benchmark.runners import SpeedupComparisonRunner\n",
        "from cuml.benchmark.algorithms import algorithm_by_name\n",
        "\n",
        "import warnings\n",
        "warnings.filterwarnings('ignore', 'Expected column ')\n",
        "\n",
        "print(cuml.__version__)"
      ]
    },
    {
      "cell_type": "code",
      "execution_count": 3,
      "metadata": {
        "id": "wSKhkRTB09b9"
      },
      "outputs": [],
      "source": [
        "N_REPS = 1  # Number of times each test is repeated\n",
        "\n",
        "DATA_NEIGHBORHOODS = \"blobs\"\n",
        "DATA_CLASSIFICATION = \"classification\"\n",
        "DATA_REGRESSION = \"regression\"\n",
        "\n",
        "INPUT_TYPE = \"numpy\"\n",
        "\n",
        "benchmark_results = []"
      ]
    },
    {
      "cell_type": "code",
      "execution_count": 4,
      "metadata": {
        "id": "GU9c0LEG09b9"
      },
      "outputs": [],
      "source": [
        "SMALL_ROW_SIZES = [2**x for x in range(14, 17)]\n",
        "LARGE_ROW_SIZES = [2**x for x in range(18, 24, 2)]\n",
        "\n",
        "SKINNY_FEATURES = [32]#, 256]\n",
        "WIDE_FEATURES = [1000, 10000]\n",
        "\n",
        "VERBOSE=True\n",
        "RUN_CPU=True"
      ]
    },
    {
      "cell_type": "code",
      "execution_count": 5,
      "metadata": {
        "id": "JOwFX8bV09b-"
      },
      "outputs": [],
      "source": [
        "def enrich_result(algorithm, runner, result):\n",
        "    result[\"algo\"] = algorithm\n",
        "    result[\"dataset_name\"] = runner.dataset_name\n",
        "    result[\"input_type\"] = runner.input_type\n",
        "    return result\n",
        "\n",
        "def execute_benchmark(algorithm, runner, verbose=VERBOSE, run_cpu=RUN_CPU, **kwargs):\n",
        "    results = runner.run(algorithm_by_name(algorithm), verbose=verbose, run_cpu=run_cpu, **kwargs)\n",
        "    results = [enrich_result(algorithm, runner, result) for result in results]\n",
        "    benchmark_results.extend(results)"
      ]
    },
    {
      "cell_type": "markdown",
      "metadata": {
        "id": "kmmy8cZ409b-"
      },
      "source": [
        "## Table of Contents<a id=\"table_of_contents\"/>\n",
        "\n",
        "### Benchmarks\n",
        "1. [Neighbors](#neighbors)<br>\n",
        "    1.1 [Nearest Neighbors - Brute Force](#nn_bruteforce)<br>\n",
        "    1.2 [KNeighborsClassifier](#kneighborsclassifier)<br>\n",
        "    1.3 [KNeighborsRegressor](#kneighborsregressor)<br>\n",
        "2. [Clustering](#clustering)<br>\n",
        "    2.1 [DBSCAN - Brute Force](#dbscan_bruteforce)<br>\n",
        "    2.2 [K-Means](#kmeans)<br>\n",
        "3. [Manifold Learning](#manifold_learning)<br>\n",
        "    3.1 [UMAP - Unsupervised](#umap_unsupervised)<br>\n",
        "    3.2 [UMAP - Supervised](#umap_supervised)<br>\n",
        "    3.3 [T-SNE](#tsne)<br>\n",
        "4. [Linear Models](#linear_models)<br>\n",
        "    4.1 [Linear Regression](#linear_regression)<br>\n",
        "    4.2 [Logistic Regression](#logistic_regression)<br>\n",
        "    4.3 [Ridge Regression](#ridge_regression)<br>\n",
        "    4.4 [Lasso Regression](#lasso_regression)<br>\n",
        "    4.5 [ElasticNet Regression](#elasticnet_regression)<br>\n",
        "    4.6 [Mini-batch SGD Classifier](#minibatch_sgd_classifier)<br>\n",
        "5. [Decomposition](#decomposition)<br>\n",
        "    5.1 [PCA](#pca)<br>\n",
        "    5.2 [Truncated SVD](#truncated_svd)<br>\n",
        "6. [Ensemble](#ensemble)<br>\n",
        "    6.1 [Random Forest Classifier](#random_forest_classifier)<br>\n",
        "    6.2 [Random Forest Regressor](#random_forest_regressor)<br>\n",
        "    6.3 [FIL](#fil)<br>\n",
        "    6.4 [Sparse FIL](#sparse_fil)<br>\n",
        "7. [Random Projection](#random_projection)<br>\n",
        "    7.1 [Gaussian Random Projection](#gaussian_random_projection)<br>\n",
        "    7.2 [Sparse Random Projection](#sparse_random_projection)<br>\n",
        "8. [SVM](#svm)<br>\n",
        "    8.1 [SVC - Linear Kernel](#svc_linear_kernel)<br>\n",
        "    8.2 [SVC - RBF Kernel](#svc_rbf_kernel)<br>\n",
        "    8.3 [SVR - Linear Kernel](#svr_linear_kernel)<br>\n",
        "    8.4 [SVR - RBF Kernel](#svr_rbf_kernel)<br>\n",
        "    \n",
        "### Chart & Store Results\n",
        "9. [Convert to Pandas DataFrame](#convert_to_pandas)<br>\n",
        "10. [Chart Results](#chart_results)<br>\n",
        "11. [Output to CSV](#output_csv)<br>"
      ]
    },
    {
      "cell_type": "markdown",
      "metadata": {
        "id": "YBR-YTWm09b_"
      },
      "source": [
        "## Neighbors<a id=\"neighbors\"/>\n"
      ]
    },
    {
      "cell_type": "markdown",
      "metadata": {
        "id": "CXmcui6l09cA"
      },
      "source": [
        "### Nearest Neighbors - Brute Force<a id=\"nn_bruteforce\"/>"
      ]
    },
    {
      "cell_type": "code",
      "execution_count": 6,
      "metadata": {
        "id": "lHX-Ve3w09cB",
        "outputId": "4dca6c78-e0d3-4b98-f651-b8e9879aac05",
        "colab": {
          "base_uri": "https://localhost:8080/"
        }
      },
      "outputs": [
        {
          "output_type": "stream",
          "name": "stdout",
          "text": [
            "NearestNeighbors (n_samples=16384, n_features=32) [cpu=0.4051039218902588, gpu=0.3504364490509033, speedup=1.1559982501461046]\n",
            "NearestNeighbors (n_samples=32768, n_features=32) [cpu=1.1926634311676025, gpu=0.07591652870178223, speedup=15.710194493384462]\n",
            "NearestNeighbors (n_samples=65536, n_features=32) [cpu=4.695568799972534, gpu=0.20873689651489258, speedup=22.49515480190884]\n"
          ]
        }
      ],
      "source": [
        "runner = cuml.benchmark.runners.SpeedupComparisonRunner(\n",
        "    bench_rows=SMALL_ROW_SIZES,\n",
        "    bench_dims=SKINNY_FEATURES,\n",
        "    dataset_name=DATA_NEIGHBORHOODS,\n",
        "    input_type=INPUT_TYPE,\n",
        "    n_reps=N_REPS,\n",
        ")\n",
        "\n",
        "execute_benchmark(\"NearestNeighbors\", runner)"
      ]
    },
    {
      "cell_type": "markdown",
      "metadata": {
        "id": "xBhUjeum09cB"
      },
      "source": [
        "### KNeighborsClassifier<a id=\"kneighborsclassifier\"/>"
      ]
    },
    {
      "cell_type": "code",
      "execution_count": 7,
      "metadata": {
        "id": "VOtRN6jR09cC",
        "outputId": "94948fbe-2e30-4232-dd72-5738c859b05d",
        "colab": {
          "base_uri": "https://localhost:8080/"
        }
      },
      "outputs": [
        {
          "output_type": "stream",
          "name": "stdout",
          "text": [
            "KNeighborsClassifier (n_samples=16384, n_features=32) [cpu=1.0371251106262207, gpu=0.9540276527404785, speedup=1.0871017288094762]\n",
            "KNeighborsClassifier (n_samples=32768, n_features=32) [cpu=2.5401206016540527, gpu=0.03027820587158203, speedup=83.89270528205613]\n",
            "KNeighborsClassifier (n_samples=65536, n_features=32) [cpu=7.757059812545776, gpu=0.10713696479797363, speedup=72.40320674729897]\n"
          ]
        }
      ],
      "source": [
        "runner = cuml.benchmark.runners.SpeedupComparisonRunner(\n",
        "    bench_rows=SMALL_ROW_SIZES,\n",
        "    bench_dims=SKINNY_FEATURES,\n",
        "    dataset_name=DATA_CLASSIFICATION,\n",
        "    input_type=INPUT_TYPE,\n",
        "    n_reps=N_REPS\n",
        ")\n",
        "\n",
        "execute_benchmark(\"KNeighborsClassifier\", runner)"
      ]
    },
    {
      "cell_type": "markdown",
      "metadata": {
        "id": "57mbmkcz09cC"
      },
      "source": [
        "### KNeighborsRegressor<a id=\"kneighborsregressor\"/>"
      ]
    },
    {
      "cell_type": "code",
      "execution_count": 8,
      "metadata": {
        "id": "ZeUFErM409cD",
        "outputId": "065b4007-a8fa-4142-a638-cb3dfcef497c",
        "colab": {
          "base_uri": "https://localhost:8080/"
        }
      },
      "outputs": [
        {
          "output_type": "stream",
          "name": "stdout",
          "text": [
            "KNeighborsRegressor (n_samples=16384, n_features=32) [cpu=0.3080425262451172, gpu=0.013019800186157227, speedup=23.659543298723655]\n",
            "KNeighborsRegressor (n_samples=32768, n_features=32) [cpu=1.0115330219268799, gpu=0.028974056243896484, speedup=34.91168145088294]\n",
            "KNeighborsRegressor (n_samples=65536, n_features=32) [cpu=3.9294309616088867, gpu=0.10236024856567383, speedup=38.38825146157967]\n"
          ]
        }
      ],
      "source": [
        "runner = cuml.benchmark.runners.SpeedupComparisonRunner(\n",
        "    bench_rows=SMALL_ROW_SIZES,\n",
        "    bench_dims=SKINNY_FEATURES,\n",
        "    dataset_name=DATA_REGRESSION,\n",
        "    input_type=INPUT_TYPE,\n",
        "    n_reps=N_REPS\n",
        ")\n",
        "\n",
        "execute_benchmark(\"KNeighborsRegressor\", runner)"
      ]
    },
    {
      "cell_type": "markdown",
      "metadata": {
        "id": "ER8_9UfZ09cD"
      },
      "source": [
        "## Clustering<a id=\"clustering\"/>"
      ]
    },
    {
      "cell_type": "markdown",
      "metadata": {
        "id": "h_1qRaRy09cE"
      },
      "source": [
        "### DBSCAN - Brute Force<a id=\"dbscan_bruteforce\"/>"
      ]
    },
    {
      "cell_type": "code",
      "execution_count": 9,
      "metadata": {
        "id": "hdV4mPVg09cE",
        "outputId": "bdf63f3c-5dd1-45cf-d031-9a071bb11f03",
        "colab": {
          "base_uri": "https://localhost:8080/"
        }
      },
      "outputs": [
        {
          "output_type": "stream",
          "name": "stdout",
          "text": [
            "DBSCAN (n_samples=16384, n_features=32) [cpu=0.2001500129699707, gpu=0.1439528465270996, speedup=1.390385933996045]\n",
            "DBSCAN (n_samples=32768, n_features=32) [cpu=0.8100845813751221, gpu=0.02134561538696289, speedup=37.950865631631856]\n",
            "[2025-05-13 09:08:07.698] [CUML] [warning] Batch size limited by the chosen integer type (4 bytes). 58063 -> 32767. Using the larger integer type might result in better performance\n",
            "DBSCAN (n_samples=65536, n_features=32) [cpu=2.60650372505188, gpu=0.11089754104614258, speedup=23.503710726709063]\n"
          ]
        }
      ],
      "source": [
        "runner = cuml.benchmark.runners.SpeedupComparisonRunner(\n",
        "    bench_rows=SMALL_ROW_SIZES,\n",
        "    bench_dims=SKINNY_FEATURES,\n",
        "    dataset_name=DATA_NEIGHBORHOODS,\n",
        "    input_type=INPUT_TYPE,\n",
        "    n_reps=N_REPS\n",
        ")\n",
        "\n",
        "execute_benchmark(\"DBSCAN\", runner)"
      ]
    },
    {
      "cell_type": "markdown",
      "metadata": {
        "id": "M47URJ_q09cE"
      },
      "source": [
        "### K-means Clustering<a id=\"kmeans\"/>"
      ]
    },
    {
      "cell_type": "code",
      "execution_count": 10,
      "metadata": {
        "id": "wFl85g0d09cF",
        "outputId": "eb448ecd-683e-48fc-a414-50b7643772c5",
        "colab": {
          "base_uri": "https://localhost:8080/"
        }
      },
      "outputs": [
        {
          "output_type": "stream",
          "name": "stdout",
          "text": [
            "KMeans (n_samples=16384, n_features=32) [cpu=0.04409670829772949, gpu=0.145735502243042, speedup=0.3025804119039556]\n",
            "KMeans (n_samples=32768, n_features=32) [cpu=0.05510735511779785, gpu=0.027319908142089844, speedup=2.0171134848326178]\n",
            "KMeans (n_samples=65536, n_features=32) [cpu=0.10256743431091309, gpu=0.05454730987548828, speedup=1.8803390037939052]\n"
          ]
        }
      ],
      "source": [
        "runner = cuml.benchmark.runners.SpeedupComparisonRunner(\n",
        "    bench_rows=SMALL_ROW_SIZES,\n",
        "    bench_dims=SKINNY_FEATURES,\n",
        "    dataset_name=DATA_NEIGHBORHOODS,\n",
        "    input_type=\"numpy\",\n",
        "    n_reps=N_REPS\n",
        ")\n",
        "\n",
        "execute_benchmark(\"KMeans\", runner)"
      ]
    },
    {
      "cell_type": "markdown",
      "metadata": {
        "id": "Vl-7bw3M09cF"
      },
      "source": [
        "## Manifold Learning<a id=\"manifold_learning\"/>"
      ]
    },
    {
      "cell_type": "markdown",
      "metadata": {
        "id": "R6LUd6Kf09cF"
      },
      "source": [
        "### UMAP - Unsupervised<a id=\"umap_unsupervised\"/>\n",
        "CPU benchmark requires UMAP-learn"
      ]
    },
    {
      "cell_type": "code",
      "execution_count": 11,
      "metadata": {
        "id": "2fL4r2nP09cG",
        "outputId": "b0e04535-ee52-4483-c590-2eb97661a846",
        "colab": {
          "base_uri": "https://localhost:8080/"
        }
      },
      "outputs": [
        {
          "output_type": "stream",
          "name": "stdout",
          "text": [
            "[2025-05-13 09:08:10.938] [CUML] [info] Building knn graph using brute force\n"
          ]
        },
        {
          "output_type": "stream",
          "name": "stderr",
          "text": [
            "/usr/local/lib/python3.11/dist-packages/sklearn/utils/deprecation.py:151: FutureWarning: 'force_all_finite' was renamed to 'ensure_all_finite' in 1.6 and will be removed in 1.8.\n",
            "  warnings.warn(\n"
          ]
        },
        {
          "output_type": "stream",
          "name": "stdout",
          "text": [
            "UMAP-Unsupervised (n_samples=16384, n_features=1000) [cpu=25.76822328567505, gpu=0.6305210590362549, speedup=40.86814059004075]\n",
            "[2025-05-13 09:08:38.145] [CUML] [info] Building knn graph using brute force\n"
          ]
        },
        {
          "output_type": "stream",
          "name": "stderr",
          "text": [
            "/usr/local/lib/python3.11/dist-packages/sklearn/utils/deprecation.py:151: FutureWarning: 'force_all_finite' was renamed to 'ensure_all_finite' in 1.6 and will be removed in 1.8.\n",
            "  warnings.warn(\n"
          ]
        },
        {
          "output_type": "stream",
          "name": "stdout",
          "text": [
            "UMAP-Unsupervised (n_samples=16384, n_features=10000) [cpu=8.60979437828064, gpu=2.7429721355438232, speedup=3.138855939042799]\n",
            "[2025-05-13 09:08:49.082] [CUML] [info] Building knn graph using brute force\n"
          ]
        },
        {
          "output_type": "stream",
          "name": "stderr",
          "text": [
            "/usr/local/lib/python3.11/dist-packages/sklearn/utils/deprecation.py:151: FutureWarning: 'force_all_finite' was renamed to 'ensure_all_finite' in 1.6 and will be removed in 1.8.\n",
            "  warnings.warn(\n"
          ]
        },
        {
          "output_type": "stream",
          "name": "stdout",
          "text": [
            "UMAP-Unsupervised (n_samples=32768, n_features=1000) [cpu=8.023133993148804, gpu=0.898723840713501, speedup=8.92725176487941]\n",
            "[2025-05-13 09:08:59.629] [CUML] [info] Building knn graph using brute force\n"
          ]
        },
        {
          "output_type": "stream",
          "name": "stderr",
          "text": [
            "/usr/local/lib/python3.11/dist-packages/sklearn/utils/deprecation.py:151: FutureWarning: 'force_all_finite' was renamed to 'ensure_all_finite' in 1.6 and will be removed in 1.8.\n",
            "  warnings.warn(\n"
          ]
        },
        {
          "output_type": "stream",
          "name": "stdout",
          "text": [
            "UMAP-Unsupervised (n_samples=32768, n_features=10000) [cpu=19.274614334106445, gpu=10.168844938278198, speedup=1.8954575914076282]\n",
            "[2025-05-13 09:09:28.232] [CUML] [info] Building knn graph using nn descent\n"
          ]
        },
        {
          "output_type": "stream",
          "name": "stderr",
          "text": [
            "/usr/local/lib/python3.11/dist-packages/sklearn/utils/deprecation.py:151: FutureWarning: 'force_all_finite' was renamed to 'ensure_all_finite' in 1.6 and will be removed in 1.8.\n",
            "  warnings.warn(\n"
          ]
        },
        {
          "output_type": "stream",
          "name": "stdout",
          "text": [
            "UMAP-Unsupervised (n_samples=65536, n_features=1000) [cpu=16.238335132598877, gpu=1.47471022605896, speedup=11.011203994966843]\n",
            "[2025-05-13 09:09:49.395] [CUML] [info] Building knn graph using nn descent\n"
          ]
        },
        {
          "output_type": "stream",
          "name": "stderr",
          "text": [
            "/usr/local/lib/python3.11/dist-packages/sklearn/utils/deprecation.py:151: FutureWarning: 'force_all_finite' was renamed to 'ensure_all_finite' in 1.6 and will be removed in 1.8.\n",
            "  warnings.warn(\n"
          ]
        },
        {
          "output_type": "stream",
          "name": "stdout",
          "text": [
            "UMAP-Unsupervised (n_samples=65536, n_features=10000) [cpu=41.67901158332825, gpu=11.494879484176636, speedup=3.6258763426534233]\n"
          ]
        }
      ],
      "source": [
        "runner = cuml.benchmark.runners.SpeedupComparisonRunner(\n",
        "    bench_rows=SMALL_ROW_SIZES,\n",
        "    bench_dims=WIDE_FEATURES,\n",
        "    dataset_name=DATA_NEIGHBORHOODS,\n",
        "    input_type=INPUT_TYPE,\n",
        "    n_reps=N_REPS\n",
        ")\n",
        "\n",
        "execute_benchmark(\"UMAP-Unsupervised\", runner)"
      ]
    },
    {
      "cell_type": "markdown",
      "metadata": {
        "id": "kqgrRYhh09cG"
      },
      "source": [
        "### UMAP - Supervised<a id=\"umap_supervised\"/>\n",
        "CPU benchmark requires UMAP-learn"
      ]
    },
    {
      "cell_type": "code",
      "execution_count": 12,
      "metadata": {
        "id": "tnmMo_wp09cG",
        "outputId": "a925af7a-371e-42b7-cda3-efc01ca958df",
        "colab": {
          "base_uri": "https://localhost:8080/"
        }
      },
      "outputs": [
        {
          "output_type": "stream",
          "name": "stdout",
          "text": [
            "[2025-05-13 09:10:40.354] [CUML] [info] Building knn graph using brute force\n"
          ]
        },
        {
          "output_type": "stream",
          "name": "stderr",
          "text": [
            "/usr/local/lib/python3.11/dist-packages/sklearn/utils/deprecation.py:151: FutureWarning: 'force_all_finite' was renamed to 'ensure_all_finite' in 1.6 and will be removed in 1.8.\n",
            "  warnings.warn(\n",
            "/usr/local/lib/python3.11/dist-packages/sklearn/utils/deprecation.py:151: FutureWarning: 'force_all_finite' was renamed to 'ensure_all_finite' in 1.6 and will be removed in 1.8.\n",
            "  warnings.warn(\n"
          ]
        },
        {
          "output_type": "stream",
          "name": "stdout",
          "text": [
            "UMAP-Supervised (n_samples=16384, n_features=1000) [cpu=5.087142467498779, gpu=0.24741673469543457, speedup=20.56102823344168]\n",
            "[2025-05-13 09:10:45.796] [CUML] [info] Building knn graph using brute force\n"
          ]
        },
        {
          "output_type": "stream",
          "name": "stderr",
          "text": [
            "/usr/local/lib/python3.11/dist-packages/sklearn/utils/deprecation.py:151: FutureWarning: 'force_all_finite' was renamed to 'ensure_all_finite' in 1.6 and will be removed in 1.8.\n",
            "  warnings.warn(\n",
            "/usr/local/lib/python3.11/dist-packages/sklearn/utils/deprecation.py:151: FutureWarning: 'force_all_finite' was renamed to 'ensure_all_finite' in 1.6 and will be removed in 1.8.\n",
            "  warnings.warn(\n"
          ]
        },
        {
          "output_type": "stream",
          "name": "stdout",
          "text": [
            "UMAP-Supervised (n_samples=16384, n_features=10000) [cpu=9.857232570648193, gpu=2.378274440765381, speedup=4.144699367612057]\n",
            "[2025-05-13 09:10:57.936] [CUML] [info] Building knn graph using brute force\n"
          ]
        },
        {
          "output_type": "stream",
          "name": "stderr",
          "text": [
            "/usr/local/lib/python3.11/dist-packages/sklearn/utils/deprecation.py:151: FutureWarning: 'force_all_finite' was renamed to 'ensure_all_finite' in 1.6 and will be removed in 1.8.\n",
            "  warnings.warn(\n",
            "/usr/local/lib/python3.11/dist-packages/sklearn/utils/deprecation.py:151: FutureWarning: 'force_all_finite' was renamed to 'ensure_all_finite' in 1.6 and will be removed in 1.8.\n",
            "  warnings.warn(\n"
          ]
        },
        {
          "output_type": "stream",
          "name": "stdout",
          "text": [
            "UMAP-Supervised (n_samples=32768, n_features=1000) [cpu=8.797965288162231, gpu=0.8803935050964355, speedup=9.99321921076477]\n",
            "[2025-05-13 09:11:07.838] [CUML] [info] Building knn graph using brute force\n"
          ]
        },
        {
          "output_type": "stream",
          "name": "stderr",
          "text": [
            "/usr/local/lib/python3.11/dist-packages/sklearn/utils/deprecation.py:151: FutureWarning: 'force_all_finite' was renamed to 'ensure_all_finite' in 1.6 and will be removed in 1.8.\n",
            "  warnings.warn(\n",
            "/usr/local/lib/python3.11/dist-packages/sklearn/utils/deprecation.py:151: FutureWarning: 'force_all_finite' was renamed to 'ensure_all_finite' in 1.6 and will be removed in 1.8.\n",
            "  warnings.warn(\n"
          ]
        },
        {
          "output_type": "stream",
          "name": "stdout",
          "text": [
            "UMAP-Supervised (n_samples=32768, n_features=10000) [cpu=20.451627731323242, gpu=11.97066354751587, speedup=1.7084790371179823]\n",
            "[2025-05-13 09:11:40.063] [CUML] [info] Building knn graph using nn descent\n"
          ]
        },
        {
          "output_type": "stream",
          "name": "stderr",
          "text": [
            "/usr/local/lib/python3.11/dist-packages/sklearn/utils/deprecation.py:151: FutureWarning: 'force_all_finite' was renamed to 'ensure_all_finite' in 1.6 and will be removed in 1.8.\n",
            "  warnings.warn(\n",
            "/usr/local/lib/python3.11/dist-packages/sklearn/utils/deprecation.py:151: FutureWarning: 'force_all_finite' was renamed to 'ensure_all_finite' in 1.6 and will be removed in 1.8.\n",
            "  warnings.warn(\n"
          ]
        },
        {
          "output_type": "stream",
          "name": "stdout",
          "text": [
            "UMAP-Supervised (n_samples=65536, n_features=1000) [cpu=17.881019353866577, gpu=1.5305359363555908, speedup=11.682848425267071]\n",
            "[2025-05-13 09:11:59.918] [CUML] [info] Building knn graph using nn descent\n"
          ]
        },
        {
          "output_type": "stream",
          "name": "stderr",
          "text": [
            "/usr/local/lib/python3.11/dist-packages/sklearn/utils/deprecation.py:151: FutureWarning: 'force_all_finite' was renamed to 'ensure_all_finite' in 1.6 and will be removed in 1.8.\n",
            "  warnings.warn(\n",
            "/usr/local/lib/python3.11/dist-packages/sklearn/utils/deprecation.py:151: FutureWarning: 'force_all_finite' was renamed to 'ensure_all_finite' in 1.6 and will be removed in 1.8.\n",
            "  warnings.warn(\n"
          ]
        },
        {
          "output_type": "stream",
          "name": "stdout",
          "text": [
            "UMAP-Supervised (n_samples=65536, n_features=10000) [cpu=43.973843574523926, gpu=10.0225350856781, speedup=4.387497095157214]\n"
          ]
        }
      ],
      "source": [
        "runner = cuml.benchmark.runners.SpeedupComparisonRunner(\n",
        "    bench_rows=SMALL_ROW_SIZES,\n",
        "    bench_dims=WIDE_FEATURES,\n",
        "    dataset_name=DATA_NEIGHBORHOODS,\n",
        "    input_type=INPUT_TYPE,\n",
        "    n_reps=N_REPS\n",
        ")\n",
        "\n",
        "execute_benchmark(\"UMAP-Supervised\", runner)"
      ]
    },
    {
      "cell_type": "markdown",
      "metadata": {
        "id": "XVfTd00H09cG"
      },
      "source": [
        "### T-SNE<a id=\"tsne\"/>"
      ]
    },
    {
      "cell_type": "code",
      "execution_count": 13,
      "metadata": {
        "id": "-hj3Oimt09cH",
        "outputId": "a326b89c-374a-4999-9d43-9f7f2845c273",
        "colab": {
          "base_uri": "https://localhost:8080/"
        }
      },
      "outputs": [
        {
          "output_type": "stream",
          "name": "stdout",
          "text": [
            "[2025-05-13 09:12:53.549] [CUML] [warning] # of Nearest Neighbors should be at least 3 * perplexity. Your results might be a bit strange...\n"
          ]
        },
        {
          "output_type": "stream",
          "name": "stderr",
          "text": [
            "/usr/local/lib/python3.11/dist-packages/cuml/internals/api_decorators.py:405: UserWarning: Starting from version 22.04, the default method of TSNE is 'fft'.\n",
            "  return init_func(self, *args, **filtered_kwargs)\n"
          ]
        },
        {
          "output_type": "stream",
          "name": "stdout",
          "text": [
            "TSNE (n_samples=16384, n_features=32) [cpu=49.174997329711914, gpu=1.5018939971923828, speedup=32.74198939581547]\n",
            "[2025-05-13 09:13:44.124] [CUML] [warning] # of Nearest Neighbors should be at least 3 * perplexity. Your results might be a bit strange...\n"
          ]
        },
        {
          "output_type": "stream",
          "name": "stderr",
          "text": [
            "/usr/local/lib/python3.11/dist-packages/cuml/internals/api_decorators.py:405: UserWarning: Starting from version 22.04, the default method of TSNE is 'fft'.\n",
            "  return init_func(self, *args, **filtered_kwargs)\n"
          ]
        },
        {
          "output_type": "stream",
          "name": "stdout",
          "text": [
            "TSNE (n_samples=32768, n_features=32) [cpu=103.74755454063416, gpu=1.3392071723937988, speedup=77.46938388568218]\n",
            "[2025-05-13 09:15:29.223] [CUML] [warning] # of Nearest Neighbors should be at least 3 * perplexity. Your results might be a bit strange...\n"
          ]
        },
        {
          "output_type": "stream",
          "name": "stderr",
          "text": [
            "/usr/local/lib/python3.11/dist-packages/cuml/internals/api_decorators.py:405: UserWarning: Starting from version 22.04, the default method of TSNE is 'fft'.\n",
            "  return init_func(self, *args, **filtered_kwargs)\n"
          ]
        },
        {
          "output_type": "stream",
          "name": "stdout",
          "text": [
            "TSNE (n_samples=65536, n_features=32) [cpu=268.92555236816406, gpu=2.074082851409912, speedup=129.65998546555403]\n"
          ]
        }
      ],
      "source": [
        "runner = cuml.benchmark.runners.SpeedupComparisonRunner(\n",
        "    bench_rows=SMALL_ROW_SIZES,\n",
        "    bench_dims=SKINNY_FEATURES,\n",
        "    dataset_name=DATA_NEIGHBORHOODS,\n",
        "    input_type=INPUT_TYPE,\n",
        "    n_reps=N_REPS\n",
        ")\n",
        "\n",
        "# Due to extreme high runtime, the CPU benchmark\n",
        "# is disabled. Use run_cpu=True to re-enable.\n",
        "\n",
        "execute_benchmark(\"TSNE\", runner, run_cpu=True)"
      ]
    },
    {
      "cell_type": "markdown",
      "metadata": {
        "id": "_m9pERSI09cH"
      },
      "source": [
        "## Linear Models<a id=\"linear_models\"/>"
      ]
    },
    {
      "cell_type": "markdown",
      "metadata": {
        "id": "qCV-3MuX09cH"
      },
      "source": [
        "### Linear Regression<a id=\"linear_regression\"/>"
      ]
    },
    {
      "cell_type": "code",
      "execution_count": 14,
      "metadata": {
        "id": "BoF_Qwkt09cH",
        "outputId": "2b392e7c-29b5-42b2-dc30-ef005736c782",
        "colab": {
          "base_uri": "https://localhost:8080/"
        }
      },
      "outputs": [
        {
          "output_type": "stream",
          "name": "stdout",
          "text": [
            "LinearRegression (n_samples=16384, n_features=32) [cpu=0.011136293411254883, gpu=0.11396956443786621, speedup=0.09771287155638955]\n",
            "LinearRegression (n_samples=32768, n_features=32) [cpu=0.016059160232543945, gpu=0.004288196563720703, speedup=3.7449683086845322]\n",
            "LinearRegression (n_samples=65536, n_features=32) [cpu=0.03016519546508789, gpu=0.00549006462097168, speedup=5.494506448951231]\n"
          ]
        }
      ],
      "source": [
        "runner = cuml.benchmark.runners.SpeedupComparisonRunner(\n",
        "    bench_rows=SMALL_ROW_SIZES,\n",
        "    bench_dims=SKINNY_FEATURES,\n",
        "    dataset_name=DATA_REGRESSION,\n",
        "    input_type=INPUT_TYPE,\n",
        "    n_reps=N_REPS\n",
        ")\n",
        "\n",
        "execute_benchmark(\"LinearRegression\", runner)"
      ]
    },
    {
      "cell_type": "markdown",
      "metadata": {
        "id": "oD9EQJHm09cH"
      },
      "source": [
        "### Logistic Regression<a id=\"logistic_regression\"/>"
      ]
    },
    {
      "cell_type": "code",
      "execution_count": 15,
      "metadata": {
        "id": "7ps9P8Qg09cI",
        "outputId": "15b13cd3-f2cd-4555-81b0-b6951313ac0d",
        "colab": {
          "base_uri": "https://localhost:8080/"
        }
      },
      "outputs": [
        {
          "output_type": "stream",
          "name": "stdout",
          "text": [
            "LogisticRegression (n_samples=16384, n_features=32) [cpu=0.9874906539916992, gpu=2.205716133117676, speedup=0.4476961650527204]\n",
            "LogisticRegression (n_samples=32768, n_features=32) [cpu=0.6928195953369141, gpu=0.026679277420043945, speedup=25.968454258675077]\n",
            "LogisticRegression (n_samples=65536, n_features=32) [cpu=0.8168232440948486, gpu=0.015152692794799805, speedup=53.90614428447801]\n"
          ]
        }
      ],
      "source": [
        "runner = cuml.benchmark.runners.SpeedupComparisonRunner(\n",
        "    bench_rows=SMALL_ROW_SIZES,\n",
        "    bench_dims=SKINNY_FEATURES,\n",
        "    dataset_name=DATA_CLASSIFICATION,\n",
        "    input_type=INPUT_TYPE,\n",
        "    n_reps=N_REPS\n",
        ")\n",
        "\n",
        "execute_benchmark(\"LogisticRegression\", runner)"
      ]
    },
    {
      "cell_type": "markdown",
      "metadata": {
        "id": "DPvtsdoA09cI"
      },
      "source": [
        "### Ridge Regression<a id=\"ridge_regression\"/>"
      ]
    },
    {
      "cell_type": "code",
      "execution_count": 16,
      "metadata": {
        "id": "8Cboa3L609cI",
        "outputId": "13496c43-7d2b-4c05-df50-bb26c57745b8",
        "colab": {
          "base_uri": "https://localhost:8080/"
        }
      },
      "outputs": [
        {
          "output_type": "stream",
          "name": "stdout",
          "text": [
            "Ridge (n_samples=16384, n_features=32) [cpu=0.04369211196899414, gpu=0.0060994625091552734, speedup=7.163272485634992]\n",
            "Ridge (n_samples=32768, n_features=32) [cpu=0.007589101791381836, gpu=0.009418487548828125, speedup=0.8057665046577561]\n",
            "Ridge (n_samples=65536, n_features=32) [cpu=0.013546228408813477, gpu=0.008407831192016602, speedup=1.611144193960017]\n"
          ]
        }
      ],
      "source": [
        "runner = cuml.benchmark.runners.SpeedupComparisonRunner(\n",
        "    bench_rows=SMALL_ROW_SIZES,\n",
        "    bench_dims=SKINNY_FEATURES,\n",
        "    dataset_name=DATA_REGRESSION,\n",
        "    input_type=INPUT_TYPE,\n",
        "    n_reps=N_REPS\n",
        ")\n",
        "\n",
        "execute_benchmark(\"Ridge\", runner)"
      ]
    },
    {
      "cell_type": "markdown",
      "metadata": {
        "id": "RkBblJeV09cI"
      },
      "source": [
        "### Lasso Regression<a id=\"lasso_regression\"/>"
      ]
    },
    {
      "cell_type": "code",
      "execution_count": 17,
      "metadata": {
        "id": "aOvZyO2Y09cI",
        "outputId": "1ab8478d-6b7f-42ec-c0af-71d3ccfc2938",
        "colab": {
          "base_uri": "https://localhost:8080/"
        }
      },
      "outputs": [
        {
          "output_type": "stream",
          "name": "stdout",
          "text": [
            "Lasso (n_samples=16384, n_features=32) [cpu=0.07908487319946289, gpu=0.035482168197631836, speedup=2.2288624742143353]\n",
            "Lasso (n_samples=32768, n_features=32) [cpu=0.00785517692565918, gpu=0.006490230560302734, speedup=1.2103078392476674]\n",
            "Lasso (n_samples=65536, n_features=32) [cpu=0.012638568878173828, gpu=0.0073053836822509766, speedup=1.7300349205313144]\n"
          ]
        }
      ],
      "source": [
        "runner = cuml.benchmark.runners.SpeedupComparisonRunner(\n",
        "    bench_rows=SMALL_ROW_SIZES,\n",
        "    bench_dims=SKINNY_FEATURES,\n",
        "    dataset_name=DATA_REGRESSION,\n",
        "    input_type=INPUT_TYPE,\n",
        "    n_reps=N_REPS\n",
        ")\n",
        "\n",
        "execute_benchmark(\"Lasso\", runner)"
      ]
    },
    {
      "cell_type": "markdown",
      "metadata": {
        "id": "0OiJOCYS09cJ"
      },
      "source": [
        "### ElasticNet Regression<a id=\"elasticnet_regression\"/>"
      ]
    },
    {
      "cell_type": "code",
      "execution_count": 18,
      "metadata": {
        "id": "IH7DLT7p09cJ",
        "outputId": "3f865b5e-5654-48e3-cd57-d8af07d453b6",
        "colab": {
          "base_uri": "https://localhost:8080/"
        }
      },
      "outputs": [
        {
          "output_type": "stream",
          "name": "stdout",
          "text": [
            "ElasticNet (n_samples=16384, n_features=32) [cpu=0.004723787307739258, gpu=0.006328105926513672, speedup=0.7464772812900309]\n",
            "ElasticNet (n_samples=32768, n_features=32) [cpu=0.007857561111450195, gpu=0.006370067596435547, speedup=1.2335129874990642]\n",
            "ElasticNet (n_samples=65536, n_features=32) [cpu=0.012409687042236328, gpu=0.007365226745605469, speedup=1.684902240062152]\n"
          ]
        }
      ],
      "source": [
        "runner = cuml.benchmark.runners.SpeedupComparisonRunner(\n",
        "    bench_rows=SMALL_ROW_SIZES,\n",
        "    bench_dims=SKINNY_FEATURES,\n",
        "    dataset_name=DATA_REGRESSION,\n",
        "    input_type=INPUT_TYPE,\n",
        "    n_reps=N_REPS\n",
        ")\n",
        "\n",
        "execute_benchmark(\"ElasticNet\", runner)"
      ]
    },
    {
      "cell_type": "markdown",
      "metadata": {
        "id": "eOgs5Vr609cJ"
      },
      "source": [
        "### Mini-batch SGD Classifier<a id=\"minibatch_sgd_classifier\"/>"
      ]
    },
    {
      "cell_type": "code",
      "execution_count": 19,
      "metadata": {
        "id": "UzgYY9rw09cJ",
        "outputId": "39491ee7-b297-402d-cacb-46e6041af78a",
        "colab": {
          "base_uri": "https://localhost:8080/"
        }
      },
      "outputs": [
        {
          "output_type": "stream",
          "name": "stderr",
          "text": [
            "/usr/local/lib/python3.11/dist-packages/cuml/benchmark/runners.py:128: UserWarning: run_cpu argument is set to True but no CPU implementation was provided. It's possible an additional library is needed but one could not be found. Benchmark will be executed with run_cpu=False\n",
            "  warnings.warn(\n"
          ]
        },
        {
          "output_type": "stream",
          "name": "stdout",
          "text": [
            "MBSGDClassifier (n_samples=16384, n_features=32) [cpu=0.0, gpu=3.3468809127807617, speedup=0.0]\n",
            "MBSGDClassifier (n_samples=32768, n_features=32) [cpu=0.0, gpu=6.674870014190674, speedup=0.0]\n",
            "MBSGDClassifier (n_samples=65536, n_features=32) [cpu=0.0, gpu=13.232096910476685, speedup=0.0]\n"
          ]
        }
      ],
      "source": [
        "runner = cuml.benchmark.runners.SpeedupComparisonRunner(\n",
        "    bench_rows=SMALL_ROW_SIZES,\n",
        "    bench_dims=SKINNY_FEATURES,\n",
        "    dataset_name=DATA_CLASSIFICATION,\n",
        "    input_type=INPUT_TYPE,\n",
        "    n_reps=N_REPS\n",
        ")\n",
        "\n",
        "execute_benchmark(\"MBSGDClassifier\", runner)"
      ]
    },
    {
      "cell_type": "markdown",
      "metadata": {
        "id": "Js6wMAlx09cJ"
      },
      "source": [
        "## Decomposition<a id=\"decomposition\"/>"
      ]
    },
    {
      "cell_type": "markdown",
      "metadata": {
        "id": "PUF1QrmL09cJ"
      },
      "source": [
        "### PCA<a id=\"pca\"/>"
      ]
    },
    {
      "cell_type": "code",
      "execution_count": 20,
      "metadata": {
        "id": "-1XVdk3c09cK",
        "outputId": "6e138d53-57b0-402e-d54e-91b455d3b4e6",
        "colab": {
          "base_uri": "https://localhost:8080/"
        }
      },
      "outputs": [
        {
          "output_type": "stream",
          "name": "stdout",
          "text": [
            "PCA (n_samples=16384, n_features=1000) [cpu=0.23986411094665527, gpu=0.0782616138458252, speedup=3.064901158557576]\n",
            "PCA (n_samples=16384, n_features=10000) [cpu=3.0699992179870605, gpu=4.711993932723999, speedup=0.6515286865431715]\n",
            "PCA (n_samples=32768, n_features=1000) [cpu=0.38746070861816406, gpu=0.0637505054473877, speedup=6.077766849047642]\n",
            "PCA (n_samples=32768, n_features=10000) [cpu=4.172417402267456, gpu=5.069212436676025, speedup=0.8230898693611243]\n",
            "PCA (n_samples=65536, n_features=1000) [cpu=0.5880343914031982, gpu=0.11598396301269531, speedup=5.069962916673519]\n",
            "PCA (n_samples=65536, n_features=10000) [cpu=6.948704481124878, gpu=6.6850926876068115, speedup=1.0394327806414358]\n"
          ]
        }
      ],
      "source": [
        "runner = cuml.benchmark.runners.SpeedupComparisonRunner(\n",
        "    bench_rows=SMALL_ROW_SIZES,\n",
        "    bench_dims=WIDE_FEATURES,\n",
        "    dataset_name=DATA_NEIGHBORHOODS,\n",
        "    input_type=INPUT_TYPE,\n",
        "    n_reps=N_REPS\n",
        ")\n",
        "\n",
        "execute_benchmark(\"PCA\", runner)"
      ]
    },
    {
      "cell_type": "markdown",
      "metadata": {
        "id": "CxpQuQh509cK"
      },
      "source": [
        "### Truncated SVD<a id=\"truncated_svd\"/>"
      ]
    },
    {
      "cell_type": "code",
      "execution_count": 21,
      "metadata": {
        "id": "u_Mwp2lQ09cK",
        "outputId": "d377e92e-d642-4e9f-cd43-fb0f454913f8",
        "colab": {
          "base_uri": "https://localhost:8080/"
        }
      },
      "outputs": [
        {
          "output_type": "stream",
          "name": "stdout",
          "text": [
            "tSVD (n_samples=16384, n_features=1000) [cpu=0.9915599822998047, gpu=0.05663800239562988, speedup=17.506973063306912]\n",
            "tSVD (n_samples=16384, n_features=10000) [cpu=2.142000198364258, gpu=4.6575400829315186, speedup=0.45989946628995065]\n",
            "tSVD (n_samples=32768, n_features=1000) [cpu=1.2293994426727295, gpu=0.06673955917358398, speedup=18.42085051049206]\n",
            "tSVD (n_samples=32768, n_features=10000) [cpu=3.542910099029541, gpu=5.067590713500977, speedup=0.6991310662857182]\n",
            "tSVD (n_samples=65536, n_features=1000) [cpu=1.7160484790802002, gpu=0.12008166313171387, speedup=14.290678812450487]\n",
            "tSVD (n_samples=65536, n_features=10000) [cpu=4.990565299987793, gpu=6.5731401443481445, speedup=0.7592361018316163]\n"
          ]
        }
      ],
      "source": [
        "runner = cuml.benchmark.runners.SpeedupComparisonRunner(\n",
        "    bench_rows=SMALL_ROW_SIZES,\n",
        "    bench_dims=WIDE_FEATURES,\n",
        "    dataset_name=DATA_NEIGHBORHOODS,\n",
        "    input_type=INPUT_TYPE,\n",
        "    n_reps=N_REPS\n",
        ")\n",
        "\n",
        "execute_benchmark(\"TSVD\", runner)"
      ]
    },
    {
      "cell_type": "markdown",
      "metadata": {
        "id": "rmJpcbXi09cK"
      },
      "source": [
        "## Ensemble<a id=\"ensemble\"/>"
      ]
    },
    {
      "cell_type": "markdown",
      "metadata": {
        "id": "mgTDd0zL09cK"
      },
      "source": [
        "### Random Forest Classifier<a id=\"random_forest_classifier\"/>"
      ]
    },
    {
      "cell_type": "code",
      "execution_count": 22,
      "metadata": {
        "id": "x4_QPOFZ09cK",
        "outputId": "e9fa6d9a-acca-43ad-b98a-ae0792374930",
        "colab": {
          "base_uri": "https://localhost:8080/"
        }
      },
      "outputs": [
        {
          "output_type": "stream",
          "name": "stdout",
          "text": [
            "RandomForestClassifier (n_samples=16384, n_features=32) [cpu=1.5002923011779785, gpu=0.45855116844177246, speedup=3.2718100060156927]\n",
            "RandomForestClassifier (n_samples=32768, n_features=32) [cpu=3.2085838317871094, gpu=0.22383856773376465, speedup=14.33436545038755]\n",
            "RandomForestClassifier (n_samples=65536, n_features=32) [cpu=7.950809001922607, gpu=0.31198930740356445, speedup=25.48423555951575]\n"
          ]
        }
      ],
      "source": [
        "runner = cuml.benchmark.runners.SpeedupComparisonRunner(\n",
        "    bench_rows=SMALL_ROW_SIZES,\n",
        "    bench_dims=SKINNY_FEATURES,\n",
        "    dataset_name=DATA_CLASSIFICATION,\n",
        "    input_type=INPUT_TYPE,\n",
        "    n_reps=N_REPS\n",
        ")\n",
        "\n",
        "execute_benchmark(\"RandomForestClassifier\", runner)"
      ]
    },
    {
      "cell_type": "markdown",
      "metadata": {
        "id": "oaRUMHai09cK"
      },
      "source": [
        "### Random Forest Regressor<a id=\"random_forest_regressor\"/>"
      ]
    },
    {
      "cell_type": "code",
      "execution_count": 23,
      "metadata": {
        "id": "hGmEIUgf09cL",
        "outputId": "2a2156c3-cc07-487c-8a01-a211e1e2ebfb",
        "colab": {
          "base_uri": "https://localhost:8080/"
        }
      },
      "outputs": [
        {
          "output_type": "stream",
          "name": "stdout",
          "text": [
            "RandomForestRegressor (n_samples=16384, n_features=32) [cpu=7.108882188796997, gpu=0.3020336627960205, speedup=23.536721446834242]\n",
            "RandomForestRegressor (n_samples=32768, n_features=32) [cpu=15.625266551971436, gpu=0.33471035957336426, speedup=46.68294871986648]\n",
            "RandomForestRegressor (n_samples=65536, n_features=32) [cpu=34.321566343307495, gpu=0.4237346649169922, speedup=80.99777805535675]\n"
          ]
        }
      ],
      "source": [
        "runner = cuml.benchmark.runners.SpeedupComparisonRunner(\n",
        "    bench_rows=SMALL_ROW_SIZES,\n",
        "    bench_dims=SKINNY_FEATURES,\n",
        "    dataset_name=DATA_REGRESSION,\n",
        "    input_type=INPUT_TYPE,\n",
        "    n_reps=N_REPS\n",
        ")\n",
        "\n",
        "execute_benchmark(\"RandomForestRegressor\", runner)"
      ]
    },
    {
      "cell_type": "markdown",
      "metadata": {
        "id": "bdWOcDoZ09cL"
      },
      "source": [
        "### FIL<a id=\"fil\"/>\n",
        "CPU benchmark requires XGBoost Library"
      ]
    },
    {
      "cell_type": "code",
      "execution_count": 24,
      "metadata": {
        "id": "YiaNAO8Y09cL",
        "outputId": "13e36ed6-4536-4e72-d660-de910b4acf31",
        "colab": {
          "base_uri": "https://localhost:8080/"
        }
      },
      "outputs": [
        {
          "output_type": "stream",
          "name": "stderr",
          "text": [
            "/usr/local/lib/python3.11/dist-packages/xgboost/core.py:158: UserWarning: [09:22:46] WARNING: /workspace/src/common/error_msg.cc:27: The tree method `gpu_hist` is deprecated since 2.0.0. To use GPU training, set the `device` parameter to CUDA instead.\n",
            "\n",
            "    E.g. tree_method = \"hist\", device = \"cuda\"\n",
            "\n",
            "  warnings.warn(smsg, UserWarning)\n",
            "/usr/local/lib/python3.11/dist-packages/xgboost/core.py:158: UserWarning: [09:22:46] WARNING: /workspace/src/learner.cc:740: \n",
            "Parameters: { \"fil_algo\", \"num_rounds\", \"output_class\", \"precision\", \"silent\", \"storage_type\", \"threshold\" } are not used.\n",
            "\n",
            "  warnings.warn(smsg, UserWarning)\n",
            "/usr/local/lib/python3.11/dist-packages/xgboost/core.py:158: UserWarning: [09:22:47] WARNING: /workspace/src/common/error_msg.cc:27: The tree method `gpu_hist` is deprecated since 2.0.0. To use GPU training, set the `device` parameter to CUDA instead.\n",
            "\n",
            "    E.g. tree_method = \"hist\", device = \"cuda\"\n",
            "\n",
            "  warnings.warn(smsg, UserWarning)\n",
            "/usr/local/lib/python3.11/dist-packages/xgboost/core.py:158: UserWarning: [09:22:47] WARNING: /workspace/src/learner.cc:740: \n",
            "Parameters: { \"fil_algo\", \"num_rounds\", \"output_class\", \"precision\", \"silent\", \"storage_type\", \"threshold\" } are not used.\n",
            "\n",
            "  warnings.warn(smsg, UserWarning)\n"
          ]
        },
        {
          "output_type": "stream",
          "name": "stdout",
          "text": [
            "Failed to run with 16384 samples, 32 features: [09:22:47] /workspace/dmlc-core/src/io/local_filesys.cc:210: Check failed: allow_null:  LocalFileSystem::Open \"/tmp/tmp0d0qqpbq/xgb_10_100_32_16384.model\": No such file or directory\n",
            "Stack trace:\n",
            "  [bt] (0) /usr/local/lib/python3.11/dist-packages/xgboost/lib/libxgboost.so(+0x25c1ac) [0x7fafb225c1ac]\n",
            "  [bt] (1) /usr/local/lib/python3.11/dist-packages/xgboost/lib/libxgboost.so(+0xf3770d) [0x7fafb2f3770d]\n",
            "  [bt] (2) /usr/local/lib/python3.11/dist-packages/xgboost/lib/libxgboost.so(+0xf23b25) [0x7fafb2f23b25]\n",
            "  [bt] (3) /usr/local/lib/python3.11/dist-packages/xgboost/lib/libxgboost.so(XGBoosterLoadModel+0x1f3) [0x7fafb216b8a3]\n",
            "  [bt] (4) /lib/x86_64-linux-gnu/libffi.so.8(+0x7e2e) [0x7fb1b3bc2e2e]\n",
            "  [bt] (5) /lib/x86_64-linux-gnu/libffi.so.8(+0x4493) [0x7fb1b3bbf493]\n",
            "  [bt] (6) /usr/lib/python3.11/lib-dynload/_ctypes.cpython-311-x86_64-linux-gnu.so(+0xa4d8) [0x7fb1b3e234d8]\n",
            "  [bt] (7) /usr/lib/python3.11/lib-dynload/_ctypes.cpython-311-x86_64-linux-gnu.so(+0x9c8e) [0x7fb1b3e22c8e]\n",
            "  [bt] (8) /usr/bin/python3(_PyObject_MakeTpCall+0x27c) [0x52f6dc]\n",
            "\n",
            "\n",
            "Failed to run with 32768 samples, 32 features: [09:22:47] /workspace/dmlc-core/src/io/local_filesys.cc:210: Check failed: allow_null:  LocalFileSystem::Open \"/tmp/tmp0d0qqpbq/xgb_10_100_32_32768.model\": No such file or directory\n",
            "Stack trace:\n",
            "  [bt] (0) /usr/local/lib/python3.11/dist-packages/xgboost/lib/libxgboost.so(+0x25c1ac) [0x7fafb225c1ac]\n",
            "  [bt] (1) /usr/local/lib/python3.11/dist-packages/xgboost/lib/libxgboost.so(+0xf3770d) [0x7fafb2f3770d]\n",
            "  [bt] (2) /usr/local/lib/python3.11/dist-packages/xgboost/lib/libxgboost.so(+0xf23b25) [0x7fafb2f23b25]\n",
            "  [bt] (3) /usr/local/lib/python3.11/dist-packages/xgboost/lib/libxgboost.so(XGBoosterLoadModel+0x1f3) [0x7fafb216b8a3]\n",
            "  [bt] (4) /lib/x86_64-linux-gnu/libffi.so.8(+0x7e2e) [0x7fb1b3bc2e2e]\n",
            "  [bt] (5) /lib/x86_64-linux-gnu/libffi.so.8(+0x4493) [0x7fb1b3bbf493]\n",
            "  [bt] (6) /usr/lib/python3.11/lib-dynload/_ctypes.cpython-311-x86_64-linux-gnu.so(+0xa4d8) [0x7fb1b3e234d8]\n",
            "  [bt] (7) /usr/lib/python3.11/lib-dynload/_ctypes.cpython-311-x86_64-linux-gnu.so(+0x9c8e) [0x7fb1b3e22c8e]\n",
            "  [bt] (8) /usr/bin/python3(_PyObject_MakeTpCall+0x27c) [0x52f6dc]\n",
            "\n",
            "\n",
            "Failed to run with 65536 samples, 32 features: [09:22:47] /workspace/dmlc-core/src/io/local_filesys.cc:210: Check failed: allow_null:  LocalFileSystem::Open \"/tmp/tmp0d0qqpbq/xgb_10_100_32_65536.model\": No such file or directory\n",
            "Stack trace:\n",
            "  [bt] (0) /usr/local/lib/python3.11/dist-packages/xgboost/lib/libxgboost.so(+0x25c1ac) [0x7fafb225c1ac]\n",
            "  [bt] (1) /usr/local/lib/python3.11/dist-packages/xgboost/lib/libxgboost.so(+0xf3770d) [0x7fafb2f3770d]\n",
            "  [bt] (2) /usr/local/lib/python3.11/dist-packages/xgboost/lib/libxgboost.so(+0xf23b25) [0x7fafb2f23b25]\n",
            "  [bt] (3) /usr/local/lib/python3.11/dist-packages/xgboost/lib/libxgboost.so(XGBoosterLoadModel+0x1f3) [0x7fafb216b8a3]\n",
            "  [bt] (4) /lib/x86_64-linux-gnu/libffi.so.8(+0x7e2e) [0x7fb1b3bc2e2e]\n",
            "  [bt] (5) /lib/x86_64-linux-gnu/libffi.so.8(+0x4493) [0x7fb1b3bbf493]\n",
            "  [bt] (6) /usr/lib/python3.11/lib-dynload/_ctypes.cpython-311-x86_64-linux-gnu.so(+0xa4d8) [0x7fb1b3e234d8]\n",
            "  [bt] (7) /usr/lib/python3.11/lib-dynload/_ctypes.cpython-311-x86_64-linux-gnu.so(+0x9c8e) [0x7fb1b3e22c8e]\n",
            "  [bt] (8) /usr/bin/python3(_PyObject_MakeTpCall+0x27c) [0x52f6dc]\n",
            "\n",
            "\n"
          ]
        }
      ],
      "source": [
        "runner = cuml.benchmark.runners.SpeedupComparisonRunner(\n",
        "    bench_rows=SMALL_ROW_SIZES,\n",
        "    bench_dims=SKINNY_FEATURES,\n",
        "    dataset_name=DATA_CLASSIFICATION,\n",
        "    input_type=INPUT_TYPE,\n",
        "    n_reps=N_REPS\n",
        ")\n",
        "\n",
        "execute_benchmark(\"FIL\", runner)"
      ]
    },
    {
      "cell_type": "markdown",
      "metadata": {
        "id": "ZbppQIQs09cL"
      },
      "source": [
        "## Sparse FIL<a id=\"sparse_fil\"/>\n",
        "Requires TreeLite library"
      ]
    },
    {
      "cell_type": "code",
      "execution_count": 25,
      "metadata": {
        "id": "W39aifV809cL",
        "outputId": "3d76f9d3-cdc0-4a46-cffb-f15545342888",
        "colab": {
          "base_uri": "https://localhost:8080/"
        }
      },
      "outputs": [
        {
          "output_type": "stream",
          "name": "stdout",
          "text": [
            "[2025-05-13 09:22:49.428] [CUML] [warning] Treelite currently does not support float64 model parameters. Accuracy may degrade slightly relative to native sklearn invocation.\n",
            "Sparse-FIL-SKL (n_samples=16384, n_features=32) [cpu=0.045763254165649414, gpu=0.003198862075805664, speedup=14.30610419616904]\n",
            "[2025-05-13 09:22:52.841] [CUML] [warning] Treelite currently does not support float64 model parameters. Accuracy may degrade slightly relative to native sklearn invocation.\n",
            "Sparse-FIL-SKL (n_samples=32768, n_features=32) [cpu=0.06020164489746094, gpu=0.004590272903442383, speedup=13.115047005661456]\n",
            "[2025-05-13 09:23:00.433] [CUML] [warning] Treelite currently does not support float64 model parameters. Accuracy may degrade slightly relative to native sklearn invocation.\n",
            "Sparse-FIL-SKL (n_samples=65536, n_features=32) [cpu=0.10848474502563477, gpu=0.007891178131103516, speedup=13.747598042177776]\n"
          ]
        }
      ],
      "source": [
        "runner = cuml.benchmark.runners.SpeedupComparisonRunner(\n",
        "    bench_rows=SMALL_ROW_SIZES,\n",
        "    bench_dims=SKINNY_FEATURES,\n",
        "    dataset_name=DATA_CLASSIFICATION,\n",
        "    input_type=INPUT_TYPE,\n",
        "    n_reps=N_REPS\n",
        ")\n",
        "\n",
        "execute_benchmark(\"Sparse-FIL-SKL\", runner)"
      ]
    },
    {
      "cell_type": "markdown",
      "metadata": {
        "id": "jcOj44_j09cL"
      },
      "source": [
        "## Random Projection<a id=\"random_projection\"/>"
      ]
    },
    {
      "cell_type": "markdown",
      "metadata": {
        "id": "qoE9GweR09cM"
      },
      "source": [
        "### Gaussian Random Projection<a id=\"gaussian_random_projection\"/>"
      ]
    },
    {
      "cell_type": "code",
      "execution_count": 26,
      "metadata": {
        "id": "VWkDe7Xl09cM",
        "outputId": "8255c156-db9a-4a5d-e3d4-444c2f2c1f47",
        "colab": {
          "base_uri": "https://localhost:8080/"
        }
      },
      "outputs": [
        {
          "output_type": "stream",
          "name": "stdout",
          "text": [
            "GaussianRandomProjection (n_samples=16384, n_features=1000) [cpu=0.006206035614013672, gpu=0.028664112091064453, speedup=0.21650890822284696]\n",
            "GaussianRandomProjection (n_samples=16384, n_features=10000) [cpu=0.05835914611816406, gpu=0.18933629989624023, speedup=0.3082300971876283]\n",
            "GaussianRandomProjection (n_samples=32768, n_features=1000) [cpu=0.011671066284179688, gpu=0.041652679443359375, speedup=0.2801996519827823]\n",
            "GaussianRandomProjection (n_samples=32768, n_features=10000) [cpu=0.11245536804199219, gpu=0.3759639263153076, speedup=0.29911212265529924]\n",
            "GaussianRandomProjection (n_samples=65536, n_features=1000) [cpu=0.022894620895385742, gpu=0.0785677433013916, speedup=0.29139975177294203]\n",
            "GaussianRandomProjection (n_samples=65536, n_features=10000) [cpu=0.21961069107055664, gpu=0.7474985122680664, speedup=0.29379415138126763]\n"
          ]
        }
      ],
      "source": [
        "runner = cuml.benchmark.runners.SpeedupComparisonRunner(\n",
        "    bench_rows=SMALL_ROW_SIZES,\n",
        "    bench_dims=WIDE_FEATURES,\n",
        "    dataset_name=DATA_NEIGHBORHOODS,\n",
        "    input_type=INPUT_TYPE,\n",
        "    n_reps=N_REPS\n",
        ")\n",
        "\n",
        "execute_benchmark(\"GaussianRandomProjection\", runner)"
      ]
    },
    {
      "cell_type": "markdown",
      "metadata": {
        "id": "eDRn2Ryp09cM"
      },
      "source": [
        "### Sparse Random Projection<a id=\"sparse_random_projection\"/>"
      ]
    },
    {
      "cell_type": "code",
      "execution_count": 27,
      "metadata": {
        "id": "pN5FGSp209cM",
        "outputId": "46293dc2-6ba2-467e-c9ae-c51fd5507fa4",
        "colab": {
          "base_uri": "https://localhost:8080/"
        }
      },
      "outputs": [
        {
          "output_type": "stream",
          "name": "stdout",
          "text": [
            "SparseRandomProjection (n_samples=16384, n_features=1000) [cpu=0.0067043304443359375, gpu=0.022805452346801758, speedup=0.29397927926986084]\n",
            "SparseRandomProjection (n_samples=16384, n_features=10000) [cpu=0.0578157901763916, gpu=0.1879129409790039, speedup=0.30767327612019835]\n",
            "SparseRandomProjection (n_samples=32768, n_features=1000) [cpu=0.012148857116699219, gpu=0.03957819938659668, speedup=0.3069583079823859]\n",
            "SparseRandomProjection (n_samples=32768, n_features=10000) [cpu=0.11234188079833984, gpu=0.37236928939819336, speedup=0.30169480673312715]\n",
            "SparseRandomProjection (n_samples=65536, n_features=1000) [cpu=0.022851228713989258, gpu=0.07795572280883789, speedup=0.29313086827537693]\n",
            "SparseRandomProjection (n_samples=65536, n_features=10000) [cpu=0.21895718574523926, gpu=0.7475981712341309, speedup=0.29288084718530805]\n"
          ]
        }
      ],
      "source": [
        "runner = cuml.benchmark.runners.SpeedupComparisonRunner(\n",
        "    bench_rows=SMALL_ROW_SIZES,\n",
        "    bench_dims=WIDE_FEATURES,\n",
        "    dataset_name=DATA_NEIGHBORHOODS,\n",
        "    input_type=INPUT_TYPE,\n",
        "    n_reps=N_REPS\n",
        ")\n",
        "\n",
        "execute_benchmark(\"SparseRandomProjection\", runner)"
      ]
    },
    {
      "cell_type": "markdown",
      "metadata": {
        "id": "0KRcYyQF09cM"
      },
      "source": [
        "## SVM<a id=\"svm\"/>"
      ]
    },
    {
      "cell_type": "markdown",
      "metadata": {
        "id": "BHnAEK1-09cN"
      },
      "source": [
        "### SVC - Linear Kernel<a id=\"svc_linear_kernel\"/>"
      ]
    },
    {
      "cell_type": "code",
      "execution_count": 28,
      "metadata": {
        "id": "O0zM1BBC09cN",
        "outputId": "5fbad00d-a2f2-4758-b229-bee749711264",
        "colab": {
          "base_uri": "https://localhost:8080/"
        }
      },
      "outputs": [
        {
          "output_type": "stream",
          "name": "stdout",
          "text": [
            "[2025-05-13 09:23:06.868] [CUML] [warning] SVC with the linear kernel can be much faster using the specialized solver provided by LinearSVC. Consider switching to LinearSVC if tranining takes too long.\n",
            "SVC-Linear (n_samples=16384, n_features=32) [cpu=5.015956163406372, gpu=0.5184750556945801, speedup=9.674440666555691]\n",
            "SVC-Linear (n_samples=32768, n_features=32) [cpu=2.026012659072876, gpu=0.030268192291259766, speedup=66.93537029160169]\n",
            "SVC-Linear (n_samples=65536, n_features=32) [cpu=8.22862982749939, gpu=0.04286694526672363, speedup=191.95745757715645]\n"
          ]
        }
      ],
      "source": [
        "runner = cuml.benchmark.runners.SpeedupComparisonRunner(\n",
        "    bench_rows=SMALL_ROW_SIZES,\n",
        "    bench_dims=SKINNY_FEATURES,\n",
        "    dataset_name=DATA_CLASSIFICATION,\n",
        "    input_type=INPUT_TYPE,\n",
        "    n_reps=N_REPS\n",
        ")\n",
        "\n",
        "# Due to extreme high runtime, the CPU benchmark\n",
        "# is disabled. Use run_cpu=True to re-enable.\n",
        "\n",
        "execute_benchmark(\"SVC-Linear\", runner, run_cpu=True)"
      ]
    },
    {
      "cell_type": "markdown",
      "metadata": {
        "id": "HzFd22-W09cN"
      },
      "source": [
        "### SVC - RBF Kernel<a id=\"svc_rbf_kernel\"/>"
      ]
    },
    {
      "cell_type": "code",
      "execution_count": 29,
      "metadata": {
        "id": "ZBpeUyMI09cN",
        "outputId": "4372d14b-dd03-4cf9-b7ad-d990312a80ff",
        "colab": {
          "base_uri": "https://localhost:8080/"
        }
      },
      "outputs": [
        {
          "output_type": "stream",
          "name": "stdout",
          "text": [
            "SVC-RBF (n_samples=16384, n_features=32) [cpu=2.3553011417388916, gpu=0.04811239242553711, speedup=48.95414721652345]\n",
            "SVC-RBF (n_samples=32768, n_features=32) [cpu=17.053751945495605, gpu=0.11311912536621094, speedup=150.75922740991788]\n",
            "SVC-RBF (n_samples=65536, n_features=32) [cpu=56.311737298965454, gpu=0.2953908443450928, speedup=190.63467394804832]\n"
          ]
        }
      ],
      "source": [
        "runner = cuml.benchmark.runners.SpeedupComparisonRunner(\n",
        "    bench_rows=SMALL_ROW_SIZES,\n",
        "    bench_dims=SKINNY_FEATURES,\n",
        "    dataset_name=DATA_CLASSIFICATION,\n",
        "    input_type=INPUT_TYPE,\n",
        "    n_reps=N_REPS\n",
        ")\n",
        "\n",
        "# Due to extreme high runtime, the CPU benchmark\n",
        "# is disabled. Use run_cpu=True to re-enable.\n",
        "\n",
        "execute_benchmark(\"SVC-RBF\", runner, run_cpu=True)"
      ]
    },
    {
      "cell_type": "markdown",
      "metadata": {
        "id": "V_BOoqAI09cN"
      },
      "source": [
        "### SVR - Linear Kernel<a id=\"svr_linear_kernel\"/>"
      ]
    },
    {
      "cell_type": "code",
      "execution_count": 30,
      "metadata": {
        "id": "9era2Tx809cN",
        "outputId": "d8c32883-dc16-4b73-cfa8-437a7e42db12",
        "colab": {
          "base_uri": "https://localhost:8080/"
        }
      },
      "outputs": [
        {
          "output_type": "stream",
          "name": "stdout",
          "text": [
            "[2025-05-13 09:24:38.987] [CUML] [warning] SVR with the linear kernel can be much faster using the specialized solver provided by LinearSVR. Consider switching to LinearSVR if tranining takes too long.\n",
            "SVR-Linear (n_samples=16384, n_features=32) [cpu=0.0, gpu=0.4862849712371826, speedup=0.0]\n",
            "SVR-Linear (n_samples=32768, n_features=32) [cpu=0.0, gpu=0.4269084930419922, speedup=0.0]\n",
            "SVR-Linear (n_samples=65536, n_features=32) [cpu=0.0, gpu=0.4005274772644043, speedup=0.0]\n"
          ]
        }
      ],
      "source": [
        "runner = cuml.benchmark.runners.SpeedupComparisonRunner(\n",
        "    bench_rows=SMALL_ROW_SIZES,\n",
        "    bench_dims=SKINNY_FEATURES,\n",
        "    dataset_name=DATA_REGRESSION,\n",
        "    input_type=INPUT_TYPE,\n",
        "    n_reps=N_REPS\n",
        ")\n",
        "\n",
        "# Due to extreme high runtime, the CPU benchmark\n",
        "# is disabled. Use run_cpu=True to re-enable.\n",
        "\n",
        "execute_benchmark(\"SVR-Linear\", runner, run_cpu=False)"
      ]
    },
    {
      "cell_type": "markdown",
      "metadata": {
        "id": "rKQzX8SI09cN"
      },
      "source": [
        "### SVR - RBF Kernel<a id=\"svr_rbf_kernel\"/>"
      ]
    },
    {
      "cell_type": "code",
      "execution_count": 31,
      "metadata": {
        "id": "Yl16pPHf09cO",
        "outputId": "430568f5-7e20-4264-960a-08d2d836d9f5",
        "colab": {
          "base_uri": "https://localhost:8080/"
        }
      },
      "outputs": [
        {
          "output_type": "stream",
          "name": "stdout",
          "text": [
            "SVR-RBF (n_samples=16384, n_features=32) [cpu=13.839437246322632, gpu=0.10237455368041992, speedup=135.18434756282167]\n",
            "SVR-RBF (n_samples=32768, n_features=32) [cpu=52.82435131072998, gpu=0.3085803985595703, speedup=171.18505114812868]\n",
            "SVR-RBF (n_samples=65536, n_features=32) [cpu=272.353887796402, gpu=1.1234796047210693, speedup=242.419966194242]\n"
          ]
        }
      ],
      "source": [
        "runner = cuml.benchmark.runners.SpeedupComparisonRunner(\n",
        "    bench_rows=SMALL_ROW_SIZES,\n",
        "    bench_dims=SKINNY_FEATURES,\n",
        "    dataset_name=DATA_REGRESSION,\n",
        "    input_type=INPUT_TYPE,\n",
        "    n_reps=N_REPS\n",
        ")\n",
        "\n",
        "execute_benchmark(\"SVR-RBF\", runner)"
      ]
    },
    {
      "cell_type": "markdown",
      "metadata": {
        "id": "C48wifnX09cO"
      },
      "source": [
        "## Charting & Storing Results<a id=\"charting_and_storing_results\"/>"
      ]
    },
    {
      "cell_type": "markdown",
      "metadata": {
        "id": "lsdUId3C09cO"
      },
      "source": [
        "### Convert Results to Pandas DataFrame<a id=\"convert_to_pandas\"/>"
      ]
    },
    {
      "cell_type": "code",
      "execution_count": 32,
      "metadata": {
        "id": "9HEjJ56U09cO"
      },
      "outputs": [],
      "source": [
        "%matplotlib inline"
      ]
    },
    {
      "cell_type": "code",
      "execution_count": 33,
      "metadata": {
        "id": "-0KUfPE509cO"
      },
      "outputs": [],
      "source": [
        "df = pd.DataFrame(benchmark_results)"
      ]
    },
    {
      "cell_type": "markdown",
      "metadata": {
        "id": "L_Hcoo2H09cO"
      },
      "source": [
        "### Chart Results<a id=\"chart_results\"/>"
      ]
    },
    {
      "cell_type": "code",
      "execution_count": 34,
      "metadata": {
        "id": "WHaTbKmA09cO"
      },
      "outputs": [],
      "source": [
        "def chart_single_algo_speedup(df, algorithm):\n",
        "    df = df.loc[df.algo == algorithm]\n",
        "    df = df.pivot(index=\"n_samples\", columns=\"n_features\", values=\"speedup\")\n",
        "    axes = df.plot.bar(title=\"%s Speedup\" % algorithm)"
      ]
    },
    {
      "cell_type": "code",
      "execution_count": 35,
      "metadata": {
        "id": "SJlXz_-J09cP"
      },
      "outputs": [],
      "source": [
        "def chart_all_algo_speedup(df):\n",
        "    df = df[[\"algo\", \"n_samples\", \"speedup\"]].groupby([\"algo\", \"n_samples\"]).mean()\n",
        "    df.plot.bar()"
      ]
    },
    {
      "cell_type": "code",
      "execution_count": 36,
      "metadata": {
        "id": "ouVr8Ni709cP",
        "outputId": "b340563f-1788-49af-d285-671c67b93857",
        "colab": {
          "base_uri": "https://localhost:8080/",
          "height": 502
        }
      },
      "outputs": [
        {
          "output_type": "display_data",
          "data": {
            "text/plain": [
              "<Figure size 640x480 with 1 Axes>"
            ],
            "image/png": "[encoded data removed]"
          },
          "metadata": {}
        }
      ],
      "source": [
        "chart_single_algo_speedup(df, \"LinearRegression\")"
      ]
    },
    {
      "cell_type": "code",
      "execution_count": 37,
      "metadata": {
        "id": "TOewPZpu09cP",
        "outputId": "96fbbae9-4e43-437d-b70c-c3df4b3178f0",
        "colab": {
          "base_uri": "https://localhost:8080/",
          "height": 689
        }
      },
      "outputs": [
        {
          "output_type": "display_data",
          "data": {
            "text/plain": [
              "<Figure size 640x480 with 1 Axes>"
            ],
            "image/png": "[encoded data removed]"
          },
          "metadata": {}
        }
      ],
      "source": [
        "chart_all_algo_speedup(df)"
      ]
    },
    {
      "cell_type": "markdown",
      "metadata": {
        "id": "NaffQqSm09cP"
      },
      "source": [
        "### Output Results to CSV<a id=\"output_csv\"/>"
      ]
    },
    {
      "cell_type": "code",
      "execution_count": 38,
      "metadata": {
        "id": "8ZVEXu-i09cP"
      },
      "outputs": [],
      "source": [
        "df.to_csv(\"benchmark_results.csv\")"
      ]
    },
    {
      "cell_type": "code",
      "source": [],
      "metadata": {
        "id": "jxzeq0jD8qhh"
      },
      "execution_count": 38,
      "outputs": []
    }
  ],
  "metadata": {
    "kernelspec": {
      "display_name": "Python 3",
      "name": "python3"
    },
    "language_info": {
      "codemirror_mode": {
        "name": "ipython",
        "version": 3
      },
      "file_extension": ".py",
      "mimetype": "text/x-python",
      "name": "python",
      "nbconvert_exporter": "python",
      "pygments_lexer": "ipython3",
      "version": "3.7.7"
    },
    "colab": {
      "name": "cuml_benchmarks.ipynb",
      "provenance": [],
      "machine_shape": "hm",
      "gpuType": "A100"
    },
    "accelerator": "GPU"
  },
  "nbformat": 4,
  "nbformat_minor": 0
}