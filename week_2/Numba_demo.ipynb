{
 "cells": [
  {
   "cell_type": "markdown",
   "metadata": {
    "colab_type": "text",
    "id": "view-in-github"
   },
   "source": [
    "<a href=\"https://colab.research.google.com/github/keuperj/DataEngineering22/blob/main/week_9/Numba_demo.ipynb\" target=\"_parent\"><img src=\"https://colab.research.google.com/assets/colab-badge.svg\" alt=\"Open In Colab\"/></a>"
   ]
  },
  {
   "cell_type": "markdown",
   "metadata": {
    "id": "tNq0725ZP6mm"
   },
   "source": [
    "# Numba Demo\n",
    "* API:  https://numba.pydata.org/numba-doc/latest/index.html\n"
   ]
  },
  {
   "cell_type": "markdown",
   "metadata": {
    "id": "3mv_ffk2P_TO"
   },
   "source": [
    "### Implementing a simple function and getting the runtime"
   ]
  },
  {
   "cell_type": "code",
   "execution_count": 1,
   "metadata": {
    "id": "91ct5dSxOIfl"
   },
   "outputs": [],
   "source": [
    "import random\n",
    "def monte_carlo_pi(nsamples):\n",
    "    acc = 0\n",
    "    for i in range(nsamples):\n",
    "        x = random.random()\n",
    "        y = random.random()\n",
    "        if (x ** 2 + y ** 2) < 1.0:\n",
    "            acc += 1\n",
    "    return 4.0 * acc / nsamples"
   ]
  },
  {
   "cell_type": "code",
   "execution_count": 2,
   "metadata": {
    "colab": {
     "base_uri": "https://localhost:8080/"
    },
    "id": "mGTSXnJgPqeC",
    "outputId": "dd0bcfff-24c1-415e-a067-581e7644ae01"
   },
   "outputs": [
    {
     "name": "stdout",
     "output_type": "stream",
     "text": [
      "100 loops, best of 5: 4.27 ms per loop\n"
     ]
    }
   ],
   "source": [
    "%%timeit\n",
    "monte_carlo_pi(10000)"
   ]
  },
  {
   "cell_type": "markdown",
   "metadata": {
    "id": "f_BAXQVrQGSH"
   },
   "source": [
    "### Now the same thing with NUMBA compilation"
   ]
  },
  {
   "cell_type": "code",
   "execution_count": 3,
   "metadata": {
    "colab": {
     "base_uri": "https://localhost:8080/"
    },
    "id": "iyeKi4mSONPd",
    "outputId": "2586b574-6fc5-4b34-96b2-331806a04e0f"
   },
   "outputs": [
    {
     "data": {
      "text/plain": [
       "3.1336"
      ]
     },
     "execution_count": 3,
     "metadata": {},
     "output_type": "execute_result"
    }
   ],
   "source": [
    "from numba import jit\n",
    "import random\n",
    "\n",
    "@jit(nopython=True)\n",
    "def monte_carlo_pi(nsamples):\n",
    "    acc = 0\n",
    "    for i in range(nsamples):\n",
    "        x = random.random()\n",
    "        y = random.random()\n",
    "        if (x ** 2 + y ** 2) < 1.0:\n",
    "            acc += 1\n",
    "    return 4.0 * acc / nsamples\n",
    "\n",
    "#NOTE calling the function once before timing so that the compilation time is not included in our comparison\n",
    "monte_carlo_pi(10000)"
   ]
  },
  {
   "cell_type": "code",
   "execution_count": 4,
   "metadata": {
    "colab": {
     "base_uri": "https://localhost:8080/"
    },
    "id": "E3ReU-yFOaDO",
    "outputId": "d969501b-e2c7-477b-be08-8d287e45fdf7"
   },
   "outputs": [
    {
     "name": "stdout",
     "output_type": "stream",
     "text": [
      "1000 loops, best of 5: 244 µs per loop\n"
     ]
    }
   ],
   "source": [
    "%%timeit\n",
    "monte_carlo_pi(10000)"
   ]
  },
  {
   "cell_type": "markdown",
   "metadata": {
    "id": "QRo2OIwjQa8n"
   },
   "source": [
    "### Now with Multi-Threading"
   ]
  },
  {
   "cell_type": "code",
   "execution_count": 5,
   "metadata": {
    "colab": {
     "base_uri": "https://localhost:8080/"
    },
    "id": "maaeqeszSTO1",
    "outputId": "e26fc145-c63d-4e21-9726-5d4d87a071d7"
   },
   "outputs": [
    {
     "name": "stdout",
     "output_type": "stream",
     "text": [
      "Collecting tbb\n",
      "  Downloading tbb-2021.6.0-py2.py3-none-manylinux1_x86_64.whl (4.0 MB)\n",
      "\u001b[K     |████████████████████████████████| 4.0 MB 7.8 MB/s \n",
      "\u001b[?25hInstalling collected packages: tbb\n",
      "Successfully installed tbb-2021.6.0\n"
     ]
    }
   ],
   "source": [
    "#need extra threading lib\n",
    "!pip install tbb"
   ]
  },
  {
   "cell_type": "code",
   "execution_count": 6,
   "metadata": {
    "colab": {
     "base_uri": "https://localhost:8080/"
    },
    "id": "5K4A0G-cPzeB",
    "outputId": "f5497f63-6a5b-43af-a280-155968d7c436"
   },
   "outputs": [
    {
     "name": "stderr",
     "output_type": "stream",
     "text": [
      "/usr/local/lib/python3.7/dist-packages/numba/np/ufunc/parallel.py:363: NumbaWarning: The TBB threading layer requires TBB version 2019.5 or later i.e., TBB_INTERFACE_VERSION >= 11005. Found TBB_INTERFACE_VERSION = 9107. The TBB threading layer is disabled.\n",
      "  warnings.warn(problem)\n"
     ]
    },
    {
     "data": {
      "text/plain": [
       "3.16"
      ]
     },
     "execution_count": 6,
     "metadata": {},
     "output_type": "execute_result"
    }
   ],
   "source": [
    "import numba as nb\n",
    "@jit(nopython=True, parallel=True)\n",
    "def monte_carlo_pi_parallel(nsamples):\n",
    "    acc = 0\n",
    "    for i in nb.prange(nsamples):\n",
    "        x = random.random()\n",
    "        y = random.random()\n",
    "        if (x ** 2 + y ** 2) < 1.0:\n",
    "            acc += 1\n",
    "    return 4.0 * acc / nsamples\n",
    "\n",
    "#NOTE calling the function once before timing so that the compilation time is not included in our comparison\n",
    "monte_carlo_pi_parallel(10000)"
   ]
  },
  {
   "cell_type": "code",
   "execution_count": 7,
   "metadata": {
    "colab": {
     "base_uri": "https://localhost:8080/"
    },
    "id": "U1ZU5iljQmgS",
    "outputId": "a739f2c7-89f1-4875-c699-dae1363b1996"
   },
   "outputs": [
    {
     "name": "stdout",
     "output_type": "stream",
     "text": [
      "10000 loops, best of 5: 120 µs per loop\n"
     ]
    }
   ],
   "source": [
    "%%timeit\n",
    "monte_carlo_pi(10000)"
   ]
  },
  {
   "cell_type": "markdown",
   "metadata": {
    "id": "Im_JwNctSg6A"
   },
   "source": [
    "not always faster -> overhead of parallelization :-("
   ]
  },
  {
   "cell_type": "code",
   "execution_count": null,
   "metadata": {
    "id": "5vtqynNtXiZo"
   },
   "outputs": [],
   "source": []
  }
 ],
 "metadata": {
  "accelerator": "GPU",
  "colab": {
   "authorship_tag": "ABX9TyO8mbPDPD3MYB5zkoh8sCrc",
   "include_colab_link": true,
   "name": "Numba_demo.ipynb",
   "provenance": []
  },
  "kernelspec": {
   "display_name": "Python 3 (ipykernel)",
   "language": "python",
   "name": "python3"
  },
  "language_info": {
   "codemirror_mode": {
    "name": "ipython",
    "version": 3
   },
   "file_extension": ".py",
   "mimetype": "text/x-python",
   "name": "python",
   "nbconvert_exporter": "python",
   "pygments_lexer": "ipython3",
   "version": "3.11.4"
  }
 },
 "nbformat": 4,
 "nbformat_minor": 4
}
