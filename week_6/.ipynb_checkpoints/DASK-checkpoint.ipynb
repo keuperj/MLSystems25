{
 "cells": [
  {
   "cell_type": "markdown",
   "metadata": {
    "slideshow": {
     "slide_type": "slide"
    }
   },
   "source": [
    "<img src=\"IMG/dask_horizontal.svg\"  width=\"30%\">\n",
    "\n",
    "## Data Engineering SS 22\n",
    "#### Janis Keuper\n"
   ]
  },
  {
   "cell_type": "markdown",
   "metadata": {
    "slideshow": {
     "slide_type": "subslide"
    }
   },
   "source": [
    "<img src=\"IMG/dask_horizontal.svg\"  width=\"10%\">\n",
    "\n",
    "\n",
    "# Introduction to DASK\n",
    "* Dask is a parallel computing library that scales the existing Python ecosystem. \n",
    "* Dask can scale down to your laptop laptop and up to a cluster.\n",
    "\n",
    "   \n",
    "## DASK Ressources \n",
    "*  [DASK Website](http://dask.org)\n",
    "*  [Documentation](https://dask.pydata.org/en/latest/)\n"
   ]
  },
  {
   "cell_type": "markdown",
   "metadata": {
    "slideshow": {
     "slide_type": "slide"
    }
   },
   "source": [
    "## DASK in the Python Eco System\n",
    "\n",
    "<img src=\"IMG/python-stack.png\" width=80%>\n",
    "\n",
    "https://jupytearth.org/jupyter-resources/introduction/ecosystem.html"
   ]
  },
  {
   "cell_type": "markdown",
   "metadata": {
    "slideshow": {
     "slide_type": "subslide"
    }
   },
   "source": [
    "<img src=\"IMG/dask_horizontal.svg\"  width=\"10%\">\n",
    "\n",
    "## Key Features of DASK\n",
    "\n",
    "*  **High level Interface:**  Dask provides high-level Array, Bag, and DataFrame\n",
    "   collections that mimic NumPy, lists, and Pandas but can operate in parallel on\n",
    "   datasets that don't fit into memory.  Dask's high-level collections are\n",
    "   alternatives to NumPy and Pandas for large datasets.\n",
    "\n",
    "*  **Low Level Interface:** Dask provides dynamic task schedulers that\n",
    "   execute task graphs in parallel.  These execution engines power the\n",
    "   high-level collections mentioned above but can also power custom,\n",
    "   user-defined workloads.  These schedulers are low-latency (around 1ms) and\n",
    "   work hard to run computations in a small memory footprint.  Dask's\n",
    "   schedulers are an alternative to direct use of `threading` or\n",
    "   `multiprocessing` libraries in complex cases or other task scheduling\n",
    "   systems like `Luigi` or `IPython parallel`."
   ]
  },
  {
   "cell_type": "markdown",
   "metadata": {
    "slideshow": {
     "slide_type": "subslide"
    }
   },
   "source": [
    "<img src=\"IMG/dask_horizontal.svg\"  width=\"10%\">\n",
    "\n",
    "## DASK Scalability \n",
    "\n",
    "### runs on single node (your laptop!)\n",
    "* multi-core parallelization \n",
    "* hardly any overhead\n",
    "\n",
    "### scales to large clusters with thausands of nodes\n",
    "* with the ***SAME*** code as on the laptop\n",
    "\n",
    "\n"
   ]
  },
  {
   "cell_type": "markdown",
   "metadata": {
    "slideshow": {
     "slide_type": "subslide"
    }
   },
   "source": [
    "<img src=\"IMG/dask_horizontal.svg\"  width=\"10%\">\n",
    "\n",
    "### Worker ressource management \n",
    "* max memory, CPU cores\n",
    "* GPU assignment \n",
    "\n",
    "### Large Memory support\n",
    "* allows out of Memory processing of large data even on single node"
   ]
  },
  {
   "cell_type": "markdown",
   "metadata": {
    "slideshow": {
     "slide_type": "subslide"
    }
   },
   "source": [
    "<img src=\"IMG/dask_horizontal.svg\"  width=\"10%\">\n",
    "\n",
    "## DASK-ML\n",
    "* Scikit-Learn like API for Machine Learning\n",
    "\n",
    "## Large Scale Data Visualization\n",
    "* With DataShader"
   ]
  },
  {
   "cell_type": "markdown",
   "metadata": {
    "slideshow": {
     "slide_type": "slide"
    }
   },
   "source": [
    "# High Level Interfaces: Parallelizing NumPy and Pandas"
   ]
  },
  {
   "cell_type": "markdown",
   "metadata": {
    "slideshow": {
     "slide_type": "subslide"
    }
   },
   "source": [
    "<img src=\"IMG/numpy.png\"  width=\"10%\">\n",
    "\n",
    "## Dask Arrays: Distributed NumPy\n",
    "\n",
    "* Arithmetic and scalar mathematics: +, *, exp, log, ...\n",
    "* Reductions along axes: sum(), mean(), std(), sum(axis=0), ...\n",
    "* Tensor contractions / dot products / matrix multiply: tensordot\n",
    "* Axis reordering / transpose: transpose\n",
    "* Slicing: x[:100, 500:100:-2]\n",
    "* Fancy indexing along single axes with lists or NumPy arrays: x[:, [10, 1, 5]]\n",
    "* Array protocols like __array__ and __array_ufunc__\n",
    "* Some linear algebra: svd, qr, solve, solve_triangular, lstsq\n",
    "\n",
    "**Full Array API: https://docs.dask.org/en/latest/array-api.html**"
   ]
  },
  {
   "cell_type": "markdown",
   "metadata": {
    "slideshow": {
     "slide_type": "subslide"
    }
   },
   "source": [
    "<img src=\"IMG/numpy.png\"  width=\"10%\">\n",
    "\n",
    "### Limitations\n",
    "\n",
    "* Much of np.linalg has not been implemented. This has been done by a number of excellent BLAS/LAPACK implementations, and is the focus of numerous ongoing academic research projects\n",
    "* Arrays with unknown shapes do not support all operations\n",
    "* Operations like sort which are notoriously difficult to do in parallel, and are of somewhat diminished value on very large data (you rarely actually need a full sort). Often we include parallel-friendly alternatives like topk\n",
    "* Dask Array doesn’t implement operations like tolist that would be very inefficient for larger datasets. Likewise, it is very inefficient to iterate over a Dask array with for loops\n",
    "  \n",
    "**DASK is still evolving ...**"
   ]
  },
  {
   "cell_type": "markdown",
   "metadata": {
    "slideshow": {
     "slide_type": "subslide"
    }
   },
   "source": [
    "## Just get started!"
   ]
  },
  {
   "cell_type": "code",
   "execution_count": 1,
   "metadata": {
    "slideshow": {
     "slide_type": "fragment"
    }
   },
   "outputs": [],
   "source": [
    "#uncomment on first run\n",
    "#!pip install distributed \"dask[complete]\" dask-ml graphviz --ignore-installed"
   ]
  },
  {
   "cell_type": "code",
   "execution_count": 2,
   "metadata": {
    "slideshow": {
     "slide_type": "subslide"
    }
   },
   "outputs": [
    {
     "name": "stdout",
     "output_type": "stream",
     "text": [
      "CPU times: user 88.8 ms, sys: 0 ns, total: 88.8 ms\n",
      "Wall time: 88.8 ms\n"
     ]
    },
    {
     "data": {
      "text/plain": [
       "49996593.40676953"
      ]
     },
     "execution_count": 2,
     "metadata": {},
     "output_type": "execute_result"
    }
   ],
   "source": [
    "#let's parallelize a simple array opperations\n",
    "import numpy as np\n",
    "np_A = np.random.rand(10000,10000) #create random NumPy array\n",
    "%time np_A.sum()"
   ]
  },
  {
   "cell_type": "code",
   "execution_count": 3,
   "metadata": {
    "slideshow": {
     "slide_type": "fragment"
    }
   },
   "outputs": [],
   "source": [
    "#now in parallel \n",
    "import dask.array as da\n",
    "da_A = da.from_array(np_A, chunks=(5000)) #create DASk array from existing NumPy array\n",
    "res = da_A.sum() #tell dask to compute the sum of A"
   ]
  },
  {
   "cell_type": "code",
   "execution_count": 4,
   "metadata": {
    "slideshow": {
     "slide_type": "subslide"
    }
   },
   "outputs": [
    {
     "data": {
      "text/html": [
       "<table>\n",
       "    <tr>\n",
       "        <td>\n",
       "            <table>\n",
       "                <thead>\n",
       "                    <tr>\n",
       "                        <td> </td>\n",
       "                        <th> Array </th>\n",
       "                        <th> Chunk </th>\n",
       "                    </tr>\n",
       "                </thead>\n",
       "                <tbody>\n",
       "                    \n",
       "                    <tr>\n",
       "                        <th> Bytes </th>\n",
       "                        <td> 8 B </td>\n",
       "                        <td> 8.0 B </td>\n",
       "                    </tr>\n",
       "                    \n",
       "                    <tr>\n",
       "                        <th> Shape </th>\n",
       "                        <td> () </td>\n",
       "                        <td> () </td>\n",
       "                    </tr>\n",
       "                    <tr>\n",
       "                        <th> Count </th>\n",
       "                        <td> 9 Tasks </td>\n",
       "                        <td> 1 Chunks </td>\n",
       "                    </tr>\n",
       "                    <tr>\n",
       "                    <th> Type </th>\n",
       "                    <td> float64 </td>\n",
       "                    <td> numpy.ndarray </td>\n",
       "                    </tr>\n",
       "                </tbody>\n",
       "            </table>\n",
       "        </td>\n",
       "        <td>\n",
       "        \n",
       "        </td>\n",
       "    </tr>\n",
       "</table>"
      ],
      "text/plain": [
       "dask.array<sum-aggregate, shape=(), dtype=float64, chunksize=(), chunktype=numpy.ndarray>"
      ]
     },
     "execution_count": 4,
     "metadata": {},
     "output_type": "execute_result"
    }
   ],
   "source": [
    "res"
   ]
  },
  {
   "cell_type": "markdown",
   "metadata": {
    "slideshow": {
     "slide_type": "fragment"
    }
   },
   "source": [
    "### Where is my result?\n",
    "In a nutshell: ***DASK*** basically works like ***TensorFlow***:\n",
    "* First, it builds an execution graph\n",
    "* Then, we need to execute it by calling ``compute()``"
   ]
  },
  {
   "cell_type": "code",
   "execution_count": 5,
   "metadata": {
    "slideshow": {
     "slide_type": "subslide"
    }
   },
   "outputs": [
    {
     "name": "stdout",
     "output_type": "stream",
     "text": [
      "CPU times: user 163 ms, sys: 8.63 ms, total: 172 ms\n",
      "Wall time: 102 ms\n"
     ]
    },
    {
     "data": {
      "text/plain": [
       "49996593.40676935"
      ]
     },
     "execution_count": 5,
     "metadata": {},
     "output_type": "execute_result"
    }
   ],
   "source": [
    "#call compute\n",
    "%time res.compute()"
   ]
  },
  {
   "cell_type": "markdown",
   "metadata": {
    "slideshow": {
     "slide_type": "fragment"
    }
   },
   "source": [
    "### Why is this not faster?\n",
    "Well, building the graph, parallelizing it and scheduling it's execution causes some overhead...\n",
    "* probably, our problem was to small :-)\n"
   ]
  },
  {
   "cell_type": "markdown",
   "metadata": {
    "slideshow": {
     "slide_type": "subslide"
    }
   },
   "source": [
    "### What is happening at ``compute()`` ?\n"
   ]
  },
  {
   "cell_type": "code",
   "execution_count": 6,
   "metadata": {
    "slideshow": {
     "slide_type": "fragment"
    }
   },
   "outputs": [],
   "source": [
    "#have look at the actual compute graph build by DASK\n",
    "_=res.visualize(filename='graph.svg')"
   ]
  },
  {
   "cell_type": "markdown",
   "metadata": {
    "slideshow": {
     "slide_type": "fragment"
    }
   },
   "source": [
    "<img src=\"graph.svg\" width=200>"
   ]
  },
  {
   "cell_type": "markdown",
   "metadata": {
    "slideshow": {
     "slide_type": "subslide"
    }
   },
   "source": [
    "### Ahh - MapReduce!\n",
    "* looks like ***DASK*** automatically implemented MapReduce\n",
    "* but, why did it use 4 parallel paths?\n",
    "\n",
    "<img src=\"graph.svg\" width=150>"
   ]
  },
  {
   "cell_type": "markdown",
   "metadata": {
    "slideshow": {
     "slide_type": "slide"
    }
   },
   "source": [
    "### Block concept of DASK arrays\n",
    "* ***DASK*** splitts arrays into blocks \n",
    "* parallelization (here MapReduce) runs over Blocks\n",
    "* Blocks sizes are definde by the ``chunks`` \n",
    "\n",
    "```\n",
    "#recall array creation\n",
    "da_A = da.from_array(np_A, chunks=(5000))\n",
    "```\n",
    "\n",
    "<img SRC=\"IMG/array.png\">"
   ]
  },
  {
   "cell_type": "code",
   "execution_count": 7,
   "metadata": {
    "slideshow": {
     "slide_type": "subslide"
    }
   },
   "outputs": [
    {
     "data": {
      "text/plain": [
       "((5000, 5000), (5000, 5000))"
      ]
     },
     "execution_count": 7,
     "metadata": {},
     "output_type": "execute_result"
    }
   ],
   "source": [
    "#get size of chucks\n",
    "da_A.chunks"
   ]
  },
  {
   "cell_type": "code",
   "execution_count": 8,
   "metadata": {
    "slideshow": {
     "slide_type": "fragment"
    }
   },
   "outputs": [
    {
     "data": {
      "text/plain": [
       "(5000, 5000)"
      ]
     },
     "execution_count": 8,
     "metadata": {},
     "output_type": "execute_result"
    }
   ],
   "source": [
    "da_A.chunksize"
   ]
  },
  {
   "cell_type": "code",
   "execution_count": 9,
   "metadata": {
    "slideshow": {
     "slide_type": "fragment"
    }
   },
   "outputs": [],
   "source": [
    "#change chunk size\n",
    "#WARNING: can be very expensive - better think about the chunk size before ...\n",
    "B=da_A.rechunk(1000)"
   ]
  },
  {
   "cell_type": "code",
   "execution_count": 10,
   "metadata": {
    "slideshow": {
     "slide_type": "fragment"
    }
   },
   "outputs": [
    {
     "data": {
      "text/plain": [
       "((1000, 1000, 1000, 1000, 1000, 1000, 1000, 1000, 1000, 1000),\n",
       " (1000, 1000, 1000, 1000, 1000, 1000, 1000, 1000, 1000, 1000))"
      ]
     },
     "execution_count": 10,
     "metadata": {},
     "output_type": "execute_result"
    }
   ],
   "source": [
    "B.chunks"
   ]
  },
  {
   "cell_type": "code",
   "execution_count": 11,
   "metadata": {
    "slideshow": {
     "slide_type": "subslide"
    }
   },
   "outputs": [],
   "source": [
    "res=B.sum()\n",
    "graph=res.visualize(filename='graph2.svg')#saving graph to file"
   ]
  },
  {
   "cell_type": "markdown",
   "metadata": {},
   "source": [
    "<img src=\"graph2.svg\" >"
   ]
  },
  {
   "cell_type": "markdown",
   "metadata": {
    "slideshow": {
     "slide_type": "slide"
    }
   },
   "source": [
    "### Is this running in Parallel ?\n",
    "* open ternminal\n",
    "* start ``top``\n",
    "* execute ``compute()``"
   ]
  },
  {
   "cell_type": "code",
   "execution_count": 12,
   "metadata": {
    "slideshow": {
     "slide_type": "fragment"
    }
   },
   "outputs": [
    {
     "name": "stdout",
     "output_type": "stream",
     "text": [
      "267 ms ± 20.5 ms per loop (mean ± std. dev. of 7 runs, 1 loop each)\n"
     ]
    }
   ],
   "source": [
    "%%timeit #measure mean of 10 runs\n",
    "res.compute()"
   ]
  },
  {
   "cell_type": "markdown",
   "metadata": {
    "slideshow": {
     "slide_type": "slide"
    }
   },
   "source": [
    "### Memory Usage\n",
    "By processing each block at a time, ***DASK*** is not only able tu run in parallel, but also needs only tthe memory for the bock size...\n",
    "* allows easy processing of **larger than memory** data sets"
   ]
  },
  {
   "cell_type": "code",
   "execution_count": 13,
   "metadata": {
    "slideshow": {
     "slide_type": "subslide"
    }
   },
   "outputs": [
    {
     "name": "stdout",
     "output_type": "stream",
     "text": [
      "CPU times: user 26 s, sys: 13.3 s, total: 39.3 s\n",
      "Wall time: 40.3 s\n",
      "CPU times: user 414 ms, sys: 4.66 ms, total: 419 ms\n",
      "Wall time: 427 ms\n"
     ]
    }
   ],
   "source": [
    "#a larger example in NumPy\n",
    "%time x = np.random.normal(10, 0.1, size=(20000, 20000)) \n",
    "%time y = x.mean(axis=0) #compute mean along first axis\n"
   ]
  },
  {
   "cell_type": "code",
   "execution_count": 14,
   "metadata": {
    "scrolled": false,
    "slideshow": {
     "slide_type": "subslide"
    }
   },
   "outputs": [
    {
     "name": "stdout",
     "output_type": "stream",
     "text": [
      "CPU times: user 26.3 s, sys: 211 ms, total: 26.5 s\n",
      "Wall time: 10.6 s\n"
     ]
    }
   ],
   "source": [
    "#same in DASK\n",
    "x = da.random.normal(10, 0.1, size=(20000, 20000), chunks=(1000, 1000))\n",
    "y = x.mean(axis=0) \n",
    "%time res=y.compute() "
   ]
  },
  {
   "cell_type": "markdown",
   "metadata": {
    "slideshow": {
     "slide_type": "slide"
    }
   },
   "source": [
    "<img src=\"IMG/pandas_logo.png\"  width=\"20%\">\n",
    "\n",
    "## DASK DataFrames: Dirstributed Pandas\n",
    "Pandas Dataframes are a very popular tool that provide full speadsheet and in-memory database functionality for the ***Python*** ecco system. It has become one of tstandard tools in Data Science and is also widely used for pre-processing / data wrangling tasks in machine learning\n",
    "\n",
    "* the ***DASK*** API for ***Pandas*** is analog to the one for ***NumPy*** and will not be discussed here, see https://docs.dask.org/en/latest/dataframe.html for details."
   ]
  },
  {
   "cell_type": "code",
   "execution_count": 41,
   "metadata": {
    "slideshow": {
     "slide_type": "subslide"
    }
   },
   "outputs": [],
   "source": [
    "# first example\n",
    "import dask.dataframe as dd\n",
    "df = dask.datasets.timeseries()\n"
   ]
  },
  {
   "cell_type": "code",
   "execution_count": 42,
   "metadata": {
    "scrolled": true,
    "slideshow": {
     "slide_type": "fragment"
    }
   },
   "outputs": [
    {
     "data": {
      "text/html": [
       "<div><strong>Dask DataFrame Structure:</strong></div>\n",
       "<div>\n",
       "<style scoped>\n",
       "    .dataframe tbody tr th:only-of-type {\n",
       "        vertical-align: middle;\n",
       "    }\n",
       "\n",
       "    .dataframe tbody tr th {\n",
       "        vertical-align: top;\n",
       "    }\n",
       "\n",
       "    .dataframe thead th {\n",
       "        text-align: right;\n",
       "    }\n",
       "</style>\n",
       "<table border=\"1\" class=\"dataframe\">\n",
       "  <thead>\n",
       "    <tr style=\"text-align: right;\">\n",
       "      <th></th>\n",
       "      <th>id</th>\n",
       "      <th>name</th>\n",
       "      <th>x</th>\n",
       "      <th>y</th>\n",
       "    </tr>\n",
       "    <tr>\n",
       "      <th>npartitions=30</th>\n",
       "      <th></th>\n",
       "      <th></th>\n",
       "      <th></th>\n",
       "      <th></th>\n",
       "    </tr>\n",
       "  </thead>\n",
       "  <tbody>\n",
       "    <tr>\n",
       "      <th>2000-01-01</th>\n",
       "      <td>int64</td>\n",
       "      <td>object</td>\n",
       "      <td>float64</td>\n",
       "      <td>float64</td>\n",
       "    </tr>\n",
       "    <tr>\n",
       "      <th>2000-01-02</th>\n",
       "      <td>...</td>\n",
       "      <td>...</td>\n",
       "      <td>...</td>\n",
       "      <td>...</td>\n",
       "    </tr>\n",
       "    <tr>\n",
       "      <th>...</th>\n",
       "      <td>...</td>\n",
       "      <td>...</td>\n",
       "      <td>...</td>\n",
       "      <td>...</td>\n",
       "    </tr>\n",
       "    <tr>\n",
       "      <th>2000-01-30</th>\n",
       "      <td>...</td>\n",
       "      <td>...</td>\n",
       "      <td>...</td>\n",
       "      <td>...</td>\n",
       "    </tr>\n",
       "    <tr>\n",
       "      <th>2000-01-31</th>\n",
       "      <td>...</td>\n",
       "      <td>...</td>\n",
       "      <td>...</td>\n",
       "      <td>...</td>\n",
       "    </tr>\n",
       "  </tbody>\n",
       "</table>\n",
       "</div>\n",
       "<div>Dask Name: make-timeseries, 30 tasks</div>"
      ],
      "text/plain": [
       "Dask DataFrame Structure:\n",
       "                   id    name        x        y\n",
       "npartitions=30                                 \n",
       "2000-01-01      int64  object  float64  float64\n",
       "2000-01-02        ...     ...      ...      ...\n",
       "...               ...     ...      ...      ...\n",
       "2000-01-30        ...     ...      ...      ...\n",
       "2000-01-31        ...     ...      ...      ...\n",
       "Dask Name: make-timeseries, 30 tasks"
      ]
     },
     "execution_count": 42,
     "metadata": {},
     "output_type": "execute_result"
    }
   ],
   "source": [
    "df"
   ]
  },
  {
   "cell_type": "markdown",
   "metadata": {
    "slideshow": {
     "slide_type": "fragment"
    }
   },
   "source": [
    "Recall: ***lazy*** execution! No data in dataframe at this time..."
   ]
  },
  {
   "cell_type": "code",
   "execution_count": 45,
   "metadata": {
    "slideshow": {
     "slide_type": "subslide"
    }
   },
   "outputs": [
    {
     "data": {
      "text/html": [
       "<div>\n",
       "<style scoped>\n",
       "    .dataframe tbody tr th:only-of-type {\n",
       "        vertical-align: middle;\n",
       "    }\n",
       "\n",
       "    .dataframe tbody tr th {\n",
       "        vertical-align: top;\n",
       "    }\n",
       "\n",
       "    .dataframe thead th {\n",
       "        text-align: right;\n",
       "    }\n",
       "</style>\n",
       "<table border=\"1\" class=\"dataframe\">\n",
       "  <thead>\n",
       "    <tr style=\"text-align: right;\">\n",
       "      <th></th>\n",
       "      <th>id</th>\n",
       "      <th>name</th>\n",
       "      <th>x</th>\n",
       "      <th>y</th>\n",
       "    </tr>\n",
       "    <tr>\n",
       "      <th>timestamp</th>\n",
       "      <th></th>\n",
       "      <th></th>\n",
       "      <th></th>\n",
       "      <th></th>\n",
       "    </tr>\n",
       "  </thead>\n",
       "  <tbody>\n",
       "    <tr>\n",
       "      <th>2000-01-01 00:00:00</th>\n",
       "      <td>1001</td>\n",
       "      <td>Sarah</td>\n",
       "      <td>-0.985966</td>\n",
       "      <td>-0.566879</td>\n",
       "    </tr>\n",
       "    <tr>\n",
       "      <th>2000-01-01 00:00:01</th>\n",
       "      <td>1021</td>\n",
       "      <td>Dan</td>\n",
       "      <td>0.701563</td>\n",
       "      <td>-0.639955</td>\n",
       "    </tr>\n",
       "    <tr>\n",
       "      <th>2000-01-01 00:00:02</th>\n",
       "      <td>1014</td>\n",
       "      <td>Quinn</td>\n",
       "      <td>-0.330922</td>\n",
       "      <td>0.147427</td>\n",
       "    </tr>\n",
       "    <tr>\n",
       "      <th>2000-01-01 00:00:03</th>\n",
       "      <td>1006</td>\n",
       "      <td>Dan</td>\n",
       "      <td>-0.731417</td>\n",
       "      <td>0.332534</td>\n",
       "    </tr>\n",
       "    <tr>\n",
       "      <th>2000-01-01 00:00:04</th>\n",
       "      <td>964</td>\n",
       "      <td>Sarah</td>\n",
       "      <td>-0.555272</td>\n",
       "      <td>-0.016468</td>\n",
       "    </tr>\n",
       "  </tbody>\n",
       "</table>\n",
       "</div>"
      ],
      "text/plain": [
       "                       id   name         x         y\n",
       "timestamp                                           \n",
       "2000-01-01 00:00:00  1001  Sarah -0.985966 -0.566879\n",
       "2000-01-01 00:00:01  1021    Dan  0.701563 -0.639955\n",
       "2000-01-01 00:00:02  1014  Quinn -0.330922  0.147427\n",
       "2000-01-01 00:00:03  1006    Dan -0.731417  0.332534\n",
       "2000-01-01 00:00:04   964  Sarah -0.555272 -0.016468"
      ]
     },
     "execution_count": 45,
     "metadata": {},
     "output_type": "execute_result"
    }
   ],
   "source": [
    "#this is a call\n",
    "df.head()"
   ]
  },
  {
   "cell_type": "code",
   "execution_count": 43,
   "metadata": {
    "scrolled": true,
    "slideshow": {
     "slide_type": "subslide"
    }
   },
   "outputs": [
    {
     "data": {
      "text/plain": [
       "Dask Series Structure:\n",
       "npartitions=1\n",
       "    float64\n",
       "        ...\n",
       "Name: x, dtype: float64\n",
       "Dask Name: sqrt, 157 tasks"
      ]
     },
     "execution_count": 43,
     "metadata": {},
     "output_type": "execute_result"
    }
   ],
   "source": [
    "#let's groupBy ...\n",
    "df2 = df[df.y > 0]\n",
    "df3 = df2.groupby('name').x.std()\n",
    "df3"
   ]
  },
  {
   "cell_type": "code",
   "execution_count": 44,
   "metadata": {
    "scrolled": true,
    "slideshow": {
     "slide_type": "subslide"
    }
   },
   "outputs": [
    {
     "data": {
      "text/plain": [
       "name\n",
       "Alice       0.576884\n",
       "Bob         0.577391\n",
       "Charlie     0.578069\n",
       "Dan         0.576045\n",
       "Edith       0.578685\n",
       "Frank       0.579715\n",
       "George      0.576579\n",
       "Hannah      0.577654\n",
       "Ingrid      0.578126\n",
       "Jerry       0.577461\n",
       "Kevin       0.578194\n",
       "Laura       0.579023\n",
       "Michael     0.578164\n",
       "Norbert     0.575293\n",
       "Oliver      0.578035\n",
       "Patricia    0.576785\n",
       "Quinn       0.575523\n",
       "Ray         0.577451\n",
       "Sarah       0.578069\n",
       "Tim         0.576530\n",
       "Ursula      0.577237\n",
       "Victor      0.579260\n",
       "Wendy       0.578360\n",
       "Xavier      0.578961\n",
       "Yvonne      0.575157\n",
       "Zelda       0.577168\n",
       "Name: x, dtype: float64"
      ]
     },
     "execution_count": 44,
     "metadata": {},
     "output_type": "execute_result"
    }
   ],
   "source": [
    "df3.compute()\n"
   ]
  },
  {
   "cell_type": "code",
   "execution_count": 48,
   "metadata": {
    "scrolled": true,
    "slideshow": {
     "slide_type": "subslide"
    }
   },
   "outputs": [
    {
     "data": {
      "text/html": [
       "<div>\n",
       "<style scoped>\n",
       "    .dataframe tbody tr th:only-of-type {\n",
       "        vertical-align: middle;\n",
       "    }\n",
       "\n",
       "    .dataframe tbody tr th {\n",
       "        vertical-align: top;\n",
       "    }\n",
       "\n",
       "    .dataframe thead th {\n",
       "        text-align: right;\n",
       "    }\n",
       "</style>\n",
       "<table border=\"1\" class=\"dataframe\">\n",
       "  <thead>\n",
       "    <tr style=\"text-align: right;\">\n",
       "      <th></th>\n",
       "      <th>x</th>\n",
       "      <th>y</th>\n",
       "    </tr>\n",
       "    <tr>\n",
       "      <th>timestamp</th>\n",
       "      <th></th>\n",
       "      <th></th>\n",
       "    </tr>\n",
       "  </thead>\n",
       "  <tbody>\n",
       "    <tr>\n",
       "      <th>2000-01-01 00:00:00</th>\n",
       "      <td>0.002997</td>\n",
       "      <td>0.014281</td>\n",
       "    </tr>\n",
       "    <tr>\n",
       "      <th>2000-01-01 01:00:00</th>\n",
       "      <td>0.002856</td>\n",
       "      <td>-0.000630</td>\n",
       "    </tr>\n",
       "    <tr>\n",
       "      <th>2000-01-01 02:00:00</th>\n",
       "      <td>0.002180</td>\n",
       "      <td>-0.011741</td>\n",
       "    </tr>\n",
       "    <tr>\n",
       "      <th>2000-01-01 03:00:00</th>\n",
       "      <td>0.013842</td>\n",
       "      <td>0.008892</td>\n",
       "    </tr>\n",
       "    <tr>\n",
       "      <th>2000-01-01 04:00:00</th>\n",
       "      <td>-0.009863</td>\n",
       "      <td>0.000174</td>\n",
       "    </tr>\n",
       "  </tbody>\n",
       "</table>\n",
       "</div>"
      ],
      "text/plain": [
       "                            x         y\n",
       "timestamp                              \n",
       "2000-01-01 00:00:00  0.002997  0.014281\n",
       "2000-01-01 01:00:00  0.002856 -0.000630\n",
       "2000-01-01 02:00:00  0.002180 -0.011741\n",
       "2000-01-01 03:00:00  0.013842  0.008892\n",
       "2000-01-01 04:00:00 -0.009863  0.000174"
      ]
     },
     "execution_count": 48,
     "metadata": {},
     "output_type": "execute_result"
    }
   ],
   "source": [
    "#more complex opperation -> need trigger to start computation!\n",
    "df[['x', 'y']].resample('1h').mean().head()"
   ]
  },
  {
   "cell_type": "code",
   "execution_count": 49,
   "metadata": {
    "scrolled": true,
    "slideshow": {
     "slide_type": "subslide"
    }
   },
   "outputs": [
    {
     "data": {
      "text/plain": [
       "<matplotlib.axes._subplots.AxesSubplot at 0x7f05a64a1850>"
      ]
     },
     "execution_count": 49,
     "metadata": {},
     "output_type": "execute_result"
    },
    {
     "data": {
      "image/png": "[encoded data removed]",
      "text/plain": [
       "<Figure size 432x288 with 1 Axes>"
      ]
     },
     "metadata": {
      "needs_background": "light"
     },
     "output_type": "display_data"
    }
   ],
   "source": [
    "df[['x', 'y']].resample('24h').mean().compute().plot()"
   ]
  },
  {
   "cell_type": "markdown",
   "metadata": {
    "slideshow": {
     "slide_type": "subslide"
    }
   },
   "source": [
    "### DASK DataFrame summary\n",
    "* almost identical API as Pandas -> some thigs are still missing!\n",
    "* out of memory opperations\n",
    "* lazy execution -> need to trigger results via *atomic* opperations (just like in Spark)\n"
   ]
  },
  {
   "cell_type": "markdown",
   "metadata": {
    "slideshow": {
     "slide_type": "slide"
    }
   },
   "source": [
    "# Distributed Execution"
   ]
  },
  {
   "cell_type": "code",
   "execution_count": 15,
   "metadata": {
    "slideshow": {
     "slide_type": "fragment"
    }
   },
   "outputs": [],
   "source": [
    "#create local cluster with CPU Cores\n",
    "from dask.distributed import Client, LocalCluster\n",
    "cluster = LocalCluster()\n",
    "client = Client(cluster)"
   ]
  },
  {
   "cell_type": "markdown",
   "metadata": {
    "slideshow": {
     "slide_type": "fragment"
    }
   },
   "source": [
    "In our cluster enviroment, the ***DASK*** Cluster is automatically started for multi node jobs. See DASK documentation on how to setup a ***DASK*** cluster: http://distributed.dask.org/en/latest/setup.html"
   ]
  },
  {
   "cell_type": "code",
   "execution_count": 16,
   "metadata": {
    "slideshow": {
     "slide_type": "-"
    }
   },
   "outputs": [],
   "source": [
    "#client = Client(MASTER-IP) #get new DASK cluster client"
   ]
  },
  {
   "cell_type": "code",
   "execution_count": 40,
   "metadata": {
    "slideshow": {
     "slide_type": "subslide"
    }
   },
   "outputs": [
    {
     "data": {
      "text/html": [
       "<div>\n",
       "    <div style=\"width: 24px; height: 24px; background-color: #e1e1e1; border: 3px solid #9D9D9D; border-radius: 5px; position: absolute;\"> </div>\n",
       "    <div style=\"margin-left: 48px;\">\n",
       "        <h3 style=\"margin-bottom: 0px;\">Client</h3>\n",
       "        <p style=\"color: #9D9D9D; margin-bottom: 0px;\">Client-3ea4aecc-cbdd-11ec-a8b7-27d8e2cf1590</p>\n",
       "        <table style=\"width: 100%; text-align: left;\">\n",
       "\n",
       "        <tr>\n",
       "        \n",
       "            <td style=\"text-align: left;\"><strong>Connection method:</strong> Cluster object</td>\n",
       "            <td style=\"text-align: left;\"><strong>Cluster type:</strong> distributed.LocalCluster</td>\n",
       "        \n",
       "        </tr>\n",
       "\n",
       "        \n",
       "            <tr>\n",
       "                <td style=\"text-align: left;\">\n",
       "                    <strong>Dashboard: </strong> <a href=\"http://127.0.0.1:8787/status\" target=\"_blank\">http://127.0.0.1:8787/status</a>\n",
       "                </td>\n",
       "                <td style=\"text-align: left;\"></td>\n",
       "            </tr>\n",
       "        \n",
       "\n",
       "        </table>\n",
       "\n",
       "        \n",
       "            <details>\n",
       "            <summary style=\"margin-bottom: 20px;\"><h3 style=\"display: inline;\">Cluster Info</h3></summary>\n",
       "            <div class=\"jp-RenderedHTMLCommon jp-RenderedHTML jp-mod-trusted jp-OutputArea-output\">\n",
       "    <div style=\"width: 24px; height: 24px; background-color: #e1e1e1; border: 3px solid #9D9D9D; border-radius: 5px; position: absolute;\">\n",
       "    </div>\n",
       "    <div style=\"margin-left: 48px;\">\n",
       "        <h3 style=\"margin-bottom: 0px; margin-top: 0px;\">LocalCluster</h3>\n",
       "        <p style=\"color: #9D9D9D; margin-bottom: 0px;\">9f8e4283</p>\n",
       "        <table style=\"width: 100%; text-align: left;\">\n",
       "            <tr>\n",
       "                <td style=\"text-align: left;\">\n",
       "                    <strong>Dashboard:</strong> <a href=\"http://127.0.0.1:8787/status\" target=\"_blank\">http://127.0.0.1:8787/status</a>\n",
       "                </td>\n",
       "                <td style=\"text-align: left;\">\n",
       "                    <strong>Workers:</strong> 4\n",
       "                </td>\n",
       "            </tr>\n",
       "            <tr>\n",
       "                <td style=\"text-align: left;\">\n",
       "                    <strong>Total threads:</strong> 4\n",
       "                </td>\n",
       "                <td style=\"text-align: left;\">\n",
       "                    <strong>Total memory:</strong> 15.43 GiB\n",
       "                </td>\n",
       "            </tr>\n",
       "            \n",
       "            <tr>\n",
       "    <td style=\"text-align: left;\"><strong>Status:</strong> running</td>\n",
       "    <td style=\"text-align: left;\"><strong>Using processes:</strong> True</td>\n",
       "</tr>\n",
       "\n",
       "            \n",
       "        </table>\n",
       "\n",
       "        <details>\n",
       "            <summary style=\"margin-bottom: 20px;\">\n",
       "                <h3 style=\"display: inline;\">Scheduler Info</h3>\n",
       "            </summary>\n",
       "\n",
       "            <div style=\"\">\n",
       "    <div>\n",
       "        <div style=\"width: 24px; height: 24px; background-color: #FFF7E5; border: 3px solid #FF6132; border-radius: 5px; position: absolute;\"> </div>\n",
       "        <div style=\"margin-left: 48px;\">\n",
       "            <h3 style=\"margin-bottom: 0px;\">Scheduler</h3>\n",
       "            <p style=\"color: #9D9D9D; margin-bottom: 0px;\">Scheduler-50651a6f-64e7-4be6-ad23-cea41a0b80a5</p>\n",
       "            <table style=\"width: 100%; text-align: left;\">\n",
       "                <tr>\n",
       "                    <td style=\"text-align: left;\">\n",
       "                        <strong>Comm:</strong> tcp://127.0.0.1:33817\n",
       "                    </td>\n",
       "                    <td style=\"text-align: left;\">\n",
       "                        <strong>Workers:</strong> 4\n",
       "                    </td>\n",
       "                </tr>\n",
       "                <tr>\n",
       "                    <td style=\"text-align: left;\">\n",
       "                        <strong>Dashboard:</strong> <a href=\"http://127.0.0.1:8787/status\" target=\"_blank\">http://127.0.0.1:8787/status</a>\n",
       "                    </td>\n",
       "                    <td style=\"text-align: left;\">\n",
       "                        <strong>Total threads:</strong> 4\n",
       "                    </td>\n",
       "                </tr>\n",
       "                <tr>\n",
       "                    <td style=\"text-align: left;\">\n",
       "                        <strong>Started:</strong> 19 minutes ago\n",
       "                    </td>\n",
       "                    <td style=\"text-align: left;\">\n",
       "                        <strong>Total memory:</strong> 15.43 GiB\n",
       "                    </td>\n",
       "                </tr>\n",
       "            </table>\n",
       "        </div>\n",
       "    </div>\n",
       "\n",
       "    <details style=\"margin-left: 48px;\">\n",
       "        <summary style=\"margin-bottom: 20px;\">\n",
       "            <h3 style=\"display: inline;\">Workers</h3>\n",
       "        </summary>\n",
       "\n",
       "        \n",
       "        <div style=\"margin-bottom: 20px;\">\n",
       "            <div style=\"width: 24px; height: 24px; background-color: #DBF5FF; border: 3px solid #4CC9FF; border-radius: 5px; position: absolute;\"> </div>\n",
       "            <div style=\"margin-left: 48px;\">\n",
       "            <details>\n",
       "                <summary>\n",
       "                    <h4 style=\"margin-bottom: 0px; display: inline;\">Worker: 0</h4>\n",
       "                </summary>\n",
       "                <table style=\"width: 100%; text-align: left;\">\n",
       "                    <tr>\n",
       "                        <td style=\"text-align: left;\">\n",
       "                            <strong>Comm: </strong> tcp://127.0.0.1:43465\n",
       "                        </td>\n",
       "                        <td style=\"text-align: left;\">\n",
       "                            <strong>Total threads: </strong> 1\n",
       "                        </td>\n",
       "                    </tr>\n",
       "                    <tr>\n",
       "                        <td style=\"text-align: left;\">\n",
       "                            <strong>Dashboard: </strong> <a href=\"http://127.0.0.1:37627/status\" target=\"_blank\">http://127.0.0.1:37627/status</a>\n",
       "                        </td>\n",
       "                        <td style=\"text-align: left;\">\n",
       "                            <strong>Memory: </strong> 3.86 GiB\n",
       "                        </td>\n",
       "                    </tr>\n",
       "                    <tr>\n",
       "                        <td style=\"text-align: left;\">\n",
       "                            <strong>Nanny: </strong> tcp://127.0.0.1:33659\n",
       "                        </td>\n",
       "                        <td style=\"text-align: left;\"></td>\n",
       "                    </tr>\n",
       "                    <tr>\n",
       "                        <td colspan=\"2\" style=\"text-align: left;\">\n",
       "                            <strong>Local directory: </strong> /home/keuper/Vorlesung/SS_22/DataEngeneering/DataEngineering22/week_8/dask-worker-space/worker-_1k75p3y\n",
       "                        </td>\n",
       "                    </tr>\n",
       "\n",
       "                    \n",
       "\n",
       "                    \n",
       "\n",
       "                </table>\n",
       "            </details>\n",
       "            </div>\n",
       "        </div>\n",
       "        \n",
       "        <div style=\"margin-bottom: 20px;\">\n",
       "            <div style=\"width: 24px; height: 24px; background-color: #DBF5FF; border: 3px solid #4CC9FF; border-radius: 5px; position: absolute;\"> </div>\n",
       "            <div style=\"margin-left: 48px;\">\n",
       "            <details>\n",
       "                <summary>\n",
       "                    <h4 style=\"margin-bottom: 0px; display: inline;\">Worker: 1</h4>\n",
       "                </summary>\n",
       "                <table style=\"width: 100%; text-align: left;\">\n",
       "                    <tr>\n",
       "                        <td style=\"text-align: left;\">\n",
       "                            <strong>Comm: </strong> tcp://127.0.0.1:46025\n",
       "                        </td>\n",
       "                        <td style=\"text-align: left;\">\n",
       "                            <strong>Total threads: </strong> 1\n",
       "                        </td>\n",
       "                    </tr>\n",
       "                    <tr>\n",
       "                        <td style=\"text-align: left;\">\n",
       "                            <strong>Dashboard: </strong> <a href=\"http://127.0.0.1:33693/status\" target=\"_blank\">http://127.0.0.1:33693/status</a>\n",
       "                        </td>\n",
       "                        <td style=\"text-align: left;\">\n",
       "                            <strong>Memory: </strong> 3.86 GiB\n",
       "                        </td>\n",
       "                    </tr>\n",
       "                    <tr>\n",
       "                        <td style=\"text-align: left;\">\n",
       "                            <strong>Nanny: </strong> tcp://127.0.0.1:42315\n",
       "                        </td>\n",
       "                        <td style=\"text-align: left;\"></td>\n",
       "                    </tr>\n",
       "                    <tr>\n",
       "                        <td colspan=\"2\" style=\"text-align: left;\">\n",
       "                            <strong>Local directory: </strong> /home/keuper/Vorlesung/SS_22/DataEngeneering/DataEngineering22/week_8/dask-worker-space/worker-dmpe85r9\n",
       "                        </td>\n",
       "                    </tr>\n",
       "\n",
       "                    \n",
       "\n",
       "                    \n",
       "\n",
       "                </table>\n",
       "            </details>\n",
       "            </div>\n",
       "        </div>\n",
       "        \n",
       "        <div style=\"margin-bottom: 20px;\">\n",
       "            <div style=\"width: 24px; height: 24px; background-color: #DBF5FF; border: 3px solid #4CC9FF; border-radius: 5px; position: absolute;\"> </div>\n",
       "            <div style=\"margin-left: 48px;\">\n",
       "            <details>\n",
       "                <summary>\n",
       "                    <h4 style=\"margin-bottom: 0px; display: inline;\">Worker: 2</h4>\n",
       "                </summary>\n",
       "                <table style=\"width: 100%; text-align: left;\">\n",
       "                    <tr>\n",
       "                        <td style=\"text-align: left;\">\n",
       "                            <strong>Comm: </strong> tcp://127.0.0.1:33997\n",
       "                        </td>\n",
       "                        <td style=\"text-align: left;\">\n",
       "                            <strong>Total threads: </strong> 1\n",
       "                        </td>\n",
       "                    </tr>\n",
       "                    <tr>\n",
       "                        <td style=\"text-align: left;\">\n",
       "                            <strong>Dashboard: </strong> <a href=\"http://127.0.0.1:32773/status\" target=\"_blank\">http://127.0.0.1:32773/status</a>\n",
       "                        </td>\n",
       "                        <td style=\"text-align: left;\">\n",
       "                            <strong>Memory: </strong> 3.86 GiB\n",
       "                        </td>\n",
       "                    </tr>\n",
       "                    <tr>\n",
       "                        <td style=\"text-align: left;\">\n",
       "                            <strong>Nanny: </strong> tcp://127.0.0.1:41243\n",
       "                        </td>\n",
       "                        <td style=\"text-align: left;\"></td>\n",
       "                    </tr>\n",
       "                    <tr>\n",
       "                        <td colspan=\"2\" style=\"text-align: left;\">\n",
       "                            <strong>Local directory: </strong> /home/keuper/Vorlesung/SS_22/DataEngeneering/DataEngineering22/week_8/dask-worker-space/worker-kw_y0p3u\n",
       "                        </td>\n",
       "                    </tr>\n",
       "\n",
       "                    \n",
       "\n",
       "                    \n",
       "\n",
       "                </table>\n",
       "            </details>\n",
       "            </div>\n",
       "        </div>\n",
       "        \n",
       "        <div style=\"margin-bottom: 20px;\">\n",
       "            <div style=\"width: 24px; height: 24px; background-color: #DBF5FF; border: 3px solid #4CC9FF; border-radius: 5px; position: absolute;\"> </div>\n",
       "            <div style=\"margin-left: 48px;\">\n",
       "            <details>\n",
       "                <summary>\n",
       "                    <h4 style=\"margin-bottom: 0px; display: inline;\">Worker: 3</h4>\n",
       "                </summary>\n",
       "                <table style=\"width: 100%; text-align: left;\">\n",
       "                    <tr>\n",
       "                        <td style=\"text-align: left;\">\n",
       "                            <strong>Comm: </strong> tcp://127.0.0.1:43103\n",
       "                        </td>\n",
       "                        <td style=\"text-align: left;\">\n",
       "                            <strong>Total threads: </strong> 1\n",
       "                        </td>\n",
       "                    </tr>\n",
       "                    <tr>\n",
       "                        <td style=\"text-align: left;\">\n",
       "                            <strong>Dashboard: </strong> <a href=\"http://127.0.0.1:34895/status\" target=\"_blank\">http://127.0.0.1:34895/status</a>\n",
       "                        </td>\n",
       "                        <td style=\"text-align: left;\">\n",
       "                            <strong>Memory: </strong> 3.86 GiB\n",
       "                        </td>\n",
       "                    </tr>\n",
       "                    <tr>\n",
       "                        <td style=\"text-align: left;\">\n",
       "                            <strong>Nanny: </strong> tcp://127.0.0.1:35173\n",
       "                        </td>\n",
       "                        <td style=\"text-align: left;\"></td>\n",
       "                    </tr>\n",
       "                    <tr>\n",
       "                        <td colspan=\"2\" style=\"text-align: left;\">\n",
       "                            <strong>Local directory: </strong> /home/keuper/Vorlesung/SS_22/DataEngeneering/DataEngineering22/week_8/dask-worker-space/worker-y_p0xnss\n",
       "                        </td>\n",
       "                    </tr>\n",
       "\n",
       "                    \n",
       "\n",
       "                    \n",
       "\n",
       "                </table>\n",
       "            </details>\n",
       "            </div>\n",
       "        </div>\n",
       "        \n",
       "\n",
       "    </details>\n",
       "</div>\n",
       "\n",
       "        </details>\n",
       "    </div>\n",
       "</div>\n",
       "            </details>\n",
       "        \n",
       "\n",
       "    </div>\n",
       "</div>"
      ],
      "text/plain": [
       "<Client: 'tcp://127.0.0.1:33817' processes=4 threads=4, memory=15.43 GiB>"
      ]
     },
     "execution_count": 40,
     "metadata": {},
     "output_type": "execute_result"
    }
   ],
   "source": [
    "client"
   ]
  },
  {
   "cell_type": "code",
   "execution_count": 17,
   "metadata": {
    "slideshow": {
     "slide_type": "subslide"
    }
   },
   "outputs": [
    {
     "name": "stdout",
     "output_type": "stream",
     "text": [
      "tcp://127.0.0.1:33997\n",
      "tcp://127.0.0.1:43103\n",
      "tcp://127.0.0.1:43465\n",
      "tcp://127.0.0.1:46025\n"
     ]
    }
   ],
   "source": [
    "#see how many workers we have\n",
    "workers=client.scheduler_info()['workers']\n",
    "for w in workers:\n",
    "    print(w)"
   ]
  },
  {
   "cell_type": "markdown",
   "metadata": {
    "slideshow": {
     "slide_type": "subslide"
    }
   },
   "source": [
    "## Submit work to the Cluster"
   ]
  },
  {
   "cell_type": "code",
   "execution_count": 18,
   "metadata": {
    "slideshow": {
     "slide_type": "-"
    }
   },
   "outputs": [],
   "source": [
    "#simple remote functions\n",
    "def square(x):\n",
    "    return x ** 2\n",
    "\n",
    "def neg(x):\n",
    "    return -x\n",
    "\n",
    "#using the map future, functions will be scheduled for execution - NO graph building and compute()\n",
    "A = client.map(square, range(1000))\n",
    "B = client.map(neg, A)"
   ]
  },
  {
   "cell_type": "code",
   "execution_count": 19,
   "metadata": {
    "slideshow": {
     "slide_type": "subslide"
    }
   },
   "outputs": [],
   "source": [
    "total = client.submit(sum, B)"
   ]
  },
  {
   "cell_type": "code",
   "execution_count": 20,
   "metadata": {
    "slideshow": {
     "slide_type": "fragment"
    }
   },
   "outputs": [
    {
     "name": "stdout",
     "output_type": "stream",
     "text": [
      "done:  -332833500\n"
     ]
    }
   ],
   "source": [
    "\n",
    "res = total.result()\n",
    "print (\"done: \",res)"
   ]
  },
  {
   "cell_type": "markdown",
   "metadata": {
    "slideshow": {
     "slide_type": "slide"
    }
   },
   "source": [
    "### Arrays on the Cluster\n",
    "Starting a cluster client automatically cause the high level interfaces to use the cluster"
   ]
  },
  {
   "cell_type": "code",
   "execution_count": 21,
   "metadata": {
    "slideshow": {
     "slide_type": "fragment"
    }
   },
   "outputs": [],
   "source": [
    "import numpy as np\n",
    "np_A = np.random.rand(10000,10000) #create random NumPy array\n",
    "import dask.array as da\n",
    "cluster_A = da.from_array(np_A, chunks=(5000)) #create DASk array from existing NumPy array\n",
    "res = cluster_A.sum() #tell dask to compute the sum of A"
   ]
  },
  {
   "cell_type": "code",
   "execution_count": 22,
   "metadata": {
    "slideshow": {
     "slide_type": "fragment"
    }
   },
   "outputs": [
    {
     "name": "stdout",
     "output_type": "stream",
     "text": [
      "CPU times: user 521 ms, sys: 1.08 s, total: 1.6 s\n",
      "Wall time: 2.45 s\n"
     ]
    },
    {
     "data": {
      "text/plain": [
       "49995122.653645486"
      ]
     },
     "execution_count": 22,
     "metadata": {},
     "output_type": "execute_result"
    }
   ],
   "source": [
    "\n",
    "%time res.compute()"
   ]
  },
  {
   "cell_type": "markdown",
   "metadata": {
    "slideshow": {
     "slide_type": "slide"
    }
   },
   "source": [
    "## Dask Dashboard\n",
    "\n",
    "* Open http://localhost:8787/status to get the Dask dashboard \n",
    "* (replace with master node IP for remote clusters)"
   ]
  },
  {
   "cell_type": "markdown",
   "metadata": {
    "slideshow": {
     "slide_type": "slide"
    }
   },
   "source": [
    "## ***DASK-ML*** Project\n",
    "Approach to make ***DASK*** a full distributed ML framework\n",
    "* https://ml.dask.org/\n",
    "* Scikit-Learn like API: https://ml.dask.org/modules/api.html"
   ]
  },
  {
   "cell_type": "markdown",
   "metadata": {
    "slideshow": {
     "slide_type": "subslide"
    }
   },
   "source": [
    "### Example: K-MEANS"
   ]
  },
  {
   "cell_type": "code",
   "execution_count": 23,
   "metadata": {
    "slideshow": {
     "slide_type": "-"
    }
   },
   "outputs": [],
   "source": [
    "%matplotlib inline\n",
    "\n",
    "import dask_ml.datasets\n",
    "import dask_ml.cluster\n",
    "import matplotlib.pyplot as plt\n",
    "\n"
   ]
  },
  {
   "cell_type": "code",
   "execution_count": 24,
   "metadata": {
    "slideshow": {
     "slide_type": "subslide"
    }
   },
   "outputs": [
    {
     "data": {
      "text/html": [
       "<table>\n",
       "    <tr>\n",
       "        <td>\n",
       "            <table>\n",
       "                <thead>\n",
       "                    <tr>\n",
       "                        <td> </td>\n",
       "                        <th> Array </th>\n",
       "                        <th> Chunk </th>\n",
       "                    </tr>\n",
       "                </thead>\n",
       "                <tbody>\n",
       "                    \n",
       "                    <tr>\n",
       "                        <th> Bytes </th>\n",
       "                        <td> 15.26 MiB </td>\n",
       "                        <td> 1.53 MiB </td>\n",
       "                    </tr>\n",
       "                    \n",
       "                    <tr>\n",
       "                        <th> Shape </th>\n",
       "                        <td> (1000000, 2) </td>\n",
       "                        <td> (100000, 2) </td>\n",
       "                    </tr>\n",
       "                    <tr>\n",
       "                        <th> Count </th>\n",
       "                        <td> 10 Tasks </td>\n",
       "                        <td> 10 Chunks </td>\n",
       "                    </tr>\n",
       "                    <tr>\n",
       "                    <th> Type </th>\n",
       "                    <td> float64 </td>\n",
       "                    <td> numpy.ndarray </td>\n",
       "                    </tr>\n",
       "                </tbody>\n",
       "            </table>\n",
       "        </td>\n",
       "        <td>\n",
       "        <svg width=\"75\" height=\"170\" style=\"stroke:rgb(0,0,0);stroke-width:1\" >\n",
       "\n",
       "  <!-- Horizontal lines -->\n",
       "  <line x1=\"0\" y1=\"0\" x2=\"25\" y2=\"0\" style=\"stroke-width:2\" />\n",
       "  <line x1=\"0\" y1=\"12\" x2=\"25\" y2=\"12\" />\n",
       "  <line x1=\"0\" y1=\"24\" x2=\"25\" y2=\"24\" />\n",
       "  <line x1=\"0\" y1=\"36\" x2=\"25\" y2=\"36\" />\n",
       "  <line x1=\"0\" y1=\"48\" x2=\"25\" y2=\"48\" />\n",
       "  <line x1=\"0\" y1=\"60\" x2=\"25\" y2=\"60\" />\n",
       "  <line x1=\"0\" y1=\"72\" x2=\"25\" y2=\"72\" />\n",
       "  <line x1=\"0\" y1=\"84\" x2=\"25\" y2=\"84\" />\n",
       "  <line x1=\"0\" y1=\"96\" x2=\"25\" y2=\"96\" />\n",
       "  <line x1=\"0\" y1=\"108\" x2=\"25\" y2=\"108\" />\n",
       "  <line x1=\"0\" y1=\"120\" x2=\"25\" y2=\"120\" style=\"stroke-width:2\" />\n",
       "\n",
       "  <!-- Vertical lines -->\n",
       "  <line x1=\"0\" y1=\"0\" x2=\"0\" y2=\"120\" style=\"stroke-width:2\" />\n",
       "  <line x1=\"25\" y1=\"0\" x2=\"25\" y2=\"120\" style=\"stroke-width:2\" />\n",
       "\n",
       "  <!-- Colored Rectangle -->\n",
       "  <polygon points=\"0.0,0.0 25.412616514582485,0.0 25.412616514582485,120.0 0.0,120.0\" style=\"fill:#ECB172A0;stroke-width:0\"/>\n",
       "\n",
       "  <!-- Text -->\n",
       "  <text x=\"12.706308\" y=\"140.000000\" font-size=\"1.0rem\" font-weight=\"100\" text-anchor=\"middle\" >2</text>\n",
       "  <text x=\"45.412617\" y=\"60.000000\" font-size=\"1.0rem\" font-weight=\"100\" text-anchor=\"middle\" transform=\"rotate(-90,45.412617,60.000000)\">1000000</text>\n",
       "</svg>\n",
       "        </td>\n",
       "    </tr>\n",
       "</table>"
      ],
      "text/plain": [
       "dask.array<concatenate, shape=(1000000, 2), dtype=float64, chunksize=(100000, 2), chunktype=numpy.ndarray>"
      ]
     },
     "execution_count": 24,
     "metadata": {},
     "output_type": "execute_result"
    }
   ],
   "source": [
    "#generate like in execise 2, but now with dask_mL\n",
    "X, y = dask_ml.datasets.make_blobs(n_samples=1000000,\n",
    "                                   chunks=100000,\n",
    "                                   random_state=0,\n",
    "                                   centers=3)\n",
    "X = X.persist() #manual executions on X\n",
    "X"
   ]
  },
  {
   "cell_type": "code",
   "execution_count": 25,
   "metadata": {
    "slideshow": {
     "slide_type": "subslide"
    }
   },
   "outputs": [
    {
     "data": {
      "text/plain": [
       "KMeans(init_max_iter=2000, n_clusters=3, oversampling_factor=10)"
      ]
     },
     "execution_count": 25,
     "metadata": {},
     "output_type": "execute_result"
    }
   ],
   "source": [
    "#call skleran k-means\n",
    "km = dask_ml.cluster.KMeans(n_clusters=3, init_max_iter=2000, oversampling_factor=10)\n",
    "km.fit(X)"
   ]
  },
  {
   "cell_type": "code",
   "execution_count": 28,
   "metadata": {
    "scrolled": true,
    "slideshow": {
     "slide_type": "subslide"
    }
   },
   "outputs": [
    {
     "data": {
      "image/png": "[encoded data removed]",
      "text/plain": [
       "<Figure size 432x288 with 1 Axes>"
      ]
     },
     "metadata": {
      "needs_background": "light"
     },
     "output_type": "display_data"
    }
   ],
   "source": [
    "plt.scatter(X[::1000, 0], X[::1000, 1], marker='.', c=km.labels_[::1000],  cmap='viridis', alpha=0.25);\n",
    "\n"
   ]
  },
  {
   "cell_type": "markdown",
   "metadata": {
    "slideshow": {
     "slide_type": "subslide"
    }
   },
   "source": [
    "### Example: Hyper-parameter optimization"
   ]
  },
  {
   "cell_type": "code",
   "execution_count": 52,
   "metadata": {
    "scrolled": true,
    "slideshow": {
     "slide_type": "-"
    }
   },
   "outputs": [
    {
     "data": {
      "image/png": "[encoded data removed]",
      "text/plain": [
       "<Figure size 432x288 with 2 Axes>"
      ]
     },
     "metadata": {
      "needs_background": "light"
     },
     "output_type": "display_data"
    }
   ],
   "source": [
    "from sklearn.datasets import make_circles\n",
    "import numpy as np\n",
    "import pandas as pd\n",
    "\n",
    "X, y = make_circles(n_samples=30_000, random_state=0, noise=0.09)\n",
    "\n",
    "pd.DataFrame({0: X[:, 0], 1: X[:, 1], \"class\": y}).sample(4_000).plot.scatter(\n",
    "    x=0, y=1, alpha=0.2, c=\"class\", cmap=\"bwr\"\n",
    ");"
   ]
  },
  {
   "cell_type": "code",
   "execution_count": 53,
   "metadata": {
    "slideshow": {
     "slide_type": "subslide"
    }
   },
   "outputs": [
    {
     "data": {
      "text/plain": [
       "(30000, 6)"
      ]
     },
     "execution_count": 53,
     "metadata": {},
     "output_type": "execute_result"
    }
   ],
   "source": [
    "# make date 6D to get larger problem\n",
    "from sklearn.utils import check_random_state\n",
    "\n",
    "rng = check_random_state(42)\n",
    "random_feats = rng.uniform(-1, 1, size=(X.shape[0], 4))\n",
    "X = np.hstack((X, random_feats))\n",
    "X.shape"
   ]
  },
  {
   "cell_type": "code",
   "execution_count": 54,
   "metadata": {
    "slideshow": {
     "slide_type": "subslide"
    }
   },
   "outputs": [],
   "source": [
    "#gen train and test set\n",
    "from sklearn.model_selection import train_test_split\n",
    "X_train, X_test, y_train, y_test = train_test_split(X, y, test_size=5_000, random_state=42)\n",
    "\n",
    "from sklearn.preprocessing import StandardScaler\n",
    "from sklearn.model_selection import train_test_split\n",
    "scaler = StandardScaler().fit(X_train)\n",
    "\n",
    "X_train = scaler.transform(X_train)\n",
    "X_test = scaler.transform(X_test)\n",
    "\n"
   ]
  },
  {
   "cell_type": "code",
   "execution_count": 55,
   "metadata": {
    "slideshow": {
     "slide_type": "subslide"
    }
   },
   "outputs": [],
   "source": [
    "#create small NN\n",
    "import numpy as np\n",
    "from sklearn.neural_network import MLPClassifier\n",
    "\n",
    "model = MLPClassifier()\n",
    "\n",
    "params = {\n",
    "    \"hidden_layer_sizes\": [\n",
    "        (24, ),\n",
    "        (12, 12),\n",
    "        (6, 6, 6, 6),\n",
    "        (4, 4, 4, 4, 4, 4),\n",
    "        (12, 6, 3, 3),\n",
    "    ],\n",
    "    \"activation\": [\"relu\", \"logistic\", \"tanh\"],\n",
    "    \"alpha\": np.logspace(-6, -3, num=1000),  # cnts\n",
    "    \"batch_size\": [16, 32, 64, 128, 256, 512],\n",
    "}\n",
    "\n"
   ]
  },
  {
   "cell_type": "code",
   "execution_count": 56,
   "metadata": {
    "slideshow": {
     "slide_type": "subslide"
    }
   },
   "outputs": [],
   "source": [
    "from dask_ml.model_selection import HyperbandSearchCV\n",
    "\n",
    "n_examples = 4 * len(X_train)\n",
    "n_params = 8\n",
    "\n",
    "# In practice, HyperbandSearchCV is most useful for longer searches\n",
    "# n_examples = 15 * len(X_train)\n",
    "# n_params = 15"
   ]
  },
  {
   "cell_type": "code",
   "execution_count": 58,
   "metadata": {
    "scrolled": true,
    "slideshow": {
     "slide_type": "subslide"
    }
   },
   "outputs": [
    {
     "data": {
      "text/html": [
       "<table>\n",
       "    <tr>\n",
       "        <td>\n",
       "            <table>\n",
       "                <thead>\n",
       "                    <tr>\n",
       "                        <td> </td>\n",
       "                        <th> Array </th>\n",
       "                        <th> Chunk </th>\n",
       "                    </tr>\n",
       "                </thead>\n",
       "                <tbody>\n",
       "                    \n",
       "                    <tr>\n",
       "                        <th> Bytes </th>\n",
       "                        <td> 1.14 MiB </td>\n",
       "                        <td> 585.94 kiB </td>\n",
       "                    </tr>\n",
       "                    \n",
       "                    <tr>\n",
       "                        <th> Shape </th>\n",
       "                        <td> (25000, 6) </td>\n",
       "                        <td> (12500, 6) </td>\n",
       "                    </tr>\n",
       "                    <tr>\n",
       "                        <th> Count </th>\n",
       "                        <td> 2 Tasks </td>\n",
       "                        <td> 2 Chunks </td>\n",
       "                    </tr>\n",
       "                    <tr>\n",
       "                    <th> Type </th>\n",
       "                    <td> float64 </td>\n",
       "                    <td> numpy.ndarray </td>\n",
       "                    </tr>\n",
       "                </tbody>\n",
       "            </table>\n",
       "        </td>\n",
       "        <td>\n",
       "        <svg width=\"75\" height=\"170\" style=\"stroke:rgb(0,0,0);stroke-width:1\" >\n",
       "\n",
       "  <!-- Horizontal lines -->\n",
       "  <line x1=\"0\" y1=\"0\" x2=\"25\" y2=\"0\" style=\"stroke-width:2\" />\n",
       "  <line x1=\"0\" y1=\"60\" x2=\"25\" y2=\"60\" />\n",
       "  <line x1=\"0\" y1=\"120\" x2=\"25\" y2=\"120\" style=\"stroke-width:2\" />\n",
       "\n",
       "  <!-- Vertical lines -->\n",
       "  <line x1=\"0\" y1=\"0\" x2=\"0\" y2=\"120\" style=\"stroke-width:2\" />\n",
       "  <line x1=\"25\" y1=\"0\" x2=\"25\" y2=\"120\" style=\"stroke-width:2\" />\n",
       "\n",
       "  <!-- Colored Rectangle -->\n",
       "  <polygon points=\"0.0,0.0 25.412616514582485,0.0 25.412616514582485,120.0 0.0,120.0\" style=\"fill:#ECB172A0;stroke-width:0\"/>\n",
       "\n",
       "  <!-- Text -->\n",
       "  <text x=\"12.706308\" y=\"140.000000\" font-size=\"1.0rem\" font-weight=\"100\" text-anchor=\"middle\" >6</text>\n",
       "  <text x=\"45.412617\" y=\"60.000000\" font-size=\"1.0rem\" font-weight=\"100\" text-anchor=\"middle\" transform=\"rotate(-90,45.412617,60.000000)\">25000</text>\n",
       "</svg>\n",
       "        </td>\n",
       "    </tr>\n",
       "</table>"
      ],
      "text/plain": [
       "dask.array<array, shape=(25000, 6), dtype=float64, chunksize=(12500, 6), chunktype=numpy.ndarray>"
      ]
     },
     "execution_count": 58,
     "metadata": {},
     "output_type": "execute_result"
    }
   ],
   "source": [
    "#prepare date in chunks\n",
    "max_iter = n_params  # number of times partial_fit will be called\n",
    "chunks = n_examples // n_params  # number of examples each call sees\n",
    "\n",
    "\n",
    "X_train2 = da.from_array(X_train, chunks=chunks)\n",
    "y_train2 = da.from_array(y_train, chunks=chunks)\n",
    "X_train2"
   ]
  },
  {
   "cell_type": "code",
   "execution_count": 61,
   "metadata": {
    "slideshow": {
     "slide_type": "subslide"
    }
   },
   "outputs": [
    {
     "data": {
      "text/plain": [
       "26"
      ]
     },
     "execution_count": 61,
     "metadata": {},
     "output_type": "execute_result"
    }
   ],
   "source": [
    "#setup search model\n",
    "search = HyperbandSearchCV(\n",
    "    model,\n",
    "    params,\n",
    "    max_iter=max_iter,\n",
    "    patience=True,\n",
    ")\n",
    "search.metadata[\"partial_fit_calls\"] #get number of evaluations"
   ]
  },
  {
   "cell_type": "code",
   "execution_count": 62,
   "metadata": {
    "scrolled": true,
    "slideshow": {
     "slide_type": "subslide"
    }
   },
   "outputs": [
    {
     "name": "stderr",
     "output_type": "stream",
     "text": [
      "/home/keuper/anaconda3/lib/python3.7/site-packages/dask_ml/model_selection/_incremental.py:641: VisibleDeprecationWarning: Creating an ndarray from ragged nested sequences (which is a list-or-tuple of lists-or-tuples-or ndarrays with different lengths or shapes) is deprecated. If you meant to do this, you must specify 'dtype=object' when creating the ndarray.\n",
      "  cv_results = {k: np.array(v) for k, v in cv_results.items()}\n",
      "/home/keuper/anaconda3/lib/python3.7/site-packages/dask_ml/model_selection/_hyperband.py:455: VisibleDeprecationWarning: Creating an ndarray from ragged nested sequences (which is a list-or-tuple of lists-or-tuples-or ndarrays with different lengths or shapes) is deprecated. If you meant to do this, you must specify 'dtype=object' when creating the ndarray.\n",
      "  cv_results = {k: np.array(v) for k, v in cv_results.items()}\n"
     ]
    },
    {
     "data": {
      "text/plain": [
       "HyperbandSearchCV(estimator=MLPClassifier(), max_iter=8,\n",
       "                  parameters={'activation': ['relu', 'logistic', 'tanh'],\n",
       "                              'alpha': array([1.00000000e-06, 1.00693863e-06, 1.01392541e-06, 1.02096066e-06,\n",
       "       1.02804473e-06, 1.03517796e-06, 1.04236067e-06, 1.04959323e-06,\n",
       "       1.05687597e-06, 1.06420924e-06, 1.07159340e-06, 1.07902879e-06,\n",
       "       1.08651577e-06, 1.09405471e-06, 1.10164595e-06, 1.1...\n",
       "       9.01477631e-04, 9.07732653e-04, 9.14031075e-04, 9.20373200e-04,\n",
       "       9.26759330e-04, 9.33189772e-04, 9.39664831e-04, 9.46184819e-04,\n",
       "       9.52750047e-04, 9.59360829e-04, 9.66017480e-04, 9.72720319e-04,\n",
       "       9.79469667e-04, 9.86265846e-04, 9.93109181e-04, 1.00000000e-03]),\n",
       "                              'batch_size': [16, 32, 64, 128, 256, 512],\n",
       "                              'hidden_layer_sizes': [(24,), (12, 12),\n",
       "                                                     (6, 6, 6, 6),\n",
       "                                                     (4, 4, 4, 4, 4, 4),\n",
       "                                                     (12, 6, 3, 3)]},\n",
       "                  patience=True)"
      ]
     },
     "execution_count": 62,
     "metadata": {},
     "output_type": "execute_result"
    }
   ],
   "source": [
    "#start!\n",
    "search.fit(X_train2, y_train2, classes=[0, 1, 2, 3])"
   ]
  },
  {
   "cell_type": "code",
   "execution_count": 63,
   "metadata": {
    "slideshow": {
     "slide_type": "subslide"
    }
   },
   "outputs": [
    {
     "name": "stdout",
     "output_type": "stream",
     "text": [
      "0.6362\n",
      "MLPClassifier(alpha=8.354528058382871e-05, batch_size=16,\n",
      "              hidden_layer_sizes=(6, 6, 6, 6))\n"
     ]
    }
   ],
   "source": [
    "#get results\n",
    "print(search.best_score_)\n",
    "print(search.best_estimator_)\n",
    "\n"
   ]
  },
  {
   "cell_type": "markdown",
   "metadata": {
    "slideshow": {
     "slide_type": "slide"
    }
   },
   "source": [
    "# Low Level Interfaces: Parallelizing Compute Graphs\n",
    "Building the Compute-Graph manually"
   ]
  },
  {
   "cell_type": "code",
   "execution_count": 29,
   "metadata": {
    "slideshow": {
     "slide_type": "subslide"
    }
   },
   "outputs": [],
   "source": [
    "# simple example\n",
    "def inc(x):\n",
    "    return x + 1\n",
    "\n",
    "def double(x):\n",
    "    return x + 2\n",
    "\n",
    "def add(x, y):\n",
    "    return x + y\n",
    "\n",
    "data = [1, 2, 3, 4, 5]\n",
    "\n",
    "output = []\n",
    "for x in data:\n",
    "    a = inc(x)\n",
    "    b = double(x)\n",
    "    c = add(a, b)\n",
    "    output.append(c)\n",
    "\n",
    "total = sum(output)\n"
   ]
  },
  {
   "cell_type": "code",
   "execution_count": 30,
   "metadata": {
    "slideshow": {
     "slide_type": "fragment"
    }
   },
   "outputs": [
    {
     "data": {
      "text/plain": [
       "45"
      ]
     },
     "execution_count": 30,
     "metadata": {},
     "output_type": "execute_result"
    }
   ],
   "source": [
    "total"
   ]
  },
  {
   "cell_type": "markdown",
   "metadata": {
    "slideshow": {
     "slide_type": "subslide"
    }
   },
   "source": [
    "### **Now, build a graph:**\n",
    "```dask.delayed()``` add functions and arguments to graph:"
   ]
  },
  {
   "cell_type": "code",
   "execution_count": 31,
   "metadata": {
    "slideshow": {
     "slide_type": "fragment"
    }
   },
   "outputs": [],
   "source": [
    "import dask\n",
    "\n",
    "output = []\n",
    "for x in data:\n",
    "    a = dask.delayed(inc)(x)\n",
    "    b = dask.delayed(double)(x)\n",
    "    c = dask.delayed(add)(a, b)\n",
    "    output.append(c)\n",
    "\n",
    "total = dask.delayed(sum)(output)\n"
   ]
  },
  {
   "cell_type": "code",
   "execution_count": 32,
   "metadata": {
    "slideshow": {
     "slide_type": "subslide"
    }
   },
   "outputs": [
    {
     "data": {
      "image/svg+xml": [
       "<svg height=\"477pt\" viewBox=\"0.00 0.00 762.05 476.68\" width=\"762pt\" xmlns=\"http://www.w3.org/2000/svg\" xmlns:xlink=\"http://www.w3.org/1999/xlink\">\n",
       "<g class=\"graph\" id=\"graph0\" transform=\"scale(1 1) rotate(0) translate(4 472.684)\">\n",
       "<title>%3</title>\n",
       "<polygon fill=\"#ffffff\" points=\"-4,4 -4,-472.684 758.0467,-472.684 758.0467,4 -4,4\" stroke=\"transparent\"/>\n",
       "<!-- &#45;8849041602493108966 -->\n",
       "<g class=\"node\" id=\"node1\">\n",
       "<title>-8849041602493108966</title>\n",
       "<ellipse cx=\"358.0467\" cy=\"-368.7364\" fill=\"none\" rx=\"27.8951\" ry=\"27.8951\" stroke=\"#000000\"/>\n",
       "<text fill=\"#000000\" font-family=\"Helvetica,sans-Serif\" font-size=\"14.00\" text-anchor=\"middle\" x=\"358.0467\" y=\"-365.0364\">sum</text>\n",
       "</g>\n",
       "<!-- 7138967915569465092 -->\n",
       "<g class=\"node\" id=\"node2\">\n",
       "<title>7138967915569465092</title>\n",
       "<polygon fill=\"none\" points=\"385.0467,-468.684 331.0467,-468.684 331.0467,-432.684 385.0467,-432.684 385.0467,-468.684\" stroke=\"#000000\"/>\n",
       "</g>\n",
       "<!-- &#45;8849041602493108966&#45;&gt;7138967915569465092 -->\n",
       "<g class=\"edge\" id=\"edge1\">\n",
       "<title>-8849041602493108966-&gt;7138967915569465092</title>\n",
       "<path d=\"M358.0467,-396.9381C358.0467,-405.0504 358.0467,-413.9048 358.0467,-422.0433\" fill=\"none\" stroke=\"#000000\"/>\n",
       "<polygon fill=\"#000000\" points=\"354.5468,-422.2071 358.0467,-432.2071 361.5468,-422.2072 354.5468,-422.2071\" stroke=\"#000000\"/>\n",
       "</g>\n",
       "<!-- 2808027772212745506 -->\n",
       "<g class=\"node\" id=\"node3\">\n",
       "<title>2808027772212745506</title>\n",
       "<polygon fill=\"none\" points=\"203.0467,-304.7889 149.0467,-304.7889 149.0467,-268.7889 203.0467,-268.7889 203.0467,-304.7889\" stroke=\"#000000\"/>\n",
       "</g>\n",
       "<!-- 2808027772212745506&#45;&gt;&#45;8849041602493108966 -->\n",
       "<g class=\"edge\" id=\"edge2\">\n",
       "<title>2808027772212745506-&gt;-8849041602493108966</title>\n",
       "<path d=\"M203.294,-299.0573C235.1999,-313.4233 288.1186,-337.2505 323.0405,-352.9745\" fill=\"none\" stroke=\"#000000\"/>\n",
       "<polygon fill=\"#000000\" points=\"321.8253,-356.2657 332.3806,-357.18 324.6993,-349.8829 321.8253,-356.2657\" stroke=\"#000000\"/>\n",
       "</g>\n",
       "<!-- 3057309646892125419 -->\n",
       "<g class=\"node\" id=\"node4\">\n",
       "<title>3057309646892125419</title>\n",
       "<polygon fill=\"none\" points=\"313.0467,-304.7889 259.0467,-304.7889 259.0467,-268.7889 313.0467,-268.7889 313.0467,-304.7889\" stroke=\"#000000\"/>\n",
       "</g>\n",
       "<!-- 3057309646892125419&#45;&gt;&#45;8849041602493108966 -->\n",
       "<g class=\"edge\" id=\"edge3\">\n",
       "<title>3057309646892125419-&gt;-8849041602493108966</title>\n",
       "<path d=\"M302.0258,-304.9757C311.0471,-315.2433 322.5277,-328.3101 332.7441,-339.938\" fill=\"none\" stroke=\"#000000\"/>\n",
       "<polygon fill=\"#000000\" points=\"330.3395,-342.5039 339.5692,-347.7061 335.5981,-337.8836 330.3395,-342.5039\" stroke=\"#000000\"/>\n",
       "</g>\n",
       "<!-- &#45;6218864684985761140 -->\n",
       "<g class=\"node\" id=\"node5\">\n",
       "<title>-6218864684985761140</title>\n",
       "<polygon fill=\"none\" points=\"385.0467,-304.7889 331.0467,-304.7889 331.0467,-268.7889 385.0467,-268.7889 385.0467,-304.7889\" stroke=\"#000000\"/>\n",
       "</g>\n",
       "<!-- &#45;6218864684985761140&#45;&gt;&#45;8849041602493108966 -->\n",
       "<g class=\"edge\" id=\"edge4\">\n",
       "<title>-6218864684985761140-&gt;-8849041602493108966</title>\n",
       "<path d=\"M358.0467,-304.9757C358.0467,-312.4996 358.0467,-321.5265 358.0467,-330.389\" fill=\"none\" stroke=\"#000000\"/>\n",
       "<polygon fill=\"#000000\" points=\"354.5468,-330.6171 358.0467,-340.6172 361.5468,-330.6172 354.5468,-330.6171\" stroke=\"#000000\"/>\n",
       "</g>\n",
       "<!-- 8118860480398442740 -->\n",
       "<g class=\"node\" id=\"node6\">\n",
       "<title>8118860480398442740</title>\n",
       "<polygon fill=\"none\" points=\"480.0467,-304.7889 426.0467,-304.7889 426.0467,-268.7889 480.0467,-268.7889 480.0467,-304.7889\" stroke=\"#000000\"/>\n",
       "</g>\n",
       "<!-- 8118860480398442740&#45;&gt;&#45;8849041602493108966 -->\n",
       "<g class=\"edge\" id=\"edge5\">\n",
       "<title>8118860480398442740-&gt;-8849041602493108966</title>\n",
       "<path d=\"M431.9631,-304.9757C418.7721,-316.3544 401.5958,-331.1708 387.121,-343.6568\" fill=\"none\" stroke=\"#000000\"/>\n",
       "<polygon fill=\"#000000\" points=\"384.6859,-341.1351 379.3999,-350.3171 389.2581,-346.4356 384.6859,-341.1351\" stroke=\"#000000\"/>\n",
       "</g>\n",
       "<!-- 7325468251070164926 -->\n",
       "<g class=\"node\" id=\"node7\">\n",
       "<title>7325468251070164926</title>\n",
       "<polygon fill=\"none\" points=\"616.0467,-304.7889 562.0467,-304.7889 562.0467,-268.7889 616.0467,-268.7889 616.0467,-304.7889\" stroke=\"#000000\"/>\n",
       "</g>\n",
       "<!-- 7325468251070164926&#45;&gt;&#45;8849041602493108966 -->\n",
       "<g class=\"edge\" id=\"edge6\">\n",
       "<title>7325468251070164926-&gt;-8849041602493108966</title>\n",
       "<path d=\"M561.6409,-296.5112C519.9993,-311.2836 440.7448,-339.3992 394.3565,-355.8555\" fill=\"none\" stroke=\"#000000\"/>\n",
       "<polygon fill=\"#000000\" points=\"392.9583,-352.6377 384.7039,-359.2798 395.2987,-359.2349 392.9583,-352.6377\" stroke=\"#000000\"/>\n",
       "</g>\n",
       "<!-- 3308114030545852970 -->\n",
       "<g class=\"node\" id=\"node8\">\n",
       "<title>3308114030545852970</title>\n",
       "<ellipse cx=\"499.0467\" cy=\"-207.4412\" fill=\"none\" rx=\"25.1964\" ry=\"25.1964\" stroke=\"#000000\"/>\n",
       "<text fill=\"#000000\" font-family=\"Helvetica,sans-Serif\" font-size=\"14.00\" text-anchor=\"middle\" x=\"499.0467\" y=\"-203.7412\">add</text>\n",
       "</g>\n",
       "<!-- 3308114030545852970&#45;&gt;8118860480398442740 -->\n",
       "<g class=\"edge\" id=\"edge7\">\n",
       "<title>3308114030545852970-&gt;8118860480398442740</title>\n",
       "<path d=\"M486.2331,-229.5439C480.7784,-238.9531 474.3658,-250.0145 468.6391,-259.8928\" fill=\"none\" stroke=\"#000000\"/>\n",
       "<polygon fill=\"#000000\" points=\"465.6074,-258.144 463.6199,-268.5507 471.6633,-261.6548 465.6074,-258.144\" stroke=\"#000000\"/>\n",
       "</g>\n",
       "<!-- &#45;787236281539306168 -->\n",
       "<g class=\"node\" id=\"node9\">\n",
       "<title>-787236281539306168</title>\n",
       "<polygon fill=\"none\" points=\"526.0467,-146.0934 472.0467,-146.0934 472.0467,-110.0934 526.0467,-110.0934 526.0467,-146.0934\" stroke=\"#000000\"/>\n",
       "</g>\n",
       "<!-- &#45;787236281539306168&#45;&gt;3308114030545852970 -->\n",
       "<g class=\"edge\" id=\"edge8\">\n",
       "<title>-787236281539306168-&gt;3308114030545852970</title>\n",
       "<path d=\"M499.0467,-146.0987C499.0467,-153.7232 499.0467,-162.888 499.0467,-171.781\" fill=\"none\" stroke=\"#000000\"/>\n",
       "<polygon fill=\"#000000\" points=\"495.5468,-171.9871 499.0467,-181.9871 502.5468,-171.9872 495.5468,-171.9871\" stroke=\"#000000\"/>\n",
       "</g>\n",
       "<!-- &#45;3702759737474205727 -->\n",
       "<g class=\"node\" id=\"node10\">\n",
       "<title>-3702759737474205727</title>\n",
       "<polygon fill=\"none\" points=\"601.0467,-146.0934 547.0467,-146.0934 547.0467,-110.0934 601.0467,-110.0934 601.0467,-146.0934\" stroke=\"#000000\"/>\n",
       "</g>\n",
       "<!-- &#45;3702759737474205727&#45;&gt;3308114030545852970 -->\n",
       "<g class=\"edge\" id=\"edge9\">\n",
       "<title>-3702759737474205727-&gt;3308114030545852970</title>\n",
       "<path d=\"M557.0281,-146.0987C547.1012,-156.601 534.4121,-170.0256 523.437,-181.637\" fill=\"none\" stroke=\"#000000\"/>\n",
       "<polygon fill=\"#000000\" points=\"520.8441,-179.2849 516.5185,-188.9566 525.9313,-184.0934 520.8441,-179.2849\" stroke=\"#000000\"/>\n",
       "</g>\n",
       "<!-- &#45;4979937961706614337 -->\n",
       "<g class=\"node\" id=\"node11\">\n",
       "<title>-4979937961706614337</title>\n",
       "<ellipse cx=\"576.0467\" cy=\"-37.0467\" fill=\"none\" rx=\"22.1965\" ry=\"22.1965\" stroke=\"#000000\"/>\n",
       "<text fill=\"#000000\" font-family=\"Helvetica,sans-Serif\" font-size=\"14.00\" text-anchor=\"middle\" x=\"576.0467\" y=\"-33.3467\">inc</text>\n",
       "</g>\n",
       "<!-- &#45;4979937961706614337&#45;&gt;&#45;3702759737474205727 -->\n",
       "<g class=\"edge\" id=\"edge10\">\n",
       "<title>-4979937961706614337-&gt;-3702759737474205727</title>\n",
       "<path d=\"M575.5523,-59.5526C575.2866,-71.6478 574.9563,-86.6848 574.6728,-99.59\" fill=\"none\" stroke=\"#000000\"/>\n",
       "<polygon fill=\"#000000\" points=\"571.1687,-99.7431 574.4482,-109.8176 578.167,-99.8969 571.1687,-99.7431\" stroke=\"#000000\"/>\n",
       "</g>\n",
       "<!-- &#45;8432513257498723282 -->\n",
       "<g class=\"node\" id=\"node12\">\n",
       "<title>-8432513257498723282</title>\n",
       "<ellipse cx=\"499.0467\" cy=\"-37.0467\" fill=\"none\" rx=\"37.0935\" ry=\"37.0935\" stroke=\"#000000\"/>\n",
       "<text fill=\"#000000\" font-family=\"Helvetica,sans-Serif\" font-size=\"14.00\" text-anchor=\"middle\" x=\"499.0467\" y=\"-33.3467\">double</text>\n",
       "</g>\n",
       "<!-- &#45;8432513257498723282&#45;&gt;&#45;787236281539306168 -->\n",
       "<g class=\"edge\" id=\"edge11\">\n",
       "<title>-8432513257498723282-&gt;-787236281539306168</title>\n",
       "<path d=\"M499.0467,-74.3416C499.0467,-82.7147 499.0467,-91.4719 499.0467,-99.4289\" fill=\"none\" stroke=\"#000000\"/>\n",
       "<polygon fill=\"#000000\" points=\"495.5468,-99.6722 499.0467,-109.6722 502.5468,-99.6722 495.5468,-99.6722\" stroke=\"#000000\"/>\n",
       "</g>\n",
       "<!-- 7237360101190856210 -->\n",
       "<g class=\"node\" id=\"node13\">\n",
       "<title>7237360101190856210</title>\n",
       "<ellipse cx=\"358.0467\" cy=\"-207.4412\" fill=\"none\" rx=\"25.1964\" ry=\"25.1964\" stroke=\"#000000\"/>\n",
       "<text fill=\"#000000\" font-family=\"Helvetica,sans-Serif\" font-size=\"14.00\" text-anchor=\"middle\" x=\"358.0467\" y=\"-203.7412\">add</text>\n",
       "</g>\n",
       "<!-- 7237360101190856210&#45;&gt;&#45;6218864684985761140 -->\n",
       "<g class=\"edge\" id=\"edge12\">\n",
       "<title>7237360101190856210-&gt;-6218864684985761140</title>\n",
       "<path d=\"M358.0467,-232.9841C358.0467,-241.1389 358.0467,-250.2099 358.0467,-258.545\" fill=\"none\" stroke=\"#000000\"/>\n",
       "<polygon fill=\"#000000\" points=\"354.5468,-258.5849 358.0467,-268.585 361.5468,-258.585 354.5468,-258.5849\" stroke=\"#000000\"/>\n",
       "</g>\n",
       "<!-- 4302429115570544428 -->\n",
       "<g class=\"node\" id=\"node14\">\n",
       "<title>4302429115570544428</title>\n",
       "<polygon fill=\"none\" points=\"362.0467,-146.0934 308.0467,-146.0934 308.0467,-110.0934 362.0467,-110.0934 362.0467,-146.0934\" stroke=\"#000000\"/>\n",
       "</g>\n",
       "<!-- 4302429115570544428&#45;&gt;7237360101190856210 -->\n",
       "<g class=\"edge\" id=\"edge13\">\n",
       "<title>4302429115570544428-&gt;7237360101190856210</title>\n",
       "<path d=\"M340.2658,-146.0987C342.5823,-154.0904 345.3893,-163.7744 348.082,-173.0638\" fill=\"none\" stroke=\"#000000\"/>\n",
       "<polygon fill=\"#000000\" points=\"344.7846,-174.2601 350.9303,-182.8903 351.5078,-172.3112 344.7846,-174.2601\" stroke=\"#000000\"/>\n",
       "</g>\n",
       "<!-- &#45;4675919468678719107 -->\n",
       "<g class=\"node\" id=\"node15\">\n",
       "<title>-4675919468678719107</title>\n",
       "<polygon fill=\"none\" points=\"434.0467,-146.0934 380.0467,-146.0934 380.0467,-110.0934 434.0467,-110.0934 434.0467,-146.0934\" stroke=\"#000000\"/>\n",
       "</g>\n",
       "<!-- &#45;4675919468678719107&#45;&gt;7237360101190856210 -->\n",
       "<g class=\"edge\" id=\"edge14\">\n",
       "<title>-4675919468678719107-&gt;7237360101190856210</title>\n",
       "<path d=\"M395.9279,-146.0987C390.2364,-155.315 383.1553,-166.7818 376.6607,-177.2987\" fill=\"none\" stroke=\"#000000\"/>\n",
       "<polygon fill=\"#000000\" points=\"373.663,-175.4919 371.3866,-185.8393 379.6188,-179.1699 373.663,-175.4919\" stroke=\"#000000\"/>\n",
       "</g>\n",
       "<!-- 5493318425472786610 -->\n",
       "<g class=\"node\" id=\"node16\">\n",
       "<title>5493318425472786610</title>\n",
       "<ellipse cx=\"330.0467\" cy=\"-37.0467\" fill=\"none\" rx=\"22.1965\" ry=\"22.1965\" stroke=\"#000000\"/>\n",
       "<text fill=\"#000000\" font-family=\"Helvetica,sans-Serif\" font-size=\"14.00\" text-anchor=\"middle\" x=\"330.0467\" y=\"-33.3467\">inc</text>\n",
       "</g>\n",
       "<!-- 5493318425472786610&#45;&gt;4302429115570544428 -->\n",
       "<g class=\"edge\" id=\"edge15\">\n",
       "<title>5493318425472786610-&gt;4302429115570544428</title>\n",
       "<path d=\"M331.2827,-59.5526C331.9469,-71.6478 332.7727,-86.6848 333.4814,-99.59\" fill=\"none\" stroke=\"#000000\"/>\n",
       "<polygon fill=\"#000000\" points=\"329.9999,-100.0246 334.0431,-109.8176 336.9894,-99.6407 329.9999,-100.0246\" stroke=\"#000000\"/>\n",
       "</g>\n",
       "<!-- &#45;8221829570093582453 -->\n",
       "<g class=\"node\" id=\"node17\">\n",
       "<title>-8221829570093582453</title>\n",
       "<ellipse cx=\"407.0467\" cy=\"-37.0467\" fill=\"none\" rx=\"37.0935\" ry=\"37.0935\" stroke=\"#000000\"/>\n",
       "<text fill=\"#000000\" font-family=\"Helvetica,sans-Serif\" font-size=\"14.00\" text-anchor=\"middle\" x=\"407.0467\" y=\"-33.3467\">double</text>\n",
       "</g>\n",
       "<!-- &#45;8221829570093582453&#45;&gt;&#45;4675919468678719107 -->\n",
       "<g class=\"edge\" id=\"edge16\">\n",
       "<title>-8221829570093582453-&gt;-4675919468678719107</title>\n",
       "<path d=\"M407.0467,-74.3416C407.0467,-82.7147 407.0467,-91.4719 407.0467,-99.4289\" fill=\"none\" stroke=\"#000000\"/>\n",
       "<polygon fill=\"#000000\" points=\"403.5468,-99.6722 407.0467,-109.6722 410.5468,-99.6722 403.5468,-99.6722\" stroke=\"#000000\"/>\n",
       "</g>\n",
       "<!-- &#45;2887413124115031448 -->\n",
       "<g class=\"node\" id=\"node18\">\n",
       "<title>-2887413124115031448</title>\n",
       "<ellipse cx=\"114.0467\" cy=\"-207.4412\" fill=\"none\" rx=\"25.1964\" ry=\"25.1964\" stroke=\"#000000\"/>\n",
       "<text fill=\"#000000\" font-family=\"Helvetica,sans-Serif\" font-size=\"14.00\" text-anchor=\"middle\" x=\"114.0467\" y=\"-203.7412\">add</text>\n",
       "</g>\n",
       "<!-- &#45;2887413124115031448&#45;&gt;2808027772212745506 -->\n",
       "<g class=\"edge\" id=\"edge17\">\n",
       "<title>-2887413124115031448-&gt;2808027772212745506</title>\n",
       "<path d=\"M129.6919,-227.464C137.5818,-237.5614 147.2469,-249.9308 155.7062,-260.7571\" fill=\"none\" stroke=\"#000000\"/>\n",
       "<polygon fill=\"#000000\" points=\"152.9757,-262.9472 161.8907,-268.672 158.4915,-258.6372 152.9757,-262.9472\" stroke=\"#000000\"/>\n",
       "</g>\n",
       "<!-- 6699820609868953505 -->\n",
       "<g class=\"node\" id=\"node19\">\n",
       "<title>6699820609868953505</title>\n",
       "<polygon fill=\"none\" points=\"67.0467,-146.0934 13.0467,-146.0934 13.0467,-110.0934 67.0467,-110.0934 67.0467,-146.0934\" stroke=\"#000000\"/>\n",
       "</g>\n",
       "<!-- 6699820609868953505&#45;&gt;&#45;2887413124115031448 -->\n",
       "<g class=\"edge\" id=\"edge18\">\n",
       "<title>6699820609868953505-&gt;-2887413124115031448</title>\n",
       "<path d=\"M56.8385,-146.0987C66.4704,-156.4267 78.7379,-169.5807 89.441,-181.0573\" fill=\"none\" stroke=\"#000000\"/>\n",
       "<polygon fill=\"#000000\" points=\"87.1693,-183.7532 96.5493,-188.6793 92.2886,-178.9789 87.1693,-183.7532\" stroke=\"#000000\"/>\n",
       "</g>\n",
       "<!-- 372195160197327023 -->\n",
       "<g class=\"node\" id=\"node20\">\n",
       "<title>372195160197327023</title>\n",
       "<polygon fill=\"none\" points=\"141.0467,-146.0934 87.0467,-146.0934 87.0467,-110.0934 141.0467,-110.0934 141.0467,-146.0934\" stroke=\"#000000\"/>\n",
       "</g>\n",
       "<!-- 372195160197327023&#45;&gt;&#45;2887413124115031448 -->\n",
       "<g class=\"edge\" id=\"edge19\">\n",
       "<title>372195160197327023-&gt;-2887413124115031448</title>\n",
       "<path d=\"M114.0467,-146.0987C114.0467,-153.7232 114.0467,-162.888 114.0467,-171.781\" fill=\"none\" stroke=\"#000000\"/>\n",
       "<polygon fill=\"#000000\" points=\"110.5468,-171.9871 114.0467,-181.9871 117.5468,-171.9872 110.5468,-171.9871\" stroke=\"#000000\"/>\n",
       "</g>\n",
       "<!-- 5281389223501954477 -->\n",
       "<g class=\"node\" id=\"node21\">\n",
       "<title>5281389223501954477</title>\n",
       "<ellipse cx=\"114.0467\" cy=\"-37.0467\" fill=\"none\" rx=\"22.1965\" ry=\"22.1965\" stroke=\"#000000\"/>\n",
       "<text fill=\"#000000\" font-family=\"Helvetica,sans-Serif\" font-size=\"14.00\" text-anchor=\"middle\" x=\"114.0467\" y=\"-33.3467\">inc</text>\n",
       "</g>\n",
       "<!-- 5281389223501954477&#45;&gt;372195160197327023 -->\n",
       "<g class=\"edge\" id=\"edge20\">\n",
       "<title>5281389223501954477-&gt;372195160197327023</title>\n",
       "<path d=\"M114.0467,-59.5526C114.0467,-71.6478 114.0467,-86.6848 114.0467,-99.59\" fill=\"none\" stroke=\"#000000\"/>\n",
       "<polygon fill=\"#000000\" points=\"110.5468,-99.8176 114.0467,-109.8176 117.5468,-99.8176 110.5468,-99.8176\" stroke=\"#000000\"/>\n",
       "</g>\n",
       "<!-- &#45;501672061538993537 -->\n",
       "<g class=\"node\" id=\"node22\">\n",
       "<title>-501672061538993537</title>\n",
       "<ellipse cx=\"37.0467\" cy=\"-37.0467\" fill=\"none\" rx=\"37.0935\" ry=\"37.0935\" stroke=\"#000000\"/>\n",
       "<text fill=\"#000000\" font-family=\"Helvetica,sans-Serif\" font-size=\"14.00\" text-anchor=\"middle\" x=\"37.0467\" y=\"-33.3467\">double</text>\n",
       "</g>\n",
       "<!-- &#45;501672061538993537&#45;&gt;6699820609868953505 -->\n",
       "<g class=\"edge\" id=\"edge21\">\n",
       "<title>-501672061538993537-&gt;6699820609868953505</title>\n",
       "<path d=\"M38.2669,-74.0789C38.5512,-82.7053 38.8493,-91.7534 39.1185,-99.9243\" fill=\"none\" stroke=\"#000000\"/>\n",
       "<polygon fill=\"#000000\" points=\"35.6247,-100.1718 39.4522,-110.0511 42.6209,-99.9413 35.6247,-100.1718\" stroke=\"#000000\"/>\n",
       "</g>\n",
       "<!-- &#45;3852669493027532492 -->\n",
       "<g class=\"node\" id=\"node23\">\n",
       "<title>-3852669493027532492</title>\n",
       "<ellipse cx=\"653.0467\" cy=\"-207.4412\" fill=\"none\" rx=\"25.1964\" ry=\"25.1964\" stroke=\"#000000\"/>\n",
       "<text fill=\"#000000\" font-family=\"Helvetica,sans-Serif\" font-size=\"14.00\" text-anchor=\"middle\" x=\"653.0467\" y=\"-203.7412\">add</text>\n",
       "</g>\n",
       "<!-- &#45;3852669493027532492&#45;&gt;7325468251070164926 -->\n",
       "<g class=\"edge\" id=\"edge22\">\n",
       "<title>-3852669493027532492-&gt;7325468251070164926</title>\n",
       "<path d=\"M636.8968,-227.464C628.7525,-237.5614 618.7756,-249.9308 610.0434,-260.7571\" fill=\"none\" stroke=\"#000000\"/>\n",
       "<polygon fill=\"#000000\" points=\"607.2133,-258.691 603.6594,-268.672 612.6618,-263.0857 607.2133,-258.691\" stroke=\"#000000\"/>\n",
       "</g>\n",
       "<!-- &#45;768816952507103136 -->\n",
       "<g class=\"node\" id=\"node24\">\n",
       "<title>-768816952507103136</title>\n",
       "<polygon fill=\"none\" points=\"680.0467,-146.0934 626.0467,-146.0934 626.0467,-110.0934 680.0467,-110.0934 680.0467,-146.0934\" stroke=\"#000000\"/>\n",
       "</g>\n",
       "<!-- &#45;768816952507103136&#45;&gt;&#45;3852669493027532492 -->\n",
       "<g class=\"edge\" id=\"edge23\">\n",
       "<title>-768816952507103136-&gt;-3852669493027532492</title>\n",
       "<path d=\"M653.0467,-146.0987C653.0467,-153.7232 653.0467,-162.888 653.0467,-171.781\" fill=\"none\" stroke=\"#000000\"/>\n",
       "<polygon fill=\"#000000\" points=\"649.5468,-171.9871 653.0467,-181.9871 656.5468,-171.9872 649.5468,-171.9871\" stroke=\"#000000\"/>\n",
       "</g>\n",
       "<!-- 8333136699115265351 -->\n",
       "<g class=\"node\" id=\"node25\">\n",
       "<title>8333136699115265351</title>\n",
       "<polygon fill=\"none\" points=\"754.0467,-146.0934 700.0467,-146.0934 700.0467,-110.0934 754.0467,-110.0934 754.0467,-146.0934\" stroke=\"#000000\"/>\n",
       "</g>\n",
       "<!-- 8333136699115265351&#45;&gt;&#45;3852669493027532492 -->\n",
       "<g class=\"edge\" id=\"edge24\">\n",
       "<title>8333136699115265351-&gt;-3852669493027532492</title>\n",
       "<path d=\"M710.255,-146.0987C700.623,-156.4267 688.3555,-169.5807 677.6524,-181.0573\" fill=\"none\" stroke=\"#000000\"/>\n",
       "<polygon fill=\"#000000\" points=\"674.8049,-178.9789 670.5441,-188.6793 679.9241,-183.7532 674.8049,-178.9789\" stroke=\"#000000\"/>\n",
       "</g>\n",
       "<!-- &#45;7486718928680308843 -->\n",
       "<g class=\"node\" id=\"node26\">\n",
       "<title>-7486718928680308843</title>\n",
       "<ellipse cx=\"730.0467\" cy=\"-37.0467\" fill=\"none\" rx=\"22.1965\" ry=\"22.1965\" stroke=\"#000000\"/>\n",
       "<text fill=\"#000000\" font-family=\"Helvetica,sans-Serif\" font-size=\"14.00\" text-anchor=\"middle\" x=\"730.0467\" y=\"-33.3467\">inc</text>\n",
       "</g>\n",
       "<!-- &#45;7486718928680308843&#45;&gt;8333136699115265351 -->\n",
       "<g class=\"edge\" id=\"edge25\">\n",
       "<title>-7486718928680308843-&gt;8333136699115265351</title>\n",
       "<path d=\"M729.3051,-59.5526C728.9066,-71.6478 728.4111,-86.6848 727.9859,-99.59\" fill=\"none\" stroke=\"#000000\"/>\n",
       "<polygon fill=\"#000000\" points=\"724.4802,-99.7077 727.6489,-109.8176 731.4764,-99.9383 724.4802,-99.7077\" stroke=\"#000000\"/>\n",
       "</g>\n",
       "<!-- 5496531221560532950 -->\n",
       "<g class=\"node\" id=\"node27\">\n",
       "<title>5496531221560532950</title>\n",
       "<ellipse cx=\"653.0467\" cy=\"-37.0467\" fill=\"none\" rx=\"37.0935\" ry=\"37.0935\" stroke=\"#000000\"/>\n",
       "<text fill=\"#000000\" font-family=\"Helvetica,sans-Serif\" font-size=\"14.00\" text-anchor=\"middle\" x=\"653.0467\" y=\"-33.3467\">double</text>\n",
       "</g>\n",
       "<!-- 5496531221560532950&#45;&gt;&#45;768816952507103136 -->\n",
       "<g class=\"edge\" id=\"edge26\">\n",
       "<title>5496531221560532950-&gt;-768816952507103136</title>\n",
       "<path d=\"M653.0467,-74.3416C653.0467,-82.7147 653.0467,-91.4719 653.0467,-99.4289\" fill=\"none\" stroke=\"#000000\"/>\n",
       "<polygon fill=\"#000000\" points=\"649.5468,-99.6722 653.0467,-109.6722 656.5468,-99.6722 649.5468,-99.6722\" stroke=\"#000000\"/>\n",
       "</g>\n",
       "<!-- &#45;4194606677557427447 -->\n",
       "<g class=\"node\" id=\"node28\">\n",
       "<title>-4194606677557427447</title>\n",
       "<ellipse cx=\"263.0467\" cy=\"-207.4412\" fill=\"none\" rx=\"25.1964\" ry=\"25.1964\" stroke=\"#000000\"/>\n",
       "<text fill=\"#000000\" font-family=\"Helvetica,sans-Serif\" font-size=\"14.00\" text-anchor=\"middle\" x=\"263.0467\" y=\"-203.7412\">add</text>\n",
       "</g>\n",
       "<!-- &#45;4194606677557427447&#45;&gt;3057309646892125419 -->\n",
       "<g class=\"edge\" id=\"edge27\">\n",
       "<title>-4194606677557427447-&gt;3057309646892125419</title>\n",
       "<path d=\"M270.198,-232.1123C272.6623,-240.614 275.439,-250.1935 277.9719,-258.9314\" fill=\"none\" stroke=\"#000000\"/>\n",
       "<polygon fill=\"#000000\" points=\"274.654,-260.0573 280.7998,-268.6875 281.3773,-258.1084 274.654,-260.0573\" stroke=\"#000000\"/>\n",
       "</g>\n",
       "<!-- 2942474704236978235 -->\n",
       "<g class=\"node\" id=\"node29\">\n",
       "<title>2942474704236978235</title>\n",
       "<polygon fill=\"none\" points=\"218.0467,-146.0934 164.0467,-146.0934 164.0467,-110.0934 218.0467,-110.0934 218.0467,-146.0934\" stroke=\"#000000\"/>\n",
       "</g>\n",
       "<!-- 2942474704236978235&#45;&gt;&#45;4194606677557427447 -->\n",
       "<g class=\"edge\" id=\"edge28\">\n",
       "<title>2942474704236978235-&gt;-4194606677557427447</title>\n",
       "<path d=\"M207.3846,-146.0987C216.6888,-156.3524 228.5206,-169.3916 238.8811,-180.8094\" fill=\"none\" stroke=\"#000000\"/>\n",
       "<polygon fill=\"#000000\" points=\"236.4576,-183.347 245.7694,-188.4007 241.6415,-178.6431 236.4576,-183.347\" stroke=\"#000000\"/>\n",
       "</g>\n",
       "<!-- 105038321697854100 -->\n",
       "<g class=\"node\" id=\"node30\">\n",
       "<title>105038321697854100</title>\n",
       "<polygon fill=\"none\" points=\"290.0467,-146.0934 236.0467,-146.0934 236.0467,-110.0934 290.0467,-110.0934 290.0467,-146.0934\" stroke=\"#000000\"/>\n",
       "</g>\n",
       "<!-- 105038321697854100&#45;&gt;&#45;4194606677557427447 -->\n",
       "<g class=\"edge\" id=\"edge29\">\n",
       "<title>105038321697854100-&gt;-4194606677557427447</title>\n",
       "<path d=\"M263.0467,-146.0987C263.0467,-153.7232 263.0467,-162.888 263.0467,-171.781\" fill=\"none\" stroke=\"#000000\"/>\n",
       "<polygon fill=\"#000000\" points=\"259.5468,-171.9871 263.0467,-181.9871 266.5468,-171.9872 259.5468,-171.9871\" stroke=\"#000000\"/>\n",
       "</g>\n",
       "<!-- 683519999588964042 -->\n",
       "<g class=\"node\" id=\"node31\">\n",
       "<title>683519999588964042</title>\n",
       "<ellipse cx=\"268.0467\" cy=\"-37.0467\" fill=\"none\" rx=\"22.1965\" ry=\"22.1965\" stroke=\"#000000\"/>\n",
       "<text fill=\"#000000\" font-family=\"Helvetica,sans-Serif\" font-size=\"14.00\" text-anchor=\"middle\" x=\"268.0467\" y=\"-33.3467\">inc</text>\n",
       "</g>\n",
       "<!-- 683519999588964042&#45;&gt;105038321697854100 -->\n",
       "<g class=\"edge\" id=\"edge30\">\n",
       "<title>683519999588964042-&gt;105038321697854100</title>\n",
       "<path d=\"M266.8108,-59.5526C266.1465,-71.6478 265.3207,-86.6848 264.612,-99.59\" fill=\"none\" stroke=\"#000000\"/>\n",
       "<polygon fill=\"#000000\" points=\"261.1041,-99.6407 264.0504,-109.8176 268.0935,-100.0246 261.1041,-99.6407\" stroke=\"#000000\"/>\n",
       "</g>\n",
       "<!-- &#45;7008514406263357319 -->\n",
       "<g class=\"node\" id=\"node32\">\n",
       "<title>-7008514406263357319</title>\n",
       "<ellipse cx=\"191.0467\" cy=\"-37.0467\" fill=\"none\" rx=\"37.0935\" ry=\"37.0935\" stroke=\"#000000\"/>\n",
       "<text fill=\"#000000\" font-family=\"Helvetica,sans-Serif\" font-size=\"14.00\" text-anchor=\"middle\" x=\"191.0467\" y=\"-33.3467\">double</text>\n",
       "</g>\n",
       "<!-- &#45;7008514406263357319&#45;&gt;2942474704236978235 -->\n",
       "<g class=\"edge\" id=\"edge31\">\n",
       "<title>-7008514406263357319-&gt;2942474704236978235</title>\n",
       "<path d=\"M191.0467,-74.3416C191.0467,-82.7147 191.0467,-91.4719 191.0467,-99.4289\" fill=\"none\" stroke=\"#000000\"/>\n",
       "<polygon fill=\"#000000\" points=\"187.5468,-99.6722 191.0467,-109.6722 194.5468,-99.6722 187.5468,-99.6722\" stroke=\"#000000\"/>\n",
       "</g>\n",
       "</g>\n",
       "</svg>"
      ],
      "text/plain": [
       "<IPython.core.display.SVG object>"
      ]
     },
     "execution_count": 32,
     "metadata": {},
     "output_type": "execute_result"
    }
   ],
   "source": [
    "total.visualize(filename=\"graph2.svg\")"
   ]
  },
  {
   "cell_type": "code",
   "execution_count": 33,
   "metadata": {
    "slideshow": {
     "slide_type": "subslide"
    }
   },
   "outputs": [
    {
     "data": {
      "text/plain": [
       "45"
      ]
     },
     "execution_count": 33,
     "metadata": {},
     "output_type": "execute_result"
    }
   ],
   "source": [
    "#call copute to execute\n",
    "total.compute()"
   ]
  },
  {
   "cell_type": "markdown",
   "metadata": {
    "slideshow": {
     "slide_type": "slide"
    }
   },
   "source": [
    "## More in the Lab !\n",
    "* and here https://github.com/dask/dask-tutorial\n",
    "* and here https://livebook.manning.com/book/data-science-at-scale-with-python-and-dask/about-this-book/"
   ]
  }
 ],
 "metadata": {
  "celltoolbar": "Slideshow",
  "kernelspec": {
   "display_name": "Python 3",
   "language": "python",
   "name": "python3"
  },
  "language_info": {
   "codemirror_mode": {
    "name": "ipython",
    "version": 3
   },
   "file_extension": ".py",
   "mimetype": "text/x-python",
   "name": "python",
   "nbconvert_exporter": "python",
   "pygments_lexer": "ipython3",
   "version": "3.7.6"
  },
  "livereveal": {
   "enable_chalkboard": true,
   "footer": "Janis Keuper - SS22",
   "header": "Data Engineering: Week 8"
  }
 },
 "nbformat": 4,
 "nbformat_minor": 4
}
