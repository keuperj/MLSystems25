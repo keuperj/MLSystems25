{
  "cells": [
    {
      "cell_type": "code",
      "execution_count": 1,
      "metadata": {
        "id": "09DshN8BGkB2"
      },
      "outputs": [],
      "source": [
        "# For tips on running notebooks in Google Colab, see\n",
        "# https://pytorch.org/tutorials/beginner/colab\n",
        "%matplotlib inline"
      ]
    },
    {
      "cell_type": "code",
      "source": [
        "%pip install onnxscript"
      ],
      "metadata": {
        "id": "avgoCkwVHH68",
        "outputId": "f4d4a79a-093b-4d11-c1bd-0fd01d0034d2",
        "colab": {
          "base_uri": "https://localhost:8080/"
        }
      },
      "execution_count": 4,
      "outputs": [
        {
          "output_type": "stream",
          "name": "stdout",
          "text": [
            "Collecting onnxscript\n",
            "  Downloading onnxscript-0.3.0-py3-none-any.whl.metadata (14 kB)\n",
            "Requirement already satisfied: ml_dtypes in /usr/local/lib/python3.11/dist-packages (from onnxscript) (0.4.1)\n",
            "Requirement already satisfied: numpy in /usr/local/lib/python3.11/dist-packages (from onnxscript) (2.0.2)\n",
            "Collecting onnx_ir<2,>=0.1 (from onnxscript)\n",
            "  Downloading onnx_ir-0.1.2-py3-none-any.whl.metadata (4.8 kB)\n",
            "Collecting onnx>=1.16 (from onnxscript)\n",
            "  Downloading onnx-1.18.0-cp311-cp311-manylinux_2_17_x86_64.manylinux2014_x86_64.whl.metadata (6.9 kB)\n",
            "Requirement already satisfied: packaging in /usr/local/lib/python3.11/dist-packages (from onnxscript) (24.2)\n",
            "Requirement already satisfied: typing_extensions>=4.10 in /usr/local/lib/python3.11/dist-packages (from onnxscript) (4.14.0)\n",
            "Requirement already satisfied: protobuf>=4.25.1 in /usr/local/lib/python3.11/dist-packages (from onnx>=1.16->onnxscript) (5.29.5)\n",
            "Downloading onnxscript-0.3.0-py3-none-any.whl (644 kB)\n",
            "\u001b[2K   \u001b[90m━━━━━━━━━━━━━━━━━━━━━━━━━━━━━━━━━━━━━━━━\u001b[0m \u001b[32m644.6/644.6 kB\u001b[0m \u001b[31m16.7 MB/s\u001b[0m eta \u001b[36m0:00:00\u001b[0m\n",
            "\u001b[?25hDownloading onnx-1.18.0-cp311-cp311-manylinux_2_17_x86_64.manylinux2014_x86_64.whl (17.6 MB)\n",
            "\u001b[2K   \u001b[90m━━━━━━━━━━━━━━━━━━━━━━━━━━━━━━━━━━━━━━━━\u001b[0m \u001b[32m17.6/17.6 MB\u001b[0m \u001b[31m76.1 MB/s\u001b[0m eta \u001b[36m0:00:00\u001b[0m\n",
            "\u001b[?25hDownloading onnx_ir-0.1.2-py3-none-any.whl (117 kB)\n",
            "\u001b[2K   \u001b[90m━━━━━━━━━━━━━━━━━━━━━━━━━━━━━━━━━━━━━━━━\u001b[0m \u001b[32m117.1/117.1 kB\u001b[0m \u001b[31m8.5 MB/s\u001b[0m eta \u001b[36m0:00:00\u001b[0m\n",
            "\u001b[?25hInstalling collected packages: onnx, onnx_ir, onnxscript\n",
            "Successfully installed onnx-1.18.0 onnx_ir-0.1.2 onnxscript-0.3.0\n"
          ]
        }
      ]
    },
    {
      "cell_type": "markdown",
      "metadata": {
        "id": "NQOQ8v93GkB2"
      },
      "source": [
        "[Introduction to ONNX](intro_onnx.html) \\|\\| **Exporting a PyTorch model\n",
        "to ONNX** \\|\\| [Extending the ONNX exporter operator\n",
        "support](onnx_registry_tutorial.html) \\|\\| [Export a model with control\n",
        "flow to ONNX](export_control_flow_model_to_onnx_tutorial.html)\n",
        "\n",
        "Export a PyTorch model to ONNX\n",
        "==============================\n",
        "\n",
        "**Author**: [Ti-Tai Wang](https://github.com/titaiwangms), [Justin\n",
        "Chu](justinchu@microsoft.com), [Thiago\n",
        "Crepaldi](https://github.com/thiagocrepaldi).\n",
        "\n",
        "<div style=\"background-color: #54c7ec; color: #fff; font-weight: 700; padding-left: 10px; padding-top: 5px; padding-bottom: 5px\"><strong>NOTE:</strong></div>\n",
        "\n",
        "<div style=\"background-color: #f3f4f7; padding-left: 10px; padding-top: 10px; padding-bottom: 10px; padding-right: 10px\">\n",
        "\n",
        "<p>As of PyTorch 2.5, there are two versions of ONNX Exporter.</p>\n",
        "\n",
        "</div>\n",
        "\n"
      ]
    },
    {
      "cell_type": "markdown",
      "metadata": {
        "id": "mVAxU7WFGkB4"
      },
      "source": [
        "In the [60 Minute\n",
        "Blitz](https://pytorch.org/tutorials/beginner/deep_learning_60min_blitz.html),\n",
        "we had the opportunity to learn about PyTorch at a high level and train\n",
        "a small neural network to classify images. In this tutorial, we are\n",
        "going to expand this to describe how to convert a model defined in\n",
        "PyTorch into the ONNX format using the\n",
        "`torch.onnx.export(..., dynamo=True)` ONNX exporter.\n",
        "\n",
        "While PyTorch is great for iterating on the development of models, the\n",
        "model can be deployed to production using different formats, including\n",
        "[ONNX](https://onnx.ai/) (Open Neural Network Exchange)!\n",
        "\n",
        "ONNX is a flexible open standard format for representing machine\n",
        "learning models which standardized representations of machine learning\n",
        "allow them to be executed across a gamut of hardware platforms and\n",
        "runtime environments from large-scale cloud-based supercomputers to\n",
        "resource-constrained edge devices, such as your web browser and phone.\n",
        "\n",
        "In this tutorial, we'll learn how to:\n",
        "\n",
        "1.  Install the required dependencies.\n",
        "2.  Author a simple image classifier model.\n",
        "3.  Export the model to ONNX format.\n",
        "4.  Save the ONNX model in a file.\n",
        "5.  Visualize the ONNX model graph using\n",
        "    [Netron](https://github.com/lutzroeder/netron).\n",
        "6.  Execute the ONNX model with [ONNX Runtime]{.title-ref}\n",
        "7.  Compare the PyTorch results with the ones from the ONNX Runtime.\n",
        "\n",
        "1. Install the required dependencies\n",
        "====================================\n",
        "\n",
        "Because the ONNX exporter uses `onnx` and `onnxscript` to translate\n",
        "PyTorch operators into ONNX operators, we will need to install them.\n",
        "\n",
        "> ``` {.bash}\n",
        "> pip install --upgrade onnx onnxscript\n",
        "> ```\n",
        "\n",
        "2. Author a simple image classifier model\n",
        "=========================================\n",
        "\n",
        "Once your environment is set up, let's start modeling our image\n",
        "classifier with PyTorch, exactly like we did in the [60 Minute\n",
        "Blitz](https://pytorch.org/tutorials/beginner/deep_learning_60min_blitz.html).\n"
      ]
    },
    {
      "cell_type": "code",
      "execution_count": 5,
      "metadata": {
        "id": "iHBDgKJ4GkB4"
      },
      "outputs": [],
      "source": [
        "import torch\n",
        "import torch.nn as nn\n",
        "import torch.nn.functional as F\n",
        "\n",
        "\n",
        "class ImageClassifierModel(nn.Module):\n",
        "    def __init__(self):\n",
        "        super().__init__()\n",
        "        self.conv1 = nn.Conv2d(1, 6, 5)\n",
        "        self.conv2 = nn.Conv2d(6, 16, 5)\n",
        "        self.fc1 = nn.Linear(16 * 5 * 5, 120)\n",
        "        self.fc2 = nn.Linear(120, 84)\n",
        "        self.fc3 = nn.Linear(84, 10)\n",
        "\n",
        "    def forward(self, x: torch.Tensor):\n",
        "        x = F.max_pool2d(F.relu(self.conv1(x)), (2, 2))\n",
        "        x = F.max_pool2d(F.relu(self.conv2(x)), 2)\n",
        "        x = torch.flatten(x, 1)\n",
        "        x = F.relu(self.fc1(x))\n",
        "        x = F.relu(self.fc2(x))\n",
        "        x = self.fc3(x)\n",
        "        return x"
      ]
    },
    {
      "cell_type": "markdown",
      "metadata": {
        "id": "cGufhpCEGkB5"
      },
      "source": [
        "3. Export the model to ONNX format\n",
        "==================================\n",
        "\n",
        "Now that we have our model defined, we need to instantiate it and create\n",
        "a random 32x32 input. Next, we can export the model to ONNX format.\n"
      ]
    },
    {
      "cell_type": "code",
      "execution_count": 6,
      "metadata": {
        "id": "1Fl5FkWPGkB5",
        "outputId": "ab1dbcaf-9899-4116-c045-385dbdb1eca3",
        "colab": {
          "base_uri": "https://localhost:8080/"
        }
      },
      "outputs": [
        {
          "output_type": "stream",
          "name": "stdout",
          "text": [
            "[torch.onnx] Obtain model graph for `ImageClassifierModel([...]` with `torch.export.export(..., strict=False)`...\n",
            "[torch.onnx] Obtain model graph for `ImageClassifierModel([...]` with `torch.export.export(..., strict=False)`... ✅\n",
            "[torch.onnx] Run decomposition...\n",
            "[torch.onnx] Run decomposition... ✅\n",
            "[torch.onnx] Translate the graph into ONNX...\n",
            "[torch.onnx] Translate the graph into ONNX... ✅\n"
          ]
        }
      ],
      "source": [
        "torch_model = ImageClassifierModel()\n",
        "# Create example inputs for exporting the model. The inputs should be a tuple of tensors.\n",
        "example_inputs = (torch.randn(1, 1, 32, 32),)\n",
        "onnx_program = torch.onnx.export(torch_model, example_inputs, dynamo=True)"
      ]
    },
    {
      "cell_type": "markdown",
      "metadata": {
        "id": "fsM9BMr5GkB5"
      },
      "source": [
        "3.5. (Optional) Optimize the ONNX model\n",
        "=======================================\n",
        "\n",
        "The ONNX model can be optimized with constant folding, and elimination\n",
        "of redundant nodes. The optimization is done in-place, so the original\n",
        "ONNX model is modified.\n"
      ]
    },
    {
      "cell_type": "code",
      "execution_count": 7,
      "metadata": {
        "id": "r53A8v2-GkB6"
      },
      "outputs": [],
      "source": [
        "onnx_program.optimize()"
      ]
    },
    {
      "cell_type": "markdown",
      "metadata": {
        "id": "DqehGm9tGkB6"
      },
      "source": [
        "As we can see, we didn\\'t need any code change to the model. The\n",
        "resulting ONNX model is stored within `torch.onnx.ONNXProgram` as a\n",
        "binary protobuf file.\n",
        "\n",
        "4. Save the ONNX model in a file\n",
        "================================\n",
        "\n",
        "Although having the exported model loaded in memory is useful in many\n",
        "applications, we can save it to disk with the following code:\n"
      ]
    },
    {
      "cell_type": "code",
      "execution_count": 8,
      "metadata": {
        "id": "0mMMVPxwGkB7"
      },
      "outputs": [],
      "source": [
        "onnx_program.save(\"image_classifier_model.onnx\")"
      ]
    },
    {
      "cell_type": "markdown",
      "metadata": {
        "id": "MrXOB4NLGkB7"
      },
      "source": [
        "You can load the ONNX file back into memory and check if it is well\n",
        "formed with the following code:\n"
      ]
    },
    {
      "cell_type": "code",
      "execution_count": 9,
      "metadata": {
        "id": "dUrRIebZGkB7"
      },
      "outputs": [],
      "source": [
        "import onnx\n",
        "\n",
        "onnx_model = onnx.load(\"image_classifier_model.onnx\")\n",
        "onnx.checker.check_model(onnx_model)"
      ]
    },
    {
      "cell_type": "markdown",
      "metadata": {
        "id": "fhAD4qFBGkB8"
      },
      "source": [
        "5. Visualize the ONNX model graph using Netron\n",
        "==============================================\n",
        "\n",
        "Now that we have our model saved in a file, we can visualize it with\n",
        "[Netron](https://github.com/lutzroeder/netron). Netron can either be\n",
        "installed on macos, Linux or Windows computers, or run directly from the\n",
        "browser. Let\\'s try the web version by opening the following link:\n",
        "<https://netron.app/>.\n",
        "\n",
        "![image](https://pytorch.org/tutorials/_static/img/onnx/netron_web_ui.png){.align-center\n",
        "width=\"70.0%\"}\n",
        "\n",
        "Once Netron is open, we can drag and drop our\n",
        "`image_classifier_model.onnx` file into the browser or select it after\n",
        "clicking the **Open model** button.\n",
        "\n",
        "![image](https://pytorch.org/tutorials/_static/img/onnx/image_classifier_onnx_model_on_netron_web_ui.png){width=\"50.0%\"}\n",
        "\n",
        "And that is it! We have successfully exported our PyTorch model to ONNX\n",
        "format and visualized it with Netron.\n",
        "\n",
        "6. Execute the ONNX model with ONNX Runtime\n",
        "===========================================\n",
        "\n",
        "The last step is executing the ONNX model with [ONNX\n",
        "Runtime]{.title-ref}, but before we do that, let\\'s install ONNX\n",
        "Runtime.\n",
        "\n",
        "> ``` {.bash}\n",
        "> pip install onnxruntime\n",
        "> ```\n",
        "\n",
        "The ONNX standard does not support all the data structure and types that\n",
        "PyTorch does, so we need to adapt PyTorch input\\'s to ONNX format before\n",
        "feeding it to ONNX Runtime. In our example, the input happens to be the\n",
        "same, but it might have more inputs than the original PyTorch model in\n",
        "more complex models.\n",
        "\n",
        "ONNX Runtime requires an additional step that involves converting all\n",
        "PyTorch tensors to Numpy (in CPU) and wrap them on a dictionary with\n",
        "keys being a string with the input name as key and the numpy tensor as\n",
        "the value.\n",
        "\n",
        "Now we can create an *ONNX Runtime Inference Session*, execute the ONNX\n",
        "model with the processed input and get the output. In this tutorial,\n",
        "ONNX Runtime is executed on CPU, but it could be executed on GPU as\n",
        "well.\n"
      ]
    },
    {
      "cell_type": "code",
      "source": [
        "%pip install onnxruntime"
      ],
      "metadata": {
        "id": "KFM3aYl5HcCK",
        "outputId": "22cc3975-51c7-4269-e4be-d06aaaa92543",
        "colab": {
          "base_uri": "https://localhost:8080/"
        }
      },
      "execution_count": 11,
      "outputs": [
        {
          "output_type": "stream",
          "name": "stdout",
          "text": [
            "Collecting onnxruntime\n",
            "  Downloading onnxruntime-1.22.0-cp311-cp311-manylinux_2_27_x86_64.manylinux_2_28_x86_64.whl.metadata (4.5 kB)\n",
            "Collecting coloredlogs (from onnxruntime)\n",
            "  Downloading coloredlogs-15.0.1-py2.py3-none-any.whl.metadata (12 kB)\n",
            "Requirement already satisfied: flatbuffers in /usr/local/lib/python3.11/dist-packages (from onnxruntime) (25.2.10)\n",
            "Requirement already satisfied: numpy>=1.21.6 in /usr/local/lib/python3.11/dist-packages (from onnxruntime) (2.0.2)\n",
            "Requirement already satisfied: packaging in /usr/local/lib/python3.11/dist-packages (from onnxruntime) (24.2)\n",
            "Requirement already satisfied: protobuf in /usr/local/lib/python3.11/dist-packages (from onnxruntime) (5.29.5)\n",
            "Requirement already satisfied: sympy in /usr/local/lib/python3.11/dist-packages (from onnxruntime) (1.13.1)\n",
            "Collecting humanfriendly>=9.1 (from coloredlogs->onnxruntime)\n",
            "  Downloading humanfriendly-10.0-py2.py3-none-any.whl.metadata (9.2 kB)\n",
            "Requirement already satisfied: mpmath<1.4,>=1.1.0 in /usr/local/lib/python3.11/dist-packages (from sympy->onnxruntime) (1.3.0)\n",
            "Downloading onnxruntime-1.22.0-cp311-cp311-manylinux_2_27_x86_64.manylinux_2_28_x86_64.whl (16.4 MB)\n",
            "\u001b[2K   \u001b[90m━━━━━━━━━━━━━━━━━━━━━━━━━━━━━━━━━━━━━━━━\u001b[0m \u001b[32m16.4/16.4 MB\u001b[0m \u001b[31m72.1 MB/s\u001b[0m eta \u001b[36m0:00:00\u001b[0m\n",
            "\u001b[?25hDownloading coloredlogs-15.0.1-py2.py3-none-any.whl (46 kB)\n",
            "\u001b[2K   \u001b[90m━━━━━━━━━━━━━━━━━━━━━━━━━━━━━━━━━━━━━━━━\u001b[0m \u001b[32m46.0/46.0 kB\u001b[0m \u001b[31m3.2 MB/s\u001b[0m eta \u001b[36m0:00:00\u001b[0m\n",
            "\u001b[?25hDownloading humanfriendly-10.0-py2.py3-none-any.whl (86 kB)\n",
            "\u001b[2K   \u001b[90m━━━━━━━━━━━━━━━━━━━━━━━━━━━━━━━━━━━━━━━━\u001b[0m \u001b[32m86.8/86.8 kB\u001b[0m \u001b[31m5.9 MB/s\u001b[0m eta \u001b[36m0:00:00\u001b[0m\n",
            "\u001b[?25hInstalling collected packages: humanfriendly, coloredlogs, onnxruntime\n",
            "Successfully installed coloredlogs-15.0.1 humanfriendly-10.0 onnxruntime-1.22.0\n"
          ]
        }
      ]
    },
    {
      "cell_type": "code",
      "execution_count": 12,
      "metadata": {
        "id": "lBzDF_ACGkB8",
        "outputId": "c7a3c71b-d677-4738-b666-0fe48f6d73c0",
        "colab": {
          "base_uri": "https://localhost:8080/"
        }
      },
      "outputs": [
        {
          "output_type": "stream",
          "name": "stdout",
          "text": [
            "Input length: 1\n",
            "Sample input: [array([[[[ 0.2160593 , -0.76881903, -0.6386749 , ...,  1.3790809 ,\n",
            "           1.0544404 ,  0.49596694],\n",
            "         [-0.4909868 , -0.94902956, -0.87827337, ...,  1.368655  ,\n",
            "           0.73715246,  0.50516176],\n",
            "         [ 1.6985083 ,  0.620665  , -1.3939036 , ...,  1.3374726 ,\n",
            "          -2.5002909 , -0.6359358 ],\n",
            "         ...,\n",
            "         [ 1.866908  ,  0.6360707 ,  0.50306433, ...,  1.4442831 ,\n",
            "          -0.0111463 ,  1.2552758 ],\n",
            "         [ 0.3328391 ,  2.228927  , -0.0560937 , ..., -2.0402255 ,\n",
            "           1.1449171 , -1.0483974 ],\n",
            "         [ 0.4200987 ,  0.01458848, -0.35004434, ...,  0.65388817,\n",
            "          -0.22475098,  1.7334405 ]]]], dtype=float32)]\n"
          ]
        }
      ],
      "source": [
        "import onnxruntime\n",
        "\n",
        "onnx_inputs = [tensor.numpy(force=True) for tensor in example_inputs]\n",
        "print(f\"Input length: {len(onnx_inputs)}\")\n",
        "print(f\"Sample input: {onnx_inputs}\")\n",
        "\n",
        "ort_session = onnxruntime.InferenceSession(\n",
        "    \"./image_classifier_model.onnx\", providers=[\"CPUExecutionProvider\"]\n",
        ")\n",
        "\n",
        "onnxruntime_input = {input_arg.name: input_value for input_arg, input_value in zip(ort_session.get_inputs(), onnx_inputs)}\n",
        "\n",
        "# ONNX Runtime returns a list of outputs\n",
        "onnxruntime_outputs = ort_session.run(None, onnxruntime_input)[0]"
      ]
    },
    {
      "cell_type": "markdown",
      "metadata": {
        "id": "TQanyST4GkB8"
      },
      "source": [
        "7. Compare the PyTorch results with the ones from the ONNX Runtime\n",
        "==================================================================\n",
        "\n",
        "The best way to determine whether the exported model is looking good is\n",
        "through numerical evaluation against PyTorch, which is our source of\n",
        "truth.\n",
        "\n",
        "For that, we need to execute the PyTorch model with the same input and\n",
        "compare the results with ONNX Runtime\\'s. Before comparing the results,\n",
        "we need to convert the PyTorch\\'s output to match ONNX\\'s format.\n"
      ]
    },
    {
      "cell_type": "code",
      "execution_count": 13,
      "metadata": {
        "id": "8raqtTvZGkB8",
        "outputId": "67919d92-140b-408c-c4ac-b8c3c12e17ca",
        "colab": {
          "base_uri": "https://localhost:8080/"
        }
      },
      "outputs": [
        {
          "output_type": "stream",
          "name": "stdout",
          "text": [
            "PyTorch and ONNX Runtime output matched!\n",
            "Output length: 1\n",
            "Sample output: [[-0.08770348 -0.12050943 -0.1521447  -0.11862986 -0.01742456  0.03881743\n",
            "   0.06990384 -0.06352676 -0.08808622  0.12056257]]\n"
          ]
        }
      ],
      "source": [
        "torch_outputs = torch_model(*example_inputs)\n",
        "\n",
        "assert len(torch_outputs) == len(onnxruntime_outputs)\n",
        "for torch_output, onnxruntime_output in zip(torch_outputs, onnxruntime_outputs):\n",
        "    torch.testing.assert_close(torch_output, torch.tensor(onnxruntime_output))\n",
        "\n",
        "print(\"PyTorch and ONNX Runtime output matched!\")\n",
        "print(f\"Output length: {len(onnxruntime_outputs)}\")\n",
        "print(f\"Sample output: {onnxruntime_outputs}\")"
      ]
    },
    {
      "cell_type": "markdown",
      "metadata": {
        "id": "io-uQJpxGkB8"
      },
      "source": [
        "Conclusion\n",
        "==========\n",
        "\n",
        "That is about it! We have successfully exported our PyTorch model to\n",
        "ONNX format, saved the model to disk, viewed it using Netron, executed\n",
        "it with ONNX Runtime and finally compared its numerical results with\n",
        "PyTorch\\'s.\n",
        "\n",
        "Further reading\n",
        "===============\n",
        "\n",
        "The list below refers to tutorials that ranges from basic examples to\n",
        "advanced scenarios, not necessarily in the order they are listed. Feel\n",
        "free to jump directly to specific topics of your interest or sit tight\n",
        "and have fun going through all of them to learn all there is about the\n",
        "ONNX exporter.\n",
        "\n",
        "\n"
      ]
    },
    {
      "cell_type": "code",
      "source": [],
      "metadata": {
        "id": "wjTnAm4cGoRE"
      },
      "execution_count": 13,
      "outputs": []
    }
  ],
  "metadata": {
    "kernelspec": {
      "display_name": "Python 3",
      "language": "python",
      "name": "python3"
    },
    "language_info": {
      "codemirror_mode": {
        "name": "ipython",
        "version": 3
      },
      "file_extension": ".py",
      "mimetype": "text/x-python",
      "name": "python",
      "nbconvert_exporter": "python",
      "pygments_lexer": "ipython3",
      "version": "3.10.12"
    },
    "colab": {
      "provenance": []
    }
  },
  "nbformat": 4,
  "nbformat_minor": 0
}