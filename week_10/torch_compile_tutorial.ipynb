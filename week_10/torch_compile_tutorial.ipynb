{
  "cells": [
    {
      "cell_type": "code",
      "execution_count": 1,
      "metadata": {
        "id": "Aw40lz0TqsDL"
      },
      "outputs": [],
      "source": [
        "%matplotlib inline"
      ]
    },
    {
      "cell_type": "markdown",
      "metadata": {
        "id": "H_ZKAiJUqsDO"
      },
      "source": [
        "Introduction to `torch.compile`\n",
        "===============================\n",
        "\n",
        "**Author:** William Wen\n"
      ]
    },
    {
      "cell_type": "markdown",
      "metadata": {
        "id": "7cNDX0eMqsDQ"
      },
      "source": [
        "`torch.compile` is the latest method to speed up your PyTorch code!\n",
        "`torch.compile` makes PyTorch code run faster by JIT-compiling PyTorch\n",
        "code into optimized kernels, all while requiring minimal code changes.\n",
        "\n",
        "In this tutorial, we cover basic `torch.compile` usage, and demonstrate\n",
        "the advantages of `torch.compile` over previous PyTorch compiler\n",
        "solutions, such as\n",
        "[TorchScript](https://pytorch.org/docs/stable/jit.html) and [FX\n",
        "Tracing](https://pytorch.org/docs/stable/fx.html#torch.fx.symbolic_trace).\n",
        "\n",
        "**Contents**\n",
        "\n",
        "\n",
        "**Required pip Dependencies**\n",
        "\n",
        "-   `torch >= 2.0`\n",
        "-   `torchvision`\n",
        "-   `numpy`\n",
        "-   `scipy`\n",
        "-   `tabulate`\n",
        "\n",
        "**System Requirements** - A C++ compiler, such as `g++` - Python\n",
        "development package (`python-devel`/`python-dev`)\n"
      ]
    },
    {
      "cell_type": "markdown",
      "metadata": {
        "id": "VfZQRWgcqsDR"
      },
      "source": [
        "NOTE: a modern NVIDIA GPU (H100, A100, or V100) is recommended for this\n",
        "tutorial in order to reproduce the speedup numbers shown below and\n",
        "documented elsewhere.\n"
      ]
    },
    {
      "cell_type": "code",
      "execution_count": 2,
      "metadata": {
        "id": "Vuq84LaIqsDS",
        "outputId": "d76dc6d8-c279-4998-ba57-3226f5ef4926",
        "colab": {
          "base_uri": "https://localhost:8080/"
        }
      },
      "outputs": [
        {
          "output_type": "stream",
          "name": "stderr",
          "text": [
            "/tmp/ipython-input-2-231343347.py:11: UserWarning: GPU is not NVIDIA V100, A100, or H100. Speedup numbers may be lower than expected.\n",
            "  warnings.warn(\n"
          ]
        }
      ],
      "source": [
        "import torch\n",
        "import warnings\n",
        "\n",
        "gpu_ok = False\n",
        "if torch.cuda.is_available():\n",
        "    device_cap = torch.cuda.get_device_capability()\n",
        "    if device_cap in ((7, 0), (8, 0), (9, 0)):\n",
        "        gpu_ok = True\n",
        "\n",
        "if not gpu_ok:\n",
        "    warnings.warn(\n",
        "        \"GPU is not NVIDIA V100, A100, or H100. Speedup numbers may be lower \"\n",
        "        \"than expected.\"\n",
        "    )"
      ]
    },
    {
      "cell_type": "markdown",
      "metadata": {
        "id": "uyeya__zqsDT"
      },
      "source": [
        "Basic Usage\n",
        "===========\n",
        "\n",
        "`torch.compile` is included in the latest PyTorch. Running TorchInductor\n",
        "on GPU requires Triton, which is included with the PyTorch 2.0 nightly\n",
        "binary. If Triton is still missing, try installing `torchtriton` via pip\n",
        "(`pip install torchtriton --extra-index-url \"https://download.pytorch.org/whl/nightly/cu117\"`\n",
        "for CUDA 11.7).\n",
        "\n",
        "Arbitrary Python functions can be optimized by passing the callable to\n",
        "`torch.compile`. We can then call the returned optimized function in\n",
        "place of the original function.\n"
      ]
    },
    {
      "cell_type": "code",
      "execution_count": 3,
      "metadata": {
        "id": "a8XRP1qqqsDU",
        "outputId": "aeac5833-cb04-409f-cd9b-cf3768b840d9",
        "colab": {
          "base_uri": "https://localhost:8080/"
        }
      },
      "outputs": [
        {
          "output_type": "stream",
          "name": "stdout",
          "text": [
            "tensor([[ 0.7198, -0.1713,  1.7675,  1.8321,  1.2644, -0.1902,  0.3201,  1.0123,\n",
            "          1.1733,  0.9254],\n",
            "        [ 1.0384, -0.0285,  0.9342, -0.7283,  1.3724,  1.4058,  1.1847,  0.1546,\n",
            "          0.4578,  0.4899],\n",
            "        [-0.2054,  0.4608,  0.9911, -0.0846,  0.3779,  0.3779,  0.1887,  0.1492,\n",
            "          0.0091,  0.7202],\n",
            "        [ 1.1547,  0.2087,  1.3306,  1.1124,  0.8787,  0.5917,  0.8509, -0.2039,\n",
            "          1.4512,  0.5375],\n",
            "        [ 0.6124, -0.2881,  0.0305,  0.4831,  1.5665, -0.2783,  1.1604,  1.8423,\n",
            "          0.9622,  0.6977],\n",
            "        [ 0.6001,  0.8091, -0.1112,  1.0659,  1.0641,  0.8233, -0.0419,  1.3345,\n",
            "          0.1695,  1.6929],\n",
            "        [ 0.2633,  0.3079,  1.2722,  0.8152,  1.7059,  1.3629,  1.1429,  0.6334,\n",
            "          1.3122,  0.1158],\n",
            "        [-0.5457,  0.4802,  1.8297,  0.6048,  0.7095,  0.0288,  0.8733,  0.3300,\n",
            "         -0.3680,  0.1668],\n",
            "        [-0.0171, -0.3566,  0.9610,  0.7617, -0.3447,  0.5309,  1.8511,  0.7938,\n",
            "          1.3473,  1.5914],\n",
            "        [-0.2915, -0.3416,  1.5546, -0.2344,  0.2632,  0.9610,  1.0254,  1.2076,\n",
            "          1.1131, -1.4475]])\n"
          ]
        }
      ],
      "source": [
        "def foo(x, y):\n",
        "    a = torch.sin(x)\n",
        "    b = torch.cos(y)\n",
        "    return a + b\n",
        "opt_foo1 = torch.compile(foo)\n",
        "print(opt_foo1(torch.randn(10, 10), torch.randn(10, 10)))"
      ]
    },
    {
      "cell_type": "markdown",
      "metadata": {
        "id": "TrPiN5JCqsDV"
      },
      "source": [
        "Alternatively, we can decorate the function.\n"
      ]
    },
    {
      "cell_type": "code",
      "execution_count": 4,
      "metadata": {
        "id": "0FKc9rFhqsDX",
        "outputId": "72fde26e-bc59-4b09-a6aa-5cf8f0175be7",
        "colab": {
          "base_uri": "https://localhost:8080/"
        }
      },
      "outputs": [
        {
          "output_type": "stream",
          "name": "stdout",
          "text": [
            "tensor([[ 7.9414e-01,  1.2794e+00, -1.3200e+00,  1.2390e+00, -8.6748e-01,\n",
            "         -1.0112e-01, -2.0662e-02,  6.0547e-01,  1.4508e-01,  1.0391e+00],\n",
            "        [ 6.3774e-01, -1.3560e+00,  1.3120e+00,  1.1189e+00,  1.9800e+00,\n",
            "         -6.2696e-01,  6.8635e-01,  3.7673e-01,  6.9580e-01,  7.1447e-01],\n",
            "        [-3.1533e-01,  7.6680e-01, -5.3394e-02, -7.5036e-01, -2.2990e-02,\n",
            "          6.8529e-01,  1.3530e+00,  9.6356e-02, -1.0646e-01, -7.2923e-02],\n",
            "        [ 2.7073e-01,  1.5346e-01,  7.8273e-01, -1.1649e-01, -9.3213e-01,\n",
            "          1.1090e+00,  3.7734e-01,  1.7230e+00,  1.4655e+00,  1.8293e+00],\n",
            "        [ 1.7805e+00,  8.7070e-01,  8.1110e-01,  1.6154e+00,  9.8415e-01,\n",
            "          8.8941e-01,  1.6112e+00,  1.8030e+00,  1.8037e+00,  1.4651e-01],\n",
            "        [ 2.2898e-01,  1.1648e+00,  9.8982e-01,  1.2475e+00,  7.1438e-01,\n",
            "         -2.3520e-01,  6.7882e-01,  3.1488e-01,  4.1282e-01,  1.9857e+00],\n",
            "        [ 7.9016e-01, -6.4244e-01, -7.1780e-02,  1.7425e+00,  5.9658e-01,\n",
            "         -3.0514e-01,  1.1779e+00, -1.5507e-01,  1.3589e+00, -4.0760e-01],\n",
            "        [ 1.6146e+00,  5.7401e-01, -2.1560e-01,  9.7416e-02,  4.9956e-01,\n",
            "          4.1428e-01, -8.4835e-01,  8.8704e-01,  1.2765e+00,  7.8402e-02],\n",
            "        [-5.3783e-01,  1.3000e+00, -1.4907e-04,  6.1310e-02,  2.3827e-01,\n",
            "         -3.4526e-01,  1.7811e+00, -3.2127e-01,  1.8258e+00,  3.7373e-01],\n",
            "        [ 1.9939e+00,  1.7935e+00,  6.8110e-01,  3.2668e-02,  1.6777e+00,\n",
            "          3.4587e-01,  9.0765e-01,  1.8805e+00, -2.0151e-01,  1.8417e+00]])\n"
          ]
        }
      ],
      "source": [
        "t1 = torch.randn(10, 10)\n",
        "t2 = torch.randn(10, 10)\n",
        "\n",
        "@torch.compile\n",
        "def opt_foo2(x, y):\n",
        "    a = torch.sin(x)\n",
        "    b = torch.cos(y)\n",
        "    return a + b\n",
        "print(opt_foo2(t1, t2))"
      ]
    },
    {
      "cell_type": "markdown",
      "metadata": {
        "id": "wcQHQAZBqsDY"
      },
      "source": [
        "We can also optimize `torch.nn.Module` instances.\n"
      ]
    },
    {
      "cell_type": "code",
      "execution_count": 5,
      "metadata": {
        "id": "IhU0zmUYqsDY",
        "outputId": "462cf612-57bd-4d4d-c737-8f1d9264469d",
        "colab": {
          "base_uri": "https://localhost:8080/"
        }
      },
      "outputs": [
        {
          "output_type": "stream",
          "name": "stdout",
          "text": [
            "tensor([[0.0000, 0.2006, 0.4798, 0.6102, 0.0000, 0.0000, 0.1879, 0.0000, 0.0452,\n",
            "         0.0000],\n",
            "        [0.0000, 0.0000, 0.2386, 0.0209, 0.0000, 0.3346, 0.0000, 0.4132, 0.2831,\n",
            "         0.0000],\n",
            "        [0.0000, 0.0000, 0.0000, 0.0000, 0.0000, 0.1626, 0.1518, 0.0000, 0.0000,\n",
            "         0.3174],\n",
            "        [0.0000, 0.0000, 0.0000, 0.0000, 0.6378, 0.1308, 0.0000, 0.0000, 0.0000,\n",
            "         0.3700],\n",
            "        [0.4734, 0.0000, 0.2960, 0.1057, 0.2784, 0.4522, 0.0000, 0.2040, 0.2996,\n",
            "         0.0000],\n",
            "        [0.1060, 0.0000, 0.2568, 0.1646, 0.0000, 0.0150, 0.1353, 0.0000, 0.0000,\n",
            "         0.0000],\n",
            "        [0.2909, 0.3487, 0.0000, 0.2984, 0.0000, 0.7762, 0.4334, 0.4595, 0.9832,\n",
            "         0.7313],\n",
            "        [0.0000, 1.1428, 1.0770, 0.0000, 1.1954, 0.0000, 0.0000, 0.2860, 0.0000,\n",
            "         0.6307],\n",
            "        [0.6294, 0.3150, 0.3151, 0.1927, 0.0000, 0.0000, 0.1318, 0.0000, 0.0000,\n",
            "         0.7981],\n",
            "        [0.0000, 1.0691, 0.0000, 0.0000, 0.0000, 0.0041, 0.0000, 0.0000, 0.0784,\n",
            "         0.0000]], grad_fn=<CompiledFunctionBackward>)\n"
          ]
        }
      ],
      "source": [
        "t = torch.randn(10, 100)\n",
        "\n",
        "class MyModule(torch.nn.Module):\n",
        "    def __init__(self):\n",
        "        super().__init__()\n",
        "        self.lin = torch.nn.Linear(100, 10)\n",
        "\n",
        "    def forward(self, x):\n",
        "        return torch.nn.functional.relu(self.lin(x))\n",
        "\n",
        "mod = MyModule()\n",
        "mod.compile()\n",
        "print(mod(t))\n",
        "## or:\n",
        "# opt_mod = torch.compile(mod)\n",
        "# print(opt_mod(t))"
      ]
    },
    {
      "cell_type": "markdown",
      "metadata": {
        "id": "T2oHSSBLqsDY"
      },
      "source": [
        "torch.compile and Nested Calls\n",
        "==============================\n",
        "\n",
        "Nested function calls within the decorated function will also be\n",
        "compiled.\n"
      ]
    },
    {
      "cell_type": "code",
      "execution_count": 6,
      "metadata": {
        "id": "l4O_3jCUqsDY",
        "outputId": "d806ddd8-3c2a-4ef0-9033-c9f73398d484",
        "colab": {
          "base_uri": "https://localhost:8080/"
        }
      },
      "outputs": [
        {
          "output_type": "stream",
          "name": "stdout",
          "text": [
            "tensor([[ 7.9414e-01,  1.2794e+00, -1.3200e+00,  1.2390e+00, -8.6748e-01,\n",
            "         -1.0112e-01, -2.0662e-02,  6.0547e-01,  1.4508e-01,  1.0391e+00],\n",
            "        [ 6.3774e-01, -1.3560e+00,  1.3120e+00,  1.1189e+00,  1.9800e+00,\n",
            "         -6.2696e-01,  6.8635e-01,  3.7673e-01,  6.9580e-01,  7.1447e-01],\n",
            "        [-3.1533e-01,  7.6680e-01, -5.3394e-02, -7.5036e-01, -2.2990e-02,\n",
            "          6.8529e-01,  1.3530e+00,  9.6356e-02, -1.0646e-01, -7.2923e-02],\n",
            "        [ 2.7073e-01,  1.5346e-01,  7.8273e-01, -1.1649e-01, -9.3213e-01,\n",
            "          1.1090e+00,  3.7734e-01,  1.7230e+00,  1.4655e+00,  1.8293e+00],\n",
            "        [ 1.7805e+00,  8.7070e-01,  8.1110e-01,  1.6154e+00,  9.8415e-01,\n",
            "          8.8941e-01,  1.6112e+00,  1.8030e+00,  1.8037e+00,  1.4651e-01],\n",
            "        [ 2.2898e-01,  1.1648e+00,  9.8982e-01,  1.2475e+00,  7.1438e-01,\n",
            "         -2.3520e-01,  6.7882e-01,  3.1488e-01,  4.1282e-01,  1.9857e+00],\n",
            "        [ 7.9016e-01, -6.4244e-01, -7.1780e-02,  1.7425e+00,  5.9658e-01,\n",
            "         -3.0514e-01,  1.1779e+00, -1.5507e-01,  1.3589e+00, -4.0760e-01],\n",
            "        [ 1.6146e+00,  5.7401e-01, -2.1560e-01,  9.7416e-02,  4.9956e-01,\n",
            "          4.1428e-01, -8.4835e-01,  8.8704e-01,  1.2765e+00,  7.8402e-02],\n",
            "        [-5.3783e-01,  1.3000e+00, -1.4907e-04,  6.1310e-02,  2.3827e-01,\n",
            "         -3.4526e-01,  1.7811e+00, -3.2127e-01,  1.8258e+00,  3.7373e-01],\n",
            "        [ 1.9939e+00,  1.7935e+00,  6.8110e-01,  3.2668e-02,  1.6777e+00,\n",
            "          3.4587e-01,  9.0765e-01,  1.8805e+00, -2.0151e-01,  1.8417e+00]])\n"
          ]
        }
      ],
      "source": [
        "def nested_function(x):\n",
        "    return torch.sin(x)\n",
        "\n",
        "@torch.compile\n",
        "def outer_function(x, y):\n",
        "    a = nested_function(x)\n",
        "    b = torch.cos(y)\n",
        "    return a + b\n",
        "\n",
        "print(outer_function(t1, t2))"
      ]
    },
    {
      "cell_type": "markdown",
      "metadata": {
        "id": "cDAr2MN5qsDY"
      },
      "source": [
        "In the same fashion, when compiling a module all sub-modules and methods\n",
        "within it, that are not in a skip list, are also compiled.\n"
      ]
    },
    {
      "cell_type": "code",
      "execution_count": 7,
      "metadata": {
        "id": "xZngnkYhqsDZ",
        "outputId": "948004e8-4ce0-4c21-8cc0-df292fbbf3a2",
        "colab": {
          "base_uri": "https://localhost:8080/"
        }
      },
      "outputs": [
        {
          "output_type": "stream",
          "name": "stdout",
          "text": [
            "tensor([[0.0000, 0.0000],\n",
            "        [0.0000, 0.0587],\n",
            "        [0.0000, 0.1209],\n",
            "        [0.0000, 0.2177],\n",
            "        [0.0000, 0.1731],\n",
            "        [0.0000, 0.0648],\n",
            "        [0.0000, 0.1839],\n",
            "        [0.0000, 0.1274],\n",
            "        [0.0430, 0.1260],\n",
            "        [0.0000, 0.0983]], grad_fn=<CompiledFunctionBackward>)\n"
          ]
        }
      ],
      "source": [
        "class OuterModule(torch.nn.Module):\n",
        "    def __init__(self):\n",
        "        super().__init__()\n",
        "        self.inner_module = MyModule()\n",
        "        self.outer_lin = torch.nn.Linear(10, 2)\n",
        "\n",
        "    def forward(self, x):\n",
        "        x = self.inner_module(x)\n",
        "        return torch.nn.functional.relu(self.outer_lin(x))\n",
        "\n",
        "outer_mod = OuterModule()\n",
        "outer_mod.compile()\n",
        "print(outer_mod(t))"
      ]
    },
    {
      "cell_type": "markdown",
      "metadata": {
        "id": "eHcU33JCqsDZ"
      },
      "source": [
        "We can also disable some functions from being compiled by using\n",
        "`torch.compiler.disable`. Suppose you want to disable the tracing on\n",
        "just the `complex_function` function, but want to continue the tracing\n",
        "back in `complex_conjugate`. In this case, you can use\n",
        "`torch.compiler.disable(recursive=False)` option. Otherwise, the default\n",
        "is `recursive=True`.\n"
      ]
    },
    {
      "cell_type": "code",
      "execution_count": 8,
      "metadata": {
        "id": "rHKmX8sDqsDa",
        "outputId": "3235d47a-9cfe-43e4-b633-5929a83bd982",
        "colab": {
          "base_uri": "https://localhost:8080/"
        }
      },
      "outputs": [
        {
          "output_type": "stream",
          "name": "stdout",
          "text": [
            "tensor([4.4721, 5.8310])\n"
          ]
        },
        {
          "output_type": "stream",
          "name": "stderr",
          "text": [
            "/usr/local/lib/python3.11/dist-packages/torch/_inductor/lowering.py:1814: UserWarning: Torchinductor does not support code generation for complex operators. Performance may be worse than eager.\n",
            "  warnings.warn(\n"
          ]
        }
      ],
      "source": [
        "def complex_conjugate(z):\n",
        "    return torch.conj(z)\n",
        "\n",
        "@torch.compiler.disable(recursive=False)\n",
        "def complex_function(real, imag):\n",
        "    # Assuming this function cause problems in the compilation\n",
        "    z = torch.complex(real, imag)\n",
        "    return complex_conjugate(z)\n",
        "\n",
        "def outer_function():\n",
        "    real = torch.tensor([2, 3], dtype=torch.float32)\n",
        "    imag = torch.tensor([4, 5], dtype=torch.float32)\n",
        "    z = complex_function(real, imag)\n",
        "    return torch.abs(z)\n",
        "\n",
        "# Try to compile the outer_function\n",
        "try:\n",
        "    opt_outer_function = torch.compile(outer_function)\n",
        "    print(opt_outer_function())\n",
        "except Exception as e:\n",
        "    print(\"Compilation of outer_function failed:\", e)"
      ]
    },
    {
      "cell_type": "markdown",
      "metadata": {
        "id": "0KlxRwruqsDa"
      },
      "source": [
        "Best Practices and Recommendations\n",
        "==================================\n",
        "\n",
        "Behavior of `torch.compile` with Nested Modules and Function Calls\n",
        "\n",
        "When you use `torch.compile`, the compiler will try to recursively\n",
        "compile every function call inside the target function or module inside\n",
        "the target function or module that is not in a skip list (such as\n",
        "built-ins, some functions in the torch.\\* namespace).\n",
        "\n",
        "**Best Practices:**\n",
        "\n",
        "1\\. **Top-Level Compilation:** One approach is to compile at the highest\n",
        "level possible (i.e., when the top-level module is initialized/called)\n",
        "and selectively disable compilation when encountering excessive graph\n",
        "breaks or errors. If there are still many compile issues, compile\n",
        "individual subcomponents instead.\n",
        "\n",
        "2\\. **Modular Testing:** Test individual functions and modules with\n",
        "`torch.compile` before integrating them into larger models to isolate\n",
        "potential issues.\n",
        "\n",
        "3\\. **Disable Compilation Selectively:** If certain functions or\n",
        "sub-modules cannot be handled by [torch.compile]{.title-ref}, use the\n",
        "[torch.compiler.disable]{.title-ref} context managers to recursively\n",
        "exclude them from compilation.\n",
        "\n",
        "4\\. **Compile Leaf Functions First:** In complex models with multiple\n",
        "nested functions and modules, start by compiling the leaf functions or\n",
        "modules first. For more information see [TorchDynamo APIs for\n",
        "fine-grained\n",
        "tracing](https://pytorch.org/docs/stable/torch.compiler_fine_grain_apis.html).\n",
        "\n",
        "5.  **Prefer \\`\\`mod.compile()\\`\\` over \\`\\`torch.compile(mod)\\`\\`:**\n",
        "    Avoids `_orig_` prefix issues in `state_dict`.\n",
        "\n",
        "6\\. **Use \\`\\`fullgraph=True\\`\\` to catch graph breaks:** Helps ensure\n",
        "end-to-end compilation, maximizing speedup and compatibility with\n",
        "`torch.export`.\n"
      ]
    },
    {
      "cell_type": "markdown",
      "metadata": {
        "id": "SnA9GClGqsDa"
      },
      "source": [
        "Demonstrating Speedups\n",
        "======================\n",
        "\n",
        "Let\\'s now demonstrate that using `torch.compile` can speed up real\n",
        "models. We will compare standard eager mode and `torch.compile` by\n",
        "evaluating and training a `torchvision` model on random data.\n",
        "\n",
        "Before we start, we need to define some utility functions.\n"
      ]
    },
    {
      "cell_type": "code",
      "execution_count": 9,
      "metadata": {
        "id": "QgdJRj3uqsDb"
      },
      "outputs": [],
      "source": [
        "# Returns the result of running `fn()` and the time it took for `fn()` to run,\n",
        "# in seconds. We use CUDA events and synchronization for the most accurate\n",
        "# measurements.\n",
        "def timed(fn):\n",
        "    start = torch.cuda.Event(enable_timing=True)\n",
        "    end = torch.cuda.Event(enable_timing=True)\n",
        "    start.record()\n",
        "    result = fn()\n",
        "    end.record()\n",
        "    torch.cuda.synchronize()\n",
        "    return result, start.elapsed_time(end) / 1000\n",
        "\n",
        "# Generates random input and targets data for the model, where `b` is\n",
        "# batch size.\n",
        "def generate_data(b):\n",
        "    return (\n",
        "        torch.randn(b, 3, 128, 128).to(torch.float32).cuda(),\n",
        "        torch.randint(1000, (b,)).cuda(),\n",
        "    )\n",
        "\n",
        "N_ITERS = 10\n",
        "\n",
        "from torchvision.models import densenet121\n",
        "def init_model():\n",
        "    return densenet121().to(torch.float32).cuda()"
      ]
    },
    {
      "cell_type": "markdown",
      "metadata": {
        "id": "cOWqTyJZqsDb"
      },
      "source": [
        "First, let\\'s compare inference.\n",
        "\n",
        "Note that in the call to `torch.compile`, we have the additional `mode`\n",
        "argument, which we will discuss below.\n"
      ]
    },
    {
      "cell_type": "code",
      "execution_count": 10,
      "metadata": {
        "id": "lyCtJMHGqsDb",
        "outputId": "dbe17c23-a087-48bd-fafc-de52301b7d08",
        "colab": {
          "base_uri": "https://localhost:8080/"
        }
      },
      "outputs": [
        {
          "output_type": "stream",
          "name": "stdout",
          "text": [
            "eager: 1.0150154418945312\n"
          ]
        },
        {
          "output_type": "stream",
          "name": "stderr",
          "text": [
            "W0626 14:39:18.693000 547 torch/_inductor/utils.py:1137] [0/0] Not enough SMs to use max_autotune_gemm mode\n"
          ]
        },
        {
          "output_type": "stream",
          "name": "stdout",
          "text": [
            "compile: 172.362078125\n"
          ]
        }
      ],
      "source": [
        "model = init_model()\n",
        "\n",
        "# Reset since we are using a different mode.\n",
        "import torch._dynamo\n",
        "torch._dynamo.reset()\n",
        "\n",
        "model_opt = torch.compile(model, mode=\"reduce-overhead\")\n",
        "\n",
        "inp = generate_data(16)[0]\n",
        "with torch.no_grad():\n",
        "    print(\"eager:\", timed(lambda: model(inp))[1])\n",
        "    print(\"compile:\", timed(lambda: model_opt(inp))[1])"
      ]
    },
    {
      "cell_type": "markdown",
      "metadata": {
        "id": "Fl0efMXFqsDb"
      },
      "source": [
        "Notice that `torch.compile` takes a lot longer to complete compared to\n",
        "eager. This is because `torch.compile` compiles the model into optimized\n",
        "kernels as it executes. In our example, the structure of the model\n",
        "doesn\\'t change, and so recompilation is not needed. So if we run our\n",
        "optimized model several more times, we should see a significant\n",
        "improvement compared to eager.\n"
      ]
    },
    {
      "cell_type": "code",
      "execution_count": 11,
      "metadata": {
        "id": "wakjUYTCqsDb",
        "outputId": "2e47eef1-65bd-46b0-bd28-a3a3a812a819",
        "colab": {
          "base_uri": "https://localhost:8080/"
        }
      },
      "outputs": [
        {
          "output_type": "stream",
          "name": "stdout",
          "text": [
            "eager eval time 0: 0.04603209686279297\n",
            "eager eval time 1: 0.024002752304077148\n",
            "eager eval time 2: 0.021936384201049805\n",
            "eager eval time 3: 0.02175939178466797\n",
            "eager eval time 4: 0.02235638427734375\n",
            "eager eval time 5: 0.02446214485168457\n",
            "eager eval time 6: 0.02194361686706543\n",
            "eager eval time 7: 0.025506591796875\n",
            "eager eval time 8: 0.022314144134521485\n",
            "eager eval time 9: 0.02146374320983887\n",
            "~~~~~~~~~~\n",
            "compile eval time 0: 0.8381399536132812\n",
            "compile eval time 1: 0.017057119369506837\n",
            "compile eval time 2: 0.01831158447265625\n",
            "compile eval time 3: 0.01681635284423828\n",
            "compile eval time 4: 0.017563455581665038\n",
            "compile eval time 5: 0.01777302360534668\n",
            "compile eval time 6: 0.01753606414794922\n",
            "compile eval time 7: 0.017021856307983398\n",
            "compile eval time 8: 0.01688688087463379\n",
            "compile eval time 9: 0.017830591201782226\n",
            "~~~~~~~~~~\n",
            "(eval) eager median: 0.02233526420593262, compile median: 0.017549759864807127, speedup: 1.2726820411213693x\n",
            "~~~~~~~~~~\n"
          ]
        }
      ],
      "source": [
        "eager_times = []\n",
        "for i in range(N_ITERS):\n",
        "    inp = generate_data(16)[0]\n",
        "    with torch.no_grad():\n",
        "        _, eager_time = timed(lambda: model(inp))\n",
        "    eager_times.append(eager_time)\n",
        "    print(f\"eager eval time {i}: {eager_time}\")\n",
        "\n",
        "print(\"~\" * 10)\n",
        "\n",
        "compile_times = []\n",
        "for i in range(N_ITERS):\n",
        "    inp = generate_data(16)[0]\n",
        "    with torch.no_grad():\n",
        "        _, compile_time = timed(lambda: model_opt(inp))\n",
        "    compile_times.append(compile_time)\n",
        "    print(f\"compile eval time {i}: {compile_time}\")\n",
        "print(\"~\" * 10)\n",
        "\n",
        "import numpy as np\n",
        "eager_med = np.median(eager_times)\n",
        "compile_med = np.median(compile_times)\n",
        "speedup = eager_med / compile_med\n",
        "assert(speedup > 1)\n",
        "print(f\"(eval) eager median: {eager_med}, compile median: {compile_med}, speedup: {speedup}x\")\n",
        "print(\"~\" * 10)"
      ]
    },
    {
      "cell_type": "markdown",
      "metadata": {
        "id": "_7DosIduqsDc"
      },
      "source": [
        "And indeed, we can see that running our model with `torch.compile`\n",
        "results in a significant speedup. Speedup mainly comes from reducing\n",
        "Python overhead and GPU read/writes, and so the observed speedup may\n",
        "vary on factors such as model architecture and batch size. For example,\n",
        "if a model\\'s architecture is simple and the amount of data is large,\n",
        "then the bottleneck would be GPU compute and the observed speedup may be\n",
        "less significant.\n",
        "\n",
        "You may also see different speedup results depending on the chosen\n",
        "`mode` argument. The `\"reduce-overhead\"` mode uses CUDA graphs to\n",
        "further reduce the overhead of Python. For your own models, you may need\n",
        "to experiment with different modes to maximize speedup. You can read\n",
        "more about modes\n",
        "[here](https://pytorch.org/get-started/pytorch-2.0/#user-experience).\n",
        "\n",
        "You may might also notice that the second time we run our model with\n",
        "`torch.compile` is significantly slower than the other runs, although it\n",
        "is much faster than the first run. This is because the\n",
        "`\"reduce-overhead\"` mode runs a few warm-up iterations for CUDA graphs.\n",
        "\n",
        "For general PyTorch benchmarking, you can try using\n",
        "`torch.utils.benchmark` instead of the `timed` function we defined\n",
        "above. We wrote our own timing function in this tutorial to show\n",
        "`torch.compile`\\'s compilation latency.\n",
        "\n",
        "Now, let\\'s consider comparing training.\n"
      ]
    },
    {
      "cell_type": "code",
      "execution_count": 12,
      "metadata": {
        "id": "W1Knj1z1qsDc",
        "outputId": "516417ec-b915-4a69-cbf5-20d62d61a55b",
        "colab": {
          "base_uri": "https://localhost:8080/"
        }
      },
      "outputs": [
        {
          "output_type": "stream",
          "name": "stdout",
          "text": [
            "eager train time 0: 0.6418272094726563\n",
            "eager train time 1: 0.0738986587524414\n",
            "eager train time 2: 0.07069900512695312\n",
            "eager train time 3: 0.0754176025390625\n",
            "eager train time 4: 0.07063961791992188\n",
            "eager train time 5: 0.06987232208251953\n",
            "eager train time 6: 0.07310902404785156\n",
            "eager train time 7: 0.07381302642822266\n",
            "eager train time 8: 0.08722188568115234\n",
            "eager train time 9: 0.07340332794189453\n",
            "~~~~~~~~~~\n"
          ]
        },
        {
          "output_type": "stream",
          "name": "stderr",
          "text": [
            "W0626 14:45:46.611000 547 torch/_logging/_internal.py:1089] [3/0] Profiler function <class 'torch.autograd.profiler.record_function'> will be ignored\n"
          ]
        },
        {
          "output_type": "stream",
          "name": "stdout",
          "text": [
            "compile train time 0: 372.4535625\n",
            "compile train time 1: 9.7961962890625\n",
            "compile train time 2: 0.08050096130371094\n",
            "compile train time 3: 0.08053059387207032\n",
            "compile train time 4: 0.06821478271484376\n",
            "compile train time 5: 0.04811737442016602\n",
            "compile train time 6: 0.047951744079589846\n",
            "compile train time 7: 0.04827248001098633\n",
            "compile train time 8: 0.04730879974365235\n",
            "compile train time 9: 0.04599603271484375\n",
            "~~~~~~~~~~\n",
            "(train) eager median: 0.07360817718505859, compile median: 0.05824363136291504, speedup: 1.2637978687559388x\n",
            "~~~~~~~~~~\n"
          ]
        }
      ],
      "source": [
        "model = init_model()\n",
        "opt = torch.optim.Adam(model.parameters())\n",
        "\n",
        "def train(mod, data):\n",
        "    opt.zero_grad(True)\n",
        "    pred = mod(data[0])\n",
        "    loss = torch.nn.CrossEntropyLoss()(pred, data[1])\n",
        "    loss.backward()\n",
        "    opt.step()\n",
        "\n",
        "eager_times = []\n",
        "for i in range(N_ITERS):\n",
        "    inp = generate_data(16)\n",
        "    _, eager_time = timed(lambda: train(model, inp))\n",
        "    eager_times.append(eager_time)\n",
        "    print(f\"eager train time {i}: {eager_time}\")\n",
        "print(\"~\" * 10)\n",
        "\n",
        "model = init_model()\n",
        "opt = torch.optim.Adam(model.parameters())\n",
        "train_opt = torch.compile(train, mode=\"reduce-overhead\")\n",
        "\n",
        "compile_times = []\n",
        "for i in range(N_ITERS):\n",
        "    inp = generate_data(16)\n",
        "    _, compile_time = timed(lambda: train_opt(model, inp))\n",
        "    compile_times.append(compile_time)\n",
        "    print(f\"compile train time {i}: {compile_time}\")\n",
        "print(\"~\" * 10)\n",
        "\n",
        "eager_med = np.median(eager_times)\n",
        "compile_med = np.median(compile_times)\n",
        "speedup = eager_med / compile_med\n",
        "assert(speedup > 1)\n",
        "print(f\"(train) eager median: {eager_med}, compile median: {compile_med}, speedup: {speedup}x\")\n",
        "print(\"~\" * 10)"
      ]
    },
    {
      "cell_type": "markdown",
      "metadata": {
        "id": "Gz0CJkGsqsDc"
      },
      "source": [
        "Again, we can see that `torch.compile` takes longer in the first\n",
        "iteration, as it must compile the model, but in subsequent iterations,\n",
        "we see significant speedups compared to eager.\n",
        "\n",
        "We remark that the speedup numbers presented in this tutorial are for\n",
        "demonstration purposes only. Official speedup values can be seen at the\n",
        "[TorchInductor performance\n",
        "dashboard](https://hud.pytorch.org/benchmark/compilers).\n"
      ]
    },
    {
      "cell_type": "markdown",
      "metadata": {
        "id": "JWxcedmfqsDj"
      },
      "source": [
        "Conclusion\n",
        "==========\n",
        "\n",
        "In this tutorial, we introduced `torch.compile` by covering basic usage,\n",
        "demonstrating speedups over eager mode, comparing to previous PyTorch\n",
        "compiler solutions, and briefly investigating TorchDynamo and its\n",
        "interactions with FX graphs. We hope that you will give `torch.compile`\n",
        "a try!\n"
      ]
    }
  ],
  "metadata": {
    "kernelspec": {
      "display_name": "Python 3",
      "name": "python3"
    },
    "language_info": {
      "codemirror_mode": {
        "name": "ipython",
        "version": 3
      },
      "file_extension": ".py",
      "mimetype": "text/x-python",
      "name": "python",
      "nbconvert_exporter": "python",
      "pygments_lexer": "ipython3",
      "version": "3.10.12"
    },
    "colab": {
      "provenance": [],
      "gpuType": "T4"
    },
    "accelerator": "GPU"
  },
  "nbformat": 4,
  "nbformat_minor": 0
}